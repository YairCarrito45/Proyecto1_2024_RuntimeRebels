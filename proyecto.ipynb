{
 "cells": [
  {
   "cell_type": "markdown",
   "metadata": {},
   "source": [
    "# CriptoTrends 2019: \n",
    "## ------ Explorando el Comportamiento del Mercado ------\n",
    "### Grupo: Runtime Rebels\n"
   ]
  },
  {
   "cell_type": "markdown",
   "metadata": {},
   "source": [
    "### Integrantes del Proyecto\n",
    "\n",
    "1. Estiben Yair Lopez Leveron\n",
    "2. Diana Myriam Priscila Santizo Cáceres\n",
    "3. Giovanni Saul Concohá Cax\n",
    "4. Ximena Alexandra Sabán Solórzano\n",
    "5. Johan Moises Cardona Rosales\n"
   ]
  },
  {
   "cell_type": "markdown",
   "metadata": {},
   "source": [
    "![Texto alternativo](imagenes/criptomondeas2.jpg)\n"
   ]
  },
  {
   "cell_type": "markdown",
   "metadata": {},
   "source": [
    "---\n",
    "### librerias"
   ]
  },
  {
   "cell_type": "code",
   "execution_count": 52,
   "metadata": {},
   "outputs": [],
   "source": [
    "import pandas as pd              # pip install pandas\n",
    "import plotly.express as px      # pip install plotly\n",
    "from tabulate import tabulate    # pip install tabulate\n",
    "import seaborn as sns            # pip install seaborn\n",
    "import numpy as np               # pip install numpy\n",
    "import matplotlib.pyplot as plt  # pip install matplotlib\n",
    "# nbformat                       # pip install nbformat"
   ]
  },
  {
   "cell_type": "markdown",
   "metadata": {},
   "source": [
    "# ---> **Inciso 1**\n",
    "\n",
    "---\n",
    "### Exploraremos los datos que utilizara el proyecto para determinar el formato y los datos que se necesitaran"
   ]
  },
  {
   "cell_type": "markdown",
   "metadata": {},
   "source": [
    "Empezaremos explorando el archivo Algorand.csv para determinar el formato de los datos."
   ]
  },
  {
   "cell_type": "code",
   "execution_count": 100,
   "metadata": {},
   "outputs": [
    {
     "data": {
      "text/html": [
       "<div>\n",
       "<style scoped>\n",
       "    .dataframe tbody tr th:only-of-type {\n",
       "        vertical-align: middle;\n",
       "    }\n",
       "\n",
       "    .dataframe tbody tr th {\n",
       "        vertical-align: top;\n",
       "    }\n",
       "\n",
       "    .dataframe thead th {\n",
       "        text-align: right;\n",
       "    }\n",
       "</style>\n",
       "<table border=\"1\" class=\"dataframe\">\n",
       "  <thead>\n",
       "    <tr style=\"text-align: left;\">\n",
       "      <th></th>\n",
       "      <th>date</th>\n",
       "      <th>price</th>\n",
       "      <th>total_volume</th>\n",
       "      <th>market_cap</th>\n",
       "      <th>coin_name</th>\n",
       "    </tr>\n",
       "  </thead>\n",
       "  <tbody>\n",
       "    <tr>\n",
       "      <th>0</th>\n",
       "      <td>2019-06-21</td>\n",
       "      <td>1.604939</td>\n",
       "      <td>6.653181e+05</td>\n",
       "      <td>0.000000e+00</td>\n",
       "      <td>algorand</td>\n",
       "    </tr>\n",
       "    <tr>\n",
       "      <th>1</th>\n",
       "      <td>2019-06-22</td>\n",
       "      <td>3.172364</td>\n",
       "      <td>1.790331e+08</td>\n",
       "      <td>1.010855e+08</td>\n",
       "      <td>algorand</td>\n",
       "    </tr>\n",
       "    <tr>\n",
       "      <th>2</th>\n",
       "      <td>2019-06-23</td>\n",
       "      <td>2.159165</td>\n",
       "      <td>2.588226e+08</td>\n",
       "      <td>7.665618e+07</td>\n",
       "      <td>algorand</td>\n",
       "    </tr>\n",
       "    <tr>\n",
       "      <th>3</th>\n",
       "      <td>2019-06-24</td>\n",
       "      <td>1.899598</td>\n",
       "      <td>2.100211e+08</td>\n",
       "      <td>6.647512e+07</td>\n",
       "      <td>algorand</td>\n",
       "    </tr>\n",
       "    <tr>\n",
       "      <th>4</th>\n",
       "      <td>2019-06-25</td>\n",
       "      <td>1.409310</td>\n",
       "      <td>1.574706e+08</td>\n",
       "      <td>5.522254e+07</td>\n",
       "      <td>algorand</td>\n",
       "    </tr>\n",
       "  </tbody>\n",
       "</table>\n",
       "</div>"
      ],
      "text/plain": [
       "  date         price     total_volume  market_cap   coin_name\n",
       "0  2019-06-21  1.604939  6.653181e+05  0.000000e+00  algorand\n",
       "1  2019-06-22  3.172364  1.790331e+08  1.010855e+08  algorand\n",
       "2  2019-06-23  2.159165  2.588226e+08  7.665618e+07  algorand\n",
       "3  2019-06-24  1.899598  2.100211e+08  6.647512e+07  algorand\n",
       "4  2019-06-25  1.409310  1.574706e+08  5.522254e+07  algorand"
      ]
     },
     "execution_count": 100,
     "metadata": {},
     "output_type": "execute_result"
    }
   ],
   "source": [
    "#data = pd.read_csv('algorand.csv')\n",
    "data = pd.read_csv(\"algorand.csv\")\n",
    "\n",
    "# Mostrar las primeras filas para explorar los datos\n",
    "data.head()"
   ]
  },
  {
   "cell_type": "code",
   "execution_count": 101,
   "metadata": {},
   "outputs": [
    {
     "data": {
      "text/plain": [
       "(date            0\n",
       " price           0\n",
       " total_volume    0\n",
       " market_cap      0\n",
       " coin_name       0\n",
       " dtype: int64,\n",
       " date            datetime64[ns]\n",
       " price                  float64\n",
       " total_volume           float64\n",
       " market_cap             float64\n",
       " coin_name               object\n",
       " dtype: object)"
      ]
     },
     "execution_count": 101,
     "metadata": {},
     "output_type": "execute_result"
    }
   ],
   "source": [
    "# Revisar valores faltantes o nulos\n",
    "missing_values = data.isnull().sum()\n",
    "\n",
    "# Cambiar tipos de datos si es necesario\n",
    "data['date'] = pd.to_datetime(data['date'])  # Asegurarse de que la fecha esté en formato datetime\n",
    "\n",
    "# Mostrar valores faltantes y tipos de datos corregidos\n",
    "missing_values, data.dtypes"
   ]
  },
  {
   "cell_type": "markdown",
   "metadata": {},
   "source": [
    " → no existen valores faltantes en los datos, y se ajustaron los datos."
   ]
  },
  {
   "cell_type": "code",
   "execution_count": 102,
   "metadata": {},
   "outputs": [
    {
     "data": {
      "text/html": [
       "<div>\n",
       "<style scoped>\n",
       "    .dataframe tbody tr th:only-of-type {\n",
       "        vertical-align: middle;\n",
       "    }\n",
       "\n",
       "    .dataframe tbody tr th {\n",
       "        vertical-align: top;\n",
       "    }\n",
       "\n",
       "    .dataframe thead th {\n",
       "        text-align: right;\n",
       "    }\n",
       "</style>\n",
       "<table border=\"1\" class=\"dataframe\">\n",
       "  <thead>\n",
       "    <tr style=\"text-align: left;\">\n",
       "      <th></th>\n",
       "      <th>date</th>\n",
       "      <th>price</th>\n",
       "      <th>total_volume</th>\n",
       "      <th>market_cap</th>\n",
       "      <th>coin_name</th>\n",
       "    </tr>\n",
       "  </thead>\n",
       "  <tbody>\n",
       "  </tbody>\n",
       "</table>\n",
       "</div>"
      ],
      "text/plain": [
       "Empty DataFrame\n",
       "Columns: [date, price, total_volume, market_cap, coin_name]\n",
       "Index: []"
      ]
     },
     "execution_count": 102,
     "metadata": {},
     "output_type": "execute_result"
    }
   ],
   "source": [
    "# Asegurar que los índices estén en mayúsculas\n",
    "data.index = data.index.map(lambda x: str(x).upper())\n",
    "\n",
    "# Filtrar datos del 1 de enero de 2019 y ordenar por valor de mercado ascendente\n",
    "data_filtered = data[data['date'] == '2019-01-01'].sort_values(by='market_cap', ascending=True)\n",
    "\n",
    "# Mostrar los datos filtrados\n",
    "data_filtered"
   ]
  },
  {
   "cell_type": "markdown",
   "metadata": {},
   "source": [
    "parece que no se encontraron datos para el 1 de enero del 2019."
   ]
  },
  {
   "cell_type": "code",
   "execution_count": 103,
   "metadata": {},
   "outputs": [
    {
     "data": {
      "text/plain": [
       "(Timestamp('2019-06-21 00:00:00'), Timestamp('2024-03-27 00:00:00'))"
      ]
     },
     "execution_count": 103,
     "metadata": {},
     "output_type": "execute_result"
    }
   ],
   "source": [
    "# Calcula el valor mínimo (la fecha más antigua) en la columna 'date' del DataFrame data.\n",
    "# Calcula el valor máximo (la fecha más reciente) en la columna 'date' del DataFrame data.\n",
    "date_range = (data['date'].min(), data['date'].max())\n",
    "\n",
    "date_range"
   ]
  },
  {
   "cell_type": "markdown",
   "metadata": {},
   "source": [
    "*Análisis:* \n",
    "\n",
    "➡️  vemos que el rango de fechas en el conjunto de datos es del 21 de junio de 2019 al 27 de marzo de 2024\n",
    "asi que tomaremos estos datos."
   ]
  },
  {
   "cell_type": "code",
   "execution_count": 104,
   "metadata": {},
   "outputs": [
    {
     "data": {
      "text/html": [
       "<div>\n",
       "<style scoped>\n",
       "    .dataframe tbody tr th:only-of-type {\n",
       "        vertical-align: middle;\n",
       "    }\n",
       "\n",
       "    .dataframe tbody tr th {\n",
       "        vertical-align: top;\n",
       "    }\n",
       "\n",
       "    .dataframe thead th {\n",
       "        text-align: right;\n",
       "    }\n",
       "</style>\n",
       "<table border=\"1\" class=\"dataframe\">\n",
       "  <thead>\n",
       "    <tr style=\"text-align: left;\">\n",
       "      <th></th>\n",
       "      <th>date</th>\n",
       "      <th>price</th>\n",
       "      <th>total_volume</th>\n",
       "      <th>market_cap</th>\n",
       "      <th>coin_name</th>\n",
       "      <th>price_change_pct</th>\n",
       "      <th>market_cap_change_pct</th>\n",
       "    </tr>\n",
       "  </thead>\n",
       "  <tbody>\n",
       "    <tr>\n",
       "      <th>0</th>\n",
       "      <td>2019-06-21</td>\n",
       "      <td>1.604939</td>\n",
       "      <td>6.653181e+05</td>\n",
       "      <td>0.000000e+00</td>\n",
       "      <td>algorand</td>\n",
       "      <td>NaN</td>\n",
       "      <td>NaN</td>\n",
       "    </tr>\n",
       "    <tr>\n",
       "      <th>1</th>\n",
       "      <td>2019-06-22</td>\n",
       "      <td>3.172364</td>\n",
       "      <td>1.790331e+08</td>\n",
       "      <td>1.010855e+08</td>\n",
       "      <td>algorand</td>\n",
       "      <td>97.662595</td>\n",
       "      <td>inf</td>\n",
       "    </tr>\n",
       "    <tr>\n",
       "      <th>2</th>\n",
       "      <td>2019-06-23</td>\n",
       "      <td>2.159165</td>\n",
       "      <td>2.588226e+08</td>\n",
       "      <td>7.665618e+07</td>\n",
       "      <td>algorand</td>\n",
       "      <td>-31.938295</td>\n",
       "      <td>-24.166953</td>\n",
       "    </tr>\n",
       "    <tr>\n",
       "      <th>3</th>\n",
       "      <td>2019-06-24</td>\n",
       "      <td>1.899598</td>\n",
       "      <td>2.100211e+08</td>\n",
       "      <td>6.647512e+07</td>\n",
       "      <td>algorand</td>\n",
       "      <td>-12.021664</td>\n",
       "      <td>-13.281456</td>\n",
       "    </tr>\n",
       "    <tr>\n",
       "      <th>4</th>\n",
       "      <td>2019-06-25</td>\n",
       "      <td>1.409310</td>\n",
       "      <td>1.574706e+08</td>\n",
       "      <td>5.522254e+07</td>\n",
       "      <td>algorand</td>\n",
       "      <td>-25.810061</td>\n",
       "      <td>-16.927510</td>\n",
       "    </tr>\n",
       "  </tbody>\n",
       "</table>\n",
       "</div>"
      ],
      "text/plain": [
       "  date        price     total_volume  market_cap   coin_name  price_change_pct  market_cap_change_pct\n",
       "0 2019-06-21  1.604939  6.653181e+05  0.000000e+00  algorand        NaN               NaN            \n",
       "1 2019-06-22  3.172364  1.790331e+08  1.010855e+08  algorand  97.662595               inf            \n",
       "2 2019-06-23  2.159165  2.588226e+08  7.665618e+07  algorand -31.938295        -24.166953            \n",
       "3 2019-06-24  1.899598  2.100211e+08  6.647512e+07  algorand -12.021664        -13.281456            \n",
       "4 2019-06-25  1.409310  1.574706e+08  5.522254e+07  algorand -25.810061        -16.927510            "
      ]
     },
     "execution_count": 104,
     "metadata": {},
     "output_type": "execute_result"
    }
   ],
   "source": [
    "# Crear una copia explícita\n",
    "data_2019 = data[(data['date'] >= '2019-01-01') & (data['date'] <= '2019-12-31')].copy()\n",
    "\n",
    "# Calculo el cambio porcentual diario para el precio y la capitalización de mercado\n",
    "data_2019['price_change_pct'] = data_2019['price'].pct_change() * 100\n",
    "data_2019['market_cap_change_pct'] = data_2019['market_cap'].pct_change() * 100\n",
    "\n",
    "# Confirmar que las modificaciones no generen advertencias\n",
    "data_2019.head()"
   ]
  },
  {
   "cell_type": "markdown",
   "metadata": {},
   "source": [
    "Los valores Corresponden a la criptomodena **ALGORAND**, incluyen columnas de precio, volumen total, y capitalizacion de mercado.\n",
    "\n",
    "## **Algorand** \n",
    "es una criptomoneda y una plataforma de blockchain diseñada para ser escalable, segura y descentralizada.\n",
    "\n",
    "### **Casos de uso:**\n",
    "1. **Pagos transfronterizos:** Algorand es ideal para realizar transferencias rápidas y de bajo costo entre países.\n",
    "2. **Tokenización de activos:** Permite emitir y gestionar tokens personalizados en la blockchain.\n",
    "3. **DeFi:** La red soporta aplicaciones financieras descentralizadas como préstamos, intercambios y más.\n",
    "4. **NFTs:** Algorand es usada para crear y comercializar tokens no fungibles debido a su velocidad y bajas tarifas.\n",
    "\n",
    "\n",
    "![Texto alternativo](imagenes/Algorand_logo.png)\n"
   ]
  },
  {
   "cell_type": "code",
   "execution_count": 105,
   "metadata": {},
   "outputs": [
    {
     "data": {
      "application/vnd.plotly.v1+json": {
       "config": {
        "plotlyServerURL": "https://plot.ly"
       },
       "data": [
        {
         "hovertemplate": "Fecha=%{x}<br>Precio (USD)=%{y}<extra></extra>",
         "legendgroup": "",
         "line": {
          "color": "#636efa",
          "dash": "solid"
         },
         "marker": {
          "symbol": "circle"
         },
         "mode": "lines",
         "name": "",
         "orientation": "v",
         "showlegend": false,
         "type": "scatter",
         "x": [
          "2019-06-21T00:00:00",
          "2019-06-22T00:00:00",
          "2019-06-23T00:00:00",
          "2019-06-24T00:00:00",
          "2019-06-25T00:00:00",
          "2019-06-26T00:00:00",
          "2019-06-27T00:00:00",
          "2019-06-28T00:00:00",
          "2019-06-29T00:00:00",
          "2019-06-30T00:00:00",
          "2019-07-01T00:00:00",
          "2019-07-02T00:00:00",
          "2019-07-03T00:00:00",
          "2019-07-04T00:00:00",
          "2019-07-05T00:00:00",
          "2019-07-06T00:00:00",
          "2019-07-07T00:00:00",
          "2019-07-08T00:00:00",
          "2019-07-09T00:00:00",
          "2019-07-10T00:00:00",
          "2019-07-11T00:00:00",
          "2019-07-12T00:00:00",
          "2019-07-13T00:00:00",
          "2019-07-14T00:00:00",
          "2019-07-15T00:00:00",
          "2019-07-16T00:00:00",
          "2019-07-17T00:00:00",
          "2019-07-18T00:00:00",
          "2019-07-19T00:00:00",
          "2019-07-20T00:00:00",
          "2019-07-21T00:00:00",
          "2019-07-22T00:00:00",
          "2019-07-23T00:00:00",
          "2019-07-24T00:00:00",
          "2019-07-25T00:00:00",
          "2019-07-26T00:00:00",
          "2019-07-27T00:00:00",
          "2019-07-28T00:00:00",
          "2019-07-29T00:00:00",
          "2019-07-30T00:00:00",
          "2019-07-31T00:00:00",
          "2019-08-01T00:00:00",
          "2019-08-02T00:00:00",
          "2019-08-03T00:00:00",
          "2019-08-04T00:00:00",
          "2019-08-05T00:00:00",
          "2019-08-06T00:00:00",
          "2019-08-07T00:00:00",
          "2019-08-08T00:00:00",
          "2019-08-09T00:00:00",
          "2019-08-10T00:00:00",
          "2019-08-11T00:00:00",
          "2019-08-12T00:00:00",
          "2019-08-13T00:00:00",
          "2019-08-14T00:00:00",
          "2019-08-15T00:00:00",
          "2019-08-16T00:00:00",
          "2019-08-17T00:00:00",
          "2019-08-18T00:00:00",
          "2019-08-19T00:00:00",
          "2019-08-20T00:00:00",
          "2019-08-21T00:00:00",
          "2019-08-22T00:00:00",
          "2019-08-23T00:00:00",
          "2019-08-24T00:00:00",
          "2019-08-25T00:00:00",
          "2019-08-26T00:00:00",
          "2019-08-27T00:00:00",
          "2019-08-28T00:00:00",
          "2019-08-29T00:00:00",
          "2019-08-30T00:00:00",
          "2019-08-31T00:00:00",
          "2019-09-01T00:00:00",
          "2019-09-02T00:00:00",
          "2019-09-03T00:00:00",
          "2019-09-04T00:00:00",
          "2019-09-05T00:00:00",
          "2019-09-06T00:00:00",
          "2019-09-07T00:00:00",
          "2019-09-08T00:00:00",
          "2019-09-09T00:00:00",
          "2019-09-10T00:00:00",
          "2019-09-11T00:00:00",
          "2019-09-12T00:00:00",
          "2019-09-13T00:00:00",
          "2019-09-14T00:00:00",
          "2019-09-15T00:00:00",
          "2019-09-16T00:00:00",
          "2019-09-17T00:00:00",
          "2019-09-18T00:00:00",
          "2019-09-19T00:00:00",
          "2019-09-20T00:00:00",
          "2019-09-21T00:00:00",
          "2019-09-22T00:00:00",
          "2019-09-23T00:00:00",
          "2019-09-24T00:00:00",
          "2019-09-25T00:00:00",
          "2019-09-26T00:00:00",
          "2019-09-27T00:00:00",
          "2019-09-28T00:00:00",
          "2019-09-29T00:00:00",
          "2019-09-30T00:00:00",
          "2019-10-01T00:00:00",
          "2019-10-02T00:00:00",
          "2019-10-03T00:00:00",
          "2019-10-04T00:00:00",
          "2019-10-05T00:00:00",
          "2019-10-06T00:00:00",
          "2019-10-07T00:00:00",
          "2019-10-08T00:00:00",
          "2019-10-09T00:00:00",
          "2019-10-10T00:00:00",
          "2019-10-11T00:00:00",
          "2019-10-12T00:00:00",
          "2019-10-13T00:00:00",
          "2019-10-14T00:00:00",
          "2019-10-15T00:00:00",
          "2019-10-16T00:00:00",
          "2019-10-17T00:00:00",
          "2019-10-18T00:00:00",
          "2019-10-19T00:00:00",
          "2019-10-20T00:00:00",
          "2019-10-21T00:00:00",
          "2019-10-22T00:00:00",
          "2019-10-23T00:00:00",
          "2019-10-24T00:00:00",
          "2019-10-25T00:00:00",
          "2019-10-26T00:00:00",
          "2019-10-27T00:00:00",
          "2019-10-28T00:00:00",
          "2019-10-29T00:00:00",
          "2019-10-30T00:00:00",
          "2019-10-31T00:00:00",
          "2019-11-01T00:00:00",
          "2019-11-02T00:00:00",
          "2019-11-03T00:00:00",
          "2019-11-04T00:00:00",
          "2019-11-05T00:00:00",
          "2019-11-06T00:00:00",
          "2019-11-07T00:00:00",
          "2019-11-08T00:00:00",
          "2019-11-09T00:00:00",
          "2019-11-10T00:00:00",
          "2019-11-11T00:00:00",
          "2019-11-12T00:00:00",
          "2019-11-13T00:00:00",
          "2019-11-14T00:00:00",
          "2019-11-15T00:00:00",
          "2019-11-16T00:00:00",
          "2019-11-17T00:00:00",
          "2019-11-18T00:00:00",
          "2019-11-19T00:00:00",
          "2019-11-20T00:00:00",
          "2019-11-21T00:00:00",
          "2019-11-22T00:00:00",
          "2019-11-23T00:00:00",
          "2019-11-24T00:00:00",
          "2019-11-25T00:00:00",
          "2019-11-26T00:00:00",
          "2019-11-27T00:00:00",
          "2019-11-28T00:00:00",
          "2019-11-29T00:00:00",
          "2019-11-30T00:00:00",
          "2019-12-01T00:00:00",
          "2019-12-02T00:00:00",
          "2019-12-03T00:00:00",
          "2019-12-04T00:00:00",
          "2019-12-05T00:00:00",
          "2019-12-06T00:00:00",
          "2019-12-07T00:00:00",
          "2019-12-08T00:00:00",
          "2019-12-09T00:00:00",
          "2019-12-10T00:00:00",
          "2019-12-11T00:00:00",
          "2019-12-12T00:00:00",
          "2019-12-13T00:00:00",
          "2019-12-14T00:00:00",
          "2019-12-15T00:00:00",
          "2019-12-16T00:00:00",
          "2019-12-17T00:00:00",
          "2019-12-18T00:00:00",
          "2019-12-19T00:00:00",
          "2019-12-20T00:00:00",
          "2019-12-21T00:00:00",
          "2019-12-22T00:00:00",
          "2019-12-23T00:00:00",
          "2019-12-24T00:00:00",
          "2019-12-25T00:00:00",
          "2019-12-26T00:00:00",
          "2019-12-27T00:00:00",
          "2019-12-28T00:00:00",
          "2019-12-29T00:00:00",
          "2019-12-30T00:00:00",
          "2019-12-31T00:00:00"
         ],
         "xaxis": "x",
         "y": [
          1.6049391988983346,
          3.172364475665224,
          2.1591653569087783,
          1.8995977604330248,
          1.409310422042795,
          1.5324323784970475,
          1.585229438526398,
          1.415400029319741,
          1.4388516348632951,
          1.5068614844819987,
          1.4398594468173882,
          1.3504772842627537,
          1.1353696042692607,
          1.1151556799346516,
          1.0123177148855045,
          1.124356887493463,
          1.0318443366210692,
          1.0689478225568056,
          1.0518800796819856,
          1.0401783527831352,
          1.0302068817866885,
          0.8722444405242868,
          0.8886915854128737,
          0.9375630228613346,
          0.8254715929774072,
          0.8063751162949739,
          0.6464553551420483,
          0.6685734795841912,
          0.6945135487257579,
          0.6715185910381123,
          0.7100903434329422,
          0.6966740848247005,
          0.6412827106510811,
          0.5831162481113316,
          0.6050585051241535,
          0.6081260312224931,
          0.6602416126532328,
          0.5789842420384959,
          0.5754240436405319,
          0.5721527537150467,
          0.5675619923705266,
          0.5640171504997753,
          0.5550419602407637,
          0.8013895102278663,
          0.74332511269038,
          0.7048146535002915,
          0.7878660864061997,
          0.7013807844104485,
          0.6915293462331669,
          0.7298219937242224,
          0.7967880273448188,
          0.8086510225229404,
          0.822137809615456,
          0.8027326977621545,
          0.8015829926569426,
          0.7197473063549465,
          0.7078809384039878,
          0.6795559505385682,
          0.6814845993631518,
          0.6773174499424727,
          0.6612224593314056,
          0.6256752810206436,
          0.5709490316874366,
          0.5720191670844275,
          0.57413992113977,
          0.5752612334604726,
          0.5414311928369724,
          0.5209634046166985,
          0.5231926610097474,
          0.4376017862012886,
          0.39929346214843,
          0.422682269562866,
          0.4041697478605277,
          0.391978930503668,
          0.3915700393004096,
          0.3696313034488813,
          0.346488379524124,
          0.3926849692048838,
          0.3478541394169949,
          0.3707830789364866,
          0.3767353942425588,
          0.3670720170648302,
          0.3648620728978746,
          0.3477516924099348,
          0.3209416720599675,
          0.3184704646558575,
          0.3217961256828206,
          0.3286867438903684,
          0.3212631465238588,
          0.3202455765498089,
          0.3353144059928873,
          0.3139075035752265,
          0.3121980465029162,
          0.3168265071012138,
          0.3020980600179388,
          0.2686370905730562,
          0.1990936832168971,
          0.2049686234974176,
          0.1908797266678771,
          0.1896309564835991,
          0.2033913440229202,
          0.2247225011565745,
          0.2507744767020963,
          0.2326790232720561,
          0.2296364613823664,
          0.2305735348470352,
          0.2286794425830049,
          0.2237615316522972,
          0.2127599092385449,
          0.2178628122902672,
          0.2300874516344185,
          0.2397190704546474,
          0.2531965011430886,
          0.2531088765018459,
          0.2569669007866985,
          0.250336222294391,
          0.2678085673347587,
          0.2484095343977714,
          0.2289000663335888,
          0.2366986388295112,
          0.2271595002968576,
          0.2242166658260429,
          0.2239262414202455,
          0.2274851063590841,
          0.2251226229682433,
          0.2103089102739247,
          0.2024336488058245,
          0.2126609861216715,
          0.2159205966411075,
          0.2168945232903958,
          0.2333057760010868,
          0.231451748757772,
          0.2183029637933123,
          0.2207643726677844,
          0.2589236118083725,
          0.2590409972756453,
          0.2645591230440247,
          0.2576592776102223,
          0.2869968229485188,
          0.2855028912211434,
          0.2724202678543867,
          0.2588522774002878,
          0.2605252604252974,
          0.2684053274917521,
          0.2784163686216314,
          0.27365891153137,
          0.2868029146863006,
          0.2793550751566022,
          0.2687802278417505,
          0.2710579646782317,
          0.2698165331161211,
          0.2515206714617502,
          0.2435649236727989,
          0.2497633365902066,
          0.2402427962624969,
          0.2194208407181411,
          0.2247452572018592,
          0.203505301596108,
          0.2061455978804079,
          0.2186154191197927,
          0.2249156040751954,
          0.2642977199419214,
          0.2787053811261759,
          0.2676400848218933,
          0.2625611817258031,
          0.2790094083805906,
          0.282426033933395,
          0.2682737697316211,
          0.2632650622047525,
          0.2646013452403888,
          0.2736579191253486,
          0.2919221864652346,
          0.2973259690637617,
          0.2738418454445471,
          0.2849107044327973,
          0.2748671102209296,
          0.2725825956794086,
          0.2534998280560092,
          0.264247338503447,
          0.2450754515961595,
          0.2205158530511294,
          0.2445477090385364,
          0.2300986604285471,
          0.2392994879744048,
          0.2397659227723077,
          0.2490504587068193,
          0.2399612774382872,
          0.2318524718833784,
          0.2273402904318217,
          0.2374408768491585,
          0.2288818982546865,
          0.2337279100453048,
          0.2323487066722432,
          0.2238412120964757
         ],
         "yaxis": "y"
        }
       ],
       "layout": {
        "legend": {
         "tracegroupgap": 0
        },
        "template": {
         "data": {
          "bar": [
           {
            "error_x": {
             "color": "#2a3f5f"
            },
            "error_y": {
             "color": "#2a3f5f"
            },
            "marker": {
             "line": {
              "color": "#E5ECF6",
              "width": 0.5
             },
             "pattern": {
              "fillmode": "overlay",
              "size": 10,
              "solidity": 0.2
             }
            },
            "type": "bar"
           }
          ],
          "barpolar": [
           {
            "marker": {
             "line": {
              "color": "#E5ECF6",
              "width": 0.5
             },
             "pattern": {
              "fillmode": "overlay",
              "size": 10,
              "solidity": 0.2
             }
            },
            "type": "barpolar"
           }
          ],
          "carpet": [
           {
            "aaxis": {
             "endlinecolor": "#2a3f5f",
             "gridcolor": "white",
             "linecolor": "white",
             "minorgridcolor": "white",
             "startlinecolor": "#2a3f5f"
            },
            "baxis": {
             "endlinecolor": "#2a3f5f",
             "gridcolor": "white",
             "linecolor": "white",
             "minorgridcolor": "white",
             "startlinecolor": "#2a3f5f"
            },
            "type": "carpet"
           }
          ],
          "choropleth": [
           {
            "colorbar": {
             "outlinewidth": 0,
             "ticks": ""
            },
            "type": "choropleth"
           }
          ],
          "contour": [
           {
            "colorbar": {
             "outlinewidth": 0,
             "ticks": ""
            },
            "colorscale": [
             [
              0,
              "#0d0887"
             ],
             [
              0.1111111111111111,
              "#46039f"
             ],
             [
              0.2222222222222222,
              "#7201a8"
             ],
             [
              0.3333333333333333,
              "#9c179e"
             ],
             [
              0.4444444444444444,
              "#bd3786"
             ],
             [
              0.5555555555555556,
              "#d8576b"
             ],
             [
              0.6666666666666666,
              "#ed7953"
             ],
             [
              0.7777777777777778,
              "#fb9f3a"
             ],
             [
              0.8888888888888888,
              "#fdca26"
             ],
             [
              1,
              "#f0f921"
             ]
            ],
            "type": "contour"
           }
          ],
          "contourcarpet": [
           {
            "colorbar": {
             "outlinewidth": 0,
             "ticks": ""
            },
            "type": "contourcarpet"
           }
          ],
          "heatmap": [
           {
            "colorbar": {
             "outlinewidth": 0,
             "ticks": ""
            },
            "colorscale": [
             [
              0,
              "#0d0887"
             ],
             [
              0.1111111111111111,
              "#46039f"
             ],
             [
              0.2222222222222222,
              "#7201a8"
             ],
             [
              0.3333333333333333,
              "#9c179e"
             ],
             [
              0.4444444444444444,
              "#bd3786"
             ],
             [
              0.5555555555555556,
              "#d8576b"
             ],
             [
              0.6666666666666666,
              "#ed7953"
             ],
             [
              0.7777777777777778,
              "#fb9f3a"
             ],
             [
              0.8888888888888888,
              "#fdca26"
             ],
             [
              1,
              "#f0f921"
             ]
            ],
            "type": "heatmap"
           }
          ],
          "heatmapgl": [
           {
            "colorbar": {
             "outlinewidth": 0,
             "ticks": ""
            },
            "colorscale": [
             [
              0,
              "#0d0887"
             ],
             [
              0.1111111111111111,
              "#46039f"
             ],
             [
              0.2222222222222222,
              "#7201a8"
             ],
             [
              0.3333333333333333,
              "#9c179e"
             ],
             [
              0.4444444444444444,
              "#bd3786"
             ],
             [
              0.5555555555555556,
              "#d8576b"
             ],
             [
              0.6666666666666666,
              "#ed7953"
             ],
             [
              0.7777777777777778,
              "#fb9f3a"
             ],
             [
              0.8888888888888888,
              "#fdca26"
             ],
             [
              1,
              "#f0f921"
             ]
            ],
            "type": "heatmapgl"
           }
          ],
          "histogram": [
           {
            "marker": {
             "pattern": {
              "fillmode": "overlay",
              "size": 10,
              "solidity": 0.2
             }
            },
            "type": "histogram"
           }
          ],
          "histogram2d": [
           {
            "colorbar": {
             "outlinewidth": 0,
             "ticks": ""
            },
            "colorscale": [
             [
              0,
              "#0d0887"
             ],
             [
              0.1111111111111111,
              "#46039f"
             ],
             [
              0.2222222222222222,
              "#7201a8"
             ],
             [
              0.3333333333333333,
              "#9c179e"
             ],
             [
              0.4444444444444444,
              "#bd3786"
             ],
             [
              0.5555555555555556,
              "#d8576b"
             ],
             [
              0.6666666666666666,
              "#ed7953"
             ],
             [
              0.7777777777777778,
              "#fb9f3a"
             ],
             [
              0.8888888888888888,
              "#fdca26"
             ],
             [
              1,
              "#f0f921"
             ]
            ],
            "type": "histogram2d"
           }
          ],
          "histogram2dcontour": [
           {
            "colorbar": {
             "outlinewidth": 0,
             "ticks": ""
            },
            "colorscale": [
             [
              0,
              "#0d0887"
             ],
             [
              0.1111111111111111,
              "#46039f"
             ],
             [
              0.2222222222222222,
              "#7201a8"
             ],
             [
              0.3333333333333333,
              "#9c179e"
             ],
             [
              0.4444444444444444,
              "#bd3786"
             ],
             [
              0.5555555555555556,
              "#d8576b"
             ],
             [
              0.6666666666666666,
              "#ed7953"
             ],
             [
              0.7777777777777778,
              "#fb9f3a"
             ],
             [
              0.8888888888888888,
              "#fdca26"
             ],
             [
              1,
              "#f0f921"
             ]
            ],
            "type": "histogram2dcontour"
           }
          ],
          "mesh3d": [
           {
            "colorbar": {
             "outlinewidth": 0,
             "ticks": ""
            },
            "type": "mesh3d"
           }
          ],
          "parcoords": [
           {
            "line": {
             "colorbar": {
              "outlinewidth": 0,
              "ticks": ""
             }
            },
            "type": "parcoords"
           }
          ],
          "pie": [
           {
            "automargin": true,
            "type": "pie"
           }
          ],
          "scatter": [
           {
            "fillpattern": {
             "fillmode": "overlay",
             "size": 10,
             "solidity": 0.2
            },
            "type": "scatter"
           }
          ],
          "scatter3d": [
           {
            "line": {
             "colorbar": {
              "outlinewidth": 0,
              "ticks": ""
             }
            },
            "marker": {
             "colorbar": {
              "outlinewidth": 0,
              "ticks": ""
             }
            },
            "type": "scatter3d"
           }
          ],
          "scattercarpet": [
           {
            "marker": {
             "colorbar": {
              "outlinewidth": 0,
              "ticks": ""
             }
            },
            "type": "scattercarpet"
           }
          ],
          "scattergeo": [
           {
            "marker": {
             "colorbar": {
              "outlinewidth": 0,
              "ticks": ""
             }
            },
            "type": "scattergeo"
           }
          ],
          "scattergl": [
           {
            "marker": {
             "colorbar": {
              "outlinewidth": 0,
              "ticks": ""
             }
            },
            "type": "scattergl"
           }
          ],
          "scattermapbox": [
           {
            "marker": {
             "colorbar": {
              "outlinewidth": 0,
              "ticks": ""
             }
            },
            "type": "scattermapbox"
           }
          ],
          "scatterpolar": [
           {
            "marker": {
             "colorbar": {
              "outlinewidth": 0,
              "ticks": ""
             }
            },
            "type": "scatterpolar"
           }
          ],
          "scatterpolargl": [
           {
            "marker": {
             "colorbar": {
              "outlinewidth": 0,
              "ticks": ""
             }
            },
            "type": "scatterpolargl"
           }
          ],
          "scatterternary": [
           {
            "marker": {
             "colorbar": {
              "outlinewidth": 0,
              "ticks": ""
             }
            },
            "type": "scatterternary"
           }
          ],
          "surface": [
           {
            "colorbar": {
             "outlinewidth": 0,
             "ticks": ""
            },
            "colorscale": [
             [
              0,
              "#0d0887"
             ],
             [
              0.1111111111111111,
              "#46039f"
             ],
             [
              0.2222222222222222,
              "#7201a8"
             ],
             [
              0.3333333333333333,
              "#9c179e"
             ],
             [
              0.4444444444444444,
              "#bd3786"
             ],
             [
              0.5555555555555556,
              "#d8576b"
             ],
             [
              0.6666666666666666,
              "#ed7953"
             ],
             [
              0.7777777777777778,
              "#fb9f3a"
             ],
             [
              0.8888888888888888,
              "#fdca26"
             ],
             [
              1,
              "#f0f921"
             ]
            ],
            "type": "surface"
           }
          ],
          "table": [
           {
            "cells": {
             "fill": {
              "color": "#EBF0F8"
             },
             "line": {
              "color": "white"
             }
            },
            "header": {
             "fill": {
              "color": "#C8D4E3"
             },
             "line": {
              "color": "white"
             }
            },
            "type": "table"
           }
          ]
         },
         "layout": {
          "annotationdefaults": {
           "arrowcolor": "#2a3f5f",
           "arrowhead": 0,
           "arrowwidth": 1
          },
          "autotypenumbers": "strict",
          "coloraxis": {
           "colorbar": {
            "outlinewidth": 0,
            "ticks": ""
           }
          },
          "colorscale": {
           "diverging": [
            [
             0,
             "#8e0152"
            ],
            [
             0.1,
             "#c51b7d"
            ],
            [
             0.2,
             "#de77ae"
            ],
            [
             0.3,
             "#f1b6da"
            ],
            [
             0.4,
             "#fde0ef"
            ],
            [
             0.5,
             "#f7f7f7"
            ],
            [
             0.6,
             "#e6f5d0"
            ],
            [
             0.7,
             "#b8e186"
            ],
            [
             0.8,
             "#7fbc41"
            ],
            [
             0.9,
             "#4d9221"
            ],
            [
             1,
             "#276419"
            ]
           ],
           "sequential": [
            [
             0,
             "#0d0887"
            ],
            [
             0.1111111111111111,
             "#46039f"
            ],
            [
             0.2222222222222222,
             "#7201a8"
            ],
            [
             0.3333333333333333,
             "#9c179e"
            ],
            [
             0.4444444444444444,
             "#bd3786"
            ],
            [
             0.5555555555555556,
             "#d8576b"
            ],
            [
             0.6666666666666666,
             "#ed7953"
            ],
            [
             0.7777777777777778,
             "#fb9f3a"
            ],
            [
             0.8888888888888888,
             "#fdca26"
            ],
            [
             1,
             "#f0f921"
            ]
           ],
           "sequentialminus": [
            [
             0,
             "#0d0887"
            ],
            [
             0.1111111111111111,
             "#46039f"
            ],
            [
             0.2222222222222222,
             "#7201a8"
            ],
            [
             0.3333333333333333,
             "#9c179e"
            ],
            [
             0.4444444444444444,
             "#bd3786"
            ],
            [
             0.5555555555555556,
             "#d8576b"
            ],
            [
             0.6666666666666666,
             "#ed7953"
            ],
            [
             0.7777777777777778,
             "#fb9f3a"
            ],
            [
             0.8888888888888888,
             "#fdca26"
            ],
            [
             1,
             "#f0f921"
            ]
           ]
          },
          "colorway": [
           "#636efa",
           "#EF553B",
           "#00cc96",
           "#ab63fa",
           "#FFA15A",
           "#19d3f3",
           "#FF6692",
           "#B6E880",
           "#FF97FF",
           "#FECB52"
          ],
          "font": {
           "color": "#2a3f5f"
          },
          "geo": {
           "bgcolor": "white",
           "lakecolor": "white",
           "landcolor": "#E5ECF6",
           "showlakes": true,
           "showland": true,
           "subunitcolor": "white"
          },
          "hoverlabel": {
           "align": "left"
          },
          "hovermode": "closest",
          "mapbox": {
           "style": "light"
          },
          "paper_bgcolor": "white",
          "plot_bgcolor": "#E5ECF6",
          "polar": {
           "angularaxis": {
            "gridcolor": "white",
            "linecolor": "white",
            "ticks": ""
           },
           "bgcolor": "#E5ECF6",
           "radialaxis": {
            "gridcolor": "white",
            "linecolor": "white",
            "ticks": ""
           }
          },
          "scene": {
           "xaxis": {
            "backgroundcolor": "#E5ECF6",
            "gridcolor": "white",
            "gridwidth": 2,
            "linecolor": "white",
            "showbackground": true,
            "ticks": "",
            "zerolinecolor": "white"
           },
           "yaxis": {
            "backgroundcolor": "#E5ECF6",
            "gridcolor": "white",
            "gridwidth": 2,
            "linecolor": "white",
            "showbackground": true,
            "ticks": "",
            "zerolinecolor": "white"
           },
           "zaxis": {
            "backgroundcolor": "#E5ECF6",
            "gridcolor": "white",
            "gridwidth": 2,
            "linecolor": "white",
            "showbackground": true,
            "ticks": "",
            "zerolinecolor": "white"
           }
          },
          "shapedefaults": {
           "line": {
            "color": "#2a3f5f"
           }
          },
          "ternary": {
           "aaxis": {
            "gridcolor": "white",
            "linecolor": "white",
            "ticks": ""
           },
           "baxis": {
            "gridcolor": "white",
            "linecolor": "white",
            "ticks": ""
           },
           "bgcolor": "#E5ECF6",
           "caxis": {
            "gridcolor": "white",
            "linecolor": "white",
            "ticks": ""
           }
          },
          "title": {
           "x": 0.05
          },
          "xaxis": {
           "automargin": true,
           "gridcolor": "white",
           "linecolor": "white",
           "ticks": "",
           "title": {
            "standoff": 15
           },
           "zerolinecolor": "white",
           "zerolinewidth": 2
          },
          "yaxis": {
           "automargin": true,
           "gridcolor": "white",
           "linecolor": "white",
           "ticks": "",
           "title": {
            "standoff": 15
           },
           "zerolinecolor": "white",
           "zerolinewidth": 2
          }
         }
        },
        "title": {
         "text": "Tendencia del Precio de Algorand en 2019"
        },
        "xaxis": {
         "anchor": "y",
         "domain": [
          0,
          1
         ],
         "title": {
          "text": "Fecha"
         }
        },
        "yaxis": {
         "anchor": "x",
         "domain": [
          0,
          1
         ],
         "title": {
          "text": "Precio (USD)"
         }
        }
       }
      }
     },
     "metadata": {},
     "output_type": "display_data"
    },
    {
     "data": {
      "application/vnd.plotly.v1+json": {
       "config": {
        "plotlyServerURL": "https://plot.ly"
       },
       "data": [
        {
         "hovertemplate": "Fecha=%{x}<br>Capitalización de Mercado (USD)=%{y}<extra></extra>",
         "legendgroup": "",
         "line": {
          "color": "#636efa",
          "dash": "solid"
         },
         "marker": {
          "symbol": "circle"
         },
         "mode": "lines",
         "name": "",
         "orientation": "v",
         "showlegend": false,
         "type": "scatter",
         "x": [
          "2019-06-21T00:00:00",
          "2019-06-22T00:00:00",
          "2019-06-23T00:00:00",
          "2019-06-24T00:00:00",
          "2019-06-25T00:00:00",
          "2019-06-26T00:00:00",
          "2019-06-27T00:00:00",
          "2019-06-28T00:00:00",
          "2019-06-29T00:00:00",
          "2019-06-30T00:00:00",
          "2019-07-01T00:00:00",
          "2019-07-02T00:00:00",
          "2019-07-03T00:00:00",
          "2019-07-04T00:00:00",
          "2019-07-05T00:00:00",
          "2019-07-06T00:00:00",
          "2019-07-07T00:00:00",
          "2019-07-08T00:00:00",
          "2019-07-09T00:00:00",
          "2019-07-10T00:00:00",
          "2019-07-11T00:00:00",
          "2019-07-12T00:00:00",
          "2019-07-13T00:00:00",
          "2019-07-14T00:00:00",
          "2019-07-15T00:00:00",
          "2019-07-16T00:00:00",
          "2019-07-17T00:00:00",
          "2019-07-18T00:00:00",
          "2019-07-19T00:00:00",
          "2019-07-20T00:00:00",
          "2019-07-21T00:00:00",
          "2019-07-22T00:00:00",
          "2019-07-23T00:00:00",
          "2019-07-24T00:00:00",
          "2019-07-25T00:00:00",
          "2019-07-26T00:00:00",
          "2019-07-27T00:00:00",
          "2019-07-28T00:00:00",
          "2019-07-29T00:00:00",
          "2019-07-30T00:00:00",
          "2019-07-31T00:00:00",
          "2019-08-01T00:00:00",
          "2019-08-02T00:00:00",
          "2019-08-03T00:00:00",
          "2019-08-04T00:00:00",
          "2019-08-05T00:00:00",
          "2019-08-06T00:00:00",
          "2019-08-07T00:00:00",
          "2019-08-08T00:00:00",
          "2019-08-09T00:00:00",
          "2019-08-10T00:00:00",
          "2019-08-11T00:00:00",
          "2019-08-12T00:00:00",
          "2019-08-13T00:00:00",
          "2019-08-14T00:00:00",
          "2019-08-15T00:00:00",
          "2019-08-16T00:00:00",
          "2019-08-17T00:00:00",
          "2019-08-18T00:00:00",
          "2019-08-19T00:00:00",
          "2019-08-20T00:00:00",
          "2019-08-21T00:00:00",
          "2019-08-22T00:00:00",
          "2019-08-23T00:00:00",
          "2019-08-24T00:00:00",
          "2019-08-25T00:00:00",
          "2019-08-26T00:00:00",
          "2019-08-27T00:00:00",
          "2019-08-28T00:00:00",
          "2019-08-29T00:00:00",
          "2019-08-30T00:00:00",
          "2019-08-31T00:00:00",
          "2019-09-01T00:00:00",
          "2019-09-02T00:00:00",
          "2019-09-03T00:00:00",
          "2019-09-04T00:00:00",
          "2019-09-05T00:00:00",
          "2019-09-06T00:00:00",
          "2019-09-07T00:00:00",
          "2019-09-08T00:00:00",
          "2019-09-09T00:00:00",
          "2019-09-10T00:00:00",
          "2019-09-11T00:00:00",
          "2019-09-12T00:00:00",
          "2019-09-13T00:00:00",
          "2019-09-14T00:00:00",
          "2019-09-15T00:00:00",
          "2019-09-16T00:00:00",
          "2019-09-17T00:00:00",
          "2019-09-18T00:00:00",
          "2019-09-19T00:00:00",
          "2019-09-20T00:00:00",
          "2019-09-21T00:00:00",
          "2019-09-22T00:00:00",
          "2019-09-23T00:00:00",
          "2019-09-24T00:00:00",
          "2019-09-25T00:00:00",
          "2019-09-26T00:00:00",
          "2019-09-27T00:00:00",
          "2019-09-28T00:00:00",
          "2019-09-29T00:00:00",
          "2019-09-30T00:00:00",
          "2019-10-01T00:00:00",
          "2019-10-02T00:00:00",
          "2019-10-03T00:00:00",
          "2019-10-04T00:00:00",
          "2019-10-05T00:00:00",
          "2019-10-06T00:00:00",
          "2019-10-07T00:00:00",
          "2019-10-08T00:00:00",
          "2019-10-09T00:00:00",
          "2019-10-10T00:00:00",
          "2019-10-11T00:00:00",
          "2019-10-12T00:00:00",
          "2019-10-13T00:00:00",
          "2019-10-14T00:00:00",
          "2019-10-15T00:00:00",
          "2019-10-16T00:00:00",
          "2019-10-17T00:00:00",
          "2019-10-18T00:00:00",
          "2019-10-19T00:00:00",
          "2019-10-20T00:00:00",
          "2019-10-21T00:00:00",
          "2019-10-22T00:00:00",
          "2019-10-23T00:00:00",
          "2019-10-24T00:00:00",
          "2019-10-25T00:00:00",
          "2019-10-26T00:00:00",
          "2019-10-27T00:00:00",
          "2019-10-28T00:00:00",
          "2019-10-29T00:00:00",
          "2019-10-30T00:00:00",
          "2019-10-31T00:00:00",
          "2019-11-01T00:00:00",
          "2019-11-02T00:00:00",
          "2019-11-03T00:00:00",
          "2019-11-04T00:00:00",
          "2019-11-05T00:00:00",
          "2019-11-06T00:00:00",
          "2019-11-07T00:00:00",
          "2019-11-08T00:00:00",
          "2019-11-09T00:00:00",
          "2019-11-10T00:00:00",
          "2019-11-11T00:00:00",
          "2019-11-12T00:00:00",
          "2019-11-13T00:00:00",
          "2019-11-14T00:00:00",
          "2019-11-15T00:00:00",
          "2019-11-16T00:00:00",
          "2019-11-17T00:00:00",
          "2019-11-18T00:00:00",
          "2019-11-19T00:00:00",
          "2019-11-20T00:00:00",
          "2019-11-21T00:00:00",
          "2019-11-22T00:00:00",
          "2019-11-23T00:00:00",
          "2019-11-24T00:00:00",
          "2019-11-25T00:00:00",
          "2019-11-26T00:00:00",
          "2019-11-27T00:00:00",
          "2019-11-28T00:00:00",
          "2019-11-29T00:00:00",
          "2019-11-30T00:00:00",
          "2019-12-01T00:00:00",
          "2019-12-02T00:00:00",
          "2019-12-03T00:00:00",
          "2019-12-04T00:00:00",
          "2019-12-05T00:00:00",
          "2019-12-06T00:00:00",
          "2019-12-07T00:00:00",
          "2019-12-08T00:00:00",
          "2019-12-09T00:00:00",
          "2019-12-10T00:00:00",
          "2019-12-11T00:00:00",
          "2019-12-12T00:00:00",
          "2019-12-13T00:00:00",
          "2019-12-14T00:00:00",
          "2019-12-15T00:00:00",
          "2019-12-16T00:00:00",
          "2019-12-17T00:00:00",
          "2019-12-18T00:00:00",
          "2019-12-19T00:00:00",
          "2019-12-20T00:00:00",
          "2019-12-21T00:00:00",
          "2019-12-22T00:00:00",
          "2019-12-23T00:00:00",
          "2019-12-24T00:00:00",
          "2019-12-25T00:00:00",
          "2019-12-26T00:00:00",
          "2019-12-27T00:00:00",
          "2019-12-28T00:00:00",
          "2019-12-29T00:00:00",
          "2019-12-30T00:00:00",
          "2019-12-31T00:00:00"
         ],
         "xaxis": "x",
         "y": [
          0,
          101085454.81028377,
          76656180.8493111,
          66475124.17056032,
          55222540.55159792,
          86059923.75346406,
          94735214.3367427,
          85082877.25344796,
          96637677.02429225,
          106309562.90382645,
          101443324.53426436,
          95263570.57259956,
          79863686.63255547,
          78485962.78952014,
          71292731.37255181,
          103659366.70287664,
          95412453.28737593,
          106339822.92958426,
          105138746.17989182,
          104164227.76809928,
          114868602.26935734,
          95216842.72320804,
          98932600.4370568,
          114073830.68674144,
          101174450.80616944,
          98632960.45747326,
          86862067.80859579,
          92005348.58865172,
          95752479.76592726,
          92474046.80543312,
          105032524.58999026,
          103539908.54044358,
          95235340.76363648,
          92687914.695639,
          99037780.17702857,
          99543650.5195163,
          113372950.4444754,
          98905158.40346374,
          98427536.64073227,
          97679316.6947742,
          96980904.31534147,
          96225161.17215908,
          94731315.10698412,
          158733679.00084832,
          146841706.48570368,
          139320097.2863245,
          155989156.58839604,
          138657161.3162164,
          136403961.38009542,
          144422806.64036217,
          157353176.23535153,
          159072080.78726923,
          161948916.84233055,
          158513602.3255591,
          192427841.84701556,
          176563362.10033342,
          178194594.14785385,
          171142642.31405815,
          174667945.51884454,
          176200642.48458117,
          174573702.8833752,
          169623899.3333426,
          157149968.68086365,
          159527340.30132973,
          162549865.0899096,
          163090529.96221328,
          157227063.07752255,
          152915095.18105966,
          155842063.42801395,
          132681750.77666846,
          122271929.17193434,
          131208931.07309929,
          125791273.69966368,
          124826470.81217565,
          126025822.51267453,
          120672777.9947136,
          114929909.8833488,
          130062200.03890286,
          116653919.6082445,
          125926061.85277104,
          127226346.7700332,
          128605073.31497689,
          128129086.5117184,
          124468011.33004215,
          116291857.49187513,
          116705685.44574352,
          119177881.16672637,
          121940787.96349736,
          120574704.80233768,
          121500142.24939343,
          128423481.40448704,
          121347696.488904,
          121280311.99060568,
          125497449.23630364,
          120546130.77154146,
          108505326.2615245,
          81063840.95780438,
          84975194.5487677,
          80305150.83900857,
          79537146.08251631,
          85894614.33438043,
          95412329.50631264,
          108884533.26157984,
          99603924.75506093,
          99176758.74336272,
          99892184.45356104,
          99593760.64543615,
          97524713.16810954,
          92833563.50898632,
          95623536.40543316,
          100675685.67549118,
          105337745.88960564,
          111706449.2901853,
          111389513.3459222,
          113589383.8908775,
          111298125.92122446,
          118698299.5804876,
          110452590.51867165,
          101396760.99167536,
          105994722.4619929,
          101720274.65107311,
          100395140.04527584,
          101086061.10740316,
          102665148.6838248,
          101093288.3987115,
          95149441.96703556,
          92082152.0525199,
          97174900.71690787,
          97997649.60692678,
          98566010.43993191,
          106693193.14739424,
          106082272.51230936,
          100259781.65596493,
          101510568.372378,
          119422060.72204582,
          119724896.8944738,
          122939923.1912726,
          119591885.6510226,
          133554770.4958866,
          130155995.16510482,
          124536064.98675668,
          118692854.93643892,
          119589363.79041506,
          123735276.34020682,
          129550041.10770172,
          127218452.17990533,
          132798033.19926035,
          131379100.65015256,
          124038586.05581552,
          126156169.5038503,
          125940089.51865792,
          117964660.6166797,
          114028109.94118331,
          117210416.65160953,
          113356730.74408934,
          103452973.68663348,
          106906249.8362826,
          99656984.16361906,
          98301268.0661256,
          104435823.47353968,
          107283429.91424656,
          126606207.7033604,
          134124117.37857036,
          129726543.7307194,
          125112132.96436284,
          134314193.8255503,
          137068356.17410988,
          131594330.03681594,
          128913608.00318386,
          129427735.49029084,
          133175465.47288474,
          143600668.54996,
          146211943.718545,
          135497543.16295838,
          141048407.80822253,
          135722250.9571563,
          135324173.53071058,
          126622943.64422742,
          131748279.41500008,
          122725207.92393722,
          111884241.96318416,
          124733561.50512776,
          117523305.99592876,
          122727055.3531636,
          123613361.95522732,
          129066477.0390947,
          124091606.4092834,
          120170198.86432292,
          118367036.55749708,
          123642704.25947762,
          119981047.02695815,
          122860115.29797332,
          122497672.35196686,
          118063791.47521213
         ],
         "yaxis": "y"
        }
       ],
       "layout": {
        "legend": {
         "tracegroupgap": 0
        },
        "template": {
         "data": {
          "bar": [
           {
            "error_x": {
             "color": "#2a3f5f"
            },
            "error_y": {
             "color": "#2a3f5f"
            },
            "marker": {
             "line": {
              "color": "#E5ECF6",
              "width": 0.5
             },
             "pattern": {
              "fillmode": "overlay",
              "size": 10,
              "solidity": 0.2
             }
            },
            "type": "bar"
           }
          ],
          "barpolar": [
           {
            "marker": {
             "line": {
              "color": "#E5ECF6",
              "width": 0.5
             },
             "pattern": {
              "fillmode": "overlay",
              "size": 10,
              "solidity": 0.2
             }
            },
            "type": "barpolar"
           }
          ],
          "carpet": [
           {
            "aaxis": {
             "endlinecolor": "#2a3f5f",
             "gridcolor": "white",
             "linecolor": "white",
             "minorgridcolor": "white",
             "startlinecolor": "#2a3f5f"
            },
            "baxis": {
             "endlinecolor": "#2a3f5f",
             "gridcolor": "white",
             "linecolor": "white",
             "minorgridcolor": "white",
             "startlinecolor": "#2a3f5f"
            },
            "type": "carpet"
           }
          ],
          "choropleth": [
           {
            "colorbar": {
             "outlinewidth": 0,
             "ticks": ""
            },
            "type": "choropleth"
           }
          ],
          "contour": [
           {
            "colorbar": {
             "outlinewidth": 0,
             "ticks": ""
            },
            "colorscale": [
             [
              0,
              "#0d0887"
             ],
             [
              0.1111111111111111,
              "#46039f"
             ],
             [
              0.2222222222222222,
              "#7201a8"
             ],
             [
              0.3333333333333333,
              "#9c179e"
             ],
             [
              0.4444444444444444,
              "#bd3786"
             ],
             [
              0.5555555555555556,
              "#d8576b"
             ],
             [
              0.6666666666666666,
              "#ed7953"
             ],
             [
              0.7777777777777778,
              "#fb9f3a"
             ],
             [
              0.8888888888888888,
              "#fdca26"
             ],
             [
              1,
              "#f0f921"
             ]
            ],
            "type": "contour"
           }
          ],
          "contourcarpet": [
           {
            "colorbar": {
             "outlinewidth": 0,
             "ticks": ""
            },
            "type": "contourcarpet"
           }
          ],
          "heatmap": [
           {
            "colorbar": {
             "outlinewidth": 0,
             "ticks": ""
            },
            "colorscale": [
             [
              0,
              "#0d0887"
             ],
             [
              0.1111111111111111,
              "#46039f"
             ],
             [
              0.2222222222222222,
              "#7201a8"
             ],
             [
              0.3333333333333333,
              "#9c179e"
             ],
             [
              0.4444444444444444,
              "#bd3786"
             ],
             [
              0.5555555555555556,
              "#d8576b"
             ],
             [
              0.6666666666666666,
              "#ed7953"
             ],
             [
              0.7777777777777778,
              "#fb9f3a"
             ],
             [
              0.8888888888888888,
              "#fdca26"
             ],
             [
              1,
              "#f0f921"
             ]
            ],
            "type": "heatmap"
           }
          ],
          "heatmapgl": [
           {
            "colorbar": {
             "outlinewidth": 0,
             "ticks": ""
            },
            "colorscale": [
             [
              0,
              "#0d0887"
             ],
             [
              0.1111111111111111,
              "#46039f"
             ],
             [
              0.2222222222222222,
              "#7201a8"
             ],
             [
              0.3333333333333333,
              "#9c179e"
             ],
             [
              0.4444444444444444,
              "#bd3786"
             ],
             [
              0.5555555555555556,
              "#d8576b"
             ],
             [
              0.6666666666666666,
              "#ed7953"
             ],
             [
              0.7777777777777778,
              "#fb9f3a"
             ],
             [
              0.8888888888888888,
              "#fdca26"
             ],
             [
              1,
              "#f0f921"
             ]
            ],
            "type": "heatmapgl"
           }
          ],
          "histogram": [
           {
            "marker": {
             "pattern": {
              "fillmode": "overlay",
              "size": 10,
              "solidity": 0.2
             }
            },
            "type": "histogram"
           }
          ],
          "histogram2d": [
           {
            "colorbar": {
             "outlinewidth": 0,
             "ticks": ""
            },
            "colorscale": [
             [
              0,
              "#0d0887"
             ],
             [
              0.1111111111111111,
              "#46039f"
             ],
             [
              0.2222222222222222,
              "#7201a8"
             ],
             [
              0.3333333333333333,
              "#9c179e"
             ],
             [
              0.4444444444444444,
              "#bd3786"
             ],
             [
              0.5555555555555556,
              "#d8576b"
             ],
             [
              0.6666666666666666,
              "#ed7953"
             ],
             [
              0.7777777777777778,
              "#fb9f3a"
             ],
             [
              0.8888888888888888,
              "#fdca26"
             ],
             [
              1,
              "#f0f921"
             ]
            ],
            "type": "histogram2d"
           }
          ],
          "histogram2dcontour": [
           {
            "colorbar": {
             "outlinewidth": 0,
             "ticks": ""
            },
            "colorscale": [
             [
              0,
              "#0d0887"
             ],
             [
              0.1111111111111111,
              "#46039f"
             ],
             [
              0.2222222222222222,
              "#7201a8"
             ],
             [
              0.3333333333333333,
              "#9c179e"
             ],
             [
              0.4444444444444444,
              "#bd3786"
             ],
             [
              0.5555555555555556,
              "#d8576b"
             ],
             [
              0.6666666666666666,
              "#ed7953"
             ],
             [
              0.7777777777777778,
              "#fb9f3a"
             ],
             [
              0.8888888888888888,
              "#fdca26"
             ],
             [
              1,
              "#f0f921"
             ]
            ],
            "type": "histogram2dcontour"
           }
          ],
          "mesh3d": [
           {
            "colorbar": {
             "outlinewidth": 0,
             "ticks": ""
            },
            "type": "mesh3d"
           }
          ],
          "parcoords": [
           {
            "line": {
             "colorbar": {
              "outlinewidth": 0,
              "ticks": ""
             }
            },
            "type": "parcoords"
           }
          ],
          "pie": [
           {
            "automargin": true,
            "type": "pie"
           }
          ],
          "scatter": [
           {
            "fillpattern": {
             "fillmode": "overlay",
             "size": 10,
             "solidity": 0.2
            },
            "type": "scatter"
           }
          ],
          "scatter3d": [
           {
            "line": {
             "colorbar": {
              "outlinewidth": 0,
              "ticks": ""
             }
            },
            "marker": {
             "colorbar": {
              "outlinewidth": 0,
              "ticks": ""
             }
            },
            "type": "scatter3d"
           }
          ],
          "scattercarpet": [
           {
            "marker": {
             "colorbar": {
              "outlinewidth": 0,
              "ticks": ""
             }
            },
            "type": "scattercarpet"
           }
          ],
          "scattergeo": [
           {
            "marker": {
             "colorbar": {
              "outlinewidth": 0,
              "ticks": ""
             }
            },
            "type": "scattergeo"
           }
          ],
          "scattergl": [
           {
            "marker": {
             "colorbar": {
              "outlinewidth": 0,
              "ticks": ""
             }
            },
            "type": "scattergl"
           }
          ],
          "scattermapbox": [
           {
            "marker": {
             "colorbar": {
              "outlinewidth": 0,
              "ticks": ""
             }
            },
            "type": "scattermapbox"
           }
          ],
          "scatterpolar": [
           {
            "marker": {
             "colorbar": {
              "outlinewidth": 0,
              "ticks": ""
             }
            },
            "type": "scatterpolar"
           }
          ],
          "scatterpolargl": [
           {
            "marker": {
             "colorbar": {
              "outlinewidth": 0,
              "ticks": ""
             }
            },
            "type": "scatterpolargl"
           }
          ],
          "scatterternary": [
           {
            "marker": {
             "colorbar": {
              "outlinewidth": 0,
              "ticks": ""
             }
            },
            "type": "scatterternary"
           }
          ],
          "surface": [
           {
            "colorbar": {
             "outlinewidth": 0,
             "ticks": ""
            },
            "colorscale": [
             [
              0,
              "#0d0887"
             ],
             [
              0.1111111111111111,
              "#46039f"
             ],
             [
              0.2222222222222222,
              "#7201a8"
             ],
             [
              0.3333333333333333,
              "#9c179e"
             ],
             [
              0.4444444444444444,
              "#bd3786"
             ],
             [
              0.5555555555555556,
              "#d8576b"
             ],
             [
              0.6666666666666666,
              "#ed7953"
             ],
             [
              0.7777777777777778,
              "#fb9f3a"
             ],
             [
              0.8888888888888888,
              "#fdca26"
             ],
             [
              1,
              "#f0f921"
             ]
            ],
            "type": "surface"
           }
          ],
          "table": [
           {
            "cells": {
             "fill": {
              "color": "#EBF0F8"
             },
             "line": {
              "color": "white"
             }
            },
            "header": {
             "fill": {
              "color": "#C8D4E3"
             },
             "line": {
              "color": "white"
             }
            },
            "type": "table"
           }
          ]
         },
         "layout": {
          "annotationdefaults": {
           "arrowcolor": "#2a3f5f",
           "arrowhead": 0,
           "arrowwidth": 1
          },
          "autotypenumbers": "strict",
          "coloraxis": {
           "colorbar": {
            "outlinewidth": 0,
            "ticks": ""
           }
          },
          "colorscale": {
           "diverging": [
            [
             0,
             "#8e0152"
            ],
            [
             0.1,
             "#c51b7d"
            ],
            [
             0.2,
             "#de77ae"
            ],
            [
             0.3,
             "#f1b6da"
            ],
            [
             0.4,
             "#fde0ef"
            ],
            [
             0.5,
             "#f7f7f7"
            ],
            [
             0.6,
             "#e6f5d0"
            ],
            [
             0.7,
             "#b8e186"
            ],
            [
             0.8,
             "#7fbc41"
            ],
            [
             0.9,
             "#4d9221"
            ],
            [
             1,
             "#276419"
            ]
           ],
           "sequential": [
            [
             0,
             "#0d0887"
            ],
            [
             0.1111111111111111,
             "#46039f"
            ],
            [
             0.2222222222222222,
             "#7201a8"
            ],
            [
             0.3333333333333333,
             "#9c179e"
            ],
            [
             0.4444444444444444,
             "#bd3786"
            ],
            [
             0.5555555555555556,
             "#d8576b"
            ],
            [
             0.6666666666666666,
             "#ed7953"
            ],
            [
             0.7777777777777778,
             "#fb9f3a"
            ],
            [
             0.8888888888888888,
             "#fdca26"
            ],
            [
             1,
             "#f0f921"
            ]
           ],
           "sequentialminus": [
            [
             0,
             "#0d0887"
            ],
            [
             0.1111111111111111,
             "#46039f"
            ],
            [
             0.2222222222222222,
             "#7201a8"
            ],
            [
             0.3333333333333333,
             "#9c179e"
            ],
            [
             0.4444444444444444,
             "#bd3786"
            ],
            [
             0.5555555555555556,
             "#d8576b"
            ],
            [
             0.6666666666666666,
             "#ed7953"
            ],
            [
             0.7777777777777778,
             "#fb9f3a"
            ],
            [
             0.8888888888888888,
             "#fdca26"
            ],
            [
             1,
             "#f0f921"
            ]
           ]
          },
          "colorway": [
           "#636efa",
           "#EF553B",
           "#00cc96",
           "#ab63fa",
           "#FFA15A",
           "#19d3f3",
           "#FF6692",
           "#B6E880",
           "#FF97FF",
           "#FECB52"
          ],
          "font": {
           "color": "#2a3f5f"
          },
          "geo": {
           "bgcolor": "white",
           "lakecolor": "white",
           "landcolor": "#E5ECF6",
           "showlakes": true,
           "showland": true,
           "subunitcolor": "white"
          },
          "hoverlabel": {
           "align": "left"
          },
          "hovermode": "closest",
          "mapbox": {
           "style": "light"
          },
          "paper_bgcolor": "white",
          "plot_bgcolor": "#E5ECF6",
          "polar": {
           "angularaxis": {
            "gridcolor": "white",
            "linecolor": "white",
            "ticks": ""
           },
           "bgcolor": "#E5ECF6",
           "radialaxis": {
            "gridcolor": "white",
            "linecolor": "white",
            "ticks": ""
           }
          },
          "scene": {
           "xaxis": {
            "backgroundcolor": "#E5ECF6",
            "gridcolor": "white",
            "gridwidth": 2,
            "linecolor": "white",
            "showbackground": true,
            "ticks": "",
            "zerolinecolor": "white"
           },
           "yaxis": {
            "backgroundcolor": "#E5ECF6",
            "gridcolor": "white",
            "gridwidth": 2,
            "linecolor": "white",
            "showbackground": true,
            "ticks": "",
            "zerolinecolor": "white"
           },
           "zaxis": {
            "backgroundcolor": "#E5ECF6",
            "gridcolor": "white",
            "gridwidth": 2,
            "linecolor": "white",
            "showbackground": true,
            "ticks": "",
            "zerolinecolor": "white"
           }
          },
          "shapedefaults": {
           "line": {
            "color": "#2a3f5f"
           }
          },
          "ternary": {
           "aaxis": {
            "gridcolor": "white",
            "linecolor": "white",
            "ticks": ""
           },
           "baxis": {
            "gridcolor": "white",
            "linecolor": "white",
            "ticks": ""
           },
           "bgcolor": "#E5ECF6",
           "caxis": {
            "gridcolor": "white",
            "linecolor": "white",
            "ticks": ""
           }
          },
          "title": {
           "x": 0.05
          },
          "xaxis": {
           "automargin": true,
           "gridcolor": "white",
           "linecolor": "white",
           "ticks": "",
           "title": {
            "standoff": 15
           },
           "zerolinecolor": "white",
           "zerolinewidth": 2
          },
          "yaxis": {
           "automargin": true,
           "gridcolor": "white",
           "linecolor": "white",
           "ticks": "",
           "title": {
            "standoff": 15
           },
           "zerolinecolor": "white",
           "zerolinewidth": 2
          }
         }
        },
        "title": {
         "text": "Tendencia de la Capitalización de Mercado de Algorand en 2019"
        },
        "xaxis": {
         "anchor": "y",
         "domain": [
          0,
          1
         ],
         "title": {
          "text": "Fecha"
         }
        },
        "yaxis": {
         "anchor": "x",
         "domain": [
          0,
          1
         ],
         "title": {
          "text": "Capitalización de Mercado (USD)"
         }
        }
       }
      }
     },
     "metadata": {},
     "output_type": "display_data"
    }
   ],
   "source": [
    "# Tendencia del precio\n",
    "# Calcular el cambio porcentual diario para el precio y la capitalización de mercado\n",
    "data_2019['price_change_pct'] = data_2019['price'].pct_change() * 100\n",
    "data_2019['market_cap_change_pct'] = data_2019['market_cap'].pct_change() * 100\n",
    "\n",
    "# Graficar la tendencia del precio y la capitalización de mercado\n",
    "fig_price = px.line(\n",
    "    data_2019,\n",
    "    x='date',\n",
    "    y='price',\n",
    "    title='Tendencia del Precio de Algorand en 2019',\n",
    "    labels={'date': 'Fecha', 'price': 'Precio (USD)'}\n",
    ")\n",
    "\n",
    "fig_market_cap = px.line(\n",
    "    data_2019,\n",
    "    x='date',\n",
    "    y='market_cap',\n",
    "    title='Tendencia de la Capitalización de Mercado de Algorand en 2019',\n",
    "    labels={'date': 'Fecha', 'market_cap': 'Capitalización de Mercado (USD)'}\n",
    ")\n",
    "\n",
    "# Mostrar las gráficas\n",
    "fig_price.show()\n",
    "fig_market_cap.show()"
   ]
  },
  {
   "cell_type": "markdown",
   "metadata": {},
   "source": [
    "*Análisis:* en 2019, algorand mostro un comportamineto tipico de lanzamiento de criptomonedas, con un pico alto y una caida en sus valor."
   ]
  },
  {
   "cell_type": "markdown",
   "metadata": {},
   "source": [
    "# ---> **Inciso 2**\n",
    "## Análisis de Datos en Pandas\n",
    "\n",
    "1. **Cargar los datos en Pandas DataFrames**:\n",
    "   - Asegúrate de cargar correctamente los datos en un DataFrame de Pandas para su posterior análisis.\n",
    "\n",
    "2. **Conectar el volumen de datos con la capitalización de mercado en dólares**:\n",
    "   - Relaciona el volumen de transacciones de los activos con su capitalización de mercado expresada en dólares.\n",
    "\n",
    "3. **Analizar el comportamiento proporcional entre ambos**:\n",
    "   - Realiza un análisis para observar la relación proporcional entre el volumen de datos y la capitalización de mercado, buscando patrones o correlaciones.\n"
   ]
  },
  {
   "cell_type": "code",
   "execution_count": 106,
   "metadata": {},
   "outputs": [],
   "source": [
    "data = pd.read_csv('algorand.csv')"
   ]
  },
  {
   "cell_type": "code",
   "execution_count": 107,
   "metadata": {},
   "outputs": [
    {
     "name": "stdout",
     "output_type": "stream",
     "text": [
      "  date         price     total_volume  market_cap   coin_name\n",
      "0  2019-06-21  1.604939  6.653181e+05  0.000000e+00  algorand\n",
      "1  2019-06-22  3.172364  1.790331e+08  1.010855e+08  algorand\n",
      "2  2019-06-23  2.159165  2.588226e+08  7.665618e+07  algorand\n",
      "3  2019-06-24  1.899598  2.100211e+08  6.647512e+07  algorand\n",
      "4  2019-06-25  1.409310  1.574706e+08  5.522254e+07  algorand\n"
     ]
    }
   ],
   "source": [
    "print(data.head())"
   ]
  },
  {
   "cell_type": "code",
   "execution_count": 108,
   "metadata": {},
   "outputs": [
    {
     "name": "stdout",
     "output_type": "stream",
     "text": [
      "-> date\n",
      "-> price\n",
      "-> total_volume\n",
      "-> market_cap\n",
      "-> coin_name\n"
     ]
    }
   ],
   "source": [
    "columns = data.columns\n",
    "for col in columns:\n",
    "    print(f\"-> {col}\")"
   ]
  },
  {
   "cell_type": "code",
   "execution_count": 109,
   "metadata": {},
   "outputs": [
    {
     "name": "stdout",
     "output_type": "stream",
     "text": [
      "<class 'pandas.core.frame.DataFrame'>\n",
      "RangeIndex: 1742 entries, 0 to 1741\n",
      "Data columns (total 5 columns):\n",
      " #   Column        Non-Null Count  Dtype  \n",
      "---  ------        --------------  -----  \n",
      " 0   date          1742 non-null   object \n",
      " 1   price         1742 non-null   float64\n",
      " 2   total_volume  1742 non-null   float64\n",
      " 3   market_cap    1742 non-null   float64\n",
      " 4   coin_name     1742 non-null   object \n",
      "dtypes: float64(3), object(2)\n",
      "memory usage: 68.2+ KB\n",
      "╒══════════════╤══════════════════╤═════════╕\n",
      "│ Columnas     │   Non-Null Count │ Dtype   │\n",
      "╞══════════════╪══════════════════╪═════════╡\n",
      "│ date         │             1742 │ object  │\n",
      "├──────────────┼──────────────────┼─────────┤\n",
      "│ price        │             1742 │ float64 │\n",
      "├──────────────┼──────────────────┼─────────┤\n",
      "│ total_volume │             1742 │ float64 │\n",
      "├──────────────┼──────────────────┼─────────┤\n",
      "│ market_cap   │             1742 │ float64 │\n",
      "├──────────────┼──────────────────┼─────────┤\n",
      "│ coin_name    │             1742 │ object  │\n",
      "╘══════════════╧══════════════════╧═════════╛\n"
     ]
    }
   ],
   "source": [
    "# Capturar la salida de .info() en una lista\n",
    "info_list = []\n",
    "data_info = data.info()\n",
    "\n",
    "# Formatear la salida de .info() en una tabla\n",
    "info_list.append([\"Columnas\", \"Non-Null Count\", \"Dtype\"])\n",
    "\n",
    "# Agregar cada columna con su información\n",
    "for col in data.columns:\n",
    "    non_null = data[col].notnull().sum()\n",
    "    dtype = data[col].dtype\n",
    "    info_list.append([col, non_null, dtype])\n",
    "\n",
    "# Imprimir la tabla\n",
    "print(tabulate(info_list, headers=\"firstrow\", tablefmt=\"fancy_grid\"))"
   ]
  },
  {
   "cell_type": "code",
   "execution_count": 110,
   "metadata": {},
   "outputs": [
    {
     "data": {
      "text/html": [
       "<div>\n",
       "<style scoped>\n",
       "    .dataframe tbody tr th:only-of-type {\n",
       "        vertical-align: middle;\n",
       "    }\n",
       "\n",
       "    .dataframe tbody tr th {\n",
       "        vertical-align: top;\n",
       "    }\n",
       "\n",
       "    .dataframe thead th {\n",
       "        text-align: right;\n",
       "    }\n",
       "</style>\n",
       "<table border=\"1\" class=\"dataframe\">\n",
       "  <thead>\n",
       "    <tr style=\"text-align: left;\">\n",
       "      <th></th>\n",
       "      <th>price</th>\n",
       "      <th>total_volume</th>\n",
       "      <th>market_cap</th>\n",
       "    </tr>\n",
       "  </thead>\n",
       "  <tbody>\n",
       "    <tr>\n",
       "      <th>count</th>\n",
       "      <td>1742.000000</td>\n",
       "      <td>1.742000e+03</td>\n",
       "      <td>1.742000e+03</td>\n",
       "    </tr>\n",
       "    <tr>\n",
       "      <th>mean</th>\n",
       "      <td>0.535794</td>\n",
       "      <td>1.845966e+08</td>\n",
       "      <td>2.225644e+09</td>\n",
       "    </tr>\n",
       "    <tr>\n",
       "      <th>std</th>\n",
       "      <td>0.492437</td>\n",
       "      <td>2.572328e+08</td>\n",
       "      <td>2.852538e+09</td>\n",
       "    </tr>\n",
       "    <tr>\n",
       "      <th>min</th>\n",
       "      <td>0.088466</td>\n",
       "      <td>6.653181e+05</td>\n",
       "      <td>0.000000e+00</td>\n",
       "    </tr>\n",
       "    <tr>\n",
       "      <th>25%</th>\n",
       "      <td>0.214774</td>\n",
       "      <td>6.041444e+07</td>\n",
       "      <td>2.483992e+08</td>\n",
       "    </tr>\n",
       "    <tr>\n",
       "      <th>50%</th>\n",
       "      <td>0.312181</td>\n",
       "      <td>1.028419e+08</td>\n",
       "      <td>1.311779e+09</td>\n",
       "    </tr>\n",
       "    <tr>\n",
       "      <th>75%</th>\n",
       "      <td>0.784465</td>\n",
       "      <td>2.068420e+08</td>\n",
       "      <td>2.616014e+09</td>\n",
       "    </tr>\n",
       "    <tr>\n",
       "      <th>max</th>\n",
       "      <td>3.172364</td>\n",
       "      <td>4.496664e+09</td>\n",
       "      <td>1.339709e+10</td>\n",
       "    </tr>\n",
       "  </tbody>\n",
       "</table>\n",
       "</div>"
      ],
      "text/plain": [
       "       price        total_volume  market_cap  \n",
       "count  1742.000000  1.742000e+03  1.742000e+03\n",
       "mean      0.535794  1.845966e+08  2.225644e+09\n",
       "std       0.492437  2.572328e+08  2.852538e+09\n",
       "min       0.088466  6.653181e+05  0.000000e+00\n",
       "25%       0.214774  6.041444e+07  2.483992e+08\n",
       "50%       0.312181  1.028419e+08  1.311779e+09\n",
       "75%       0.784465  2.068420e+08  2.616014e+09\n",
       "max       3.172364  4.496664e+09  1.339709e+10"
      ]
     },
     "execution_count": 110,
     "metadata": {},
     "output_type": "execute_result"
    }
   ],
   "source": [
    "data.describe()\n"
   ]
  },
  {
   "cell_type": "code",
   "execution_count": 111,
   "metadata": {},
   "outputs": [],
   "source": [
    "data['Proporcional'] = data['total_volume'] / data['market_cap']\n",
    "#Calculamos una proporcional entre estos dos valores para ver como se relacionan."
   ]
  },
  {
   "cell_type": "code",
   "execution_count": 112,
   "metadata": {},
   "outputs": [
    {
     "data": {
      "application/vnd.plotly.v1+json": {
       "config": {
        "plotlyServerURL": "https://plot.ly"
       },
       "data": [
        {
         "hovertemplate": "Capitalización de Mercado (USD)=%{x}<br>Volumen de Transacciones (USD)=%{y}<extra></extra>",
         "legendgroup": "",
         "marker": {
          "color": "#636efa",
          "symbol": "circle"
         },
         "mode": "markers",
         "name": "",
         "showlegend": false,
         "type": "scattergl",
         "x": [
          0,
          101085454.81028377,
          76656180.8493111,
          66475124.17056032,
          55222540.55159792,
          86059923.75346406,
          94735214.3367427,
          85082877.25344796,
          96637677.02429225,
          106309562.90382645,
          101443324.53426436,
          95263570.57259956,
          79863686.63255547,
          78485962.78952014,
          71292731.37255181,
          103659366.70287664,
          95412453.28737593,
          106339822.92958426,
          105138746.17989182,
          104164227.76809928,
          114868602.26935734,
          95216842.72320804,
          98932600.4370568,
          114073830.68674144,
          101174450.80616944,
          98632960.45747326,
          86862067.80859579,
          92005348.58865172,
          95752479.76592726,
          92474046.80543312,
          105032524.58999026,
          103539908.54044358,
          95235340.76363648,
          92687914.695639,
          99037780.17702857,
          99543650.5195163,
          113372950.4444754,
          98905158.40346374,
          98427536.64073227,
          97679316.6947742,
          96980904.31534147,
          96225161.17215908,
          94731315.10698412,
          158733679.00084832,
          146841706.48570368,
          139320097.2863245,
          155989156.58839604,
          138657161.3162164,
          136403961.38009542,
          144422806.64036217,
          157353176.23535153,
          159072080.78726923,
          161948916.84233055,
          158513602.3255591,
          192427841.84701556,
          176563362.10033342,
          178194594.14785385,
          171142642.31405815,
          174667945.51884454,
          176200642.48458117,
          174573702.8833752,
          169623899.3333426,
          157149968.68086365,
          159527340.30132973,
          162549865.0899096,
          163090529.96221328,
          157227063.07752255,
          152915095.18105966,
          155842063.42801395,
          132681750.77666846,
          122271929.17193434,
          131208931.07309929,
          125791273.69966368,
          124826470.81217565,
          126025822.51267453,
          120672777.9947136,
          114929909.8833488,
          130062200.03890286,
          116653919.6082445,
          125926061.85277104,
          127226346.7700332,
          128605073.31497689,
          128129086.5117184,
          124468011.33004215,
          116291857.49187513,
          116705685.44574352,
          119177881.16672637,
          121940787.96349736,
          120574704.80233768,
          121500142.24939343,
          128423481.40448704,
          121347696.488904,
          121280311.99060568,
          125497449.23630364,
          120546130.77154146,
          108505326.2615245,
          81063840.95780438,
          84975194.5487677,
          80305150.83900857,
          79537146.08251631,
          85894614.33438043,
          95412329.50631264,
          108884533.26157984,
          99603924.75506093,
          99176758.74336272,
          99892184.45356104,
          99593760.64543615,
          97524713.16810954,
          92833563.50898632,
          95623536.40543316,
          100675685.67549118,
          105337745.88960564,
          111706449.2901853,
          111389513.3459222,
          113589383.8908775,
          111298125.92122446,
          118698299.5804876,
          110452590.51867165,
          101396760.99167536,
          105994722.4619929,
          101720274.65107311,
          100395140.04527584,
          101086061.10740316,
          102665148.6838248,
          101093288.3987115,
          95149441.96703556,
          92082152.0525199,
          97174900.71690787,
          97997649.60692678,
          98566010.43993191,
          106693193.14739424,
          106082272.51230936,
          100259781.65596493,
          101510568.372378,
          119422060.72204582,
          119724896.8944738,
          122939923.1912726,
          119591885.6510226,
          133554770.4958866,
          130155995.16510482,
          124536064.98675668,
          118692854.93643892,
          119589363.79041506,
          123735276.34020682,
          129550041.10770172,
          127218452.17990533,
          132798033.19926035,
          131379100.65015256,
          124038586.05581552,
          126156169.5038503,
          125940089.51865792,
          117964660.6166797,
          114028109.94118331,
          117210416.65160953,
          113356730.74408934,
          103452973.68663348,
          106906249.8362826,
          99656984.16361906,
          98301268.0661256,
          104435823.47353968,
          107283429.91424656,
          126606207.7033604,
          134124117.37857036,
          129726543.7307194,
          125112132.96436284,
          134314193.8255503,
          137068356.17410988,
          131594330.03681594,
          128913608.00318386,
          129427735.49029084,
          133175465.47288474,
          143600668.54996,
          146211943.718545,
          135497543.16295838,
          141048407.80822253,
          135722250.9571563,
          135324173.53071058,
          126622943.64422742,
          131748279.41500008,
          122725207.92393722,
          111884241.96318416,
          124733561.50512776,
          117523305.99592876,
          122727055.3531636,
          123613361.95522732,
          129066477.0390947,
          124091606.4092834,
          120170198.86432292,
          118367036.55749708,
          123642704.25947762,
          119981047.02695815,
          122860115.29797332,
          122497672.35196686,
          118063791.47521213,
          114566754.9389212,
          116603583.60839587,
          113430529.35827886,
          120432452.36279428,
          125118456.32467088,
          123075692.17720637,
          128695202.83836918,
          124341637.29759768,
          123786445.03844991,
          120468797.75413926,
          122909055.39754853,
          123396751.68939744,
          123915126.30726492,
          124253683.63338567,
          125856250.89406522,
          135833419.30867118,
          132077567.2779998,
          143617849.47656816,
          143265161.85171282,
          133007544.734807,
          131687769.17288946,
          138656789.7701199,
          137355728.7754928,
          132966616.35053226,
          131971952.86488678,
          133538886.88985316,
          135376134.31933206,
          136740737.99825364,
          139367928.10414952,
          138175653.8597448,
          138591226.943905,
          143031347.24990952,
          142918778.28356302,
          146327747.69823816,
          153083755.9036136,
          163849464.3579951,
          160996253.82325828,
          168878038.66654593,
          183344261.97193056,
          180068262.6041076,
          200791011.0312374,
          213346304.5294482,
          217403059.46376264,
          229811573.02703625,
          210081088.467508,
          216721352.57094783,
          200873313.05502823,
          201730215.4167566,
          195477830.36486492,
          209112273.90154985,
          213904666.9717892,
          258938350.89146903,
          253746204.61308724,
          270075353.8593681,
          280766610.81949496,
          299546519.46603733,
          244621480.41942155,
          226259290.5212492,
          229913002.58441293,
          216337513.9514736,
          204292230.95937783,
          197084579.7616966,
          250520857.33243105,
          248657897.09283936,
          264371561.57718056,
          256341766.99057075,
          254282694.1641349,
          230435044.1117156,
          201500402.12189797,
          184818446.83815864,
          194187547.10300344,
          184273455.46374112,
          95976676.4803406,
          103060843.29220632,
          100975404.8916962,
          103367848.25399202,
          88249526.60321064,
          96768298.98952968,
          95664022.61666285,
          109859322.0152019,
          109006443.24738416,
          105847235.59013654,
          101303268.1009249,
          109476725.04283828,
          110720944.90752184,
          106569704.3283948,
          109814268.80146603,
          107797814.09123948,
          103690790.67483574,
          100004565.88738886,
          106982494.80359544,
          107352024.12632254,
          108587759.9706756,
          109653855.6364221,
          111574581.98759145,
          120537558.86960898,
          120154671.51674448,
          130710762.87092888,
          128469611.7741742,
          142595470.9406249,
          141639021.30906156,
          125894178.45383656,
          126950278.24792828,
          127022647.20267177,
          123791267.76405734,
          126024378.1198745,
          119376117.60672437,
          131256438.45364466,
          138769183.8335332,
          145358667.3436076,
          140779912.62319422,
          130632829.54916544,
          131458083.73616403,
          135134331.6174324,
          143112597.10828,
          153301178.2808244,
          155747243.0835111,
          165963818.07759875,
          159274255.3821968,
          161138472.3549131,
          169431058.3993497,
          157917696.89937764,
          160405907.83184862,
          163373585.63475075,
          156178507.32389107,
          153295529.65907025,
          155107569.72564173,
          147808286.20654854,
          149770481.8526763,
          159236666.99169806,
          157407623.09977016,
          142158969.16867733,
          137926113.03564426,
          144184056.15765798,
          145303074.21666452,
          146716312.12538072,
          142049145.8923627,
          146190431.0889378,
          146660193.49064535,
          149666522.01237425,
          148783189.10893396,
          155607004.94339788,
          143760776.35772717,
          151092190.50388658,
          150590913.344512,
          147205144.44857064,
          157781305.09043527,
          163334892.88199812,
          171816242.96318793,
          177144998.48828322,
          178917939.2881342,
          189789411.01994497,
          184257967.5739633,
          197916247.7924032,
          195508044.72638023,
          193287228.11394265,
          190168540.2885421,
          186797585.40061063,
          190452177.17449743,
          186096147.5413003,
          188373324.41013604,
          193598057.9597037,
          197436767.88614663,
          187618250.4437466,
          186799949.046048,
          187084059.3324344,
          186806266.5706485,
          182464293.7803761,
          189115826.7402697,
          195838739.5668381,
          192888625.97697097,
          186725926.465475,
          185201039.5014648,
          185694384.74017283,
          191638736.5592873,
          199204048.85700515,
          192227267.57515785,
          189514926.0182832,
          178392651.72792962,
          163608046.74609,
          165664629.26704356,
          170729395.72822583,
          166439467.44444904,
          171117620.88353753,
          163431764.50193548,
          163036379.35411933,
          172982250.50814402,
          171345728.04039866,
          183585722.7742207,
          185625363.74644104,
          198257294.5768364,
          195061205.4991189,
          201566399.3673491,
          224392220.19909152,
          222651385.1609079,
          213573360.4027525,
          220034420.70295173,
          232924254.1116312,
          283527740.22477067,
          281039977.3152405,
          284293007.42753947,
          313979298.44130504,
          289346570.7326826,
          277834757.6109806,
          278097401.02803564,
          263244538.48727933,
          251157488.2987324,
          255959553.1216952,
          258685560.99083048,
          231546142.9958258,
          250373500.11194548,
          247688303.62360612,
          267966933.00225183,
          261329569.08150417,
          262998868.89949396,
          242303258.016764,
          248091809.41282937,
          262153440.18559015,
          268070974.5300246,
          292336829.9487228,
          292878035.6628412,
          363352672.13960624,
          341482343.240211,
          377413925.1300012,
          353035556.23347586,
          431324938.3610324,
          536076689.5235052,
          515436554.0656788,
          512653490.4399256,
          510552590.6804657,
          473689718.4638837,
          448831824.1978394,
          476872935.8300535,
          504423116.2920113,
          427062315.0300405,
          452343770.3680827,
          496901399.03386,
          504186262.0366938,
          455746233.2971223,
          439212080.6544414,
          418069297.536106,
          429331373.3637568,
          429265193.1068588,
          415808798.62631387,
          407810551.2371883,
          416676708.669669,
          375677247.1783015,
          283645890.63238513,
          301463558.2639492,
          273186271.80462915,
          303546845.9858982,
          296877014.1859704,
          278163684.5522148,
          328053355.14039266,
          331888416.22566426,
          328109957.2930965,
          329380141.6693127,
          303292872.271502,
          307877679.87223226,
          284168551.7633579,
          287158066.7433143,
          285537084.80047435,
          269113461.5871979,
          273583974.3927057,
          261066328.0645297,
          233598258.6512438,
          244900076.4526136,
          218068421.11123827,
          235852233.6184385,
          253913848.66273355,
          260189296.6325636,
          252857046.3385969,
          260751591.9205435,
          268271702.7280114,
          269737776.5405158,
          267794472.6296873,
          254397993.4420136,
          253528368.68814027,
          251277628.91722,
          256405755.14436683,
          228903897.7280688,
          244549032.1674416,
          246785606.8333764,
          265229421.0151849,
          263208418.714279,
          263190708.4109045,
          278760511.2272025,
          275335244.25212914,
          262249208.32926425,
          251645339.41093695,
          241354576.0696588,
          251497933.31526405,
          252479736.1999742,
          243361845.98322225,
          230963373.72795755,
          241316746.76055643,
          252743069.69157425,
          247396776.84132364,
          247969974.7830197,
          243430947.2820993,
          233065584.9484476,
          230432469.46466383,
          220490523.84600195,
          206313721.7540241,
          204262850.8933214,
          199840941.4611794,
          206189031.3315237,
          197365851.98381615,
          185810184.39465573,
          191226730.19379923,
          198792725.41483068,
          222504578.7096412,
          207204500.91056964,
          215008458.33538452,
          209143997.31747404,
          231511855.79452467,
          222885871.9888691,
          212272885.9059864,
          223626266.20731688,
          214122050.37572384,
          205590544.9672054,
          216030381.52733916,
          219539692.6425942,
          214720049.65086123,
          212121459.4813852,
          228566167.09599796,
          251831761.4768016,
          241392322.0976736,
          264715391.2371764,
          284679028.75104153,
          276718259.030071,
          241162257.88910067,
          239665174.7684605,
          250607754.1758365,
          253217486.8482904,
          264059293.93506703,
          248812932.2856734,
          274264512.95331687,
          273865179.6486125,
          263303373.70776144,
          275826589.3637319,
          269035220.40159947,
          266280105.1741168,
          241762765.72630063,
          245541520.5211348,
          236672117.16697004,
          233482281.34895733,
          248854963.2019432,
          248313021.9373833,
          250809758.18386507,
          262429840.6468332,
          271822342.6249462,
          267853752.902334,
          283083789.38128394,
          285450933.3278994,
          271747851.3305128,
          262585351.54491812,
          269249859.0439326,
          237038316.7005248,
          250598409.47325456,
          248884836.8377368,
          246512728.78761867,
          259667535.16863608,
          279433588.73218066,
          278425343.6905742,
          269305083.7673661,
          263756872.00050133,
          320617715.8019265,
          325337709.0440893,
          336867547.42747,
          326673376.554031,
          387810057.19283086,
          413191483.95280313,
          367099677.6325413,
          364288976.8554292,
          395279826.601999,
          373155530.8826078,
          335753287.4160648,
          318202482.5199069,
          363382683.51354766,
          362880992.01976055,
          392562427.5393096,
          411210591.9552867,
          460810522.1541047,
          454007548.3522911,
          424064341.1743447,
          435267658.0005768,
          374978319.909802,
          408599795.4999544,
          447636222.36003286,
          451660051.5050472,
          450172203.962764,
          479933403.24455696,
          434102334.2823057,
          451226715.1681182,
          517901268.1057686,
          526109676.31096095,
          519608768.4835442,
          515094397.5765777,
          527516512.9161261,
          594137522.9220703,
          571668005.8154545,
          662463927.2409997,
          649237910.1462096,
          675926117.5848898,
          791533879.418861,
          828461601.9115363,
          835423709.0362924,
          997624737.0578128,
          1353376559.811057,
          1353824900.3634598,
          1188446810.3276017,
          1076369763.5036285,
          1047932104.6218572,
          1090835698.4510388,
          1121718157.080943,
          1109831015.9444523,
          1050829977.748621,
          1059313340.2781818,
          923668654.719474,
          811308947.2087314,
          857287559.8803616,
          796617023.4949825,
          784649022.9119986,
          880679022.7381895,
          827323064.5870634,
          873689735.3367004,
          871510734.4008967,
          958815966.3857038,
          881166598.6115446,
          846282363.1371156,
          853873377.4957031,
          888947413.8346951,
          928179016.753731,
          944178853.7883542,
          2857524953.642556,
          2790107418.956254,
          2729704964.820553,
          2932657776.012394,
          2971683311.6935506,
          3119862398.4775333,
          3114549431.533436,
          3340950177.880702,
          3275796118.596458,
          3261716291.368687,
          3170559338.791984,
          3078726359.5127583,
          2895926863.0832214,
          2897944984.0110683,
          2707590346.5038834,
          2708129356.713241,
          2917155353.3090706,
          3028572830.100092,
          3219144139.3394985,
          3714899469.575481,
          3464285396.346206,
          3535681209.161156,
          3472590785.483107,
          3539373007.843993,
          3317211425.4365478,
          3431683154.7224054,
          3649919763.925685,
          3670028948.167581,
          3474087616.057601,
          3568340152.8086,
          3699656624.054824,
          3730197389.246537,
          4051820678.286789,
          4074623445.96576,
          4141744462.830106,
          4050746432.0983896,
          4378393699.140998,
          4242771151.994637,
          4771582903.048625,
          4182642635.4920297,
          3734380545.199909,
          3723110372.624788,
          3538529905.766496,
          3413169486.4905934,
          3393692228.796752,
          3224630868.018795,
          3221584862.746444,
          3632404213.967865,
          3833858958.8231378,
          3789837397.481529,
          3889230267.745289,
          4132294538.447878,
          4115426346.958469,
          4098821937.666925,
          4271944381.5417366,
          3849623968.7267127,
          4258321162.184723,
          4549153129.767139,
          4687861398.462638,
          4535639168.431624,
          4561123349.375471,
          4181320544.6551695,
          4457096443.705122,
          4053865656.3411593,
          4082305680.201682,
          4512014380.454206,
          4207484659.0736456,
          4246789880.4426494,
          3929069511.0104494,
          4142842889.270494,
          2946478053.690258,
          3302534945.2144046,
          2957658431.6522207,
          2983903575.102508,
          2515812502.788584,
          2973876170.061984,
          2990431126.259695,
          3126524303.897274,
          2958618859.859693,
          2740017105.833309,
          2577822599.986436,
          2580790998.3520265,
          2859927369.339958,
          2758632230.272168,
          3139233856.7808704,
          3433949829.0651684,
          3150773396.370405,
          2968505868.3052444,
          3134162067.1009493,
          2961526635.991172,
          2910125770.111183,
          3217532823.971924,
          3172925051.1377883,
          2991367763.2610707,
          3051782006.6004696,
          3209283649.9094386,
          3245864282.1145577,
          3220540056.7724314,
          3083583586.0613,
          3265007831.304569,
          3042919508.779072,
          2907599116.4748373,
          2905806610.451221,
          2385557790.859399,
          2289293598.0364866,
          2574341683.429692,
          2701001920.277404,
          2503147317.0639434,
          2471465942.016415,
          2569819824.0486097,
          2594443564.391693,
          2752410565.2645307,
          2744831455.075826,
          2613272080.706087,
          2616014514.3923817,
          2718608483.457315,
          2750082169.366622,
          2747339059.980196,
          2838691824.9593515,
          2819494661.603957,
          2693462116.4073462,
          2834639878.671903,
          2797769682.638244,
          2793139560.593829,
          2733076492.194789,
          2736175685.66518,
          2677420621.191776,
          2601486966.6536293,
          2450741023.540257,
          2453664119.845909,
          2525750566.979815,
          2371831494.6929584,
          2188820348.7353587,
          2424944936.265105,
          2502553090.2962294,
          2521132450.856995,
          2602200502.417557,
          2841813521.92114,
          2670929412.822741,
          2673806032.5302854,
          2643993583.578933,
          2691702395.689922,
          2697826010.691883,
          2683533716.1506114,
          2571795413.1173296,
          2585881852.5740395,
          2611409223.319023,
          2624257932.097299,
          2686096824.637832,
          2710951939.724348,
          2781600568.892881,
          2621953968.8933187,
          2676103930.688469,
          2834046052.472368,
          2949746911.0095434,
          2850273053.127367,
          3087939531.063525,
          3045686623.571524,
          3230082629.273172,
          3122308329.049727,
          2895870935.094128,
          3058244650.344873,
          3429432038.195101,
          3702209722.184636,
          3753118469.7901,
          3789600462.5334992,
          3929083625.345103,
          3612485018.486716,
          3665592939.4997897,
          3476867190.775164,
          3652996477.391944,
          3576832675.21799,
          3542175935.156164,
          3525595141.4198,
          3850645563.6061854,
          4069488629.3311567,
          4015388638.656705,
          4287728465.75558,
          4268711206.253576,
          4628177431.495791,
          5233461151.285986,
          4504263408.814774,
          10128165583.10062,
          12175759199.6499,
          10467054822.843113,
          10486599979.977308,
          12540812895.494682,
          11304045508.95787,
          10710051400.07834,
          10517347163.595882,
          10669591178.974115,
          10192638413.213964,
          11209409971.518265,
          10803237817.323277,
          9120536844.398954,
          8774909596.588316,
          10398896726.846212,
          11470819959.956182,
          10325497232.331848,
          10132233313.313707,
          10262294228.535517,
          9950374567.267464,
          9313116097.95815,
          9548034552.675863,
          9756316893.22112,
          10679656778.9856,
          10755983255.526968,
          12153700476.26822,
          11929216430.897602,
          12055205804.831991,
          11177993691.058556,
          11539710667.069777,
          11612408703.290916,
          11610431913.925714,
          10887578266.64734,
          10478040687.999777,
          10733155250.67985,
          11279458638.821682,
          11113327897.676174,
          10822970451.953505,
          11107111706.82139,
          10859516288.23993,
          10658237651.237808,
          10536959238.003944,
          11040420512.576733,
          10990150264.408148,
          11455730665.96558,
          11763527733.001451,
          11194632193.95427,
          12711161052.2142,
          12334797990.01922,
          11128880460.50908,
          11431588408.751818,
          11587404311.730782,
          11262047707.340746,
          11330288034.965818,
          11352166214.78955,
          11589570606.90138,
          11960495599.914976,
          11503879515.307726,
          11492135210.333544,
          11449975757.457066,
          11637439021.798004,
          12752086082.68086,
          12179427994.91183,
          12045007965.109589,
          12778934517.996187,
          13397094705.656092,
          13082072676.482351,
          12357156025.874708,
          11881848408.446028,
          10882494837.901606,
          10296062554.912436,
          11403096724.405231,
          11706025039.571646,
          11540122955.723372,
          11705085091.555838,
          10883795329.08642,
          11529689081.2806,
          10934563407.83917,
          11390571990.738329,
          10000493669.202358,
          10418253183.196516,
          10687657085.62296,
          11248434474.30276,
          11450337596.882883,
          12276561279.686308,
          11887060991.102917,
          11016167025.546354,
          10354281462.95253,
          10963670987.402857,
          11286730376.99592,
          10645646764.03437,
          10624397573.58935,
          9878808697.717413,
          9354508977.218618,
          9619320316.8018,
          9722310261.566025,
          8528553618.114807,
          8723419990.13151,
          9009575560.100512,
          8761544238.848186,
          8552458598.177003,
          8720388894.599102,
          8626660098.550415,
          8323484895.476664,
          8602118515.499472,
          8718310244.227911,
          9315726433.297203,
          10031032203.39878,
          10054120236.99438,
          10204108923.083317,
          10669664520.105774,
          9449247420.386044,
          10071711042.88925,
          10975474294.789124,
          10653076552.44098,
          11094091822.908152,
          10680453972.95564,
          11450106666.86712,
          10917289569.928984,
          10103747008.187998,
          10139605158.72206,
          9303192968.041492,
          8978193063.790184,
          9058190901.819435,
          8876116393.78705,
          9318255629.03206,
          9670371176.669949,
          8816300231.600533,
          8924372517.563667,
          8926116673.793592,
          9244788764.289991,
          8774196027.362726,
          8550178798.461195,
          8243761999.785006,
          7785689814.285248,
          6752077463.448719,
          6192054450.742002,
          6449971373.4312725,
          6063969422.306486,
          6109438865.208426,
          6094132065.935139,
          6152375005.697543,
          6264012557.893072,
          6337367468.594962,
          6191637194.423467,
          6256165751.249891,
          6360796316.288657,
          6081212125.495829,
          6094393902.629149,
          6513591304.052758,
          6605767628.146526,
          6735764146.218443,
          7048751947.826851,
          6739386891.995743,
          6824776176.024785,
          6446356257.048531,
          6014385560.246347,
          6014063062.8988085,
          5956518111.603564,
          5958175878.518633,
          6430300785.121668,
          6522668559.722987,
          5937893547.159325,
          5947947279.692832,
          5951488658.597321,
          5643638734.125834,
          5224078694.97483,
          5360279703.501954,
          5224658917.729525,
          5133627569.095625,
          5493124722.526351,
          5667892783.493587,
          5264904819.199472,
          5720861493.09173,
          5659765927.606005,
          5432122718.724077,
          5346766243.820307,
          5036178213.99183,
          5117623492.65965,
          4958198200.417022,
          4858081028.754754,
          4899034126.122209,
          5089669850.693178,
          4845018336.320717,
          4682363886.554994,
          4669104784.020124,
          4512817461.990245,
          4675049356.9495945,
          4767329294.8058815,
          4862403679.699845,
          4922257286.895389,
          5018850317.166789,
          5060112203.547876,
          4915820099.256945,
          5444321313.458695,
          5457557313.426654,
          5537997629.340341,
          5914308820.673779,
          5895880497.414956,
          6060753977.406856,
          6273444297.6409855,
          6099963940.40862,
          6102190840.551772,
          6182276354.440168,
          6110440261.7116,
          6229128020.472135,
          6047971516.448744,
          6182795629.860376,
          5861814597.90827,
          5625395702.346577,
          5205808714.459202,
          5391637077.332646,
          5070856490.028753,
          5284497491.9894085,
          5090237093.987975,
          4666392847.799552,
          4864460366.852101,
          5007992671.368827,
          4881793503.404102,
          4965793938.290721,
          5011826763.857303,
          4757311644.16071,
          4953717329.559988,
          5104728673.513496,
          4967465851.1883545,
          4822362044.624878,
          4853471937.671147,
          4767162865.188928,
          4728313942.004799,
          4728800611.840985,
          4396148492.508165,
          4506437985.492205,
          4670269640.560387,
          4273695750.2915225,
          3803143904.7843714,
          4075097436.050883,
          4159458876.550023,
          4478683660.080304,
          4802248609.987977,
          4277551234.64738,
          4696651103.495441,
          5092866172.514776,
          4942469592.5878935,
          4010577010.685511,
          3957736126.61485,
          2909558104.602285,
          2846854073.313254,
          3001375179.546944,
          3163437405.5268345,
          3331547628.3568277,
          3114607274.97724,
          3394586716.2846346,
          2962408928.2941494,
          3049017873.8244376,
          2963335307.0271955,
          2960608945.434721,
          3038455137.7222767,
          2834364900.576062,
          2843734183.2003345,
          2758997966.4566565,
          2622369966.852005,
          2464422703.884215,
          2525964984.14231,
          2601423909.475482,
          2884115838.554214,
          2841065490.550776,
          2651508668.20935,
          2719577651.876388,
          2616013348.185456,
          2663232327.3251557,
          2690252225.3117824,
          2827272032.228166,
          2759403795.539216,
          2879118581.438205,
          2775293859.476057,
          2534020804.321981,
          2380322103.542169,
          2260088274.468996,
          2046829481.3069167,
          2118027566.555388,
          2337775709.667225,
          2073294107.6459932,
          2145628029.7109632,
          2034193769.564528,
          2158764749.381835,
          2209693257.7931285,
          2239458986.657923,
          2176235102.7957563,
          2318826922.8945007,
          2434642571.9458776,
          2423046666.2223406,
          2304880787.302289,
          2275849669.5619106,
          2158664850.0397587,
          2068724781.996783,
          2144406532.2886484,
          2133255331.6665552,
          2131220134.562408,
          2165052632.4320683,
          2232750744.0050774,
          2151443057.513248,
          2173026215.8645883,
          2252851750.0045514,
          2230117176.2683115,
          2249794413.161855,
          2160023693.414379,
          2080519025.206224,
          2057628163.237094,
          2152663040.749537,
          2305310140.899287,
          2275501609.8773723,
          2350608475.8049626,
          2358829055.321263,
          2489356676.736023,
          2577443866.798478,
          2404191669.7662616,
          2430727859.293389,
          2345556519.1456184,
          2334141867.4566274,
          2382233724.600137,
          2171756217.9039598,
          2169078362.8768454,
          2276940520.7527084,
          2342962740.087285,
          2364594305.8218107,
          2334013161.479809,
          2334545269.864747,
          2373553482.620202,
          2295627263.856381,
          2277465901.942465,
          2355133713.71128,
          2491418417.3492155,
          2437257186.938184,
          2508560786.9731,
          2544781874.586664,
          2430093257.635688,
          2539333872.8483863,
          2498953575.9339414,
          2523562117.8883514,
          2546052265.035207,
          2525500333.036723,
          2482921549.6223755,
          2444476936.1833625,
          2358773404.25105,
          2291340890.1647253,
          2103558661.496533,
          2075537314.893292,
          2127444277.5165968,
          2095052709.059224,
          2130410434.9420843,
          2087620530.50776,
          2128242969.0180483,
          1947441203.2322736,
          2004697461.9576616,
          1972069236.2288816,
          2065841275.2430604,
          2020871852.3015077,
          1996961182.8696733,
          2028901376.9186757,
          2082910880.0433087,
          2094250332.897529,
          2159636920.3091006,
          2102875130.275061,
          1979194239.421549,
          2074629642.3299508,
          2120475571.143257,
          2235731229.757692,
          2232075732.5266795,
          2255285691.759015,
          2229860375.2570834,
          2055154353.7160983,
          2097562016.8286912,
          2041921777.6273727,
          2060443451.2199423,
          2159877396.522985,
          2030385675.8313448,
          2206104641.660496,
          2291440373.8537364,
          2337634260.2422423,
          2590263483.058443,
          2791588424.840015,
          2658060385.429733,
          2689705252.831719,
          2543980104.777665,
          2462741375.0790377,
          2436357092.1830487,
          2457728431.4278164,
          2445929417.304409,
          2463536949.155397,
          2480452451.892443,
          2471769833.537987,
          2512562103.2937813,
          2478756612.3524194,
          2450587769.5615606,
          2368706524.175453,
          2344908028.246745,
          2377255254.1464987,
          2251852724.9914894,
          2228603165.5178366,
          2212072133.3510327,
          2237402730.8940773,
          2230269425.862473,
          2248218650.2524147,
          2263314905.9199467,
          2321434385.9305167,
          2250452259.816467,
          2150822276.898165,
          2156666121.2941284,
          2212053993.176086,
          2218596307.527794,
          2230344214.052389,
          2214592443.1681,
          2338854031.5486364,
          2391981100.4648595,
          2311282273.662473,
          2352077515.367341,
          2382220442.7461805,
          2518113636.338481,
          2527451490.73195,
          2535746500.0871,
          2561853326.274933,
          2596619311.229938,
          2915905320.4687004,
          3008065163.819414,
          2881887506.196852,
          2950218436.3557186,
          2390034817.569199,
          1883424951.9714072,
          2284650783.990382,
          2161656109.723881,
          1957614781.779271,
          1861622669.7057955,
          1870135352.911618,
          2015742113.3214493,
          1974865623.780763,
          1916945558.187641,
          2116042636.711729,
          2149718175.569417,
          1838267750.340504,
          1756222660.9738505,
          1720015290.480452,
          1768933615.3422682,
          1733567681.3538532,
          1740737852.4267054,
          1719522831.605546,
          1721939249.524931,
          1687733937.7385118,
          1714787732.743708,
          1779472034.3419526,
          1720429307.517654,
          1745205162.249675,
          1703821843.8024237,
          1723133845.5669672,
          1691877130.5667686,
          1669517223.9886637,
          1583132512.7654154,
          1606196849.1167696,
          1615468578.773335,
          1623287055.2149928,
          1594603124.8554206,
          1565392430.6223242,
          1598387886.8623655,
          1579043363.202527,
          1501898005.7854877,
          1321262685.0302472,
          1395501990.0297103,
          1354626992.581803,
          1246916597.5069635,
          1282772733.5098107,
          1234016034.3579342,
          1229517825.27231,
          1220634033.6347775,
          1212761654.245402,
          1186858836.9479902,
          1227399199.5600991,
          1216128429.725377,
          1192910925.7751465,
          1180577649.6195834,
          1204006820.5892556,
          1233566964.6875603,
          1267196781.7978678,
          1296176471.2359047,
          1317728143.3189096,
          1336747981.6960764,
          1312055414.3702269,
          1369278638.9377384,
          1399650638.5061378,
          1440712428.3700538,
          1451371964.392563,
          1471766114.6396396,
          1503595596.62174,
          1534340436.6126914,
          1591948508.3773687,
          1652109602.38514,
          1719047415.8184268,
          1685965366.2673686,
          1654465780.7711048,
          1505389841.787952,
          1566335202.0218468,
          1727556727.7937036,
          1721266991.693446,
          1776219574.0686924,
          1805557590.512084,
          1703492541.0205686,
          1771825360.6542945,
          1772553113.639084,
          1836916321.4205227,
          1853970204.3404968,
          1887845745.562366,
          1724782294.2895122,
          1746603324.1750648,
          1809089668.2259076,
          1852140916.0681503,
          1959596736.842536,
          1930987825.37016,
          1857169180.0345623,
          1848004657.0047212,
          1995626414.4649332,
          2078234134.9801512,
          1818219912.412563,
          1810943871.5989425,
          1848427308.6835024,
          1781291986.5041668,
          1756042648.0223207,
          1825598592.7017407,
          1957469471.60606,
          1835278730.2762408,
          1933525235.893152,
          1945758586.5028489,
          2001655788.299835,
          2016542643.6875536,
          1970963618.3127868,
          1933881916.8698895,
          1910377574.4499,
          1830813202.68064,
          1788610654.163605,
          1820679501.8341303,
          1821466627.049584,
          1742034925.033616,
          1790060999.912934,
          1727067963.3612368,
          1662442292.068599,
          1602895553.2397923,
          1611994322.8071933,
          1611646784.724661,
          1547040271.728938,
          1444107975.6553707,
          1373250944.535705,
          1345364692.4238029,
          1335982922.9458008,
          1436730212.3833182,
          1514017763.221383,
          1586088940.6831384,
          1460908548.2444131,
          1502917217.12328,
          1621369482.494226,
          1540868392.4252822,
          1590470217.3592663,
          1505719808.8341775,
          1611087655.513761,
          1534538535.3370848,
          1576771004.124885,
          1502717771.7836094,
          1483530157.1700504,
          1513587022.3047493,
          1431732021.0046227,
          1442783991.2196794,
          1676647635.3133364,
          1611724273.5968685,
          1615071458.5889456,
          1596934839.3897648,
          1533754716.1673715,
          1532512096.619749,
          1556903961.1008773,
          1602464803.6910162,
          1570338312.5273678,
          1584235270.6002567,
          1561139425.2988544,
          1562981396.7647748,
          1591020128.0027766,
          1581453749.0957997,
          1553636911.5204854,
          1597754234.1913302,
          1642811960.339518,
          1680012114.575093,
          1686952412.3075838,
          1590941901.737654,
          1606766234.863092,
          1439380694.5596237,
          1381390022.1706588,
          1337895469.995087,
          1384857663.0159607,
          1363703396.2578578,
          1344210968.2255015,
          1363964217.8553276,
          1307753364.7860518,
          1334590159.6262245,
          1335789484.9705005,
          1333330483.5052135,
          1317664189.6468403,
          1286472681.9930196,
          1298512232.2613275,
          1311501906.5883272,
          1284953316.945997,
          1319785909.9705317,
          1270556182.5289114,
          1266802316.299348,
          1188902260.1440897,
          1199570242.2931345,
          1224311336.7925396,
          1182724041.413229,
          1194613637.197994,
          1184299572.2449112,
          1184494439.7900286,
          1211440668.1689324,
          1230734157.3304567,
          1248401181.7962089,
          1202725636.3933864,
          1201354183.657657,
          1198601114.0724566,
          1180315328.2511594,
          1177587572.668046,
          1182876093.327422,
          1124387557.1852582,
          1092438253.673458,
          1091528590.2523055,
          1099431102.6796455,
          1114494381.552273,
          1104531498.691765,
          1102501240.6450198,
          1076000416.3747823,
          1079316205.742703,
          1105672739.0035253,
          1102920739.433947,
          1107344757.539635,
          1006327685.2762972,
          998366798.4708368,
          913071507.1033628,
          894393973.690506,
          903856143.4158516,
          810099526.1582323,
          802714466.9895315,
          817931916.7979088,
          818799705.206943,
          820310812.7238346,
          812448122.2552431,
          843144183.5568012,
          857763831.3694779,
          834040157.1985557,
          843516738.2726531,
          879589881.8964809,
          913733397.387782,
          907980000.1682124,
          979690682.6054786,
          961445507.5080372,
          993545884.9942714,
          940390842.6676408,
          928335574.2047864,
          869451454.3198464,
          884689607.5579423,
          895389184.8851056,
          937993474.3133664,
          910940033.262793,
          952006407.1173816,
          935328867.9934384,
          903376615.4506246,
          857586211.7313818,
          849426317.4389164,
          847431465.8774728,
          835447628.3729441,
          832534138.1397405,
          826435314.2959865,
          811202430.1046361,
          929806017.9129974,
          872092517.1638373,
          875590381.9577072,
          897492878.8425827,
          924263134.9279068,
          882185222.5479492,
          888147435.4752141,
          896181659.5323873,
          897448373.2958865,
          890490711.4114064,
          905510344.5194528,
          855831672.5883859,
          856646858.6430153,
          863962970.9108356,
          856867273.5635171,
          862015888.6292725,
          869355027.6526951,
          854041506.5530823,
          858173765.090401,
          862240414.2494365,
          834362883.3481334,
          832036547.8481957,
          827738629.8926243,
          831630509.148589,
          855346725.8075638,
          872622460.0066671,
          883174696.7877007,
          883881116.8205756,
          878537541.0969898,
          877118974.0838158,
          901976820.7949228,
          913973067.8272976,
          898113631.6939214,
          847610608.9745735,
          801324359.7369031,
          728782628.1371512,
          745808032.921889,
          757369843.520176,
          760167980.4823349,
          755792266.5802299,
          756307558.3619833,
          771637429.808595,
          759649668.9376578,
          758739157.6758926,
          746285872.7760185,
          744058781.6421086,
          761797033.2269421,
          785824657.3276302,
          757933031.1595063,
          729186522.8262917,
          720277239.6838493,
          738128276.3333845,
          740002107.4335644,
          734927503.9800838,
          736698909.6814741,
          736402245.7772313,
          763088582.517646,
          751828188.5050937,
          736760549.6678816,
          720160481.2839106,
          692868683.7058486,
          701421824.7584693,
          711659400.1566104,
          729882387.0319905,
          754315612.2977943,
          763192846.9756703,
          742565053.5939479,
          754768068.3533196,
          760580613.7162731,
          784720182.4260857,
          762975618.1488851,
          798726847.4518176,
          786401504.6247994,
          790212200.2229332,
          762887549.755311,
          749327459.2961684,
          750165891.6422454,
          764088263.1989565,
          794868226.0476713,
          808312647.9908012,
          832808603.2248675,
          794553323.2090788,
          792214611.5029836,
          790094898.5810527,
          792501783.2887892,
          796662492.5080696,
          790682412.76217,
          801898364.3041716,
          765720024.8534566,
          754193283.8038504,
          752236937.2867309,
          742202915.6381832,
          752408304.5871209,
          755531981.4120162,
          749356625.819152,
          749139619.5044953,
          726342615.5706395,
          714807291.3883532,
          710210920.8499378,
          724098823.1394311,
          744765142.7857875,
          737307882.7450244,
          777906384.2548517,
          799012331.7219608,
          796991460.2916566,
          802301650.2813265,
          786636347.7381632,
          807025460.410475,
          842418380.2154213,
          888324003.3059382,
          867657817.8527181,
          905564971.1261002,
          884261652.991425,
          885772562.2848337,
          908956995.2932746,
          962707084.15955,
          1032866017.6229132,
          990000241.4917278,
          1021034231.534816,
          987965425.7799256,
          1022706726.5487126,
          1058719780.1289274,
          1165929552.9953623,
          1073668114.9570428,
          1035462658.0661644,
          1137662914.1501634,
          1082679120.861911,
          1087076290.1017318,
          1076429742.2259157,
          1136398915.4557693,
          1129759406.114485,
          999007778.8584244,
          1062339875.330864,
          1045092097.9723842,
          1070020599.9253746,
          1122052208.503077,
          1089825270.3213282,
          1053141461.6598306,
          1060864765.7665952,
          1072855608.8108726,
          1066903416.8906368,
          1109071015.6349874,
          1183257528.7907166,
          1208579168.0974538,
          1218810954.8013124,
          1228450455.8777363,
          1226990374.1232316,
          1317589665.045249,
          1476199670.9161224,
          1593933887.020955,
          1601422570.517121,
          1611480018.0736609,
          1588267978.493755,
          1599448342.8964925,
          1727390235.0655324,
          1565877134.8121092,
          1580972876.4874735,
          1527262364.3547618,
          1562464202.6207852,
          1537998167.2917838,
          1584721083.1952946,
          1782969554.8113186,
          1928383275.5695105,
          1883370908.1444936,
          1857467109.6663835,
          1907650334.5774808,
          1873065826.516749,
          1832975771.796191,
          1878215866.7773523,
          1810662361.1299312,
          1775018978.1331224,
          1785305539.7303133,
          1915783824.148621,
          1809791045.8175163,
          1636477907.5953276,
          1661721012.9986002,
          1580874817.8745878,
          1520186831.3773878,
          1420714543.4901383,
          1566607915.0578125,
          1486182412.5690155,
          1605478647.716982,
          1629951071.420505,
          1497605058.6523645,
          1521836072.1914458,
          1481285966.5289552,
          1511164378.2797554,
          1578296187.6516104,
          1531865824.7830436,
          1437655942.1499522,
          1388484975.730216,
          1381693322.7255726,
          1373162766.006285,
          1296131770.2157342,
          1277209761.8791673,
          1312820339.7286637,
          1295079711.6628706,
          1338222457.8885818,
          1347801597.37355,
          1320108239.5945747,
          1359421412.7024555,
          1317833038.364405,
          1281083348.2127688,
          1277170981.301855,
          1294062495.3758216,
          1329760869.526727,
          1278346416.9093552,
          1284988190.8394234,
          1303390255.7648551,
          1353697158.8039763,
          1360403628.5032198,
          1406057980.9600098,
          1409072855.5592587,
          1410974205.150196,
          1474302610.8789527,
          1429946210.5200455,
          1474582955.3505285,
          1510469480.547967,
          1564258318.227216,
          1531749942.2448914,
          1580320939.3331454,
          1632084210.2469504,
          1583957529.1756997,
          1525706723.954485,
          1525166891.223807,
          1497017656.6139612,
          1585131529.426511,
          1671897155.6286683,
          1708521569.0861657,
          1678974209.3302011,
          1692734268.7422976,
          1707157296.875556,
          1832164533.5913613,
          1986786042.7741115,
          2019220789.7585032,
          2028927840.725621,
          1870098128.0795665,
          2062634024.853397,
          2280096955.441287,
          2184028079.718924,
          2171325593.9502254,
          2117595254.1177704,
          2357839208.3733864,
          2558519509.7329144,
          2569772617.508967,
          2514227711.632434,
          2407919834.775471,
          2146953516.6087503,
          2219453026.867766,
          2033700733.4399076,
          1863833106.166304,
          2015076169.2326996,
          2007174973.1274688,
          1935675332.7793877,
          2015291599.5247016,
          2070440642.1938848,
          2157392077.697209,
          2266622315.700763
         ],
         "xaxis": "x",
         "y": [
          665318.0526509066,
          179033099.15581304,
          258822620.07905507,
          210021071.8849812,
          157470580.94927415,
          280767573.4408929,
          193274535.93283352,
          108271960.79625024,
          90724193.01114868,
          128788501.75618592,
          137876906.28953716,
          109588097.38836952,
          141881071.89065203,
          122166968.98685236,
          105972181.01566954,
          126458049.41290718,
          72056970.27403568,
          63592253.65436512,
          53817022.34956008,
          98711408.24076396,
          166538655.57088155,
          151249458.6429593,
          132109034.90458962,
          128481023.99995452,
          129763121.6888214,
          120083360.31651469,
          95497795.89589795,
          121828882.4860948,
          108244042.96027108,
          100660848.14295818,
          122146943.70917822,
          115473911.02562836,
          83464968.33071384,
          85685232.1482213,
          83785597.55010775,
          67445839.95844719,
          103520163.41843854,
          67008184.65144196,
          62468124.46349102,
          72068610.61348185,
          71587061.70709427,
          68285939.53867957,
          58912837.793988,
          323521905.3551868,
          121187138.53531434,
          86516951.77041285,
          113308248.1842362,
          89559766.55922906,
          77154157.8881017,
          99694404.7514228,
          130698093.87428936,
          93021565.22290725,
          86032192.27860896,
          65678175.81883886,
          79615336.94845864,
          84554205.15598138,
          82110507.60329184,
          68181611.90318438,
          63549276.9315525,
          63787424.68154347,
          56296325.472700335,
          74104201.52489221,
          67356164.2172435,
          60678193.36516241,
          29669433.652871214,
          58439238.914136685,
          58452158.26173689,
          38733832.79196197,
          60702675.86275115,
          53545498.361537926,
          36937575.555589,
          64637387.15943278,
          56389528.10914864,
          53984294.73358779,
          59316746.51355102,
          59479871.41297847,
          47487237.1075893,
          63463684.06910423,
          70769646.8784814,
          65907939.80575553,
          53622324.020896085,
          57346571.21761383,
          58006715.07774955,
          53436205.76389349,
          54549174.67918434,
          49294302.77497751,
          46684312.12905123,
          54168308.55120765,
          47332339.77930326,
          52177972.72515379,
          68118126.29853824,
          55426956.33075311,
          51774989.149372965,
          51751351.87334974,
          51636223.86778809,
          49680188.707404725,
          49581375.66822384,
          43417494.88917442,
          57770074.863169976,
          45674060.01621562,
          40212588.414140604,
          69635635.18262137,
          66173809.22591051,
          51054507.29820597,
          50320488.4860262,
          43321282.04495476,
          43045262.222197466,
          40092119.50033434,
          44912802.19807322,
          53363219.796059646,
          57490451.92099208,
          64273037.79807297,
          79865913.29735109,
          79374800.40537281,
          70958435.37145942,
          67504303.38708685,
          62692892.96673626,
          96135439.30464974,
          102544593.23374222,
          99612700.51959488,
          106563353.897664,
          103436295.9112348,
          107555178.2664648,
          105588109.91231376,
          103768676.34027344,
          102947427.74141112,
          81512678.31695858,
          93429038.79148342,
          110055967.20505804,
          111231389.19796544,
          118782360.11308569,
          115314942.31818368,
          107987090.74243107,
          108964707.81551,
          146481638.56908152,
          148407974.22317472,
          135429950.00669083,
          129100398.30207723,
          152036141.94776374,
          142775827.063925,
          127224101.59840408,
          125365646.24401838,
          114517564.80089489,
          120930219.62811518,
          134898271.41634825,
          125629831.94650052,
          118453643.75384562,
          125029453.23891789,
          121532064.47018538,
          115281928.9133325,
          113076244.61540589,
          111856956.6512225,
          109314773.27527694,
          109870929.50414383,
          107838952.84036171,
          111076153.50166406,
          107460353.26239282,
          63400082.145854615,
          97763241.3585862,
          101670942.10116103,
          108632753.45217046,
          161301990.35221636,
          142403757.75603005,
          127332213.49550895,
          124190417.58742131,
          134692281.09402063,
          130227693.34731749,
          127491287.29322311,
          109925476.70305066,
          111572259.01357472,
          119162963.8197524,
          142888712.34805128,
          157894095.93187258,
          143554945.6635252,
          103977698.8453605,
          88596168.80759558,
          73337182.74019106,
          70003744.48445241,
          77018391.84391452,
          77686617.39784946,
          66675751.71672896,
          73987283.17801644,
          69907814.95183782,
          91590038.62811644,
          74564685.06994933,
          83323638.10082297,
          75568018.97719269,
          59075688.3977557,
          38449125.6715666,
          51642637.589559264,
          50084561.27324208,
          49602899.73428304,
          50390115.35966455,
          37091861.58101065,
          47747356.15380684,
          47142213.77016642,
          46519126.01709833,
          53637904.70901854,
          48189161.96640703,
          48672976.430193685,
          52368973.83840982,
          53333551.5576019,
          46788294.04235847,
          47561688.58840383,
          48371609.14126848,
          50222106.81303457,
          48293869.08936916,
          46948546.76454292,
          61661127.23308063,
          75933989.11057033,
          59434859.95978291,
          68095859.34664778,
          65498260.78476441,
          56396077.14359705,
          56887834.617528126,
          60315002.52732264,
          54417270.88344869,
          50818565.13300525,
          53528950.66747796,
          49953024.029074274,
          53002817.919927016,
          50924433.722178325,
          55844442.45528852,
          56117092.80773787,
          56949211.006195486,
          71259370.62454924,
          59410795.48774107,
          65923925.58617415,
          69239841.32337533,
          83994294.29374759,
          73025107.2765101,
          74374975.21171153,
          90085524.8830902,
          81763426.8045193,
          106350254.35921475,
          134016658.99506968,
          109527279.82233484,
          115574690.27844176,
          111945169.95009218,
          109702770.62804028,
          101108534.25977528,
          93947993.93578865,
          114848881.35283302,
          99847133.93838537,
          116974573.30188678,
          197789941.25618747,
          207668376.08792192,
          180903284.0271313,
          149878002.00209185,
          192772553.4269097,
          168686828.7380862,
          172181127.36461642,
          147214144.65267882,
          130326786.632926,
          109259722.9437855,
          103225220.42398426,
          146550820.60046068,
          136790880.13636962,
          151691043.18884033,
          125595124.27278157,
          118638933.83316997,
          110545648.13171127,
          115336829.62725928,
          108623606.78305534,
          110790607.445826,
          86801820.35475357,
          79622674.99529305,
          104959385.3756948,
          91902042.60719374,
          84988204.93823257,
          73680963.95032904,
          70256928.01393834,
          69674622.25829516,
          92852272.76952627,
          96362012.75572357,
          68682491.20047832,
          80718565.93994434,
          74204166.05410174,
          59925732.25662965,
          53725155.88596354,
          63228847.78207134,
          65871081.89965936,
          56616922.57226019,
          52337099.47134795,
          58996157.66773328,
          62144065.284767866,
          64910284.78005941,
          72372331.54044756,
          74019716.66217378,
          86928792.31000297,
          94061465.24327682,
          83021711.05789387,
          85568283.21669617,
          85719315.41649695,
          97890307.86826956,
          94735011.8411234,
          85999588.61396033,
          86609801.80668719,
          86690313.80911109,
          83701657.68686087,
          81413024.68765338,
          91140216.63379684,
          89635037.92546652,
          85447799.10803205,
          84943508.17509681,
          78966560.879156,
          61500926.31215805,
          53281444.09876996,
          48102598.2557296,
          78077560.67203768,
          73467684.65161796,
          86718113.29464889,
          70578799.70863955,
          64301437.19722619,
          81038138.16365665,
          94694000.2189007,
          67098517.34398385,
          63670485.21788032,
          88487880.36936802,
          75627656.0881761,
          81508923.69352508,
          69038411.13928945,
          69983265.93052165,
          76504764.37317313,
          68339130.19890228,
          67819812.92229083,
          58376855.4489253,
          54591110.32040425,
          56204617.92447107,
          47061385.33323958,
          33325637.521705262,
          30339285.560789216,
          32107940.69993768,
          30548806.319084678,
          30542273.055473786,
          43870958.44703566,
          40286253.31688058,
          42846455.627296895,
          35290923.84566507,
          41619706.82682725,
          35220117.28806931,
          50983228.54378851,
          40576003.01114837,
          34946983.93188584,
          40071028.61257063,
          45170476.4105036,
          67470523.9350993,
          60702322.4150186,
          39022863.373449326,
          27624807.201325268,
          37987909.90657737,
          48224706.34333408,
          44418200.687335946,
          46005475.69725315,
          59044118.45416123,
          53308558.59392334,
          63269863.28229111,
          71128880.61809324,
          70468395.23400705,
          71438175.4719819,
          68659827.41861014,
          74104167.05346543,
          68309759.2956432,
          75472940.99276984,
          74002665.07188612,
          67153303.32870527,
          71585755.77510059,
          60842087.47964633,
          53418636.94000005,
          65270482.87794326,
          84784625.69116384,
          62762697.78693026,
          73267725.80625626,
          72235666.65803355,
          74084956.67878386,
          61567087.49262438,
          69819356.0690379,
          72896971.55888353,
          70572879.54578632,
          59530469.253262445,
          62572239.08539671,
          60828567.66486336,
          71707514.34269878,
          66924922.202553205,
          77491061.09684667,
          77586035.49013905,
          80168901.0537939,
          132861704.92791805,
          84999903.72576174,
          100244754.8338894,
          84184212.15527847,
          95115362.72279154,
          241268004.40914223,
          182364775.0058654,
          106714173.330934,
          160513162.56930524,
          178639305.44426793,
          134514730.99936438,
          91279088.55369848,
          98649909.94521987,
          84389269.09323305,
          84807763.76691557,
          91310478.96979947,
          123235304.47781584,
          103701613.5974504,
          78361138.46677768,
          169595278.97470358,
          110769173.17772149,
          91433038.9800143,
          83313008.5253769,
          78058274.7536248,
          69325373.84813616,
          94939520.80380906,
          109316654.08766204,
          160028936.2810726,
          252857298.16610152,
          218597221.64164367,
          194541415.51629135,
          213512470.76931652,
          165085129.35695967,
          555902484.3262222,
          390535221.3824282,
          342754324.0527921,
          310437284.6093766,
          320947515.14414304,
          308866826.8991837,
          330118968.3792015,
          358797490.5938714,
          327039172.9234672,
          312681433.75886565,
          287980609.83717906,
          282937154.69059414,
          332291794.6519693,
          301856312.07406163,
          299410238.43981344,
          267940996.3574422,
          223057384.79529035,
          214181603.3200215,
          226102546.96578524,
          269679642.5699818,
          237622884.7729074,
          217849451.19871777,
          215700065.35902917,
          177903024.47836733,
          170378839.01026314,
          188436993.87514096,
          157435084.13167575,
          230720279.5823984,
          230067132.5513821,
          215646667.54173383,
          195091316.2136201,
          200388212.48340225,
          191016788.36723968,
          162768362.6714125,
          168877995.26631016,
          181243708.63593692,
          182228656.5701093,
          158100237.27865598,
          152029861.14859894,
          187614704.8631669,
          150245336.15069658,
          116717643.07864244,
          56799142.0750117,
          58388498.94161695,
          54361060.04199351,
          43770455.847220734,
          59430212.27826455,
          93249637.42100252,
          98059266.47171064,
          140453067.27201486,
          190901243.74545577,
          137734311.54848513,
          124768805.13021614,
          117555003.3626637,
          127570439.09332262,
          143639104.14922765,
          136264207.66264486,
          145778249.0711088,
          138931136.18211693,
          138923866.96795025,
          188035183.2230536,
          157088703.8199341,
          154502972.36513942,
          90963321.6518647,
          108332261.80759038,
          69515109.26730339,
          99430385.45802666,
          99389185.89740276,
          60468289.84353614,
          48576380.92369714,
          68997167.26715414,
          66104004.23619416,
          55937115.52403628,
          55483345.17491363,
          67023582.952389866,
          67344299.26551546,
          80452041.49118696,
          72216308.55755335,
          89569738.40826869,
          58199033.31143724,
          52576659.77192144,
          51855009.30100396,
          53112598.28235108,
          57572295.61136583,
          68880060.39880493,
          90013668.33874488,
          123802175.61069325,
          72595754.24569385,
          70193931.83685252,
          102757211.2389745,
          80474006.48682359,
          73337753.40467446,
          76557604.70204078,
          65367805.16539956,
          74872372.98656863,
          79180857.93735246,
          77825530.92746697,
          90139144.06953292,
          72486513.06279258,
          71648499.8662642,
          157000178.96445948,
          127113214.35955667,
          160047467.93752432,
          248680449.7766353,
          243943958.23023373,
          235011983.07550067,
          117915337.87772174,
          108379072.9962208,
          95716556.60749094,
          134830796.62519836,
          129112521.84076,
          145048066.02887535,
          123208290.66032714,
          164995036.84355533,
          117706083.9544577,
          121018357.37130992,
          91551330.3583538,
          118398381.98471244,
          107742383.51702537,
          77509533.64764076,
          85464420.02837518,
          94375804.34888184,
          82480939.99793915,
          78511601.64021961,
          107010985.55082002,
          135090665.43519428,
          168754405.14305368,
          168200462.15154073,
          171322679.3188594,
          139354745.8969985,
          153842509.80590296,
          147571193.4188901,
          140570564.24814087,
          117670117.02407214,
          110294505.64469622,
          102596910.92529877,
          140470779.8888314,
          67165387.96367243,
          169137554.4181516,
          123374717.52423865,
          109294768.46395177,
          409233968.3843885,
          479251934.5109811,
          323368792.3000055,
          310125660.71855724,
          480735706.5791813,
          431146699.0256248,
          335709549.4733536,
          306222554.96300024,
          259323307.689406,
          309430023.756003,
          319101490.5388361,
          203349137.67391,
          196908879.88335124,
          184703975.77914703,
          335584964.748256,
          439717242.1039899,
          476609882.29863566,
          398781753.0898259,
          281964815.554865,
          336085002.1656925,
          318198687.0125726,
          336797818.8537586,
          355578751.7612302,
          300257600.4633385,
          372086793.421719,
          305797254.48904264,
          282498518.18070406,
          257661231.26077577,
          449361454.69882894,
          441125484.3139733,
          372820742.87669486,
          309533249.7111043,
          272987303.9615348,
          359660673.5324697,
          405277785.9405907,
          570477095.5324384,
          485928697.34782857,
          497339750.9895155,
          949306139.5624948,
          728607348.8263458,
          655473767.68737,
          1077857579.4697852,
          1711699483.7199876,
          1340167249.6857066,
          921455614.2640288,
          1148867907.8743148,
          831517381.8699787,
          921787587.0101688,
          793829412.8268582,
          752599517.5046414,
          938827902.796906,
          600674834.6847738,
          954615814.1980495,
          1033050849.3299224,
          789120153.2225109,
          705755474.0833296,
          674453058.9627186,
          746965828.439991,
          790038787.4993229,
          629198787.7391225,
          735055275.7696075,
          830083670.234079,
          753928786.9136429,
          602885747.2093647,
          447264474.1603496,
          504513177.8863135,
          571207287.4839624,
          562239979.6905714,
          603268203.3739073,
          500844574.8511383,
          622367855.4525845,
          604590538.4651523,
          601630325.055305,
          1368068050.1317935,
          839558280.8649094,
          677205215.9350584,
          801597571.1734003,
          510835860.2693312,
          462999708.5124344,
          477980047.28425545,
          488162873.9634828,
          506564660.0770687,
          527848238.6896442,
          557811404.045004,
          355293124.01506764,
          482214414.1722681,
          489888203.9475046,
          492939709.900779,
          534255790.48804027,
          515084062.0372166,
          441295826.3319611,
          381247905.02721983,
          573052935.4038426,
          396420597.2694155,
          523154663.6004917,
          592037611.5124809,
          720736048.0121754,
          410143740.5041341,
          463192058.245484,
          467397827.0247061,
          552079928.8423438,
          607838450.9920603,
          537989577.5082533,
          519775702.3537977,
          573595535.1033148,
          542250823.775605,
          1089348705.067502,
          1018190914.139956,
          631069623.6478758,
          699968748.7260923,
          644469542.5096245,
          605966718.848044,
          771798956.712379,
          338372029.9644942,
          336316584.8501321,
          418601317.24752223,
          400275585.2462031,
          382401627.2065039,
          460241733.77990377,
          445881298.1981523,
          313570631.0508518,
          345002312.8579453,
          369143556.7867064,
          501785258.290054,
          459223990.4308159,
          691758916.6880785,
          747412481.2398067,
          480356661.3504343,
          478441173.4356191,
          501142076.7431621,
          514268505.670922,
          495039630.56555855,
          732960012.1510291,
          627246602.2824451,
          814366742.5990369,
          779271203.2555277,
          661909629.0030125,
          494847074.3938001,
          795313621.8313912,
          664901728.0822258,
          523265636.5014385,
          456244802.1729706,
          529074806.043013,
          456346159.1577736,
          444699688.2305809,
          414218285.79789513,
          345322130.3499179,
          376837906.71491975,
          309916582.52201587,
          278552084.23025465,
          303497362.2847072,
          284164137.13316894,
          362525031.06461614,
          414532026.14678514,
          375579486.1609249,
          311447695.45106715,
          234660894.58601627,
          279456106.8287543,
          369104777.2418501,
          548421275.7915975,
          380941535.7039213,
          400658907.51501656,
          351447683.5491442,
          296349322.1302807,
          306161512.08021,
          295873335.0086598,
          288317323.9050589,
          284880091.3903711,
          291800201.27008915,
          243743558.57175288,
          251196669.27562863,
          336499220.68950486,
          406709849.1005039,
          328006798.40752804,
          251485995.06178284,
          281743594.25337386,
          257117919.0927204,
          231156989.7349676,
          218787981.201504,
          228689019.0820417,
          238824350.17675287,
          214130735.3581337,
          177746968.94482058,
          139640592.99632978,
          135995407.81117833,
          187611775.88239777,
          204831002.46061116,
          179342393.00525612,
          197715780.71821463,
          237463526.3251051,
          154332698.03591225,
          135943344.35170612,
          154839906.86719006,
          170445256.84408605,
          187569574.10194212,
          181258449.6500589,
          182651804.49435452,
          149218131.92276084,
          130822136.0489933,
          150604331.65030703,
          206554492.1313262,
          178512905.05872813,
          177192824.08918002,
          150659699.25326222,
          157126492.86479864,
          230780193.2709868,
          286685690.50141364,
          211073678.15548712,
          190721791.47387943,
          145305330.6577846,
          159084942.4220249,
          164618678.19106808,
          185127231.3317292,
          162107383.85275817,
          147456881.72186866,
          150389606.50245553,
          181390146.3004782,
          175230778.7107895,
          235717656.7162085,
          195399494.50846967,
          188603050.6037716,
          216766380.1550242,
          304160316.8145515,
          303809346.21243745,
          154176606.22862256,
          174057201.31036428,
          201327217.0464648,
          191121738.7781326,
          172803639.38837942,
          170725254.29454637,
          351878229.9074229,
          342210596.0186797,
          339908846.06662923,
          252553867.86997077,
          193468522.6382149,
          233993838.37725845,
          195495071.5795889,
          160117940.03817117,
          158300212.70755628,
          130658043.71172255,
          131039990.77810998,
          189033533.5080389,
          351480894.10507125,
          290896920.90657246,
          174836644.3790494,
          358631626.149499,
          246608176.0764542,
          322494889.77617764,
          528891500.4234825,
          686755803.687683,
          3075833747.7502074,
          4496664016.049895,
          2376244755.931548,
          1650028429.4455383,
          1975081215.096573,
          2089697845.3312488,
          1052786364.5038992,
          654929559.6113293,
          1176326650.7013226,
          819695327.4195044,
          738405295.0397632,
          681047318.8516022,
          1008431059.7845428,
          752967549.1860092,
          730635167.8683646,
          822701906.2273271,
          811489702.3672101,
          461929513.2948571,
          488371513.1559723,
          548345776.3947552,
          455770460.4566676,
          442782522.9757741,
          413084157.8640462,
          516528229.3579908,
          498727526.67069787,
          688185254.9301833,
          1019198862.6206636,
          542903851.3201631,
          596784772.6601195,
          552127660.3093811,
          506909996.0044339,
          282191926.5834392,
          239371587.36496815,
          261379177.5376963,
          365290121.2228858,
          337692301.3628311,
          320662903.2802714,
          309342143.9448224,
          332033094.9367469,
          341434355.0345949,
          196680026.0557733,
          212305274.67390084,
          265100349.8259757,
          412626280.42699176,
          506523625.4760693,
          332401587.6197941,
          248737387.07053077,
          525463485.6959964,
          587122693.3129643,
          665227662.375327,
          466521110.5884608,
          349426378.88773364,
          216680168.67819503,
          266176285.7888566,
          253927233.6997768,
          285128642.7220938,
          435802535.9777783,
          311707215.39840865,
          232322627.7541177,
          192799290.03353408,
          162636488.11424074,
          593751983.3776186,
          415296475.0537385,
          1064768578.319743,
          651060575.5971519,
          1662475024.8297253,
          548945479.9090102,
          443736622.839618,
          428736653.3504665,
          762988872.1592579,
          514345435.5227189,
          3412219871.188537,
          704629162.5447036,
          357979767.5861683,
          370501196.62976086,
          386446470.1554383,
          392491140.4090931,
          381399674.94300365,
          359264702.6058984,
          508540166.6913242,
          318636147.24511606,
          292885895.24631125,
          401934810.6768489,
          463219947.89175856,
          691241214.3920114,
          539150061.5179566,
          416143291.6261811,
          704879640.2710072,
          644494884.3405153,
          864656359.6629606,
          369747788.4516125,
          234434632.3526808,
          273281362.1779534,
          236182487.0775109,
          197744232.1610617,
          141412474.53785422,
          258998349.2788928,
          212531249.52830893,
          214517025.2446343,
          152159447.81375533,
          149998746.16344664,
          129022569.9994069,
          130345672.2347226,
          171345427.3732052,
          203093678.30312103,
          215603172.4064346,
          265274049.70726043,
          439333670.3119539,
          233029216.0954154,
          355321419.9646122,
          341787724.98345643,
          389649277.3407509,
          464465052.8006991,
          679796944.1483791,
          458322689.4151951,
          252763517.73714077,
          248316552.05949956,
          529513584.73342335,
          585237494.5096418,
          571127664.7717801,
          432819307.3382901,
          457098278.7233909,
          267044925.49547723,
          150719574.5840438,
          305995436.0735421,
          276367392.7030871,
          317741604.617578,
          367288595.6857084,
          276341492.5089502,
          151578497.9190622,
          215319170.9313914,
          270098484.9498005,
          238301938.8379396,
          248917386.83496144,
          231843677.38839635,
          497126749.8474445,
          648009803.87131,
          310006720.21776915,
          331967593.6653808,
          202591440.86067265,
          301947813.5843395,
          247633013.9804988,
          233776977.7919627,
          176425645.47738978,
          150381730.56914106,
          177095744.70143628,
          165565296.53552386,
          261487057.8699357,
          180097309.11235487,
          188622448.7350761,
          192475361.1828568,
          168467086.79305094,
          326510549.3313748,
          293469417.8057912,
          199636691.8746174,
          230528871.45955184,
          191775520.62819567,
          120348847.7478496,
          105940707.97935684,
          119000443.98417775,
          137819780.29321337,
          213280806.96990192,
          159243786.8200544,
          113133200.7641504,
          88708660.85666472,
          98535576.12318254,
          160806730.91117334,
          156046312.92158118,
          146882346.10306522,
          278662268.9334211,
          146734592.28279665,
          147966670.22882903,
          143977533.40319276,
          170152569.17885572,
          226586703.3156407,
          198286128.007132,
          204625907.74533823,
          169377701.96070203,
          110856380.3956886,
          111444014.66121992,
          141392264.8483892,
          101021392.64882632,
          110818608.81302992,
          116578351.08372287,
          111060073.57159711,
          62102936.06378203,
          60613649.02632978,
          105503888.64967462,
          125388807.88257857,
          143155436.47599456,
          143814889.57761025,
          152992321.67002434,
          150493364.26312396,
          116488304.48977362,
          277550561.71266353,
          247455743.09775573,
          148008906.5266482,
          246084470.5283108,
          307906318.13990897,
          144003823.2108531,
          148459309.1260976,
          212178673.2650918,
          230661596.00569853,
          236995955.54951063,
          285838338.19476014,
          221279220.64020336,
          242250886.03996396,
          175055438.3863002,
          213950665.391468,
          187696945.2631441,
          238754762.44023144,
          144943627.21741617,
          115128504.91874874,
          93277774.82522155,
          81149921.56748779,
          146896261.3905839,
          148967514.40094236,
          144192725.7596102,
          214068944.19430223,
          158415581.5349485,
          98156841.54375333,
          100561642.52923016,
          157778535.5170421,
          154498652.83492535,
          145194452.54535925,
          164681150.53523615,
          119663285.3830686,
          97071610.7561064,
          85347018.08888981,
          181161007.652914,
          177660261.12969586,
          131160954.69858418,
          179316386.25626403,
          180147604.33026817,
          141593079.4309208,
          155438175.02378747,
          186064360.7975632,
          602663539.0772675,
          384156600.98324734,
          269410139.7734902,
          437418905.7458098,
          496524771.2381221,
          477195348.1921981,
          463913721.483918,
          466587806.04005474,
          569194967.2909455,
          405893618.81644815,
          223745840.2523789,
          152768088.5944766,
          108390104.41213174,
          146377564.70426264,
          148878055.62443316,
          139378167.8045395,
          138480626.90073672,
          119835406.41159046,
          94082964.8190476,
          102172719.21093644,
          125037987.51864876,
          102162985.53278448,
          103329662.74175608,
          134939573.61193871,
          122125022.16203468,
          89039668.46726021,
          82609019.47180934,
          118569200.91658056,
          136328680.71443358,
          154528641.83133912,
          90722737.05928414,
          72085006.95853747,
          63027347.99636894,
          83899338.81393619,
          92187163.5663137,
          90767259.82785513,
          131436771.09025964,
          72570115.23788455,
          96822091.66700092,
          89318855.28918767,
          92910798.48344706,
          206937789.5249159,
          157872573.5110815,
          229234536.5776027,
          122911146.86257929,
          80046638.10363287,
          104907095.2101384,
          102706957.7797987,
          93975765.45437984,
          110829611.85936356,
          86872947.86953667,
          81565876.27476166,
          104511408.93499416,
          79723272.22774032,
          76349712.79947595,
          74406912.98321024,
          79175454.30631626,
          89197452.80931751,
          139653305.57393748,
          107456831.8002472,
          82205973.40421556,
          55933185.88190919,
          70303285.61944972,
          69266518.51859455,
          69945018.00706597,
          78857434.49297902,
          93340349.28837204,
          66727714.02806118,
          66534047.86405195,
          67527661.37040727,
          63311928.29337471,
          86932357.14743097,
          96945421.36239237,
          94898303.48941058,
          105121863.18839012,
          88227081.65503675,
          127420635.38742264,
          141523017.05660772,
          126072004.07042536,
          101871962.29883672,
          92950387.35411803,
          75720296.52338904,
          67991822.31157638,
          77137411.52697664,
          78079509.29108244,
          99976988.11762773,
          114789065.92627557,
          147915281.6406146,
          142192694.3033282,
          127339534.1197377,
          127270363.6057598,
          121478882.65980984,
          96980332.02798624,
          111278342.4547525,
          117312537.49533369,
          71564035.4286204,
          92490952.93598756,
          105227141.86206374,
          119803833.60661285,
          108538125.7437286,
          88384533.61881155,
          74913852.37688893,
          75657182.18399782,
          102926650.05680898,
          85068395.09495291,
          61602677.583255045,
          83897092.86899407,
          62494095.102015,
          118457739.38391604,
          71966190.41152652,
          59478859.07835312,
          68646330.77343428,
          67314706.4523515,
          64287085.49590539,
          66164978.72961336,
          95753193.39151242,
          60691863.368968345,
          47807512.7032036,
          53770619.17510738,
          50708720.44260174,
          47158207.99151155,
          41257783.04141629,
          63901519.448563725,
          39592417.92371818,
          81334379.34557605,
          48156541.508535,
          77680810.13982108,
          75338346.70470451,
          71081084.7118465,
          99922801.4140226,
          70510409.42046852,
          72735780.13063516,
          80871968.29567614,
          100442910.91940825,
          57908190.151929565,
          65888992.95074976,
          60457176.40138124,
          39070425.64189869,
          76984230.18034655,
          218794224.2662432,
          293178720.8086625,
          220176625.792905,
          462931288.42567855,
          468964491.9585931,
          237135209.90100443,
          254030253.2551051,
          191147346.72482184,
          184252454.5341612,
          169077942.69703588,
          188858711.09637415,
          176542787.11875924,
          112457805.02295852,
          136614603.48242918,
          119758156.97865352,
          90296396.1996932,
          93521881.12147243,
          93867973.714198,
          99876320.92064936,
          65562426.8718117,
          58566634.54834003,
          79660705.38673815,
          85428955.87006912,
          55127012.16400295,
          151861174.61044523,
          83298091.05094497,
          56914212.66716509,
          51647628.0092018,
          64251300.58236859,
          70466724.11378428,
          64056606.11838295,
          63019551.50325099,
          70190348.74778275,
          37664561.36016222,
          47418141.59603751,
          61771758.67077199,
          158499201.5899961,
          126141009.05592053,
          106784676.90789118,
          87603508.23710969,
          102568459.74567312,
          210206159.56606695,
          231873777.74574083,
          152418284.47055462,
          218283287.00517777,
          281230332.5917557,
          398323647.31762046,
          489458525.4146107,
          396116677.5646401,
          503654151.55729216,
          761683853.0834565,
          387890422.14065,
          358813524.52644736,
          268561234.5372261,
          159173765.92078617,
          166028003.73855937,
          209476468.7772208,
          202280149.3343928,
          239964456.77731836,
          137183905.9491106,
          261074165.74317768,
          390129385.0491879,
          276203639.9013482,
          179324468.082637,
          153339602.0893012,
          107718237.08974186,
          81595646.66100374,
          73329733.20645358,
          58201201.458964966,
          56144411.215495296,
          73400251.51999064,
          55341314.94441991,
          78471779.85524026,
          51528630.63037711,
          65132920.18516328,
          57200648.09794707,
          42288761.95375456,
          79978085.27903387,
          48456308.2127178,
          76673162.24337721,
          55917051.23526962,
          49607418.843987726,
          43835947.70684556,
          38259986.91827711,
          56609329.375417285,
          67305775.32746306,
          51161671.9728282,
          113323457.83901882,
          113644920.21208666,
          76020493.34949678,
          58869884.12608068,
          74836155.68226808,
          53225795.32963681,
          59343828.0039646,
          63025500.898764975,
          37295453.71742447,
          22383379.85305865,
          33151902.862250797,
          34813770.30572033,
          31810139.36951721,
          50627022.78599352,
          45465311.38905999,
          45464230.87216973,
          52476203.29783225,
          42965580.01493928,
          46357905.87660636,
          42454154.32575771,
          59130480.57809654,
          46491206.70149095,
          47268230.61073533,
          44187559.77365949,
          41341569.38353304,
          80041626.09029569,
          57788372.67142625,
          60390254.61413026,
          95667075.48448284,
          79128747.97765915,
          165855882.94073972,
          120754905.37075552,
          110422666.87705852,
          72045362.19805528,
          116254971.26870912,
          65018788.44005185,
          92832747.55996618,
          113485421.29370822,
          135815414.10322323,
          112440921.8961878,
          123650094.72965652,
          99044751.99367088,
          79285001.54796062,
          99242207.46114656,
          94217793.96042688,
          81795851.72521123,
          96899653.5484385,
          70518832.08967587,
          109384435.96255076,
          120547958.65400548,
          149311756.1763536,
          88195993.53114249,
          92637291.99938916,
          70922204.45613661,
          210910829.63328663,
          233595326.97491783,
          238698230.4416158,
          145686232.10276562,
          79990752.0573701,
          86027866.02822024,
          113450024.09556612,
          109159884.58726664,
          131492046.07821468,
          165930528.18821964,
          127335530.53667602,
          86868708.11264342,
          130889689.31029078,
          173414784.30521867,
          149980212.32790014,
          124621813.55644429,
          107618047.5824837,
          89423686.15351729,
          61274044.43073992,
          47085783.05937381,
          60400200.41643607,
          58517555.94570332,
          60229252.35082436,
          57297134.1981108,
          82274910.51456279,
          39055235.57875998,
          44327208.54863545,
          71746536.73474558,
          73125123.87885115,
          71346969.32497212,
          85714001.51939583,
          118852899.29585046,
          98984014.18916968,
          84416132.84171493,
          132637298.71627638,
          140671103.9987178,
          111835056.83067666,
          62142367.853281975,
          83286920.95872223,
          97036277.90123329,
          77903481.63040514,
          93882796.1847655,
          80512091.18393584,
          245901538.5385135,
          80663447.69975178,
          77836868.72915646,
          52920240.519009605,
          42418457.42972637,
          63879988.62239435,
          62010825.9569322,
          337993934.8782187,
          155691730.31757617,
          88208774.11208788,
          54949942.23001659,
          53704258.58494963,
          73851743.16783017,
          57016191.31526019,
          72518840.78994879,
          62812104.08174691,
          52411597.79340564,
          52635333.22777715,
          45466476.52471518,
          58405889.60016401,
          69663541.96652375,
          80419050.62361357,
          82874226.62380913,
          122936321.94951192,
          81624811.48701687,
          60237867.510797545,
          129109703.94494268,
          110114723.28964844,
          132142819.19554368,
          147928231.1239618,
          94816802.9903214,
          47346783.69452904,
          42466007.30910742,
          44389779.54850571,
          55323532.54698547,
          90262663.92071895,
          58371910.791793615,
          40912972.696725264,
          33802548.46897946,
          35417291.78560849,
          43846614.11469263,
          36219405.86451821,
          40210896.68507122,
          37048463.14480898,
          47971488.54182999,
          40777020.89165762,
          26526046.093495514,
          70229596.14243601,
          35718790.23054391,
          55635664.35895512,
          45807852.16682617,
          49039904.63590131,
          26619344.447362784,
          28271617.40112699,
          38138706.7180026,
          41029399.67101403,
          44702301.30711738,
          43781762.84322254,
          33039916.499446467,
          26243259.430957787,
          27990284.77889861,
          29614667.105710678,
          29805248.136530828,
          49358916.91581005,
          65779002.79699956,
          47419229.12985531,
          37991324.92475385,
          45923493.043888666,
          37897832.969580464,
          45512989.1160314,
          43509686.47672194,
          34189409.022648655,
          33423291.73968706,
          22350598.348601297,
          25606796.82221473,
          74360360.55061774,
          62972670.92443527,
          64533077.48550459,
          69501800.01077478,
          42308680.40059434,
          126080280.63858888,
          39416763.36956278,
          42591864.931399785,
          38595085.26563471,
          45930190.53026711,
          53118189.3940178,
          32119774.02180672,
          34502652.13430818,
          26341460.49468417,
          23486731.660345998,
          24877689.13818209,
          36924807.30890279,
          36001414.06255397,
          36531453.017525226,
          28427686.10405464,
          29617723.16053694,
          46653511.278582655,
          35059148.99970019,
          40235560.875665255,
          29737878.83447426,
          46441875.68490748,
          38927333.41795537,
          48155458.95853473,
          48294076.10481798,
          39628282.86054905,
          32401306.46351505,
          34162687.89490767,
          29715424.245532483,
          25406245.146927454,
          23901087.65246962,
          37995941.67320892,
          41418960.6899285,
          36272348.672102,
          153975528.33953688,
          115783187.93421718,
          35823578.91888923,
          80153738.07684055,
          106398492.6036712,
          54477900.00554263,
          46729256.993154064,
          59002502.8601668,
          33787283.81776102,
          30995047.681595847,
          33550317.479145203,
          40494124.114943065,
          26039121.087243933,
          32431773.552677345,
          28179260.76585344,
          33690228.007595375,
          21620384.21932083,
          31094595.578013614,
          45526049.99858344,
          44684137.24789482,
          41069969.927580334,
          25212911.429318488,
          23798531.444210008,
          19343108.75404217,
          26681903.18081657,
          48201426.25376718,
          95616263.1979961,
          42560292.89922125,
          29781708.99541185,
          21042882.21070321,
          28382878.659848448,
          36057011.20928915,
          37310263.28242523,
          46731501.51417046,
          56453664.31366029,
          61904826.21579225,
          42504433.98557619,
          25444860.67117808,
          20255225.10612364,
          27306755.092990737,
          28608844.766458068,
          26234317.52981188,
          19195369.37059344,
          22287533.592258185,
          15384718.3524683,
          14926985.870485982,
          21779220.542570084,
          33227543.152408797,
          22171377.876042377,
          36469052.74550194,
          37745037.62151436,
          13941110.494742274,
          14743747.251663268,
          17521497.806313906,
          18941693.911634583,
          19158613.39824836,
          28200337.99217129,
          19072289.069715235,
          13057086.950289212,
          26837990.15853237,
          24870242.538135383,
          19297876.14856869,
          19096237.229015835,
          20503040.43732261,
          19964195.31328181,
          18846494.901132826,
          15291942.07960048,
          19078922.93393843,
          16491391.011311024,
          39178132.60426732,
          39541699.82234518,
          30008848.2763286,
          17859446.40463037,
          16934034.288711943,
          26834114.84430683,
          21284939.033396028,
          25704716.60895469,
          23613394.81574464,
          27746459.992676467,
          21762347.428152155,
          24981135.90307572,
          27363168.01059514,
          21030178.13044098,
          35523036.051730074,
          25322455.7412988,
          23935691.17411916,
          18439765.38506817,
          30887276.52268233,
          36588739.93501878,
          28936747.02080321,
          26442426.600831226,
          21746812.57604644,
          18980551.756693397,
          16941325.650839537,
          22966708.94523843,
          39098179.34255008,
          30933075.70528804,
          30515431.476283595,
          32801982.79781157,
          44264264.24057814,
          43801799.24284532,
          36314124.21799687,
          66499386.21539151,
          87969412.68008696,
          52766470.14990872,
          58708123.22895216,
          38718387.25612349,
          30394795.58905992,
          41290093.99593101,
          71849952.17282307,
          63714383.21895701,
          62522891.904694416,
          66090617.07760744,
          47539656.87691236,
          46378401.95533979,
          77430539.90858296,
          62838207.50185961,
          55110340.82013978,
          41781744.12602327,
          83635714.50285807,
          57361390.54673324,
          71516811.89458819,
          114054687.9409618,
          71691838.28099059,
          64342605.212886006,
          69564095.83421238,
          78470532.19621694,
          55518720.24661919,
          41747847.16556104,
          43005070.4860862,
          81920898.93920217,
          78984248.4319321,
          52212115.35248646,
          38200366.63964846,
          39665765.09091498,
          45977045.945870206,
          57080297.96009913,
          51284396.42369659,
          79824261.82632592,
          36908392.53386346,
          123187399.3376026,
          159659950.10043755,
          50956831.49818725,
          121922433.77699782,
          164541784.26603845,
          76732697.9611756,
          51736981.94185013,
          97341236.37628078,
          134777315.58908823,
          279988932.5816276,
          113248021.799989,
          176999903.57517704,
          147428332.63107556,
          125781981.69719052,
          140516217.97333312,
          89004918.94247903,
          67874437.3939429,
          57797195.40453432,
          77911584.75625819,
          75676813.22785448,
          73859487.48722921,
          151150545.9996919,
          261933305.86916572,
          106406704.1655199,
          119175300.65591712,
          82766305.08551657,
          100050326.2085853,
          76655014.07737507,
          105066036.70208882,
          107169840.97033028,
          55641020.83115787,
          53510382.23706664,
          52112934.581237294,
          90680859.09798662,
          139007143.45797712,
          67300423.19074212,
          70029271.23482375,
          51373263.490571216,
          46413622.20708319,
          118209804.8139804,
          89781540.3925185,
          85089378.56966992,
          86268010.88841335,
          67330188.08485033,
          45126745.03379761,
          38040610.54503959,
          39576068.74882381,
          55586271.47701454,
          41547298.64287506,
          44688790.56767809,
          56833973.47511663,
          40843477.00388278,
          34584465.345320486,
          48416707.457434826,
          57187168.38831254,
          34265334.87110511,
          30433217.17726573,
          43651077.525198765,
          28621266.82982648,
          31425934.394450888,
          37549399.56872601,
          37268645.853061326,
          35647720.115910895,
          27549206.182528056,
          32172185.672872715,
          28097359.696591195,
          20964967.332234625,
          23132449.20217845,
          25068489.29861714,
          31622936.313211948,
          32811842.542712063,
          45364402.63064966,
          33949356.260846555,
          35301627.48378593,
          68733517.24032064,
          55937508.20768743,
          46165386.90786874,
          57371803.44864338,
          62886657.583122894,
          36410262.322349146,
          36133768.10403014,
          57903311.25046411,
          64828199.252843,
          50306866.79520063,
          40883424.89757109,
          43276847.57884078,
          46153591.7194736,
          84241846.4461171,
          73611868.28173806,
          74668858.68363391,
          134085355.26540709,
          124036858.44812636,
          82523088.61483459,
          136761164.74744517,
          163064913.96129856,
          186154738.23744583,
          309877180.71622294,
          166388868.4868443,
          320525062.3724215,
          147273411.29063225,
          95134266.02682908,
          92398734.64853723,
          319954302.22726256,
          286506399.6056277,
          240256372.41481492,
          195574738.9123806,
          275208957.6043214,
          159910454.48371094,
          129221177.10030223,
          124878330.88417764,
          171006900.82460716,
          114015190.93473975,
          91451226.39399214,
          74327706.4513886,
          55087075.36882668,
          60758675.31785441,
          94651278.9938538,
          115367770.09546444
         ],
         "yaxis": "y"
        }
       ],
       "layout": {
        "legend": {
         "tracegroupgap": 0
        },
        "template": {
         "data": {
          "bar": [
           {
            "error_x": {
             "color": "#f2f5fa"
            },
            "error_y": {
             "color": "#f2f5fa"
            },
            "marker": {
             "line": {
              "color": "rgb(17,17,17)",
              "width": 0.5
             },
             "pattern": {
              "fillmode": "overlay",
              "size": 10,
              "solidity": 0.2
             }
            },
            "type": "bar"
           }
          ],
          "barpolar": [
           {
            "marker": {
             "line": {
              "color": "rgb(17,17,17)",
              "width": 0.5
             },
             "pattern": {
              "fillmode": "overlay",
              "size": 10,
              "solidity": 0.2
             }
            },
            "type": "barpolar"
           }
          ],
          "carpet": [
           {
            "aaxis": {
             "endlinecolor": "#A2B1C6",
             "gridcolor": "#506784",
             "linecolor": "#506784",
             "minorgridcolor": "#506784",
             "startlinecolor": "#A2B1C6"
            },
            "baxis": {
             "endlinecolor": "#A2B1C6",
             "gridcolor": "#506784",
             "linecolor": "#506784",
             "minorgridcolor": "#506784",
             "startlinecolor": "#A2B1C6"
            },
            "type": "carpet"
           }
          ],
          "choropleth": [
           {
            "colorbar": {
             "outlinewidth": 0,
             "ticks": ""
            },
            "type": "choropleth"
           }
          ],
          "contour": [
           {
            "colorbar": {
             "outlinewidth": 0,
             "ticks": ""
            },
            "colorscale": [
             [
              0,
              "#0d0887"
             ],
             [
              0.1111111111111111,
              "#46039f"
             ],
             [
              0.2222222222222222,
              "#7201a8"
             ],
             [
              0.3333333333333333,
              "#9c179e"
             ],
             [
              0.4444444444444444,
              "#bd3786"
             ],
             [
              0.5555555555555556,
              "#d8576b"
             ],
             [
              0.6666666666666666,
              "#ed7953"
             ],
             [
              0.7777777777777778,
              "#fb9f3a"
             ],
             [
              0.8888888888888888,
              "#fdca26"
             ],
             [
              1,
              "#f0f921"
             ]
            ],
            "type": "contour"
           }
          ],
          "contourcarpet": [
           {
            "colorbar": {
             "outlinewidth": 0,
             "ticks": ""
            },
            "type": "contourcarpet"
           }
          ],
          "heatmap": [
           {
            "colorbar": {
             "outlinewidth": 0,
             "ticks": ""
            },
            "colorscale": [
             [
              0,
              "#0d0887"
             ],
             [
              0.1111111111111111,
              "#46039f"
             ],
             [
              0.2222222222222222,
              "#7201a8"
             ],
             [
              0.3333333333333333,
              "#9c179e"
             ],
             [
              0.4444444444444444,
              "#bd3786"
             ],
             [
              0.5555555555555556,
              "#d8576b"
             ],
             [
              0.6666666666666666,
              "#ed7953"
             ],
             [
              0.7777777777777778,
              "#fb9f3a"
             ],
             [
              0.8888888888888888,
              "#fdca26"
             ],
             [
              1,
              "#f0f921"
             ]
            ],
            "type": "heatmap"
           }
          ],
          "heatmapgl": [
           {
            "colorbar": {
             "outlinewidth": 0,
             "ticks": ""
            },
            "colorscale": [
             [
              0,
              "#0d0887"
             ],
             [
              0.1111111111111111,
              "#46039f"
             ],
             [
              0.2222222222222222,
              "#7201a8"
             ],
             [
              0.3333333333333333,
              "#9c179e"
             ],
             [
              0.4444444444444444,
              "#bd3786"
             ],
             [
              0.5555555555555556,
              "#d8576b"
             ],
             [
              0.6666666666666666,
              "#ed7953"
             ],
             [
              0.7777777777777778,
              "#fb9f3a"
             ],
             [
              0.8888888888888888,
              "#fdca26"
             ],
             [
              1,
              "#f0f921"
             ]
            ],
            "type": "heatmapgl"
           }
          ],
          "histogram": [
           {
            "marker": {
             "pattern": {
              "fillmode": "overlay",
              "size": 10,
              "solidity": 0.2
             }
            },
            "type": "histogram"
           }
          ],
          "histogram2d": [
           {
            "colorbar": {
             "outlinewidth": 0,
             "ticks": ""
            },
            "colorscale": [
             [
              0,
              "#0d0887"
             ],
             [
              0.1111111111111111,
              "#46039f"
             ],
             [
              0.2222222222222222,
              "#7201a8"
             ],
             [
              0.3333333333333333,
              "#9c179e"
             ],
             [
              0.4444444444444444,
              "#bd3786"
             ],
             [
              0.5555555555555556,
              "#d8576b"
             ],
             [
              0.6666666666666666,
              "#ed7953"
             ],
             [
              0.7777777777777778,
              "#fb9f3a"
             ],
             [
              0.8888888888888888,
              "#fdca26"
             ],
             [
              1,
              "#f0f921"
             ]
            ],
            "type": "histogram2d"
           }
          ],
          "histogram2dcontour": [
           {
            "colorbar": {
             "outlinewidth": 0,
             "ticks": ""
            },
            "colorscale": [
             [
              0,
              "#0d0887"
             ],
             [
              0.1111111111111111,
              "#46039f"
             ],
             [
              0.2222222222222222,
              "#7201a8"
             ],
             [
              0.3333333333333333,
              "#9c179e"
             ],
             [
              0.4444444444444444,
              "#bd3786"
             ],
             [
              0.5555555555555556,
              "#d8576b"
             ],
             [
              0.6666666666666666,
              "#ed7953"
             ],
             [
              0.7777777777777778,
              "#fb9f3a"
             ],
             [
              0.8888888888888888,
              "#fdca26"
             ],
             [
              1,
              "#f0f921"
             ]
            ],
            "type": "histogram2dcontour"
           }
          ],
          "mesh3d": [
           {
            "colorbar": {
             "outlinewidth": 0,
             "ticks": ""
            },
            "type": "mesh3d"
           }
          ],
          "parcoords": [
           {
            "line": {
             "colorbar": {
              "outlinewidth": 0,
              "ticks": ""
             }
            },
            "type": "parcoords"
           }
          ],
          "pie": [
           {
            "automargin": true,
            "type": "pie"
           }
          ],
          "scatter": [
           {
            "marker": {
             "line": {
              "color": "#283442"
             }
            },
            "type": "scatter"
           }
          ],
          "scatter3d": [
           {
            "line": {
             "colorbar": {
              "outlinewidth": 0,
              "ticks": ""
             }
            },
            "marker": {
             "colorbar": {
              "outlinewidth": 0,
              "ticks": ""
             }
            },
            "type": "scatter3d"
           }
          ],
          "scattercarpet": [
           {
            "marker": {
             "colorbar": {
              "outlinewidth": 0,
              "ticks": ""
             }
            },
            "type": "scattercarpet"
           }
          ],
          "scattergeo": [
           {
            "marker": {
             "colorbar": {
              "outlinewidth": 0,
              "ticks": ""
             }
            },
            "type": "scattergeo"
           }
          ],
          "scattergl": [
           {
            "marker": {
             "line": {
              "color": "#283442"
             }
            },
            "type": "scattergl"
           }
          ],
          "scattermapbox": [
           {
            "marker": {
             "colorbar": {
              "outlinewidth": 0,
              "ticks": ""
             }
            },
            "type": "scattermapbox"
           }
          ],
          "scatterpolar": [
           {
            "marker": {
             "colorbar": {
              "outlinewidth": 0,
              "ticks": ""
             }
            },
            "type": "scatterpolar"
           }
          ],
          "scatterpolargl": [
           {
            "marker": {
             "colorbar": {
              "outlinewidth": 0,
              "ticks": ""
             }
            },
            "type": "scatterpolargl"
           }
          ],
          "scatterternary": [
           {
            "marker": {
             "colorbar": {
              "outlinewidth": 0,
              "ticks": ""
             }
            },
            "type": "scatterternary"
           }
          ],
          "surface": [
           {
            "colorbar": {
             "outlinewidth": 0,
             "ticks": ""
            },
            "colorscale": [
             [
              0,
              "#0d0887"
             ],
             [
              0.1111111111111111,
              "#46039f"
             ],
             [
              0.2222222222222222,
              "#7201a8"
             ],
             [
              0.3333333333333333,
              "#9c179e"
             ],
             [
              0.4444444444444444,
              "#bd3786"
             ],
             [
              0.5555555555555556,
              "#d8576b"
             ],
             [
              0.6666666666666666,
              "#ed7953"
             ],
             [
              0.7777777777777778,
              "#fb9f3a"
             ],
             [
              0.8888888888888888,
              "#fdca26"
             ],
             [
              1,
              "#f0f921"
             ]
            ],
            "type": "surface"
           }
          ],
          "table": [
           {
            "cells": {
             "fill": {
              "color": "#506784"
             },
             "line": {
              "color": "rgb(17,17,17)"
             }
            },
            "header": {
             "fill": {
              "color": "#2a3f5f"
             },
             "line": {
              "color": "rgb(17,17,17)"
             }
            },
            "type": "table"
           }
          ]
         },
         "layout": {
          "annotationdefaults": {
           "arrowcolor": "#f2f5fa",
           "arrowhead": 0,
           "arrowwidth": 1
          },
          "autotypenumbers": "strict",
          "coloraxis": {
           "colorbar": {
            "outlinewidth": 0,
            "ticks": ""
           }
          },
          "colorscale": {
           "diverging": [
            [
             0,
             "#8e0152"
            ],
            [
             0.1,
             "#c51b7d"
            ],
            [
             0.2,
             "#de77ae"
            ],
            [
             0.3,
             "#f1b6da"
            ],
            [
             0.4,
             "#fde0ef"
            ],
            [
             0.5,
             "#f7f7f7"
            ],
            [
             0.6,
             "#e6f5d0"
            ],
            [
             0.7,
             "#b8e186"
            ],
            [
             0.8,
             "#7fbc41"
            ],
            [
             0.9,
             "#4d9221"
            ],
            [
             1,
             "#276419"
            ]
           ],
           "sequential": [
            [
             0,
             "#0d0887"
            ],
            [
             0.1111111111111111,
             "#46039f"
            ],
            [
             0.2222222222222222,
             "#7201a8"
            ],
            [
             0.3333333333333333,
             "#9c179e"
            ],
            [
             0.4444444444444444,
             "#bd3786"
            ],
            [
             0.5555555555555556,
             "#d8576b"
            ],
            [
             0.6666666666666666,
             "#ed7953"
            ],
            [
             0.7777777777777778,
             "#fb9f3a"
            ],
            [
             0.8888888888888888,
             "#fdca26"
            ],
            [
             1,
             "#f0f921"
            ]
           ],
           "sequentialminus": [
            [
             0,
             "#0d0887"
            ],
            [
             0.1111111111111111,
             "#46039f"
            ],
            [
             0.2222222222222222,
             "#7201a8"
            ],
            [
             0.3333333333333333,
             "#9c179e"
            ],
            [
             0.4444444444444444,
             "#bd3786"
            ],
            [
             0.5555555555555556,
             "#d8576b"
            ],
            [
             0.6666666666666666,
             "#ed7953"
            ],
            [
             0.7777777777777778,
             "#fb9f3a"
            ],
            [
             0.8888888888888888,
             "#fdca26"
            ],
            [
             1,
             "#f0f921"
            ]
           ]
          },
          "colorway": [
           "#636efa",
           "#EF553B",
           "#00cc96",
           "#ab63fa",
           "#FFA15A",
           "#19d3f3",
           "#FF6692",
           "#B6E880",
           "#FF97FF",
           "#FECB52"
          ],
          "font": {
           "color": "#f2f5fa"
          },
          "geo": {
           "bgcolor": "rgb(17,17,17)",
           "lakecolor": "rgb(17,17,17)",
           "landcolor": "rgb(17,17,17)",
           "showlakes": true,
           "showland": true,
           "subunitcolor": "#506784"
          },
          "hoverlabel": {
           "align": "left"
          },
          "hovermode": "closest",
          "mapbox": {
           "style": "dark"
          },
          "paper_bgcolor": "rgb(17,17,17)",
          "plot_bgcolor": "rgb(17,17,17)",
          "polar": {
           "angularaxis": {
            "gridcolor": "#506784",
            "linecolor": "#506784",
            "ticks": ""
           },
           "bgcolor": "rgb(17,17,17)",
           "radialaxis": {
            "gridcolor": "#506784",
            "linecolor": "#506784",
            "ticks": ""
           }
          },
          "scene": {
           "xaxis": {
            "backgroundcolor": "rgb(17,17,17)",
            "gridcolor": "#506784",
            "gridwidth": 2,
            "linecolor": "#506784",
            "showbackground": true,
            "ticks": "",
            "zerolinecolor": "#C8D4E3"
           },
           "yaxis": {
            "backgroundcolor": "rgb(17,17,17)",
            "gridcolor": "#506784",
            "gridwidth": 2,
            "linecolor": "#506784",
            "showbackground": true,
            "ticks": "",
            "zerolinecolor": "#C8D4E3"
           },
           "zaxis": {
            "backgroundcolor": "rgb(17,17,17)",
            "gridcolor": "#506784",
            "gridwidth": 2,
            "linecolor": "#506784",
            "showbackground": true,
            "ticks": "",
            "zerolinecolor": "#C8D4E3"
           }
          },
          "shapedefaults": {
           "line": {
            "color": "#f2f5fa"
           }
          },
          "sliderdefaults": {
           "bgcolor": "#C8D4E3",
           "bordercolor": "rgb(17,17,17)",
           "borderwidth": 1,
           "tickwidth": 0
          },
          "ternary": {
           "aaxis": {
            "gridcolor": "#506784",
            "linecolor": "#506784",
            "ticks": ""
           },
           "baxis": {
            "gridcolor": "#506784",
            "linecolor": "#506784",
            "ticks": ""
           },
           "bgcolor": "rgb(17,17,17)",
           "caxis": {
            "gridcolor": "#506784",
            "linecolor": "#506784",
            "ticks": ""
           }
          },
          "title": {
           "x": 0.05
          },
          "updatemenudefaults": {
           "bgcolor": "#506784",
           "borderwidth": 0
          },
          "xaxis": {
           "automargin": true,
           "gridcolor": "#283442",
           "linecolor": "#506784",
           "ticks": "",
           "title": {
            "standoff": 15
           },
           "zerolinecolor": "#283442",
           "zerolinewidth": 2
          },
          "yaxis": {
           "automargin": true,
           "gridcolor": "#283442",
           "linecolor": "#506784",
           "ticks": "",
           "title": {
            "standoff": 15
           },
           "zerolinecolor": "#283442",
           "zerolinewidth": 2
          }
         }
        },
        "title": {
         "text": "Relación entre Capitalización de Mercado y Volumen de Transacciones"
        },
        "xaxis": {
         "anchor": "y",
         "domain": [
          0,
          1
         ],
         "title": {
          "text": "Capitalización de Mercado (USD)"
         }
        },
        "yaxis": {
         "anchor": "x",
         "domain": [
          0,
          1
         ],
         "title": {
          "text": "Volumen de Transacciones (USD)"
         }
        }
       }
      }
     },
     "metadata": {},
     "output_type": "display_data"
    }
   ],
   "source": [
    "# Grafico de dispersión para visualizar la relacion\n",
    "fig = px.scatter(\n",
    "    data, \n",
    "    x='market_cap', \n",
    "    y='total_volume', \n",
    "    title='Relación entre Capitalización de Mercado y Volumen de Transacciones',\n",
    "    labels={\n",
    "        'market_cap': 'Capitalización de Mercado (USD)',\n",
    "        'total_volume': 'Volumen de Transacciones (USD)'\n",
    "    },\n",
    "    template='plotly_dark', \n",
    "    hover_data=['market_cap', 'total_volume']\n",
    ")\n",
    "\n",
    "fig.show()"
   ]
  },
  {
   "cell_type": "code",
   "execution_count": 113,
   "metadata": {},
   "outputs": [
    {
     "data": {
      "application/vnd.plotly.v1+json": {
       "config": {
        "plotlyServerURL": "https://plot.ly"
       },
       "data": [
        {
         "alignmentgroup": "True",
         "bingroup": "x",
         "hovertemplate": "Proporción (Volumen de Transacciones / Capitalización de Mercado)=%{x}<br>count=%{y}<extra></extra>",
         "legendgroup": "",
         "marker": {
          "color": "#636efa",
          "pattern": {
           "shape": ""
          }
         },
         "name": "",
         "nbinsx": 50,
         "offsetgroup": "",
         "orientation": "v",
         "showlegend": false,
         "type": "histogram",
         "x": [
          null,
          1.7711064316010714,
          3.376409015051799,
          3.1593934498883223,
          2.8515634988241696,
          3.262465979463426,
          2.0401551554612647,
          1.2725470070050144,
          0.9388076763097578,
          1.2114479472810473,
          1.359152087360531,
          1.150367309661707,
          1.7765404763172543,
          1.5565454591475654,
          1.4864373825417714,
          1.219938471893036,
          0.7552155697852659,
          0.5980097756648929,
          0.5118666933451864,
          0.9476517068846809,
          1.449818769278329,
          1.588473785910294,
          1.3353438029625073,
          1.1262970939651946,
          1.2825680856664328,
          1.2174769951094595,
          1.0994188637821902,
          1.3241500016567693,
          1.1304568114045737,
          1.0885307999416336,
          1.1629439945959272,
          1.1152599287889389,
          0.8764075149147059,
          0.9244488068329886,
          0.8459963197917222,
          0.6775503973025774,
          0.9130940229798264,
          0.6774993916707107,
          0.6346610572151598,
          0.7378083001817056,
          0.7381562608894942,
          0.7096474425904813,
          0.6218940139008438,
          2.0381428024071555,
          0.8252909982840124,
          0.6209940522264138,
          0.7263854146171154,
          0.6459079769777081,
          0.5656298915916992,
          0.6902954392769776,
          0.8306034679516451,
          0.5847761892755218,
          0.5312304271992617,
          0.4143377909231248,
          0.413741255861273,
          0.47888873518353614,
          0.4607912377811084,
          0.3983905529404331,
          0.3638290743203154,
          0.36201584615178306,
          0.3224788415601711,
          0.43687358807418775,
          0.42861073904525404,
          0.38036234573050565,
          0.18252512013135447,
          0.35832392553802217,
          0.37176906518260416,
          0.2533028720683137,
          0.3895140665330752,
          0.4035633992474697,
          0.302093667825006,
          0.492629477511877,
          0.4482785367432002,
          0.43247473378316587,
          0.4706713698106234,
          0.4929021474551961,
          0.41318432386998083,
          0.4879487203055279,
          0.6066632575754426,
          0.5233860158575682,
          0.42147185219285294,
          0.44591220034657414,
          0.4527208977833802,
          0.42931677941090307,
          0.4690713163902768,
          0.42238133118111404,
          0.3917196015906781,
          0.4442181279607836,
          0.39255613237367504,
          0.4294478323988487,
          0.5304180010818351,
          0.45676150379847824,
          0.4269034957082188,
          0.41236975084573446,
          0.4283523953634717,
          0.4578594472649505,
          0.611633683802771,
          0.510943165469976,
          0.7193819357737625,
          0.5742481628499818,
          0.46816192989232613,
          0.7298389583708274,
          0.6077429662754507,
          0.5125752566854738,
          0.5073818616742587,
          0.43368039533757946,
          0.43220842292965467,
          0.4110970255429002,
          0.4837991831879388,
          0.5580552843162537,
          0.5710460428976024,
          0.6101615072096888,
          0.7149624198499006,
          0.7125877295008274,
          0.6246924927388234,
          0.6065178800482735,
          0.5281701017479624,
          0.8703774067517082,
          1.0113202061963409,
          0.9397892480478313,
          1.047611739775614,
          1.0302918633769271,
          1.063996134463962,
          1.0284708225328805,
          1.0264645456087076,
          1.0819551393383595,
          0.8852169122900936,
          0.961452371982998,
          1.123047008234358,
          1.1284964127238575,
          1.1133077622767418,
          1.0870331072970085,
          1.0770728696874876,
          1.0734321515744791,
          1.2265877651367674,
          1.2395748760091423,
          1.101594555220162,
          1.079508008417905,
          1.1383804665550779,
          1.096959282458036,
          1.021584402975421,
          1.0562189805877766,
          0.9575898823376241,
          0.9773301778194667,
          1.0412831232079678,
          0.9875126586891793,
          0.8919834194841477,
          0.9516692732724434,
          0.979792404401464,
          0.9138033388831934,
          0.8978574260791973,
          0.948224290787358,
          0.9586651338136049,
          0.9373819549734967,
          0.9513237734759272,
          1.0736873918977112,
          1.005183077948752,
          0.6361830299998137,
          0.9945267572013672,
          0.9735255463075927,
          1.0125771849296992,
          1.274044877247635,
          1.0617311825738998,
          0.9815432511623797,
          0.9926328857553401,
          1.0028149464900293,
          0.9500930556276381,
          0.9688205202880327,
          0.8527065404944353,
          0.8620428889597966,
          0.8947816581426902,
          0.9950421108125899,
          1.079898754617581,
          1.0594653032998276,
          0.7371774021492998,
          0.652775563201961,
          0.5419370451469845,
          0.5528519750823515,
          0.5845874586438482,
          0.6330127176969068,
          0.59593514284763,
          0.5931625962189402,
          0.5948421409644447,
          0.7462905254636298,
          0.6032089402839526,
          0.6455869875148443,
          0.6089696246493218,
          0.4916001550805002,
          0.32482967209278607,
          0.41767638372889027,
          0.4174372745887835,
          0.40373476464661334,
          0.4113556967423918,
          0.31416796900680766,
          0.41676449838578666,
          0.4042947250102527,
          0.41011116037521234,
          0.4453775013020422,
          0.3851483097054889,
          0.39547188863348864,
          0.4069225012542312,
          0.4289275315713759,
          0.3779759086532078,
          0.39480504060039584,
          0.3935561052422934,
          0.40699699242852744,
          0.38973344521005243,
          0.37784430522853596,
          0.48993297349196885,
          0.5590228788838487,
          0.4499996569037579,
          0.47414621229067977,
          0.4571820527628248,
          0.4240066024528205,
          0.4319902673940931,
          0.43499494418787077,
          0.39617765759441625,
          0.3821904063425603,
          0.40560853655231605,
          0.37407099304547153,
          0.3915226135420686,
          0.37241596372566527,
          0.40069794546673626,
          0.4061286575470056,
          0.41091497825649353,
          0.4982080641388513,
          0.4156962171189639,
          0.4505223829599606,
          0.4523003823277692,
          0.512630875070963,
          0.45358264892720473,
          0.4404064364968547,
          0.49134630074696317,
          0.4540690603778512,
          0.5296564513172837,
          0.6281648950547974,
          0.503798245031557,
          0.5029106617918017,
          0.532866479161479,
          0.5061927185607011,
          0.5033447834460574,
          0.4657110673366431,
          0.5875289342963563,
          0.47748098222772634,
          0.5468537688208269,
          0.7638495440140066,
          0.8184097823436418,
          0.6698252226351986,
          0.5338170431470874,
          0.6435479663410554,
          0.689583058891068,
          0.7609903088087602,
          0.6403036931268336,
          0.6024234274142554,
          0.5348207439445463,
          0.5237610195013648,
          0.5849845085193592,
          0.5501167738312254,
          0.5737797298767163,
          0.48995185508493994,
          0.46656314627762546,
          0.47972585314809324,
          0.5723900717452965,
          0.5877314123204086,
          0.5705340486486449,
          0.4710489643573937,
          0.8296044196904712,
          1.018421565580495,
          0.9101428482090829,
          0.8221918746862409,
          0.8349162515241008,
          0.7260324791028943,
          0.7283262856036243,
          0.8451924794937087,
          0.8840029073972742,
          0.6488831835574036,
          0.7968012034866166,
          0.6778076894889359,
          0.5412321246597182,
          0.504131603109354,
          0.5757798915583839,
          0.6110613879786694,
          0.5460168854320474,
          0.5233470992742738,
          0.5514561777236714,
          0.578881169596226,
          0.5977679694063917,
          0.6600071754924112,
          0.663410208163771,
          0.721175981372228,
          0.7828365227578241,
          0.6351558910253944,
          0.6660585490606866,
          0.6011363113502355,
          0.691125277226177,
          0.75249716074728,
          0.6774273345506729,
          0.6818453536753677,
          0.7002942564118527,
          0.664170368745988,
          0.6819875392150251,
          0.6943675884210776,
          0.6459289840098235,
          0.5878411013912599,
          0.6033780430199097,
          0.6044924629718432,
          0.46783677780964933,
          0.3942850307619136,
          0.33611714990634145,
          0.5093082880877242,
          0.4717109798998166,
          0.522512161380275,
          0.44312748183488687,
          0.3990445997005609,
          0.4782956497423833,
          0.5996414719702886,
          0.4183045266282981,
          0.38972325281656267,
          0.5665816755813735,
          0.4933454762599552,
          0.5254993282255673,
          0.46708079033413996,
          0.46727008596634956,
          0.48044690848221394,
          0.43415387929202565,
          0.4770702356586442,
          0.42324730367656316,
          0.3786209916352445,
          0.3868095580735144,
          0.32076450567420134,
          0.23460639141721878,
          0.20753263626626645,
          0.218927439925856,
          0.2041124889409733,
          0.20528040323904995,
          0.28193434134275475,
          0.2802311891849712,
          0.2835782278647601,
          0.23434962350569463,
          0.28273269241190147,
          0.22322110511053414,
          0.312139235188537,
          0.2361592961838997,
          0.19727897615013565,
          0.22396316865710814,
          0.23800314341961173,
          0.3661742546249233,
          0.30670712026983266,
          0.19959722592521997,
          0.14292101692844633,
          0.19975917072791557,
          0.2581655766048057,
          0.23322495624000555,
          0.24721347703902985,
          0.31344203665274467,
          0.2753568871285847,
          0.3204563362725637,
          0.37911493391427686,
          0.3772399060806805,
          0.38185068106225767,
          0.36754563259066897,
          0.4061296899143523,
          0.3612059364521581,
          0.38538310223862304,
          0.3836548925426081,
          0.35963566816802855,
          0.3865299890745721,
          0.3276463505602378,
          0.2787465514492886,
          0.32765640684741526,
          0.4410645105695756,
          0.33117548630905896,
          0.41071044741236545,
          0.4415165885461552,
          0.44719839718689985,
          0.3606121091802459,
          0.41948798047158414,
          0.4260050553677177,
          0.431818623269839,
          0.3651361094321206,
          0.3617263557479893,
          0.3550048685808008,
          0.3905941772546597,
          0.36053759492679427,
          0.3908610841394,
          0.39775226084353055,
          0.39772948916792594,
          0.5920958614787838,
          0.3817622947386255,
          0.4693691883896465,
          0.38259564974576343,
          0.4083531922665579,
          0.8509502605207997,
          0.6488926477577536,
          0.37536685934188263,
          0.5112221199491322,
          0.6173887079149339,
          0.4841537184044826,
          0.3282270464098887,
          0.3747462739858016,
          0.33600140559161246,
          0.33133267632559893,
          0.3529786456579079,
          0.5322278440200037,
          0.4141876578435177,
          0.31636995901856313,
          0.6328962946084038,
          0.42386773745903394,
          0.3476556357926991,
          0.3438377560718264,
          0.3146346303748157,
          0.2644457909804946,
          0.35415815147557356,
          0.37394075220298684,
          0.5464012892564487,
          0.6959004778391983,
          0.6401420921721698,
          0.5154590293648573,
          0.6047902739522152,
          0.3827395883582745,
          1.0369831316865115,
          0.7576785509330889,
          0.6685886869875065,
          0.6080417380619401,
          0.6775479868656122,
          0.6881571453877993,
          0.692257713901483,
          0.7113026326615908,
          0.7657879457251164,
          0.6912473526593048,
          0.5795528255648067,
          0.5611758510587948,
          0.7291158332741123,
          0.687267781032537,
          0.716173706618471,
          0.6240890206978319,
          0.5196260688663936,
          0.5150963712831529,
          0.5544303507593182,
          0.647215543750916,
          0.6325187020445994,
          0.7680331652717585,
          0.7155095846449573,
          0.6512150969489264,
          0.561293392645491,
          0.6347308308520638,
          0.5659800070059944,
          0.7033010818732828,
          0.69320627446952,
          0.6572390223107414,
          0.5922983554044543,
          0.6607086113913634,
          0.6204307777248118,
          0.5727880923535772,
          0.5881011708344843,
          0.6347466521295654,
          0.6771443371704531,
          0.5778855930052286,
          0.5823418986113774,
          0.8031511276942814,
          0.6134964852890439,
          0.5352340448189146,
          0.240825118353135,
          0.2299539755280253,
          0.20892888656661998,
          0.17310356377653957,
          0.22791888571239938,
          0.34759401186469574,
          0.3635355333960118,
          0.5244808299917256,
          0.7504038894432907,
          0.5432698212873728,
          0.49653765704435043,
          0.458472561571309,
          0.5573100342960198,
          0.5873632084173558,
          0.5521562193643129,
          0.5496307631073956,
          0.5278369774825897,
          0.52784487646523,
          0.6745402438647287,
          0.5705361267738224,
          0.5891456197311179,
          0.36147429499308764,
          0.448851078656673,
          0.27640429625385055,
          0.39381530951566646,
          0.40840085468555665,
          0.26180899970208826,
          0.20129718130128968,
          0.27299331036594715,
          0.26719832440902097,
          0.22558019604181007,
          0.22792231552472622,
          0.2875739160168799,
          0.2922517795429108,
          0.364877547061285,
          0.35003153422656336,
          0.43850234154935747,
          0.29122677708532935,
          0.254992515520311,
          0.2627354670515953,
          0.2858433107710683,
          0.30106824267203147,
          0.34649185605292887,
          0.40454748778994254,
          0.5974878685870187,
          0.33764138772835695,
          0.335624893552648,
          0.44385291149052564,
          0.36105476658853664,
          0.3454880876173466,
          0.3423462100425476,
          0.30528292182284583,
          0.3641819860855558,
          0.3665264921421802,
          0.35449412354860693,
          0.419798450196434,
          0.3417217345195273,
          0.3134694026529822,
          0.6234327951477324,
          0.5265835021385783,
          0.6046020489761662,
          0.8735467830828949,
          0.8815607581707295,
          0.9744973576403144,
          0.492000299966982,
          0.43246496243758553,
          0.3780013687002485,
          0.5106080328244521,
          0.5189140317373859,
          0.5288619532544638,
          0.4498866588969495,
          0.6266347237414518,
          0.4267394388118215,
          0.4498234736353889,
          0.3438158862769326,
          0.48972959764511925,
          0.4387949675002176,
          0.3274975293898203,
          0.3660424231534811,
          0.3792401933020595,
          0.3321651814891055,
          0.3130324840976238,
          0.40776988351271687,
          0.4969814627106981,
          0.630024419350158,
          0.594172002993052,
          0.600182585922954,
          0.5128090073746656,
          0.5858762071104583,
          0.5480827137399221,
          0.5930288664078657,
          0.46955651981753954,
          0.44315478213164083,
          0.4161931573671006,
          0.5409639668571019,
          0.2403626144888623,
          0.6074790181676897,
          0.45812249734881894,
          0.41437695114819234,
          1.2763922522522366,
          1.4730906414725922,
          0.9599285973654945,
          0.9493447675166243,
          1.2396163989634363,
          1.0434549495092513,
          0.9144915398410987,
          0.840603406686464,
          0.6560499429446334,
          0.8292253447888666,
          0.9504046646709559,
          0.6390557863142642,
          0.5418774444049975,
          0.5089932507930562,
          0.8548575747602638,
          1.0693237253767114,
          1.0342860229637885,
          0.8783593015955492,
          0.6649104585734111,
          0.7721341018294705,
          0.8485788914119426,
          0.8242730969594824,
          0.7943475840416662,
          0.6647867117377397,
          0.8265432431107989,
          0.6371660159966387,
          0.6507647986914289,
          0.5710238835587921,
          0.8676585333385549,
          0.83846677637087,
          0.7175027934281327,
          0.600925288971109,
          0.5174952769771193,
          0.6053491988918606,
          0.7089390727096633,
          0.8611443915268504,
          0.7484601403488538,
          0.7357901078989664,
          1.199324708955565,
          0.8794702701310555,
          0.7846003897154119,
          1.0804238702506461,
          1.2647621767285193,
          0.9899118041970667,
          0.7753444296005344,
          1.0673543115283188,
          0.7934840226791496,
          0.8450288052720365,
          0.7076906153437396,
          0.6781208190187302,
          0.8934156073547912,
          0.5670416975274125,
          1.033504611551395,
          1.2733137639909964,
          0.9204847826470692,
          0.8859407384830695,
          0.8595601845774057,
          0.8481703426039829,
          0.9549338357847548,
          0.7201627331659601,
          0.8434265313724532,
          0.8657382639998304,
          0.8556030018632226,
          0.7123931367002675,
          0.5238065572112305,
          0.5675399579711592,
          0.6154063786980846,
          0.595480376874234,
          0.21111563788967327,
          0.17950727324989454,
          0.22799821353349012,
          0.2061578897511965,
          0.20245438761522616,
          0.43850268870813,
          0.2695601079131232,
          0.2026983881467627,
          0.24470313235393032,
          0.15661566323874643,
          0.14603092358108716,
          0.1552525270092211,
          0.16856878541599213,
          0.17480133780039142,
          0.1949512928982099,
          0.2059766468179347,
          0.12179437876424423,
          0.15922166684574374,
          0.1521796423965096,
          0.13269261091393936,
          0.15421818048002675,
          0.14568170362831462,
          0.1270797089529707,
          0.1077162266260986,
          0.17275140529471325,
          0.1155178317450122,
          0.14333319564203537,
          0.16131687784317914,
          0.2074605270980666,
          0.11493964222590008,
          0.12519866174440414,
          0.12530109756983016,
          0.13625477845080178,
          0.14917659485660556,
          0.12989443997243574,
          0.12831603040739845,
          0.13100592923287122,
          0.12780581472575506,
          0.22829923050723971,
          0.24343244280542747,
          0.1689891043533415,
          0.1880064458665552,
          0.1821291778428599,
          0.17753783433447265,
          0.22742161182542578,
          0.10493357032595459,
          0.10439476195061884,
          0.1152408412141616,
          0.10440540185366493,
          0.10090185596369446,
          0.11833748636506437,
          0.107901625610073,
          0.07619396014281682,
          0.08417109064618766,
          0.08641113362376764,
          0.13034656433106703,
          0.10784155843126025,
          0.15206322956279295,
          0.1594357037699359,
          0.10590715961131814,
          0.1048954691175211,
          0.11985258517999867,
          0.11538195598105967,
          0.1221154504198246,
          0.17954559740730097,
          0.1390169776496374,
          0.19355192201184035,
          0.18349652918884302,
          0.16846472864583845,
          0.1194462565006748,
          0.2699200901344968,
          0.20133071689240206,
          0.17691888654266594,
          0.15290199253750916,
          0.2102997760988048,
          0.15345163452056648,
          0.14870755066905436,
          0.13248522817544195,
          0.1167173423501715,
          0.13753122413457114,
          0.12022417001218261,
          0.10793283315391487,
          0.10612065381043269,
          0.10300906877504767,
          0.11548200854216312,
          0.12071580738837821,
          0.11920231603884336,
          0.10491732516900037,
          0.07487197201741196,
          0.09436217909795201,
          0.12683464784676582,
          0.17044776410846119,
          0.1200600485559274,
          0.13393836506355677,
          0.11516146395418299,
          0.09234126816389172,
          0.09432357161919208,
          0.09187072037389246,
          0.09350073246217083,
          0.08725249864915154,
          0.09589481431507527,
          0.08382983651036002,
          0.0864464511754353,
          0.1410568303894582,
          0.1776573565965224,
          0.12741385516880485,
          0.09310841031758844,
          0.11255573826307749,
          0.10403457912227732,
          0.0899506601870603,
          0.08432944320097484,
          0.08308681196333902,
          0.0870087486556275,
          0.0819397019311809,
          0.06794571206196294,
          0.05136473083418975,
          0.049451397971319436,
          0.06828854094323186,
          0.07215682965640141,
          0.06360799168998306,
          0.07340581458852531,
          0.08377202624989614,
          0.055162760177735366,
          0.048670444638578746,
          0.05665406998647386,
          0.062293242987666496,
          0.07005607285509402,
          0.06967494051420026,
          0.07452921493536757,
          0.0608144084252786,
          0.05179535056204099,
          0.06349706207514681,
          0.09436795132623278,
          0.07361524065518507,
          0.07080482119490442,
          0.05975874024470602,
          0.060382162219560456,
          0.08120877442900383,
          0.10733555485408099,
          0.0789412827959488,
          0.07213398423445368,
          0.05398268801575323,
          0.05896782883386392,
          0.06134399474853812,
          0.07198365406030974,
          0.06268940079044724,
          0.056466401514219736,
          0.057307479064096646,
          0.06752926574973153,
          0.06463809857455721,
          0.08474173443602209,
          0.07452438022431966,
          0.07047672866548593,
          0.0764865411999644,
          0.10311403859067128,
          0.1065895584561952,
          0.049928635155469574,
          0.05714875587110013,
          0.062328813269946326,
          0.06121168015341406,
          0.05967242437990855,
          0.05582459018616904,
          0.10260539529239812,
          0.09243414654984611,
          0.09056704412681096,
          0.06664392997807701,
          0.0492401132391836,
          0.06477364949053253,
          0.05333245529610452,
          0.04605236014277354,
          0.04333434584108186,
          0.036528978449840294,
          0.03699420728302498,
          0.053617481850713244,
          0.09127843326507161,
          0.07148242627093493,
          0.043541649417411975,
          0.08364140337098078,
          0.05777110799043472,
          0.06968075328779039,
          0.10105960188383575,
          0.1524679489977679,
          0.30369110008256567,
          0.3693128241382428,
          0.22702133466862848,
          0.15734636894665918,
          0.15749227993076317,
          0.18486283018546515,
          0.09829890867715149,
          0.0622713645773968,
          0.11025039581829851,
          0.08042032829859176,
          0.06587369869743015,
          0.06304103736007041,
          0.11056707263935171,
          0.08580915175225998,
          0.07026083507321765,
          0.07172128139917817,
          0.07859085951098049,
          0.04559009835352724,
          0.047588921373740954,
          0.05510805374086938,
          0.04893855672609866,
          0.046374206181698734,
          0.04234017430810034,
          0.04836562073552451,
          0.04636745101052723,
          0.05662351612778018,
          0.08543720105378079,
          0.0450348057187506,
          0.05338925652977391,
          0.04784588420270855,
          0.04365244187976069,
          0.024305032635777678,
          0.02198575123893726,
          0.024945424943524697,
          0.03403380578136592,
          0.029938697607397622,
          0.028853904629892443,
          0.028582000229797108,
          0.02989373868751406,
          0.03144102794010665,
          0.018453334640453584,
          0.020148628259676046,
          0.024011798239386418,
          0.037545099065960125,
          0.04421574146998117,
          0.028256964676274213,
          0.02221934430368002,
          0.041338748170802554,
          0.04759889004976314,
          0.059774895124077625,
          0.04080982396385971,
          0.030155707826124926,
          0.01923985533616237,
          0.023492455352187313,
          0.022368174399081786,
          0.02460217486852402,
          0.03643682925487438,
          0.027095834495105154,
          0.02021579310563775,
          0.016838401592943898,
          0.013975281658585493,
          0.04656116493630151,
          0.03409819206839893,
          0.08839915933671659,
          0.05094795459514116,
          0.12409220516503838,
          0.0419616595538297,
          0.03590928381178289,
          0.03608332968174427,
          0.07011157675921119,
          0.04995554686847891,
          0.2992362472805836,
          0.06019371735176878,
          0.031020446572332813,
          0.0316530118091191,
          0.03550659108065719,
          0.034041780107178676,
          0.03488019235130795,
          0.03154053219610187,
          0.05085150628687768,
          0.030584411958718832,
          0.027404125422427848,
          0.035732511185896654,
          0.040454697861298045,
          0.05630576825578914,
          0.04535604401470583,
          0.03777568828260774,
          0.06807615214952929,
          0.0587845882169424,
          0.07660822317730406,
          0.034732299187380654,
          0.022065687087562492,
          0.02766339247374003,
          0.025247983368522586,
          0.020556985904260548,
          0.014545151382062164,
          0.03036837907998555,
          0.024363294415348322,
          0.023809892465371713,
          0.01736673851843252,
          0.017538669663413463,
          0.014795506434273353,
          0.015109633478734754,
          0.020585779817576363,
          0.02360972799167818,
          0.024729926598927577,
          0.028475938146819268,
          0.043797453881475525,
          0.0231774845140581,
          0.03482140602799904,
          0.032033596214707236,
          0.04123601171666981,
          0.04611580403993193,
          0.061937819349741394,
          0.0430225660314229,
          0.022783615078361824,
          0.023249625220825892,
          0.04624529710851194,
          0.053606482704429054,
          0.056526322789846456,
          0.042686011985977594,
          0.04913348355705656,
          0.029743727228643827,
          0.016639037112120274,
          0.034474022477637575,
          0.02965870477324466,
          0.032857229449903526,
          0.0416601733195547,
          0.030964809230575548,
          0.016981460522926536,
          0.023290869745245944,
          0.030783274513982384,
          0.027870988952982786,
          0.03019463526985048,
          0.02977818060038915,
          0.07362574741456386,
          0.10465182582392475,
          0.04806327071384364,
          0.05474427236460468,
          0.03316040070625392,
          0.049547303917511325,
          0.040249986997082064,
          0.037320643218920146,
          0.027838948325416352,
          0.02428787828598601,
          0.028307393336894107,
          0.026029020314885114,
          0.04299916734915993,
          0.02955130764269439,
          0.028958287361031565,
          0.029137470770654754,
          0.02501083516821634,
          0.04632175337536724,
          0.04354541778189644,
          0.029251756647483116,
          0.035761112521122074,
          0.031886136781084685,
          0.020011238074687042,
          0.0177856771345964,
          0.019972630283241078,
          0.021432866812715615,
          0.032698397138695,
          0.026818228645448906,
          0.01902054531491962,
          0.014905289406629241,
          0.01745958250788799,
          0.030781835477680937,
          0.02911159893757665,
          0.02811328900430801,
          0.05428174622774829,
          0.026712408637121154,
          0.02610611666115975,
          0.02734665456403911,
          0.029742473119533614,
          0.040034642106035544,
          0.036502512604079454,
          0.03827096574155286,
          0.03363218987964448,
          0.021661691321116724,
          0.022476716370847506,
          0.02910455054403066,
          0.02062067543276923,
          0.021773241106775754,
          0.024061488108268317,
          0.02371880448900962,
          0.013300822949257324,
          0.013431442671203882,
          0.022567438457701004,
          0.026301688037197818,
          0.029441289926967047,
          0.02921726378677749,
          0.030483539456580295,
          0.02974111209581601,
          0.023696616665728167,
          0.05097982755472965,
          0.04534184963829265,
          0.026726068957215913,
          0.04160832279642036,
          0.05222397541383517,
          0.02376005093552178,
          0.023664721018073438,
          0.03478359467988569,
          0.03779980043771323,
          0.038334739821085144,
          0.04677868139646844,
          0.035523305976850286,
          0.04005489863520541,
          0.028313314698751157,
          0.03649905022035568,
          0.033365998623856495,
          0.04586314548536656,
          0.026883045935488438,
          0.02270395645097342,
          0.017651209971547566,
          0.01594226753471525,
          0.031479617379375414,
          0.03062364644104244,
          0.028792519322956244,
          0.04385047094782496,
          0.031901360286705094,
          0.01958504277354708,
          0.021138334011113823,
          0.031850532644553765,
          0.030265791331194614,
          0.029229079151218473,
          0.03414947882621002,
          0.024655192596104082,
          0.0203625538923683,
          0.018050201220924596,
          0.038310138769497744,
          0.04041270703945992,
          0.02910523902044964,
          0.038395296215648016,
          0.042152650739814536,
          0.0372305342568805,
          0.03814342539363189,
          0.044732828552903114,
          0.1345626493893658,
          0.07999515064344183,
          0.0629823291399335,
          0.09313421331643404,
          0.09749417212605571,
          0.09654998159378397,
          0.11567256288755896,
          0.11789260100044589,
          0.19562935223414288,
          0.1425761940597317,
          0.07454777455917831,
          0.04829180066201905,
          0.03253446040799707,
          0.046997117704135685,
          0.043857490783850046,
          0.04704892915806797,
          0.04541810925071357,
          0.040439367805396545,
          0.03177824783787273,
          0.033626535387166645,
          0.04411499291895542,
          0.03592564527877581,
          0.037451880718296054,
          0.05145710762311903,
          0.049555225233703426,
          0.03524976356609851,
          0.031755308764139706,
          0.04111110910719121,
          0.04798505390595715,
          0.05827951599181357,
          0.033359127288271936,
          0.02755529019320095,
          0.023665734059210332,
          0.031186421118641696,
          0.03260640027399883,
          0.032893793932800716,
          0.04565173936830455,
          0.02614862386197364,
          0.03820887796258929,
          0.03752385240479506,
          0.041109367068981544,
          0.10110162640064403,
          0.07453754427183136,
          0.09805668509158799,
          0.059283025215429726,
          0.03730685701119216,
          0.051571829970060566,
          0.04757672544412677,
          0.0425288736900232,
          0.049489458177022085,
          0.039918916737411825,
          0.035175491309608474,
          0.04292679760851461,
          0.032902078750316914,
          0.033125232862406845,
          0.03269412473871053,
          0.03667797449189854,
          0.0431171190994396,
          0.06512445446847735,
          0.050372231680442636,
          0.038572258243559844,
          0.025834561730297415,
          0.03148729691758636,
          0.032195376157738737,
          0.032187839012902446,
          0.03500338381911713,
          0.041854459613893405,
          0.0296594718333762,
          0.030802462059515964,
          0.03245712274306832,
          0.030769372923906406,
          0.040383634364420516,
          0.04205309283226185,
          0.04170434469370676,
          0.044721128282493444,
          0.03740291457577479,
          0.05118617053884505,
          0.05490828292311087,
          0.052438416477286205,
          0.041910064884207496,
          0.039628287187032145,
          0.03244031460945296,
          0.028541205512061563,
          0.0355184485675951,
          0.035996629087907045,
          0.043908475959915476,
          0.0489931247997564,
          0.06255419006822267,
          0.060921976212497155,
          0.054545754911454414,
          0.05362017942197961,
          0.05291751172868533,
          0.0425825615853441,
          0.04724926733752083,
          0.04708664617649822,
          0.029362529244820103,
          0.03687012625577622,
          0.04135016164367928,
          0.0493000971177434,
          0.042742755060397285,
          0.03536861767661263,
          0.029685757226208014,
          0.029715486686190097,
          0.04075495406213131,
          0.03426141075938982,
          0.025200760404570317,
          0.03556810192865169,
          0.027274027784456936,
          0.056313019243134275,
          0.03467352280063751,
          0.027957892813899616,
          0.03276592062653148,
          0.03159706005391466,
          0.030794430576072757,
          0.031089015536671205,
          0.04916872110571845,
          0.030274824266849965,
          0.02424230946101275,
          0.02602843685015486,
          0.02509249677798776,
          0.02361498480593612,
          0.020335036247092073,
          0.030678950338593008,
          0.018905293842756393,
          0.037661135805149584,
          0.022900333365127586,
          0.03924870464584847,
          0.03631411851423004,
          0.033521293845192965,
          0.04469356606198689,
          0.03158961337779149,
          0.03225124887566006,
          0.03626772742950433,
          0.048873657950697924,
          0.02760737927524121,
          0.032268127835587315,
          0.029341827539885117,
          0.01808918677735832,
          0.037916062498237056,
          0.0991767208746547,
          0.12794516678415485,
          0.09418779898019151,
          0.17871976787437635,
          0.1679919890001225,
          0.08921362780201339,
          0.09444538690165487,
          0.07513712326831559,
          0.07481599830118091,
          0.0693978494529868,
          0.0768427905546329,
          0.07217820181962657,
          0.04564892158874002,
          0.05507648549287855,
          0.04845036756809866,
          0.035937975853938646,
          0.0377293521499544,
          0.03830426923700517,
          0.042164919926252285,
          0.027959487571387526,
          0.024636241500018093,
          0.03537562847811871,
          0.03833295994184721,
          0.02492098306057132,
          0.06787386665509286,
          0.037348891611484365,
          0.025315247990125495,
          0.022819461787713147,
          0.027677414003934593,
          0.0313122501516789,
          0.029782379886246563,
          0.029220819523717235,
          0.03173084787455972,
          0.016976752928130605,
          0.021260458944981346,
          0.027893059448177288,
          0.06776788950999575,
          0.05273495222491774,
          0.04620148656212358,
          0.03724516205981758,
          0.04305582216708461,
          0.08347763045027701,
          0.09174212782955933,
          0.060107855602016695,
          0.08520522418922903,
          0.10830633946820091,
          0.136603765740101,
          0.1627153996867319,
          0.13745043021730727,
          0.1707175798750126,
          0.31869153013349494,
          0.20594949734240256,
          0.15705399137619708,
          0.12423864893640772,
          0.08131005517649062,
          0.08918456271527778,
          0.11201139449670657,
          0.10035021245901572,
          0.12150925809216359,
          0.0715637986499783,
          0.1233784996642977,
          0.18147931644381735,
          0.15025212722694326,
          0.10210804818063277,
          0.08915013891909579,
          0.060894448585002224,
          0.047068047898355204,
          0.042125661313233934,
          0.03384729786031487,
          0.03260533798215302,
          0.04349041627873153,
          0.03227298276497014,
          0.044098349589550626,
          0.029951030481296513,
          0.0373210677999617,
          0.03357196546458885,
          0.024541774315761395,
          0.04727180469201194,
          0.029024143936023764,
          0.048431297838387864,
          0.03481332394968761,
          0.03070775841499552,
          0.027004433729707653,
          0.02399342276577193,
          0.03616302740962671,
          0.042108536908137026,
          0.03240042241086082,
          0.07545349777580337,
          0.08601235885919614,
          0.05447537437612562,
          0.04345837226665602,
          0.060016969725074296,
          0.04149277104137148,
          0.04808999749735144,
          0.05126033929992538,
          0.03055416504025115,
          0.01845653659538396,
          0.027932473374425032,
          0.02836385286726406,
          0.026156891486124118,
          0.04243990200114596,
          0.03851107244297759,
          0.03776077518391381,
          0.04254021451613979,
          0.033906004680646966,
          0.035765119106354465,
          0.03221768810282075,
          0.04423457629094103,
          0.03543387435644725,
          0.0345205345841115,
          0.03157042090219124,
          0.028695226451474924,
          0.05514894048804035,
          0.03926464408753946,
          0.04016389430097716,
          0.062350618677354044,
          0.049705595100128584,
          0.10039036314618272,
          0.0702452441157738,
          0.06549521661973877,
          0.043545997164399955,
          0.0772258241962315,
          0.041510136754970915,
          0.053736439484985646,
          0.06593132956210186,
          0.0764631896225071,
          0.062274901940013894,
          0.07258622609264687,
          0.05589983877253903,
          0.04472926703177151,
          0.054026526033804666,
          0.050819475814576257,
          0.04332761398407858,
          0.056180802568102824,
          0.040374841335529064,
          0.060463800044703774,
          0.06508573813590428,
          0.07619514432185523,
          0.045674028791059716,
          0.049880911763604194,
          0.03837771955136119,
          0.1056865293546618,
          0.11240087102945638,
          0.1312812761603141,
          0.08044767946017808,
          0.04327503260831045,
          0.04829520745616345,
          0.06460550614948622,
          0.059794023189795896,
          0.06717450667076222,
          0.0904116227420367,
          0.06585666852072712,
          0.04464516241389139,
          0.06539070807047488,
          0.08599609080822783,
          0.07609486595003129,
          0.06444127351795739,
          0.05633339137865073,
          0.04884369744689678,
          0.03425789972127447,
          0.02586165385612359,
          0.033160201520832946,
          0.033591494122641716,
          0.03364648040136835,
          0.033175957989863086,
          0.04949038586607841,
          0.024365427616179394,
          0.027498365175035,
          0.044517531642023524,
          0.047267757158724846,
          0.04940556421523339,
          0.06241685240447852,
          0.08834251408941439,
          0.07409077802500125,
          0.05875573027846427,
          0.08760617077177704,
          0.08869055220707225,
          0.07655171637202743,
          0.04134783150081154,
          0.05136825495851704,
          0.06297505898508372,
          0.04898141491750284,
          0.06235077444950096,
          0.04997374966432926,
          0.16024461613438562,
          0.05115736368105041,
          0.05179739681708172,
          0.035671833338365766,
          0.028025119669125794,
          0.04461728010914418,
          0.04297997921678519,
          0.2015891280668842,
          0.09659948222416513,
          0.054616019398394944,
          0.03440963330164089,
          0.035014893854180745,
          0.04818999036335467,
          0.03662152113412595,
          0.04525456073850326,
          0.03999909037477058,
          0.03308321608920323,
          0.03371597204887769,
          0.02908958265199223,
          0.03670971131803436,
          0.04405031889573379,
          0.051761804851115756,
          0.0518691954308944,
          0.07483286274839684,
          0.048585846958407994,
          0.035708101231141494,
          0.08115299735579713,
          0.06853188777584128,
          0.09180532967754758,
          0.10708650616392432,
          0.0708701128875708,
          0.034188916997734346,
          0.03114020792617992,
          0.03302292616099156,
          0.040560838636936665,
          0.0690211674091054,
          0.04373770507055267,
          0.030628308694635956,
          0.02535196553829281,
          0.026878845204938762,
          0.0340828178696845,
          0.02789300321140833,
          0.03066018927084426,
          0.028832536292340668,
          0.036347932023990996,
          0.032093835323751804,
          0.020939372901515402,
          0.059070958561324036,
          0.029776322362134292,
          0.045442415411025984,
          0.03873080326674571,
          0.041050849503883144,
          0.022476867400115844,
          0.023868087895911612,
          0.03148210863322631,
          0.03333733725243272,
          0.03580764097227093,
          0.036402119916983666,
          0.027502227859941147,
          0.02189490658972586,
          0.023714243227164592,
          0.02514859004380717,
          0.02519726986170536,
          0.04389849087210905,
          0.060213016686123506,
          0.04344295655956608,
          0.03455543947424947,
          0.04120567479212072,
          0.03431122880105059,
          0.041281576326756754,
          0.040436495947941214,
          0.031676916218562765,
          0.03022891906497524,
          0.020264918003148905,
          0.0231245026879519,
          0.07389279022985576,
          0.06307568623164181,
          0.07067691520703562,
          0.0777082606270165,
          0.04680908649987314,
          0.15563554423553916,
          0.049104339077617284,
          0.05207262860965384,
          0.04713617386547569,
          0.05599120457495413,
          0.06538040760875795,
          0.03809523287738231,
          0.040223953112154855,
          0.0315829642821541,
          0.02784382406974157,
          0.02828328252769732,
          0.040410920093831446,
          0.03965000777096891,
          0.03728876232687051,
          0.02956765191792942,
          0.02981012111051893,
          0.04961076731270474,
          0.037765598964288216,
          0.04627694930608942,
          0.03361391224721332,
          0.05186780951667045,
          0.04150064417713684,
          0.05286347860468065,
          0.05072873012593429,
          0.04236828800715157,
          0.035866886422948364,
          0.03983586422866638,
          0.03498293334626916,
          0.02998029477300629,
          0.028608720452073827,
          0.04563889927458004,
          0.050117607480522505,
          0.04471429981715325,
          0.16559962548440343,
          0.13276479921047799,
          0.04091362771572745,
          0.08930849477068581,
          0.11511710094546869,
          0.06175335815328918,
          0.052614301552479294,
          0.06583765939927105,
          0.0376481643101953,
          0.03480670520691837,
          0.037051280178306625,
          0.047315524082524575,
          0.0303965640269686,
          0.03753838375559782,
          0.0328863776634417,
          0.039083070801824334,
          0.024869453251679028,
          0.036408763905997524,
          0.05304992048293119,
          0.051823292563700454,
          0.04922315067848495,
          0.030302648957577474,
          0.0287512634843407,
          0.023259258217745472,
          0.031194254184611764,
          0.05523743481619634,
          0.10826426928417825,
          0.04815160329741587,
          0.03389918768664659,
          0.02399090982233431,
          0.0314674146890319,
          0.039450846505799234,
          0.04154292059018722,
          0.05513321921572634,
          0.0704504532124739,
          0.08494278516768136,
          0.05699111850412025,
          0.033596347793454544,
          0.026645722558942143,
          0.036129974201174274,
          0.03782699835556228,
          0.033998243885498554,
          0.025268712875814794,
          0.029374434371527,
          0.02061504701307094,
          0.020061568035717164,
          0.028589269310112915,
          0.0422836606647167,
          0.029252423320466726,
          0.0500133389796477,
          0.05240348513314367,
          0.018887110739062928,
          0.0199239260315038,
          0.023841124071999256,
          0.02571158130235918,
          0.026016505935594365,
          0.03695552343232599,
          0.025367882398288154,
          0.017722293839124683,
          0.03726667993595717,
          0.03589459752332208,
          0.027512511683271054,
          0.026833394211912956,
          0.028090882588216185,
          0.02646663410885389,
          0.024694276126691252,
          0.020593403912005905,
          0.025277861814640604,
          0.021682633916650117,
          0.049926245662679364,
          0.05182564014074315,
          0.03757085212806604,
          0.02271034109115967,
          0.021429730247058378,
          0.03517440395103265,
          0.028405390419548534,
          0.03426537635919774,
          0.030904014566175954,
          0.03490699349078322,
          0.026923180630967703,
          0.029996251006944197,
          0.034438428751489586,
          0.026546061919437064,
          0.04496046755336177,
          0.031952553641221584,
          0.030044958058417327,
          0.0233213298885082,
          0.0385176948820491,
          0.047783444010127754,
          0.038367813188229134,
          0.0351517258594178,
          0.029300359939097576,
          0.025226398540495708,
          0.022423042396137672,
          0.03064856992507752,
          0.052190777692963104,
          0.0425874443302297,
          0.042690431174833426,
          0.04618625514594471,
          0.061130142497213664,
          0.05881290184850096,
          0.04925232059475351,
          0.08548507578979515,
          0.11009769084602618,
          0.0662070709397551,
          0.07317462603793248,
          0.049220185880618814,
          0.03766274681544781,
          0.04901376200430527,
          0.08088259678386513,
          0.07343261584000653,
          0.06904296643336935,
          0.07474101907961889,
          0.053670274855076465,
          0.05102375821462908,
          0.08043000948328989,
          0.06083868229732104,
          0.05566699735052567,
          0.040921002289234766,
          0.08465449530972591,
          0.05608781976071324,
          0.06755027462118363,
          0.09782296678898529,
          0.06677281115296878,
          0.06213899140800751,
          0.06114649160922759,
          0.07247810610196977,
          0.051071595206463004,
          0.03878362472522542,
          0.037843287160159236,
          0.07251180959045776,
          0.07906269611052293,
          0.04914822136016036,
          0.03655215335927062,
          0.0370700948128301,
          0.040975852636311726,
          0.0523756417790435,
          0.04869658853129617,
          0.07524452164140245,
          0.034402012937017536,
          0.11546255957883951,
          0.14395827485314444,
          0.04306486986840885,
          0.10088080036074773,
          0.13500189148928485,
          0.06246299766835087,
          0.04216576024797239,
          0.07387826343715126,
          0.09130019349309709,
          0.17565906268855594,
          0.07071713855226835,
          0.10983685903022247,
          0.09282333625518928,
          0.0786408528014152,
          0.08134596058313501,
          0.05684029542532326,
          0.04293206948922674,
          0.037843658531422325,
          0.04986455665708942,
          0.049204748638362536,
          0.04660724733863282,
          0.08477460851298008,
          0.1358305214464219,
          0.05649800775055632,
          0.06416011354156467,
          0.043386517741391115,
          0.053415274995777445,
          0.04181998216062528,
          0.055939276501993034,
          0.05918819724261109,
          0.03134671883321403,
          0.029972674730595342,
          0.027201886728736947,
          0.05010570657179066,
          0.08494287812429861,
          0.04050043458817284,
          0.04429779666487118,
          0.03379404585686597,
          0.03266921030671167,
          0.07545589657615008,
          0.06041084838120382,
          0.052999383511371186,
          0.05292674878469244,
          0.04495857415535048,
          0.02965282914395309,
          0.02568080127983579,
          0.026189122320283583,
          0.03521916349536576,
          0.0271220220274575,
          0.03108448221682855,
          0.04093236474901514,
          0.029560450450258836,
          0.025185991203290604,
          0.03735477253935078,
          0.04477507931365375,
          0.02610055148763702,
          0.023499107354704642,
          0.032618700476803,
          0.02123551929720258,
          0.023805574006645295,
          0.02762160373366479,
          0.028280248535365572,
          0.02782623017123968,
          0.021570491802472995,
          0.02486138481552181,
          0.021129633410397527,
          0.01640006734866235,
          0.01800207143309783,
          0.01923329500718605,
          0.023360421574018495,
          0.024119196579042646,
          0.0322635362445554,
          0.024093400229026563,
          0.02501932874104394,
          0.04662103745400203,
          0.03911861005411104,
          0.031307419321752974,
          0.037982762437431095,
          0.04020222034324404,
          0.023770369639438176,
          0.022864829038636708,
          0.035478139477682205,
          0.040927990844918646,
          0.03297282892272381,
          0.026805869661100414,
          0.028908708850319632,
          0.029116569106521797,
          0.0503869787459746,
          0.04308512670466942,
          0.04447290391281341,
          0.07921228850942598,
          0.0726569594232113,
          0.045041308846359436,
          0.06883537623230339,
          0.08075635650562064,
          0.09175030008502909,
          0.16570102716184243,
          0.08066814882425422,
          0.14057518984335798,
          0.06743201365322453,
          0.04381391086251337,
          0.04363380323452428,
          0.13569810065546875,
          0.11198132299391234,
          0.09349324168910698,
          0.07778720201337616,
          0.11429323918085652,
          0.07448249496165138,
          0.05822208243923388,
          0.06140447747833179,
          0.09175011445973787,
          0.05658108247995133,
          0.04556215956175356,
          0.03839884984464998,
          0.027334543240203426,
          0.02934577020931794,
          0.043873007587422026,
          0.05089854154188746
         ],
         "xaxis": "x",
         "yaxis": "y"
        }
       ],
       "layout": {
        "barmode": "relative",
        "legend": {
         "tracegroupgap": 0
        },
        "template": {
         "data": {
          "bar": [
           {
            "error_x": {
             "color": "#f2f5fa"
            },
            "error_y": {
             "color": "#f2f5fa"
            },
            "marker": {
             "line": {
              "color": "rgb(17,17,17)",
              "width": 0.5
             },
             "pattern": {
              "fillmode": "overlay",
              "size": 10,
              "solidity": 0.2
             }
            },
            "type": "bar"
           }
          ],
          "barpolar": [
           {
            "marker": {
             "line": {
              "color": "rgb(17,17,17)",
              "width": 0.5
             },
             "pattern": {
              "fillmode": "overlay",
              "size": 10,
              "solidity": 0.2
             }
            },
            "type": "barpolar"
           }
          ],
          "carpet": [
           {
            "aaxis": {
             "endlinecolor": "#A2B1C6",
             "gridcolor": "#506784",
             "linecolor": "#506784",
             "minorgridcolor": "#506784",
             "startlinecolor": "#A2B1C6"
            },
            "baxis": {
             "endlinecolor": "#A2B1C6",
             "gridcolor": "#506784",
             "linecolor": "#506784",
             "minorgridcolor": "#506784",
             "startlinecolor": "#A2B1C6"
            },
            "type": "carpet"
           }
          ],
          "choropleth": [
           {
            "colorbar": {
             "outlinewidth": 0,
             "ticks": ""
            },
            "type": "choropleth"
           }
          ],
          "contour": [
           {
            "colorbar": {
             "outlinewidth": 0,
             "ticks": ""
            },
            "colorscale": [
             [
              0,
              "#0d0887"
             ],
             [
              0.1111111111111111,
              "#46039f"
             ],
             [
              0.2222222222222222,
              "#7201a8"
             ],
             [
              0.3333333333333333,
              "#9c179e"
             ],
             [
              0.4444444444444444,
              "#bd3786"
             ],
             [
              0.5555555555555556,
              "#d8576b"
             ],
             [
              0.6666666666666666,
              "#ed7953"
             ],
             [
              0.7777777777777778,
              "#fb9f3a"
             ],
             [
              0.8888888888888888,
              "#fdca26"
             ],
             [
              1,
              "#f0f921"
             ]
            ],
            "type": "contour"
           }
          ],
          "contourcarpet": [
           {
            "colorbar": {
             "outlinewidth": 0,
             "ticks": ""
            },
            "type": "contourcarpet"
           }
          ],
          "heatmap": [
           {
            "colorbar": {
             "outlinewidth": 0,
             "ticks": ""
            },
            "colorscale": [
             [
              0,
              "#0d0887"
             ],
             [
              0.1111111111111111,
              "#46039f"
             ],
             [
              0.2222222222222222,
              "#7201a8"
             ],
             [
              0.3333333333333333,
              "#9c179e"
             ],
             [
              0.4444444444444444,
              "#bd3786"
             ],
             [
              0.5555555555555556,
              "#d8576b"
             ],
             [
              0.6666666666666666,
              "#ed7953"
             ],
             [
              0.7777777777777778,
              "#fb9f3a"
             ],
             [
              0.8888888888888888,
              "#fdca26"
             ],
             [
              1,
              "#f0f921"
             ]
            ],
            "type": "heatmap"
           }
          ],
          "heatmapgl": [
           {
            "colorbar": {
             "outlinewidth": 0,
             "ticks": ""
            },
            "colorscale": [
             [
              0,
              "#0d0887"
             ],
             [
              0.1111111111111111,
              "#46039f"
             ],
             [
              0.2222222222222222,
              "#7201a8"
             ],
             [
              0.3333333333333333,
              "#9c179e"
             ],
             [
              0.4444444444444444,
              "#bd3786"
             ],
             [
              0.5555555555555556,
              "#d8576b"
             ],
             [
              0.6666666666666666,
              "#ed7953"
             ],
             [
              0.7777777777777778,
              "#fb9f3a"
             ],
             [
              0.8888888888888888,
              "#fdca26"
             ],
             [
              1,
              "#f0f921"
             ]
            ],
            "type": "heatmapgl"
           }
          ],
          "histogram": [
           {
            "marker": {
             "pattern": {
              "fillmode": "overlay",
              "size": 10,
              "solidity": 0.2
             }
            },
            "type": "histogram"
           }
          ],
          "histogram2d": [
           {
            "colorbar": {
             "outlinewidth": 0,
             "ticks": ""
            },
            "colorscale": [
             [
              0,
              "#0d0887"
             ],
             [
              0.1111111111111111,
              "#46039f"
             ],
             [
              0.2222222222222222,
              "#7201a8"
             ],
             [
              0.3333333333333333,
              "#9c179e"
             ],
             [
              0.4444444444444444,
              "#bd3786"
             ],
             [
              0.5555555555555556,
              "#d8576b"
             ],
             [
              0.6666666666666666,
              "#ed7953"
             ],
             [
              0.7777777777777778,
              "#fb9f3a"
             ],
             [
              0.8888888888888888,
              "#fdca26"
             ],
             [
              1,
              "#f0f921"
             ]
            ],
            "type": "histogram2d"
           }
          ],
          "histogram2dcontour": [
           {
            "colorbar": {
             "outlinewidth": 0,
             "ticks": ""
            },
            "colorscale": [
             [
              0,
              "#0d0887"
             ],
             [
              0.1111111111111111,
              "#46039f"
             ],
             [
              0.2222222222222222,
              "#7201a8"
             ],
             [
              0.3333333333333333,
              "#9c179e"
             ],
             [
              0.4444444444444444,
              "#bd3786"
             ],
             [
              0.5555555555555556,
              "#d8576b"
             ],
             [
              0.6666666666666666,
              "#ed7953"
             ],
             [
              0.7777777777777778,
              "#fb9f3a"
             ],
             [
              0.8888888888888888,
              "#fdca26"
             ],
             [
              1,
              "#f0f921"
             ]
            ],
            "type": "histogram2dcontour"
           }
          ],
          "mesh3d": [
           {
            "colorbar": {
             "outlinewidth": 0,
             "ticks": ""
            },
            "type": "mesh3d"
           }
          ],
          "parcoords": [
           {
            "line": {
             "colorbar": {
              "outlinewidth": 0,
              "ticks": ""
             }
            },
            "type": "parcoords"
           }
          ],
          "pie": [
           {
            "automargin": true,
            "type": "pie"
           }
          ],
          "scatter": [
           {
            "marker": {
             "line": {
              "color": "#283442"
             }
            },
            "type": "scatter"
           }
          ],
          "scatter3d": [
           {
            "line": {
             "colorbar": {
              "outlinewidth": 0,
              "ticks": ""
             }
            },
            "marker": {
             "colorbar": {
              "outlinewidth": 0,
              "ticks": ""
             }
            },
            "type": "scatter3d"
           }
          ],
          "scattercarpet": [
           {
            "marker": {
             "colorbar": {
              "outlinewidth": 0,
              "ticks": ""
             }
            },
            "type": "scattercarpet"
           }
          ],
          "scattergeo": [
           {
            "marker": {
             "colorbar": {
              "outlinewidth": 0,
              "ticks": ""
             }
            },
            "type": "scattergeo"
           }
          ],
          "scattergl": [
           {
            "marker": {
             "line": {
              "color": "#283442"
             }
            },
            "type": "scattergl"
           }
          ],
          "scattermapbox": [
           {
            "marker": {
             "colorbar": {
              "outlinewidth": 0,
              "ticks": ""
             }
            },
            "type": "scattermapbox"
           }
          ],
          "scatterpolar": [
           {
            "marker": {
             "colorbar": {
              "outlinewidth": 0,
              "ticks": ""
             }
            },
            "type": "scatterpolar"
           }
          ],
          "scatterpolargl": [
           {
            "marker": {
             "colorbar": {
              "outlinewidth": 0,
              "ticks": ""
             }
            },
            "type": "scatterpolargl"
           }
          ],
          "scatterternary": [
           {
            "marker": {
             "colorbar": {
              "outlinewidth": 0,
              "ticks": ""
             }
            },
            "type": "scatterternary"
           }
          ],
          "surface": [
           {
            "colorbar": {
             "outlinewidth": 0,
             "ticks": ""
            },
            "colorscale": [
             [
              0,
              "#0d0887"
             ],
             [
              0.1111111111111111,
              "#46039f"
             ],
             [
              0.2222222222222222,
              "#7201a8"
             ],
             [
              0.3333333333333333,
              "#9c179e"
             ],
             [
              0.4444444444444444,
              "#bd3786"
             ],
             [
              0.5555555555555556,
              "#d8576b"
             ],
             [
              0.6666666666666666,
              "#ed7953"
             ],
             [
              0.7777777777777778,
              "#fb9f3a"
             ],
             [
              0.8888888888888888,
              "#fdca26"
             ],
             [
              1,
              "#f0f921"
             ]
            ],
            "type": "surface"
           }
          ],
          "table": [
           {
            "cells": {
             "fill": {
              "color": "#506784"
             },
             "line": {
              "color": "rgb(17,17,17)"
             }
            },
            "header": {
             "fill": {
              "color": "#2a3f5f"
             },
             "line": {
              "color": "rgb(17,17,17)"
             }
            },
            "type": "table"
           }
          ]
         },
         "layout": {
          "annotationdefaults": {
           "arrowcolor": "#f2f5fa",
           "arrowhead": 0,
           "arrowwidth": 1
          },
          "autotypenumbers": "strict",
          "coloraxis": {
           "colorbar": {
            "outlinewidth": 0,
            "ticks": ""
           }
          },
          "colorscale": {
           "diverging": [
            [
             0,
             "#8e0152"
            ],
            [
             0.1,
             "#c51b7d"
            ],
            [
             0.2,
             "#de77ae"
            ],
            [
             0.3,
             "#f1b6da"
            ],
            [
             0.4,
             "#fde0ef"
            ],
            [
             0.5,
             "#f7f7f7"
            ],
            [
             0.6,
             "#e6f5d0"
            ],
            [
             0.7,
             "#b8e186"
            ],
            [
             0.8,
             "#7fbc41"
            ],
            [
             0.9,
             "#4d9221"
            ],
            [
             1,
             "#276419"
            ]
           ],
           "sequential": [
            [
             0,
             "#0d0887"
            ],
            [
             0.1111111111111111,
             "#46039f"
            ],
            [
             0.2222222222222222,
             "#7201a8"
            ],
            [
             0.3333333333333333,
             "#9c179e"
            ],
            [
             0.4444444444444444,
             "#bd3786"
            ],
            [
             0.5555555555555556,
             "#d8576b"
            ],
            [
             0.6666666666666666,
             "#ed7953"
            ],
            [
             0.7777777777777778,
             "#fb9f3a"
            ],
            [
             0.8888888888888888,
             "#fdca26"
            ],
            [
             1,
             "#f0f921"
            ]
           ],
           "sequentialminus": [
            [
             0,
             "#0d0887"
            ],
            [
             0.1111111111111111,
             "#46039f"
            ],
            [
             0.2222222222222222,
             "#7201a8"
            ],
            [
             0.3333333333333333,
             "#9c179e"
            ],
            [
             0.4444444444444444,
             "#bd3786"
            ],
            [
             0.5555555555555556,
             "#d8576b"
            ],
            [
             0.6666666666666666,
             "#ed7953"
            ],
            [
             0.7777777777777778,
             "#fb9f3a"
            ],
            [
             0.8888888888888888,
             "#fdca26"
            ],
            [
             1,
             "#f0f921"
            ]
           ]
          },
          "colorway": [
           "#636efa",
           "#EF553B",
           "#00cc96",
           "#ab63fa",
           "#FFA15A",
           "#19d3f3",
           "#FF6692",
           "#B6E880",
           "#FF97FF",
           "#FECB52"
          ],
          "font": {
           "color": "#f2f5fa"
          },
          "geo": {
           "bgcolor": "rgb(17,17,17)",
           "lakecolor": "rgb(17,17,17)",
           "landcolor": "rgb(17,17,17)",
           "showlakes": true,
           "showland": true,
           "subunitcolor": "#506784"
          },
          "hoverlabel": {
           "align": "left"
          },
          "hovermode": "closest",
          "mapbox": {
           "style": "dark"
          },
          "paper_bgcolor": "rgb(17,17,17)",
          "plot_bgcolor": "rgb(17,17,17)",
          "polar": {
           "angularaxis": {
            "gridcolor": "#506784",
            "linecolor": "#506784",
            "ticks": ""
           },
           "bgcolor": "rgb(17,17,17)",
           "radialaxis": {
            "gridcolor": "#506784",
            "linecolor": "#506784",
            "ticks": ""
           }
          },
          "scene": {
           "xaxis": {
            "backgroundcolor": "rgb(17,17,17)",
            "gridcolor": "#506784",
            "gridwidth": 2,
            "linecolor": "#506784",
            "showbackground": true,
            "ticks": "",
            "zerolinecolor": "#C8D4E3"
           },
           "yaxis": {
            "backgroundcolor": "rgb(17,17,17)",
            "gridcolor": "#506784",
            "gridwidth": 2,
            "linecolor": "#506784",
            "showbackground": true,
            "ticks": "",
            "zerolinecolor": "#C8D4E3"
           },
           "zaxis": {
            "backgroundcolor": "rgb(17,17,17)",
            "gridcolor": "#506784",
            "gridwidth": 2,
            "linecolor": "#506784",
            "showbackground": true,
            "ticks": "",
            "zerolinecolor": "#C8D4E3"
           }
          },
          "shapedefaults": {
           "line": {
            "color": "#f2f5fa"
           }
          },
          "sliderdefaults": {
           "bgcolor": "#C8D4E3",
           "bordercolor": "rgb(17,17,17)",
           "borderwidth": 1,
           "tickwidth": 0
          },
          "ternary": {
           "aaxis": {
            "gridcolor": "#506784",
            "linecolor": "#506784",
            "ticks": ""
           },
           "baxis": {
            "gridcolor": "#506784",
            "linecolor": "#506784",
            "ticks": ""
           },
           "bgcolor": "rgb(17,17,17)",
           "caxis": {
            "gridcolor": "#506784",
            "linecolor": "#506784",
            "ticks": ""
           }
          },
          "title": {
           "x": 0.05
          },
          "updatemenudefaults": {
           "bgcolor": "#506784",
           "borderwidth": 0
          },
          "xaxis": {
           "automargin": true,
           "gridcolor": "#283442",
           "linecolor": "#506784",
           "ticks": "",
           "title": {
            "standoff": 15
           },
           "zerolinecolor": "#283442",
           "zerolinewidth": 2
          },
          "yaxis": {
           "automargin": true,
           "gridcolor": "#283442",
           "linecolor": "#506784",
           "ticks": "",
           "title": {
            "standoff": 15
           },
           "zerolinecolor": "#283442",
           "zerolinewidth": 2
          }
         }
        },
        "title": {
         "text": "Distribución de la Proporción entre Volumen de Transacciones y Capitalización de Mercado"
        },
        "xaxis": {
         "anchor": "y",
         "domain": [
          0,
          1
         ],
         "title": {
          "text": "Proporción (Volumen de Transacciones / Capitalización de Mercado)"
         }
        },
        "yaxis": {
         "anchor": "x",
         "domain": [
          0,
          1
         ],
         "title": {
          "text": "count"
         }
        }
       }
      }
     },
     "metadata": {},
     "output_type": "display_data"
    }
   ],
   "source": [
    "# Histograma para visualizar la distribución Proporcional\n",
    "fig_Proporcional = px.histogram(\n",
    "    data, \n",
    "    x='Proporcional', \n",
    "    nbins=50,  # Número de bins en el histograma\n",
    "    title='Distribución de la Proporción entre Volumen de Transacciones y Capitalización de Mercado',\n",
    "    labels={'Proporcional': 'Proporción (Volumen de Transacciones / Capitalización de Mercado)'},\n",
    "    template='plotly_dark'\n",
    ")\n",
    "\n",
    "fig_Proporcional.show()"
   ]
  },
  {
   "cell_type": "markdown",
   "metadata": {},
   "source": [
    "# ---> **Inciso 3**\n",
    "---\n",
    "\n",
    "### Preprocesamiento de Datos\n",
    "\n",
    "1. **Identificación y Corrección de Datos Faltantes:**\n",
    "   - Detectar valores faltantes o nulos en los datos.\n",
    "   - Aplicar correcciones adecuadas para completar los datos.\n",
    "\n",
    "2. **Cambio de Tipos de Datos:**\n",
    "   - Convertir las columnas a los tipos de datos correctos usando `astype`.\n",
    "\n",
    "3. **Indexación en Mayúsculas:**\n",
    "   - Transformar los índices a mayúsculas utilizando el comando `str.upper()`.\n",
    "\n",
    "4. **Agrupación y Organización:**\n",
    "   - Agrupar los datos por valor de mercado (`groupby`) con base en la fecha **1 de enero de 2015**.\n",
    "   - Organizar los grupos por valor de mercado en orden ascendente.\n"
   ]
  },
  {
   "cell_type": "code",
   "execution_count": 117,
   "metadata": {},
   "outputs": [
    {
     "name": "stdout",
     "output_type": "stream",
     "text": [
      "Valores nulos por columna:\n",
      "+---+--------------+---------------+\n",
      "|   |   Columna    | Valores Nulos |\n",
      "+---+--------------+---------------+\n",
      "| 0 |     DATE     |       0       |\n",
      "| 1 |    PRICE     |       0       |\n",
      "| 2 | TOTAL_VOLUME |       0       |\n",
      "| 3 |  MARKET_CAP  |       0       |\n",
      "| 4 |  COIN_NAME   |       0       |\n",
      "| 5 | PROPORCIONAL |       0       |\n",
      "+---+--------------+---------------+\n",
      "Nombres de las columnas:\n",
      "Index(['DATE', 'PRICE', 'TOTAL_VOLUME', 'MARKET_CAP', 'COIN_NAME', 'PROPORCIONAL'], dtype='object')\n",
      "No hay datos para el 1 de enero de 2019.\n",
      "\n",
      "Primeras filas después del preprocesamiento:\n",
      "+---+---------------------+--------------------+--------------------+--------------------+-----------+--------------------+\n",
      "|   |        DATE         |       PRICE        |    TOTAL_VOLUME    |     MARKET_CAP     | COIN_NAME |    PROPORCIONAL    |\n",
      "+---+---------------------+--------------------+--------------------+--------------------+-----------+--------------------+\n",
      "| 0 | 2019-06-21 00:00:00 | 1.6049391988983346 | 665318.0526509066  |        0.0         | algorand  |        inf         |\n",
      "| 1 | 2019-06-22 00:00:00 | 3.172364475665224  | 179033099.15581304 | 101085454.81028377 | algorand  | 1.7711064316010714 |\n",
      "| 2 | 2019-06-23 00:00:00 | 2.1591653569087783 | 258822620.07905507 |  76656180.8493111  | algorand  | 3.376409015051799  |\n",
      "| 3 | 2019-06-24 00:00:00 | 1.8995977604330248 | 210021071.8849812  | 66475124.17056032  | algorand  | 3.1593934498883223 |\n",
      "| 4 | 2019-06-25 00:00:00 | 1.409310422042795  | 157470580.94927415 | 55222540.55159792  | algorand  | 2.8515634988241696 |\n",
      "+---+---------------------+--------------------+--------------------+--------------------+-----------+--------------------+\n",
      "\n",
      "Títulos de las columnas después del preprocesamiento:\n",
      "+--------------+---------------------+\n",
      "|              | Títulos de columnas |\n",
      "+--------------+---------------------+\n",
      "|     DATE     |        DATE         |\n",
      "|    PRICE     |        PRICE        |\n",
      "| TOTAL_VOLUME |    TOTAL_VOLUME     |\n",
      "|  MARKET_CAP  |     MARKET_CAP      |\n",
      "|  COIN_NAME   |      COIN_NAME      |\n",
      "| PROPORCIONAL |    PROPORCIONAL     |\n",
      "+--------------+---------------------+\n"
     ]
    }
   ],
   "source": [
    "# 1. Identificación de valores faltantes o nulos\n",
    "print(\"Valores nulos por columna:\")\n",
    "print(tabulate(data.isnull().sum().reset_index(), headers=[\"Columna\", \"Valores Nulos\"], tablefmt=\"pretty\"))\n",
    "\n",
    "# 2. Corregir valores nulos\n",
    "data = data.dropna()\n",
    "\n",
    "# 3. Verificar y corregir nombres de las columnas (en caso de espacios)\n",
    "data.columns = data.columns.str.strip()\n",
    "\n",
    "# 4. Asegurarse de que 'PRICE' y 'DATE' estén en el formato correcto\n",
    "print(\"Nombres de las columnas:\")\n",
    "print(data.columns)\n",
    "\n",
    "# 5. Convertir los títulos de las columnas a mayúsculas\n",
    "data.columns = data.columns.str.upper()\n",
    "\n",
    "# Cambio del tipo de datos (astype) si es necesario\n",
    "data['PRICE'] = pd.to_numeric(data['PRICE'], errors='coerce')  # Asegúrate de que la columna sea 'PRICE'\n",
    "data['DATE'] = pd.to_datetime(data['DATE'], errors='coerce')  # Convertir correctamente las fechas\n",
    "\n",
    "\n",
    "\n",
    "# 6. Filtrar datos para el 1 de enero de 2015\n",
    "data_2015 = data[data['DATE'] == pd.to_datetime('2019-01-01')]\n",
    "\n",
    "# Verifica si data_2015 tiene datos\n",
    "if not data_2015.empty:\n",
    "    # 7. Agrupar por valor de mercado y ordenar por 'price' de forma ascendente\n",
    "    if 'MARKET_VALUE' in data.columns and 'PRICE' in data.columns:\n",
    "        grouped_data = data_2015.groupby('MARKET_VALUE').apply(lambda x: x.sort_values('PRICE', ascending=True))\n",
    "        print(\"\\nDatos agrupados y organizados:\")\n",
    "        print(tabulate(grouped_data.head(), headers='keys', tablefmt='pretty'))\n",
    "    else:\n",
    "        print(\"Las columnas 'MARKET_VALUE' o 'PRICE' no están disponibles para la agrupación.\")\n",
    "else:\n",
    "    print(\"No hay datos para el 1 de enero de 2019.\")\n",
    "\n",
    "# 8. Ver los cambios realizados\n",
    "print(\"\\nPrimeras filas después del preprocesamiento:\")\n",
    "print(tabulate(data.head(), headers='keys', tablefmt='pretty'))\n",
    "print(\"\\nTítulos de las columnas después del preprocesamiento:\")\n",
    "print(tabulate(data.columns.to_frame(), headers=[\"Títulos de columnas\"], tablefmt=\"pretty\"))"
   ]
  },
  {
   "cell_type": "code",
   "execution_count": 118,
   "metadata": {},
   "outputs": [
    {
     "name": "stdout",
     "output_type": "stream",
     "text": [
      "  DATE        PRICE     TOTAL_VOLUME  MARKET_CAP   COIN_NAME  PROPORCIONAL\n",
      "0 2019-06-21  1.604939  6.653181e+05  0.000000e+00  algorand       inf    \n",
      "1 2019-06-22  3.172364  1.790331e+08  1.010855e+08  algorand  1.771106    \n",
      "2 2019-06-23  2.159165  2.588226e+08  7.665618e+07  algorand  3.376409    \n",
      "3 2019-06-24  1.899598  2.100211e+08  6.647512e+07  algorand  3.159393    \n",
      "4 2019-06-25  1.409310  1.574706e+08  5.522254e+07  algorand  2.851563    \n"
     ]
    }
   ],
   "source": [
    "# Index en mayúsculas\n",
    "print(data.head())"
   ]
  },
  {
   "cell_type": "markdown",
   "metadata": {},
   "source": [
    "# ---> **Inciso 4**\n",
    "---\n",
    "\n",
    "### Visualización de Precios de Criptomonedas en 2019\n",
    "\n",
    "1. Seleccionar las **4 criptomonedas más relevantes** según su interés personal.\n",
    "2. Graficar sus precios a lo largo del año.\n",
    "3. Utilizar **subplots** para mostrar las 4 gráficas en una sola figura, cada una en su propio panel.\n",
    "\n",
    "El objetivo es comparar las tendencias de precios de estas criptomonedas de forma clara y visual.\n",
    "\n",
    "\n",
    "\n",
    "| **Criptomoneda** | **Lanzamiento** | **Propósito**                   | **Consenso**       | **Velocidad de Transacción** |\n",
    "|-------------------|-----------------|----------------------------------|--------------------|-----------------------------|\n",
    "| Bitcoin           | 2009            | Reserva de valor, pagos         | Proof of Work      | ~7 transacciones/segundo    |\n",
    "| Ethereum          | 2015            | Contratos inteligentes, dApps  | Proof of Stake     | ~30 transacciones/segundo   |\n",
    "| Ripple (XRP)      | 2012            | Pagos internacionales           | Ripple Consensus   | ~1500 transacciones/segundo |\n",
    "| Bitcoin Cash      | 2017            | Pagos rápidos, tarifas bajas    | Proof of Work      | ~100 transacciones/segundo  |\n",
    "| EOS               | 2018            | Contratos inteligentes, dApps  | Delegated PoS      | ~4000 transacciones/segundo |\n",
    "\n",
    "\n",
    "\n",
    "### Detalles:\n",
    "\n",
    "1. **Criptomoneda**: El nombre de la moneda.\n",
    "2. **Lanzamiento**: Año en que se lanzó la moneda.\n",
    "3. **Propósito**: Principales usos de la criptomoneda.\n",
    "4. **Consenso**: Algoritmo utilizado para la validación de transacciones.\n",
    "5. **Velocidad de Transacción**: Número promedio de transacciones que puede procesar por segundo.\n",
    "\n",
    "\n",
    "![Texto alternativo](imagenes/criptomonedas.avif)\n"
   ]
  },
  {
   "cell_type": "code",
   "execution_count": 119,
   "metadata": {},
   "outputs": [
    {
     "data": {
      "application/vnd.plotly.v1+json": {
       "config": {
        "plotlyServerURL": "https://plot.ly"
       },
       "data": [
        {
         "hovertemplate": "Criptomoneda=Bitcoin<br>Mes=%{x}<br>Precio Unitario (USD)=%{y}<extra></extra>",
         "legendgroup": "Bitcoin",
         "line": {
          "color": "#636efa",
          "dash": "solid"
         },
         "marker": {
          "symbol": "circle"
         },
         "mode": "lines",
         "name": "Bitcoin",
         "orientation": "v",
         "showlegend": true,
         "type": "scatter",
         "x": [
          "2019-01-01T00:00:00",
          "2019-02-01T00:00:00",
          "2019-03-01T00:00:00",
          "2019-04-01T00:00:00",
          "2019-05-01T00:00:00",
          "2019-06-01T00:00:00",
          "2019-07-01T00:00:00",
          "2019-08-01T00:00:00",
          "2019-09-01T00:00:00",
          "2019-10-01T00:00:00",
          "2019-11-01T00:00:00",
          "2019-12-01T00:00:00"
         ],
         "xaxis": "x",
         "y": [
          3661.377844039735,
          3675.874108764173,
          3930.1478055575126,
          5118.40377524764,
          7191.559089268884,
          9333.91601150218,
          10698.367555843952,
          10646.743263944125,
          9838.894285189073,
          8348.787893962626,
          8391.820301410371,
          7260.18574622032
         ],
         "yaxis": "y"
        },
        {
         "hovertemplate": "Criptomoneda=Ethereum<br>Mes=%{x}<br>Precio Unitario (USD)=%{y}<extra></extra>",
         "legendgroup": "Ethereum",
         "line": {
          "color": "#EF553B",
          "dash": "solid"
         },
         "marker": {
          "symbol": "circle"
         },
         "mode": "lines",
         "name": "Ethereum",
         "orientation": "v",
         "showlegend": true,
         "type": "scatter",
         "x": [
          "2019-01-01T00:00:00",
          "2019-02-01T00:00:00",
          "2019-03-01T00:00:00",
          "2019-04-01T00:00:00",
          "2019-05-01T00:00:00",
          "2019-06-01T00:00:00",
          "2019-07-01T00:00:00",
          "2019-08-01T00:00:00",
          "2019-09-01T00:00:00",
          "2019-10-01T00:00:00",
          "2019-11-01T00:00:00",
          "2019-12-01T00:00:00"
         ],
         "xaxis": "x",
         "y": [
          127.28365709580233,
          125.47500438792066,
          135.87143613578897,
          164.48060110382715,
          216.5260937936062,
          273.8257887786878,
          250.7299933876528,
          201.03188945663624,
          185.45621698496637,
          178.56366744046173,
          173.8903567773927,
          137.9748851658717
         ],
         "yaxis": "y"
        },
        {
         "hovertemplate": "Criptomoneda=Ripple<br>Mes=%{x}<br>Precio Unitario (USD)=%{y}<extra></extra>",
         "legendgroup": "Ripple",
         "line": {
          "color": "#00cc96",
          "dash": "solid"
         },
         "marker": {
          "symbol": "circle"
         },
         "mode": "lines",
         "name": "Ripple",
         "orientation": "v",
         "showlegend": true,
         "type": "scatter",
         "x": [
          "2019-01-01T00:00:00",
          "2019-02-01T00:00:00",
          "2019-03-01T00:00:00",
          "2019-04-01T00:00:00",
          "2019-05-01T00:00:00",
          "2019-06-01T00:00:00",
          "2019-07-01T00:00:00",
          "2019-08-01T00:00:00",
          "2019-09-01T00:00:00",
          "2019-10-01T00:00:00",
          "2019-11-01T00:00:00",
          "2019-12-01T00:00:00"
         ],
         "xaxis": "x",
         "y": [
          0.3311257790094566,
          0.3084844262021265,
          0.31132858343404435,
          0.32711363140820854,
          0.36190883480602953,
          0.42755834041489343,
          0.34516778352271404,
          0.28670939476776186,
          0.2623672814862188,
          0.2791273224243486,
          0.26286801516785885,
          0.20769379422569625
         ],
         "yaxis": "y"
        },
        {
         "hovertemplate": "Criptomoneda=Bitcoin Cash<br>Mes=%{x}<br>Precio Unitario (USD)=%{y}<extra></extra>",
         "legendgroup": "Bitcoin Cash",
         "line": {
          "color": "#ab63fa",
          "dash": "solid"
         },
         "marker": {
          "symbol": "circle"
         },
         "mode": "lines",
         "name": "Bitcoin Cash",
         "orientation": "v",
         "showlegend": true,
         "type": "scatter",
         "x": [
          "2019-01-01T00:00:00",
          "2019-02-01T00:00:00",
          "2019-03-01T00:00:00",
          "2019-04-01T00:00:00",
          "2019-05-01T00:00:00",
          "2019-06-01T00:00:00",
          "2019-07-01T00:00:00",
          "2019-08-01T00:00:00",
          "2019-09-01T00:00:00",
          "2019-10-01T00:00:00",
          "2019-11-01T00:00:00",
          "2019-12-01T00:00:00"
         ],
         "xaxis": "x",
         "y": [
          136.2721082973961,
          127.31436379610442,
          145.642775121592,
          279.9335418572901,
          360.1305437632521,
          424.9670994369424,
          346.87984601976825,
          318.4123201084297,
          286.00528878272536,
          232.27335196874307,
          259.2063254150016,
          202.09825344742117
         ],
         "yaxis": "y"
        },
        {
         "hovertemplate": "Criptomoneda=EOS<br>Mes=%{x}<br>Precio Unitario (USD)=%{y}<extra></extra>",
         "legendgroup": "EOS",
         "line": {
          "color": "#FFA15A",
          "dash": "solid"
         },
         "marker": {
          "symbol": "circle"
         },
         "mode": "lines",
         "name": "EOS",
         "orientation": "v",
         "showlegend": true,
         "type": "scatter",
         "x": [
          "2019-01-01T00:00:00",
          "2019-02-01T00:00:00",
          "2019-03-01T00:00:00",
          "2019-04-01T00:00:00",
          "2019-05-01T00:00:00",
          "2019-06-01T00:00:00",
          "2019-07-01T00:00:00",
          "2019-08-01T00:00:00",
          "2019-09-01T00:00:00",
          "2019-10-01T00:00:00",
          "2019-11-01T00:00:00",
          "2019-12-01T00:00:00"
         ],
         "xaxis": "x",
         "y": [
          2.4839199993971954,
          2.9885218860221983,
          3.7118506397015087,
          5.153194444008232,
          5.898263284482997,
          6.8085630122618594,
          4.841376265049597,
          3.845695004042069,
          3.535685547107556,
          3.045239974237514,
          3.1626034007278836,
          2.5826478948102385
         ],
         "yaxis": "y"
        }
       ],
       "layout": {
        "height": 600,
        "legend": {
         "title": {
          "text": "Criptomoneda"
         },
         "tracegroupgap": 0
        },
        "template": {
         "data": {
          "bar": [
           {
            "error_x": {
             "color": "#2a3f5f"
            },
            "error_y": {
             "color": "#2a3f5f"
            },
            "marker": {
             "line": {
              "color": "#E5ECF6",
              "width": 0.5
             },
             "pattern": {
              "fillmode": "overlay",
              "size": 10,
              "solidity": 0.2
             }
            },
            "type": "bar"
           }
          ],
          "barpolar": [
           {
            "marker": {
             "line": {
              "color": "#E5ECF6",
              "width": 0.5
             },
             "pattern": {
              "fillmode": "overlay",
              "size": 10,
              "solidity": 0.2
             }
            },
            "type": "barpolar"
           }
          ],
          "carpet": [
           {
            "aaxis": {
             "endlinecolor": "#2a3f5f",
             "gridcolor": "white",
             "linecolor": "white",
             "minorgridcolor": "white",
             "startlinecolor": "#2a3f5f"
            },
            "baxis": {
             "endlinecolor": "#2a3f5f",
             "gridcolor": "white",
             "linecolor": "white",
             "minorgridcolor": "white",
             "startlinecolor": "#2a3f5f"
            },
            "type": "carpet"
           }
          ],
          "choropleth": [
           {
            "colorbar": {
             "outlinewidth": 0,
             "ticks": ""
            },
            "type": "choropleth"
           }
          ],
          "contour": [
           {
            "colorbar": {
             "outlinewidth": 0,
             "ticks": ""
            },
            "colorscale": [
             [
              0,
              "#0d0887"
             ],
             [
              0.1111111111111111,
              "#46039f"
             ],
             [
              0.2222222222222222,
              "#7201a8"
             ],
             [
              0.3333333333333333,
              "#9c179e"
             ],
             [
              0.4444444444444444,
              "#bd3786"
             ],
             [
              0.5555555555555556,
              "#d8576b"
             ],
             [
              0.6666666666666666,
              "#ed7953"
             ],
             [
              0.7777777777777778,
              "#fb9f3a"
             ],
             [
              0.8888888888888888,
              "#fdca26"
             ],
             [
              1,
              "#f0f921"
             ]
            ],
            "type": "contour"
           }
          ],
          "contourcarpet": [
           {
            "colorbar": {
             "outlinewidth": 0,
             "ticks": ""
            },
            "type": "contourcarpet"
           }
          ],
          "heatmap": [
           {
            "colorbar": {
             "outlinewidth": 0,
             "ticks": ""
            },
            "colorscale": [
             [
              0,
              "#0d0887"
             ],
             [
              0.1111111111111111,
              "#46039f"
             ],
             [
              0.2222222222222222,
              "#7201a8"
             ],
             [
              0.3333333333333333,
              "#9c179e"
             ],
             [
              0.4444444444444444,
              "#bd3786"
             ],
             [
              0.5555555555555556,
              "#d8576b"
             ],
             [
              0.6666666666666666,
              "#ed7953"
             ],
             [
              0.7777777777777778,
              "#fb9f3a"
             ],
             [
              0.8888888888888888,
              "#fdca26"
             ],
             [
              1,
              "#f0f921"
             ]
            ],
            "type": "heatmap"
           }
          ],
          "heatmapgl": [
           {
            "colorbar": {
             "outlinewidth": 0,
             "ticks": ""
            },
            "colorscale": [
             [
              0,
              "#0d0887"
             ],
             [
              0.1111111111111111,
              "#46039f"
             ],
             [
              0.2222222222222222,
              "#7201a8"
             ],
             [
              0.3333333333333333,
              "#9c179e"
             ],
             [
              0.4444444444444444,
              "#bd3786"
             ],
             [
              0.5555555555555556,
              "#d8576b"
             ],
             [
              0.6666666666666666,
              "#ed7953"
             ],
             [
              0.7777777777777778,
              "#fb9f3a"
             ],
             [
              0.8888888888888888,
              "#fdca26"
             ],
             [
              1,
              "#f0f921"
             ]
            ],
            "type": "heatmapgl"
           }
          ],
          "histogram": [
           {
            "marker": {
             "pattern": {
              "fillmode": "overlay",
              "size": 10,
              "solidity": 0.2
             }
            },
            "type": "histogram"
           }
          ],
          "histogram2d": [
           {
            "colorbar": {
             "outlinewidth": 0,
             "ticks": ""
            },
            "colorscale": [
             [
              0,
              "#0d0887"
             ],
             [
              0.1111111111111111,
              "#46039f"
             ],
             [
              0.2222222222222222,
              "#7201a8"
             ],
             [
              0.3333333333333333,
              "#9c179e"
             ],
             [
              0.4444444444444444,
              "#bd3786"
             ],
             [
              0.5555555555555556,
              "#d8576b"
             ],
             [
              0.6666666666666666,
              "#ed7953"
             ],
             [
              0.7777777777777778,
              "#fb9f3a"
             ],
             [
              0.8888888888888888,
              "#fdca26"
             ],
             [
              1,
              "#f0f921"
             ]
            ],
            "type": "histogram2d"
           }
          ],
          "histogram2dcontour": [
           {
            "colorbar": {
             "outlinewidth": 0,
             "ticks": ""
            },
            "colorscale": [
             [
              0,
              "#0d0887"
             ],
             [
              0.1111111111111111,
              "#46039f"
             ],
             [
              0.2222222222222222,
              "#7201a8"
             ],
             [
              0.3333333333333333,
              "#9c179e"
             ],
             [
              0.4444444444444444,
              "#bd3786"
             ],
             [
              0.5555555555555556,
              "#d8576b"
             ],
             [
              0.6666666666666666,
              "#ed7953"
             ],
             [
              0.7777777777777778,
              "#fb9f3a"
             ],
             [
              0.8888888888888888,
              "#fdca26"
             ],
             [
              1,
              "#f0f921"
             ]
            ],
            "type": "histogram2dcontour"
           }
          ],
          "mesh3d": [
           {
            "colorbar": {
             "outlinewidth": 0,
             "ticks": ""
            },
            "type": "mesh3d"
           }
          ],
          "parcoords": [
           {
            "line": {
             "colorbar": {
              "outlinewidth": 0,
              "ticks": ""
             }
            },
            "type": "parcoords"
           }
          ],
          "pie": [
           {
            "automargin": true,
            "type": "pie"
           }
          ],
          "scatter": [
           {
            "fillpattern": {
             "fillmode": "overlay",
             "size": 10,
             "solidity": 0.2
            },
            "type": "scatter"
           }
          ],
          "scatter3d": [
           {
            "line": {
             "colorbar": {
              "outlinewidth": 0,
              "ticks": ""
             }
            },
            "marker": {
             "colorbar": {
              "outlinewidth": 0,
              "ticks": ""
             }
            },
            "type": "scatter3d"
           }
          ],
          "scattercarpet": [
           {
            "marker": {
             "colorbar": {
              "outlinewidth": 0,
              "ticks": ""
             }
            },
            "type": "scattercarpet"
           }
          ],
          "scattergeo": [
           {
            "marker": {
             "colorbar": {
              "outlinewidth": 0,
              "ticks": ""
             }
            },
            "type": "scattergeo"
           }
          ],
          "scattergl": [
           {
            "marker": {
             "colorbar": {
              "outlinewidth": 0,
              "ticks": ""
             }
            },
            "type": "scattergl"
           }
          ],
          "scattermapbox": [
           {
            "marker": {
             "colorbar": {
              "outlinewidth": 0,
              "ticks": ""
             }
            },
            "type": "scattermapbox"
           }
          ],
          "scatterpolar": [
           {
            "marker": {
             "colorbar": {
              "outlinewidth": 0,
              "ticks": ""
             }
            },
            "type": "scatterpolar"
           }
          ],
          "scatterpolargl": [
           {
            "marker": {
             "colorbar": {
              "outlinewidth": 0,
              "ticks": ""
             }
            },
            "type": "scatterpolargl"
           }
          ],
          "scatterternary": [
           {
            "marker": {
             "colorbar": {
              "outlinewidth": 0,
              "ticks": ""
             }
            },
            "type": "scatterternary"
           }
          ],
          "surface": [
           {
            "colorbar": {
             "outlinewidth": 0,
             "ticks": ""
            },
            "colorscale": [
             [
              0,
              "#0d0887"
             ],
             [
              0.1111111111111111,
              "#46039f"
             ],
             [
              0.2222222222222222,
              "#7201a8"
             ],
             [
              0.3333333333333333,
              "#9c179e"
             ],
             [
              0.4444444444444444,
              "#bd3786"
             ],
             [
              0.5555555555555556,
              "#d8576b"
             ],
             [
              0.6666666666666666,
              "#ed7953"
             ],
             [
              0.7777777777777778,
              "#fb9f3a"
             ],
             [
              0.8888888888888888,
              "#fdca26"
             ],
             [
              1,
              "#f0f921"
             ]
            ],
            "type": "surface"
           }
          ],
          "table": [
           {
            "cells": {
             "fill": {
              "color": "#EBF0F8"
             },
             "line": {
              "color": "white"
             }
            },
            "header": {
             "fill": {
              "color": "#C8D4E3"
             },
             "line": {
              "color": "white"
             }
            },
            "type": "table"
           }
          ]
         },
         "layout": {
          "annotationdefaults": {
           "arrowcolor": "#2a3f5f",
           "arrowhead": 0,
           "arrowwidth": 1
          },
          "autotypenumbers": "strict",
          "coloraxis": {
           "colorbar": {
            "outlinewidth": 0,
            "ticks": ""
           }
          },
          "colorscale": {
           "diverging": [
            [
             0,
             "#8e0152"
            ],
            [
             0.1,
             "#c51b7d"
            ],
            [
             0.2,
             "#de77ae"
            ],
            [
             0.3,
             "#f1b6da"
            ],
            [
             0.4,
             "#fde0ef"
            ],
            [
             0.5,
             "#f7f7f7"
            ],
            [
             0.6,
             "#e6f5d0"
            ],
            [
             0.7,
             "#b8e186"
            ],
            [
             0.8,
             "#7fbc41"
            ],
            [
             0.9,
             "#4d9221"
            ],
            [
             1,
             "#276419"
            ]
           ],
           "sequential": [
            [
             0,
             "#0d0887"
            ],
            [
             0.1111111111111111,
             "#46039f"
            ],
            [
             0.2222222222222222,
             "#7201a8"
            ],
            [
             0.3333333333333333,
             "#9c179e"
            ],
            [
             0.4444444444444444,
             "#bd3786"
            ],
            [
             0.5555555555555556,
             "#d8576b"
            ],
            [
             0.6666666666666666,
             "#ed7953"
            ],
            [
             0.7777777777777778,
             "#fb9f3a"
            ],
            [
             0.8888888888888888,
             "#fdca26"
            ],
            [
             1,
             "#f0f921"
            ]
           ],
           "sequentialminus": [
            [
             0,
             "#0d0887"
            ],
            [
             0.1111111111111111,
             "#46039f"
            ],
            [
             0.2222222222222222,
             "#7201a8"
            ],
            [
             0.3333333333333333,
             "#9c179e"
            ],
            [
             0.4444444444444444,
             "#bd3786"
            ],
            [
             0.5555555555555556,
             "#d8576b"
            ],
            [
             0.6666666666666666,
             "#ed7953"
            ],
            [
             0.7777777777777778,
             "#fb9f3a"
            ],
            [
             0.8888888888888888,
             "#fdca26"
            ],
            [
             1,
             "#f0f921"
            ]
           ]
          },
          "colorway": [
           "#636efa",
           "#EF553B",
           "#00cc96",
           "#ab63fa",
           "#FFA15A",
           "#19d3f3",
           "#FF6692",
           "#B6E880",
           "#FF97FF",
           "#FECB52"
          ],
          "font": {
           "color": "#2a3f5f"
          },
          "geo": {
           "bgcolor": "white",
           "lakecolor": "white",
           "landcolor": "#E5ECF6",
           "showlakes": true,
           "showland": true,
           "subunitcolor": "white"
          },
          "hoverlabel": {
           "align": "left"
          },
          "hovermode": "closest",
          "mapbox": {
           "style": "light"
          },
          "paper_bgcolor": "white",
          "plot_bgcolor": "#E5ECF6",
          "polar": {
           "angularaxis": {
            "gridcolor": "white",
            "linecolor": "white",
            "ticks": ""
           },
           "bgcolor": "#E5ECF6",
           "radialaxis": {
            "gridcolor": "white",
            "linecolor": "white",
            "ticks": ""
           }
          },
          "scene": {
           "xaxis": {
            "backgroundcolor": "#E5ECF6",
            "gridcolor": "white",
            "gridwidth": 2,
            "linecolor": "white",
            "showbackground": true,
            "ticks": "",
            "zerolinecolor": "white"
           },
           "yaxis": {
            "backgroundcolor": "#E5ECF6",
            "gridcolor": "white",
            "gridwidth": 2,
            "linecolor": "white",
            "showbackground": true,
            "ticks": "",
            "zerolinecolor": "white"
           },
           "zaxis": {
            "backgroundcolor": "#E5ECF6",
            "gridcolor": "white",
            "gridwidth": 2,
            "linecolor": "white",
            "showbackground": true,
            "ticks": "",
            "zerolinecolor": "white"
           }
          },
          "shapedefaults": {
           "line": {
            "color": "#2a3f5f"
           }
          },
          "ternary": {
           "aaxis": {
            "gridcolor": "white",
            "linecolor": "white",
            "ticks": ""
           },
           "baxis": {
            "gridcolor": "white",
            "linecolor": "white",
            "ticks": ""
           },
           "bgcolor": "#E5ECF6",
           "caxis": {
            "gridcolor": "white",
            "linecolor": "white",
            "ticks": ""
           }
          },
          "title": {
           "x": 0.05
          },
          "xaxis": {
           "automargin": true,
           "gridcolor": "white",
           "linecolor": "white",
           "ticks": "",
           "title": {
            "standoff": 15
           },
           "zerolinecolor": "white",
           "zerolinewidth": 2
          },
          "yaxis": {
           "automargin": true,
           "gridcolor": "white",
           "linecolor": "white",
           "ticks": "",
           "title": {
            "standoff": 15
           },
           "zerolinecolor": "white",
           "zerolinewidth": 2
          }
         }
        },
        "title": {
         "text": "Precio Unitario Mensual por Criptomoneda (2019)"
        },
        "xaxis": {
         "anchor": "y",
         "domain": [
          0,
          1
         ],
         "title": {
          "text": "Mes"
         }
        },
        "yaxis": {
         "anchor": "x",
         "domain": [
          0,
          1
         ],
         "title": {
          "text": "Precio Unitario (USD)"
         }
        }
       }
      }
     },
     "metadata": {},
     "output_type": "display_data"
    }
   ],
   "source": [
    "\n",
    "# Archivos y nombres de las criptomonedas\n",
    "file_paths = {\n",
    "    \"Bitcoin\": \"bitcoin.csv\",\n",
    "    \"Ethereum\": \"ethereum.csv\",\n",
    "    \"Ripple\": \"ripple.csv\",\n",
    "    \"Bitcoin Cash\": \"bitcoin-cash.csv\",\n",
    "    \"EOS\": \"eos.csv\"\n",
    "}\n",
    "\n",
    "# Leer y procesar los datos\n",
    "dataframes = {}\n",
    "\n",
    "for crypto, file_path in file_paths.items():\n",
    "    # Cargar archivo\n",
    "    df = pd.read_csv(file_path)\n",
    "    # Convertir fechas a formato datetime\n",
    "    df['date'] = pd.to_datetime(df['date'])\n",
    "    # Filtrar datos de 2019\n",
    "    df = df[df['date'].dt.year == 2019]\n",
    "    # Agregar columna de mes\n",
    "    df['month'] = df['date'].dt.to_period('M')\n",
    "    # Calcular promedio mensual del precio\n",
    "    monthly_avg = df.groupby('month')['price'].mean().reset_index()\n",
    "    monthly_avg['coin_name'] = crypto\n",
    "    dataframes[crypto] = monthly_avg\n",
    "\n",
    "# Unir todos los datos\n",
    "monthly_summary = pd.concat(dataframes.values())\n",
    "monthly_summary['month'] = monthly_summary['month'].dt.to_timestamp()\n",
    "\n",
    "# Graficar precios unitarios mensuales\n",
    "fig = px.line(\n",
    "    monthly_summary,\n",
    "    x='month',\n",
    "    y='price',\n",
    "    color='coin_name',\n",
    "    title='Precio Unitario Mensual por Criptomoneda (2019)',\n",
    "    labels={'month': 'Mes', 'price': 'Precio Unitario (USD)', 'coin_name': 'Criptomoneda'}\n",
    ")\n",
    "\n",
    "fig.update_layout(height=600)\n",
    "fig.show()"
   ]
  },
  {
   "cell_type": "code",
   "execution_count": 120,
   "metadata": {},
   "outputs": [
    {
     "name": "stdout",
     "output_type": "stream",
     "text": [
      "Index(['DATE', 'PRICE', 'TOTAL_VOLUME', 'MARKET_CAP', 'COIN_NAME', 'PROPORCIONAL'], dtype='object')\n"
     ]
    }
   ],
   "source": [
    "print(data.columns)\n"
   ]
  },
  {
   "cell_type": "markdown",
   "metadata": {},
   "source": [
    "# ---> **Inciso 5**\n",
    "---\n"
   ]
  },
  {
   "cell_type": "code",
   "execution_count": 121,
   "metadata": {},
   "outputs": [
    {
     "name": "stdout",
     "output_type": "stream",
     "text": [
      "Criptomoneda con la menor desviación estándar en 2019:\n",
      "COIN_NAME    algorand\n",
      "mean         0.496431\n",
      "std          0.411165\n",
      "Name: 0, dtype: object\n"
     ]
    }
   ],
   "source": [
    "# Asegurarse de que la columna 'DATE' sea de tipo datetime\n",
    "data['DATE'] = pd.to_datetime(data['DATE'], errors='coerce')\n",
    "\n",
    "# Filtrar datos para el año 2019\n",
    "data_2019 = data[data['DATE'].dt.year == 2019]  # Filtrar por año directamente usando .dt.year\n",
    "\n",
    "# Filas con valores nulos en 'price'\n",
    "data_2019 = data_2019.dropna(subset=['PRICE'])  # Asegúrate de que 'PRICE' esté en formato correcto\n",
    "\n",
    "if data_2019.empty:\n",
    "    print(\"No se encontraron datos para el año 2019.\")\n",
    "else:\n",
    "    # Calcular media y desviación estándar\n",
    "    resultados = data_2019.groupby('COIN_NAME')['PRICE'].agg(['mean', 'std']).reset_index()\n",
    "\n",
    "    if resultados.empty or resultados['std'].isnull().all():\n",
    "        print(\"No hay desviaciones estándar válidas para el cálculo.\")\n",
    "    else:\n",
    "        # Selección de la criptomoneda con la menor desviación estándar\n",
    "        coin_name_con_menor_std = resultados.loc[resultados['std'].idxmin()]\n",
    "        print(\"Criptomoneda con la menor desviación estándar en 2019:\")\n",
    "        print(coin_name_con_menor_std)\n"
   ]
  },
  {
   "cell_type": "markdown",
   "metadata": {},
   "source": [
    "# ---> **Inciso 6**\n",
    "______\n",
    "### Identificar Criptomonedas por Encima de la Media\n",
    "\n",
    "1. **Calcular la Media Global**:  \n",
    "   - Calcular la media de los precios de todas las criptomonedas seleccionadas durante el año **2015**.\n",
    "\n",
    "2. **Comparar los Precios**:  \n",
    "   - Identificar cuáles criptomonedas tienen precios promedio superiores a esta media global.\n"
   ]
  },
  {
   "cell_type": "code",
   "execution_count": 122,
   "metadata": {},
   "outputs": [
    {
     "name": "stdout",
     "output_type": "stream",
     "text": [
      "  date         price     total_volume  market_cap   coin_name\n",
      "0  2019-06-21  1.604939  6.653181e+05  0.000000e+00  algorand\n",
      "1  2019-06-22  3.172364  1.790331e+08  1.010855e+08  algorand\n",
      "2  2019-06-23  2.159165  2.588226e+08  7.665618e+07  algorand\n",
      "3  2019-06-24  1.899598  2.100211e+08  6.647512e+07  algorand\n",
      "4  2019-06-25  1.409310  1.574706e+08  5.522254e+07  algorand\n"
     ]
    }
   ],
   "source": [
    "# inciso 6\n",
    "# Lista de rutas de archivos\n",
    "files = ['algorand.csv', 'bitcoin.csv', 'binancecoin.csv', 'tezos.csv']\n",
    "\n",
    "# Leer y combinar los archivos en un solo DataFrame, agregando una columna para identificarlos\n",
    "data = pd.concat(\n",
    "    [pd.read_csv(file).assign(coin_name=file.split('.')[0]) for file in files],\n",
    "    ignore_index=True\n",
    ")\n",
    "\n",
    "\n",
    "# Explorar los datos combinados\n",
    "print(data.head())\n",
    "\n"
   ]
  },
  {
   "cell_type": "code",
   "execution_count": 123,
   "metadata": {},
   "outputs": [
    {
     "name": "stdout",
     "output_type": "stream",
     "text": [
      "Fechas de inicio por criptomoneda:\n",
      "coin_name\n",
      "algorand                    2019-06-21\n",
      "binancecoin    2017-09-16 00:00:00.000\n",
      "bitcoin        2015-01-01 00:00:00.000\n",
      "tezos                       2018-07-03\n",
      "Name: date, dtype: object\n"
     ]
    }
   ],
   "source": [
    "# Verificar fechas mínimas para cada criptomoneda\n",
    "start_dates = data.groupby('coin_name')['date'].min()\n",
    "print(\"Fechas de inicio por criptomoneda:\")\n",
    "print(start_dates)"
   ]
  },
  {
   "cell_type": "code",
   "execution_count": 124,
   "metadata": {},
   "outputs": [
    {
     "name": "stdout",
     "output_type": "stream",
     "text": [
      "\n",
      "Media general del precio: 1846.0582590549936\n",
      "\n",
      "Criptomonedas por encima de la media general:\n",
      "coin_name\n",
      "bitcoin    7362.712424\n",
      "Name: price, dtype: float64\n"
     ]
    }
   ],
   "source": [
    "# Filtrar los datos para el año 2019\n",
    "data_2019 = data[(data['date'] >= '2019-01-01') & (data['date'] <= '2019-12-31')]\n",
    "\n",
    "# Calcular la media del precio por criptomoneda\n",
    "mean_prices_by_coin = data_2019.groupby('coin_name')['price'].mean()\n",
    "\n",
    "# Calcular la media general del precio de todas las criptomonedas\n",
    "overall_mean_price = mean_prices_by_coin.mean()\n",
    "\n",
    "# Determinar cuáles criptomonedas están por encima de la media general\n",
    "above_average_coins = mean_prices_by_coin[mean_prices_by_coin > overall_mean_price]\n",
    "\n",
    "# Mostrar resultados\n",
    "print(\"\\nMedia general del precio:\", overall_mean_price)\n",
    "print(\"\\nCriptomonedas por encima de la media general:\")\n",
    "print(above_average_coins)"
   ]
  },
  {
   "cell_type": "code",
   "execution_count": 125,
   "metadata": {},
   "outputs": [
    {
     "data": {
      "application/vnd.plotly.v1+json": {
       "config": {
        "plotlyServerURL": "https://plot.ly"
       },
       "data": [
        {
         "alignmentgroup": "True",
         "hovertemplate": "Categoría=Por Debajo de la Media<br>Precio Promedio (USD)=%{x}<br>Criptomoneda=%{y}<extra></extra>",
         "legendgroup": "Por Debajo de la Media",
         "marker": {
          "color": "#636efa",
          "pattern": {
           "shape": ""
          }
         },
         "name": "Por Debajo de la Media",
         "offsetgroup": "Por Debajo de la Media",
         "orientation": "h",
         "showlegend": true,
         "textposition": "auto",
         "type": "bar",
         "x": [
          0.49643055017590415,
          20.019889284203355,
          1.0042919417088216
         ],
         "xaxis": "x",
         "y": [
          "algorand",
          "binancecoin",
          "tezos"
         ],
         "yaxis": "y"
        },
        {
         "alignmentgroup": "True",
         "hovertemplate": "Categoría=Por Encima de la Media<br>Precio Promedio (USD)=%{x}<br>Criptomoneda=%{y}<extra></extra>",
         "legendgroup": "Por Encima de la Media",
         "marker": {
          "color": "#EF553B",
          "pattern": {
           "shape": ""
          }
         },
         "name": "Por Encima de la Media",
         "offsetgroup": "Por Encima de la Media",
         "orientation": "h",
         "showlegend": true,
         "textposition": "auto",
         "type": "bar",
         "x": [
          7362.712424443886
         ],
         "xaxis": "x",
         "y": [
          "bitcoin"
         ],
         "yaxis": "y"
        }
       ],
       "layout": {
        "annotations": [
         {
          "font": {
           "color": "red"
          },
          "showarrow": false,
          "text": "Media General: 1846.06 USD",
          "x": 1846.0582590549936,
          "y": 3.5
         }
        ],
        "barmode": "relative",
        "legend": {
         "title": {
          "text": "Categoría"
         },
         "tracegroupgap": 0
        },
        "shapes": [
         {
          "line": {
           "color": "red",
           "dash": "dash"
          },
          "type": "line",
          "x0": 1846.0582590549936,
          "x1": 1846.0582590549936,
          "xref": "x",
          "y0": -0.5,
          "y1": 3.5,
          "yref": "y"
         }
        ],
        "template": {
         "data": {
          "bar": [
           {
            "error_x": {
             "color": "#2a3f5f"
            },
            "error_y": {
             "color": "#2a3f5f"
            },
            "marker": {
             "line": {
              "color": "#E5ECF6",
              "width": 0.5
             },
             "pattern": {
              "fillmode": "overlay",
              "size": 10,
              "solidity": 0.2
             }
            },
            "type": "bar"
           }
          ],
          "barpolar": [
           {
            "marker": {
             "line": {
              "color": "#E5ECF6",
              "width": 0.5
             },
             "pattern": {
              "fillmode": "overlay",
              "size": 10,
              "solidity": 0.2
             }
            },
            "type": "barpolar"
           }
          ],
          "carpet": [
           {
            "aaxis": {
             "endlinecolor": "#2a3f5f",
             "gridcolor": "white",
             "linecolor": "white",
             "minorgridcolor": "white",
             "startlinecolor": "#2a3f5f"
            },
            "baxis": {
             "endlinecolor": "#2a3f5f",
             "gridcolor": "white",
             "linecolor": "white",
             "minorgridcolor": "white",
             "startlinecolor": "#2a3f5f"
            },
            "type": "carpet"
           }
          ],
          "choropleth": [
           {
            "colorbar": {
             "outlinewidth": 0,
             "ticks": ""
            },
            "type": "choropleth"
           }
          ],
          "contour": [
           {
            "colorbar": {
             "outlinewidth": 0,
             "ticks": ""
            },
            "colorscale": [
             [
              0,
              "#0d0887"
             ],
             [
              0.1111111111111111,
              "#46039f"
             ],
             [
              0.2222222222222222,
              "#7201a8"
             ],
             [
              0.3333333333333333,
              "#9c179e"
             ],
             [
              0.4444444444444444,
              "#bd3786"
             ],
             [
              0.5555555555555556,
              "#d8576b"
             ],
             [
              0.6666666666666666,
              "#ed7953"
             ],
             [
              0.7777777777777778,
              "#fb9f3a"
             ],
             [
              0.8888888888888888,
              "#fdca26"
             ],
             [
              1,
              "#f0f921"
             ]
            ],
            "type": "contour"
           }
          ],
          "contourcarpet": [
           {
            "colorbar": {
             "outlinewidth": 0,
             "ticks": ""
            },
            "type": "contourcarpet"
           }
          ],
          "heatmap": [
           {
            "colorbar": {
             "outlinewidth": 0,
             "ticks": ""
            },
            "colorscale": [
             [
              0,
              "#0d0887"
             ],
             [
              0.1111111111111111,
              "#46039f"
             ],
             [
              0.2222222222222222,
              "#7201a8"
             ],
             [
              0.3333333333333333,
              "#9c179e"
             ],
             [
              0.4444444444444444,
              "#bd3786"
             ],
             [
              0.5555555555555556,
              "#d8576b"
             ],
             [
              0.6666666666666666,
              "#ed7953"
             ],
             [
              0.7777777777777778,
              "#fb9f3a"
             ],
             [
              0.8888888888888888,
              "#fdca26"
             ],
             [
              1,
              "#f0f921"
             ]
            ],
            "type": "heatmap"
           }
          ],
          "heatmapgl": [
           {
            "colorbar": {
             "outlinewidth": 0,
             "ticks": ""
            },
            "colorscale": [
             [
              0,
              "#0d0887"
             ],
             [
              0.1111111111111111,
              "#46039f"
             ],
             [
              0.2222222222222222,
              "#7201a8"
             ],
             [
              0.3333333333333333,
              "#9c179e"
             ],
             [
              0.4444444444444444,
              "#bd3786"
             ],
             [
              0.5555555555555556,
              "#d8576b"
             ],
             [
              0.6666666666666666,
              "#ed7953"
             ],
             [
              0.7777777777777778,
              "#fb9f3a"
             ],
             [
              0.8888888888888888,
              "#fdca26"
             ],
             [
              1,
              "#f0f921"
             ]
            ],
            "type": "heatmapgl"
           }
          ],
          "histogram": [
           {
            "marker": {
             "pattern": {
              "fillmode": "overlay",
              "size": 10,
              "solidity": 0.2
             }
            },
            "type": "histogram"
           }
          ],
          "histogram2d": [
           {
            "colorbar": {
             "outlinewidth": 0,
             "ticks": ""
            },
            "colorscale": [
             [
              0,
              "#0d0887"
             ],
             [
              0.1111111111111111,
              "#46039f"
             ],
             [
              0.2222222222222222,
              "#7201a8"
             ],
             [
              0.3333333333333333,
              "#9c179e"
             ],
             [
              0.4444444444444444,
              "#bd3786"
             ],
             [
              0.5555555555555556,
              "#d8576b"
             ],
             [
              0.6666666666666666,
              "#ed7953"
             ],
             [
              0.7777777777777778,
              "#fb9f3a"
             ],
             [
              0.8888888888888888,
              "#fdca26"
             ],
             [
              1,
              "#f0f921"
             ]
            ],
            "type": "histogram2d"
           }
          ],
          "histogram2dcontour": [
           {
            "colorbar": {
             "outlinewidth": 0,
             "ticks": ""
            },
            "colorscale": [
             [
              0,
              "#0d0887"
             ],
             [
              0.1111111111111111,
              "#46039f"
             ],
             [
              0.2222222222222222,
              "#7201a8"
             ],
             [
              0.3333333333333333,
              "#9c179e"
             ],
             [
              0.4444444444444444,
              "#bd3786"
             ],
             [
              0.5555555555555556,
              "#d8576b"
             ],
             [
              0.6666666666666666,
              "#ed7953"
             ],
             [
              0.7777777777777778,
              "#fb9f3a"
             ],
             [
              0.8888888888888888,
              "#fdca26"
             ],
             [
              1,
              "#f0f921"
             ]
            ],
            "type": "histogram2dcontour"
           }
          ],
          "mesh3d": [
           {
            "colorbar": {
             "outlinewidth": 0,
             "ticks": ""
            },
            "type": "mesh3d"
           }
          ],
          "parcoords": [
           {
            "line": {
             "colorbar": {
              "outlinewidth": 0,
              "ticks": ""
             }
            },
            "type": "parcoords"
           }
          ],
          "pie": [
           {
            "automargin": true,
            "type": "pie"
           }
          ],
          "scatter": [
           {
            "fillpattern": {
             "fillmode": "overlay",
             "size": 10,
             "solidity": 0.2
            },
            "type": "scatter"
           }
          ],
          "scatter3d": [
           {
            "line": {
             "colorbar": {
              "outlinewidth": 0,
              "ticks": ""
             }
            },
            "marker": {
             "colorbar": {
              "outlinewidth": 0,
              "ticks": ""
             }
            },
            "type": "scatter3d"
           }
          ],
          "scattercarpet": [
           {
            "marker": {
             "colorbar": {
              "outlinewidth": 0,
              "ticks": ""
             }
            },
            "type": "scattercarpet"
           }
          ],
          "scattergeo": [
           {
            "marker": {
             "colorbar": {
              "outlinewidth": 0,
              "ticks": ""
             }
            },
            "type": "scattergeo"
           }
          ],
          "scattergl": [
           {
            "marker": {
             "colorbar": {
              "outlinewidth": 0,
              "ticks": ""
             }
            },
            "type": "scattergl"
           }
          ],
          "scattermapbox": [
           {
            "marker": {
             "colorbar": {
              "outlinewidth": 0,
              "ticks": ""
             }
            },
            "type": "scattermapbox"
           }
          ],
          "scatterpolar": [
           {
            "marker": {
             "colorbar": {
              "outlinewidth": 0,
              "ticks": ""
             }
            },
            "type": "scatterpolar"
           }
          ],
          "scatterpolargl": [
           {
            "marker": {
             "colorbar": {
              "outlinewidth": 0,
              "ticks": ""
             }
            },
            "type": "scatterpolargl"
           }
          ],
          "scatterternary": [
           {
            "marker": {
             "colorbar": {
              "outlinewidth": 0,
              "ticks": ""
             }
            },
            "type": "scatterternary"
           }
          ],
          "surface": [
           {
            "colorbar": {
             "outlinewidth": 0,
             "ticks": ""
            },
            "colorscale": [
             [
              0,
              "#0d0887"
             ],
             [
              0.1111111111111111,
              "#46039f"
             ],
             [
              0.2222222222222222,
              "#7201a8"
             ],
             [
              0.3333333333333333,
              "#9c179e"
             ],
             [
              0.4444444444444444,
              "#bd3786"
             ],
             [
              0.5555555555555556,
              "#d8576b"
             ],
             [
              0.6666666666666666,
              "#ed7953"
             ],
             [
              0.7777777777777778,
              "#fb9f3a"
             ],
             [
              0.8888888888888888,
              "#fdca26"
             ],
             [
              1,
              "#f0f921"
             ]
            ],
            "type": "surface"
           }
          ],
          "table": [
           {
            "cells": {
             "fill": {
              "color": "#EBF0F8"
             },
             "line": {
              "color": "white"
             }
            },
            "header": {
             "fill": {
              "color": "#C8D4E3"
             },
             "line": {
              "color": "white"
             }
            },
            "type": "table"
           }
          ]
         },
         "layout": {
          "annotationdefaults": {
           "arrowcolor": "#2a3f5f",
           "arrowhead": 0,
           "arrowwidth": 1
          },
          "autotypenumbers": "strict",
          "coloraxis": {
           "colorbar": {
            "outlinewidth": 0,
            "ticks": ""
           }
          },
          "colorscale": {
           "diverging": [
            [
             0,
             "#8e0152"
            ],
            [
             0.1,
             "#c51b7d"
            ],
            [
             0.2,
             "#de77ae"
            ],
            [
             0.3,
             "#f1b6da"
            ],
            [
             0.4,
             "#fde0ef"
            ],
            [
             0.5,
             "#f7f7f7"
            ],
            [
             0.6,
             "#e6f5d0"
            ],
            [
             0.7,
             "#b8e186"
            ],
            [
             0.8,
             "#7fbc41"
            ],
            [
             0.9,
             "#4d9221"
            ],
            [
             1,
             "#276419"
            ]
           ],
           "sequential": [
            [
             0,
             "#0d0887"
            ],
            [
             0.1111111111111111,
             "#46039f"
            ],
            [
             0.2222222222222222,
             "#7201a8"
            ],
            [
             0.3333333333333333,
             "#9c179e"
            ],
            [
             0.4444444444444444,
             "#bd3786"
            ],
            [
             0.5555555555555556,
             "#d8576b"
            ],
            [
             0.6666666666666666,
             "#ed7953"
            ],
            [
             0.7777777777777778,
             "#fb9f3a"
            ],
            [
             0.8888888888888888,
             "#fdca26"
            ],
            [
             1,
             "#f0f921"
            ]
           ],
           "sequentialminus": [
            [
             0,
             "#0d0887"
            ],
            [
             0.1111111111111111,
             "#46039f"
            ],
            [
             0.2222222222222222,
             "#7201a8"
            ],
            [
             0.3333333333333333,
             "#9c179e"
            ],
            [
             0.4444444444444444,
             "#bd3786"
            ],
            [
             0.5555555555555556,
             "#d8576b"
            ],
            [
             0.6666666666666666,
             "#ed7953"
            ],
            [
             0.7777777777777778,
             "#fb9f3a"
            ],
            [
             0.8888888888888888,
             "#fdca26"
            ],
            [
             1,
             "#f0f921"
            ]
           ]
          },
          "colorway": [
           "#636efa",
           "#EF553B",
           "#00cc96",
           "#ab63fa",
           "#FFA15A",
           "#19d3f3",
           "#FF6692",
           "#B6E880",
           "#FF97FF",
           "#FECB52"
          ],
          "font": {
           "color": "#2a3f5f"
          },
          "geo": {
           "bgcolor": "white",
           "lakecolor": "white",
           "landcolor": "#E5ECF6",
           "showlakes": true,
           "showland": true,
           "subunitcolor": "white"
          },
          "hoverlabel": {
           "align": "left"
          },
          "hovermode": "closest",
          "mapbox": {
           "style": "light"
          },
          "paper_bgcolor": "white",
          "plot_bgcolor": "#E5ECF6",
          "polar": {
           "angularaxis": {
            "gridcolor": "white",
            "linecolor": "white",
            "ticks": ""
           },
           "bgcolor": "#E5ECF6",
           "radialaxis": {
            "gridcolor": "white",
            "linecolor": "white",
            "ticks": ""
           }
          },
          "scene": {
           "xaxis": {
            "backgroundcolor": "#E5ECF6",
            "gridcolor": "white",
            "gridwidth": 2,
            "linecolor": "white",
            "showbackground": true,
            "ticks": "",
            "zerolinecolor": "white"
           },
           "yaxis": {
            "backgroundcolor": "#E5ECF6",
            "gridcolor": "white",
            "gridwidth": 2,
            "linecolor": "white",
            "showbackground": true,
            "ticks": "",
            "zerolinecolor": "white"
           },
           "zaxis": {
            "backgroundcolor": "#E5ECF6",
            "gridcolor": "white",
            "gridwidth": 2,
            "linecolor": "white",
            "showbackground": true,
            "ticks": "",
            "zerolinecolor": "white"
           }
          },
          "shapedefaults": {
           "line": {
            "color": "#2a3f5f"
           }
          },
          "ternary": {
           "aaxis": {
            "gridcolor": "white",
            "linecolor": "white",
            "ticks": ""
           },
           "baxis": {
            "gridcolor": "white",
            "linecolor": "white",
            "ticks": ""
           },
           "bgcolor": "#E5ECF6",
           "caxis": {
            "gridcolor": "white",
            "linecolor": "white",
            "ticks": ""
           }
          },
          "title": {
           "x": 0.05
          },
          "xaxis": {
           "automargin": true,
           "gridcolor": "white",
           "linecolor": "white",
           "ticks": "",
           "title": {
            "standoff": 15
           },
           "zerolinecolor": "white",
           "zerolinewidth": 2
          },
          "yaxis": {
           "automargin": true,
           "gridcolor": "white",
           "linecolor": "white",
           "ticks": "",
           "title": {
            "standoff": 15
           },
           "zerolinecolor": "white",
           "zerolinewidth": 2
          }
         }
        },
        "title": {
         "text": "Precios Promedio por Criptomoneda (2019)"
        },
        "xaxis": {
         "anchor": "y",
         "domain": [
          0,
          1
         ],
         "title": {
          "text": "Precio Promedio (USD)"
         }
        },
        "yaxis": {
         "anchor": "x",
         "domain": [
          0,
          1
         ],
         "title": {
          "text": "Criptomoneda"
         }
        }
       }
      }
     },
     "metadata": {},
     "output_type": "display_data"
    }
   ],
   "source": [
    "# Preparar los datos para la gráfica\n",
    "graph_data = mean_prices_by_coin.reset_index()\n",
    "graph_data.columns = ['Criptomoneda', 'Precio Promedio']\n",
    "graph_data['Categoría'] = graph_data['Precio Promedio'].apply(\n",
    "    lambda x: 'Por Encima de la Media' if x > overall_mean_price else 'Por Debajo de la Media'\n",
    ")\n",
    "\n",
    "# Crear la gráfica de barras con Plotly\n",
    "fig = px.bar(\n",
    "    graph_data,\n",
    "    x='Precio Promedio',\n",
    "    y='Criptomoneda',\n",
    "    color='Categoría',\n",
    "    title='Precios Promedio por Criptomoneda (2019)',\n",
    "    labels={'Precio Promedio': 'Precio Promedio (USD)', 'Criptomoneda': 'Criptomoneda'},\n",
    "    orientation='h'\n",
    ")\n",
    "\n",
    "# Agregar una línea de referencia para la media general\n",
    "fig.add_shape(\n",
    "    type='line',\n",
    "    x0=overall_mean_price,\n",
    "    x1=overall_mean_price,\n",
    "    y0=-0.5,\n",
    "    y1=len(graph_data) - 0.5,\n",
    "    line=dict(color='red', dash='dash'),\n",
    "    xref='x',\n",
    "    yref='y'\n",
    ")\n",
    "\n",
    "# Agregar texto para la línea de referencia\n",
    "fig.add_annotation(\n",
    "    x=overall_mean_price,\n",
    "    y=len(graph_data) - 0.5,\n",
    "    text=f\"Media General: {overall_mean_price:.2f} USD\",\n",
    "    showarrow=False,\n",
    "    font=dict(color='red')\n",
    ")\n",
    "\n",
    "# Mostrar la gráfica\n",
    "fig.show()"
   ]
  },
  {
   "cell_type": "markdown",
   "metadata": {},
   "source": [
    "*Análisis:* comparamos bitcoin, tezos, binancecoin y algorand, y la que esta por encima de la media es bitcoin."
   ]
  },
  {
   "cell_type": "markdown",
   "metadata": {},
   "source": [
    "# ---> **Inciso 7**\n",
    "---\n",
    "### Criptomonedas con Mayor Valor de Mercado en los Últimos Tres Meses de 2019\n",
    "\n",
    "1. **Filtrar el Período de Tiempo**:  \n",
    "   - Considerar únicamente los datos de los últimos tres meses del año **2019** (octubre, noviembre y diciembre).\n",
    "\n",
    "2. **Evaluar el Valor de Mercado**:  \n",
    "   - Analizar el valor de mercado de cada criptomoneda en ese período.\n",
    "\n",
    "3. **Identificar las Principales Criptomonedas**:  \n",
    "   - Determinar cuáles criptomonedas tuvieron el **mayor valor de mercado** durante ese período.\n"
   ]
  },
  {
   "cell_type": "code",
   "execution_count": 126,
   "metadata": {},
   "outputs": [
    {
     "name": "stdout",
     "output_type": "stream",
     "text": [
      "  Mes         Posición Criptomoneda  Capitalización de Mercado (USD) Precio Unitario (USD)\n",
      "2 2019-12-01  1              Bitcoin  131,431,188,297                 7,260.19            \n",
      "2 2019-12-01  2             Ethereum   15,024,696,988                   137.97            \n",
      "2 2019-12-01  3               Ripple    8,995,152,570                     0.21            \n",
      "2 2019-12-01  4               Tether    4,288,879,915                     1.00            \n",
      "2 2019-12-01  5         Bitcoin Cash    3,671,128,881                   202.10            \n",
      "2 2019-12-01  6             Litecoin    2,729,250,334                    42.82            \n",
      "2 2019-12-01  7                  EOS    2,464,932,109                     2.58            \n",
      "2 2019-12-01  8         Binance Coin    2,194,435,273                    14.30            \n",
      "1 2019-11-01  1              Bitcoin  151,491,323,489                 8,391.82            \n",
      "1 2019-11-01  2             Ethereum   18,883,408,797                   173.89            \n",
      "1 2019-11-01  3               Ripple   11,381,672,299                     0.26            \n",
      "1 2019-11-01  4         Bitcoin Cash    4,696,259,677                   259.21            \n",
      "1 2019-11-01  5               Tether    4,290,359,718                     1.00            \n",
      "1 2019-11-01  6             Litecoin    3,566,081,424                    55.99            \n",
      "1 2019-11-01  7                  EOS    3,184,331,675                     3.16            \n",
      "1 2019-11-01  8         Binance Coin    2,885,822,347                    18.80            \n",
      "0 2019-10-01  1              Bitcoin  150,207,632,016                 8,348.79            \n",
      "0 2019-10-01  2             Ethereum   19,307,389,136                   178.56            \n",
      "0 2019-10-01  3               Ripple   12,054,900,999                     0.28            \n",
      "0 2019-10-01  4         Bitcoin Cash    4,193,377,751                   232.27            \n",
      "0 2019-10-01  5               Tether    3,916,362,278                     1.00            \n",
      "0 2019-10-01  6             Litecoin    3,540,621,269                    55.79            \n",
      "0 2019-10-01  7                  EOS    3,139,077,012                     3.05            \n",
      "0 2019-10-01  8         Binance Coin    2,729,584,584                    17.56            \n"
     ]
    }
   ],
   "source": [
    "# Archivos de las criptomonedas\n",
    "file_paths = {\n",
    "    \"Bitcoin\": \"bitcoin.csv\",\n",
    "    \"Ethereum\": \"ethereum.csv\",\n",
    "    \"Ripple\": \"ripple.csv\",\n",
    "    \"Bitcoin Cash\": \"bitcoin-cash.csv\",\n",
    "    \"EOS\": \"eos.csv\",\n",
    "    \"Litecoin\": \"litecoin.csv\",\n",
    "    \"Tether\": \"tether.csv\",\n",
    "    \"Binance Coin\": \"binancecoin.csv\"\n",
    "}\n",
    "\n",
    "# Leer y procesar los datos\n",
    "dataframes = {}\n",
    "for crypto, path in file_paths.items():\n",
    "    df = pd.read_csv(path)\n",
    "    df['date'] = pd.to_datetime(df['date'])\n",
    "    dataframes[crypto] = df\n",
    "\n",
    "# Filtrar los datos para los últimos tres meses de 2019\n",
    "filtered_data = []\n",
    "for crypto, df in dataframes.items():\n",
    "    filtered_df = df.loc[(df['date'] >= '2019-10-01') & (df['date'] <= '2019-12-31')].copy()\n",
    "    filtered_df['month'] = filtered_df['date'].dt.to_period('M')\n",
    "    monthly_avg = filtered_df.groupby('month')[['market_cap', 'price']].mean().reset_index()\n",
    "    monthly_avg['coin_name'] = crypto\n",
    "    filtered_data.append(monthly_avg)\n",
    "\n",
    "# Combinar los datos de todas las criptomonedas\n",
    "final_summary = pd.concat(filtered_data)\n",
    "final_summary['month'] = final_summary['month'].dt.to_timestamp()\n",
    "\n",
    "# Ordenar por mes y capitalización de mercado (descendente)\n",
    "ordered_data = final_summary.sort_values(by=['month', 'market_cap'], ascending=False)\n",
    "\n",
    "# Agregar posiciones\n",
    "ordered_data['Position'] = ordered_data.groupby('month').cumcount() + 1\n",
    "\n",
    "# Seleccionar columnas clave para simplicidad (sin columna de incremento)\n",
    "final_table = ordered_data[['month', 'Position', 'coin_name', 'market_cap', 'price']]\n",
    "\n",
    "# Renombrar columnas para claridad\n",
    "final_table.columns = [\n",
    "    'Mes', 'Posición', 'Criptomoneda',\n",
    "    'Capitalización de Mercado (USD)', 'Precio Unitario (USD)'\n",
    "]\n",
    "\n",
    "# Formatear las columnas de capitalización y precio\n",
    "final_table['Capitalización de Mercado (USD)'] = final_table['Capitalización de Mercado (USD)'].apply(lambda x: f\"{x:,.0f}\")\n",
    "final_table['Precio Unitario (USD)'] = final_table['Precio Unitario (USD)'].apply(lambda x: f\"{x:,.2f}\")\n",
    "\n",
    "# Configurar pandas para mostrar más columnas y un ancho ajustado\n",
    "pd.set_option('display.max_columns', None)\n",
    "pd.set_option('display.width', 150)  # Ajustar ancho para la consola\n",
    "pd.set_option('display.max_rows', None)  # Mostrar todas las filas\n",
    "pd.set_option('display.colheader_justify', 'left')  # Justificar las columnas a la izquierda\n",
    "\n",
    "# Mostrar la tabla en consola\n",
    "print(final_table)"
   ]
  },
  {
   "cell_type": "code",
   "execution_count": 127,
   "metadata": {},
   "outputs": [
    {
     "data": {
      "image/png": "[encoded data removed]",
      "text/plain": [
       "<Figure size 1400x800 with 2 Axes>"
      ]
     },
     "metadata": {},
     "output_type": "display_data"
    }
   ],
   "source": [
    "\n",
    "# Configurar el estilo de la gráfica\n",
    "sns.set(style=\"whitegrid\")\n",
    "\n",
    "# Crear un gráfico de líneas para la visualización\n",
    "plt.figure(figsize=(14, 8))\n",
    "\n",
    "# Graficar la capitalización de mercado para cada criptomoneda\n",
    "for crypto in final_table['Criptomoneda'].unique():\n",
    "    subset = final_table[final_table['Criptomoneda'] == crypto]\n",
    "    plt.plot(subset['Mes'], subset['Capitalización de Mercado (USD)'].apply(lambda x: float(x.replace(',', ''))), label=f'{crypto} - Capitalización de Mercado', marker='o')\n",
    "\n",
    "# Crear un eje secundario para los precios unitarios\n",
    "ax2 = plt.gca().twinx()\n",
    "\n",
    "# Graficar el precio unitario para cada criptomoneda\n",
    "for crypto in final_table['Criptomoneda'].unique():\n",
    "    subset = final_table[final_table['Criptomoneda'] == crypto]\n",
    "    ax2.plot(subset['Mes'], subset['Precio Unitario (USD)'].apply(lambda x: float(x.replace(',', ''))), label=f'{crypto} - Precio Unitario', linestyle='--', marker='x')\n",
    "\n",
    "# Títulos y etiquetas\n",
    "plt.title('Capitalización de Mercado y Precio Unitario de Criptomonedas (Oct - Dic 2019)', fontsize=16)\n",
    "plt.xlabel('Mes', fontsize=12)\n",
    "plt.ylabel('Capitalización de Mercado (USD)', fontsize=12)\n",
    "ax2.set_ylabel('Precio Unitario (USD)', fontsize=12)\n",
    "\n",
    "# Añadir leyenda para las dos gráficas\n",
    "plt.legend(loc='upper left', bbox_to_anchor=(1, 1), title='Capitalización de Mercado', fontsize=10)\n",
    "ax2.legend(loc='upper left', bbox_to_anchor=(1, 0.9), title='Precio Unitario', fontsize=10)\n",
    "\n",
    "# Mejorar el formato de la fecha para los ejes X\n",
    "plt.xticks(rotation=45)\n",
    "plt.tight_layout()\n",
    "\n",
    "# Mostrar la gráfica\n",
    "plt.show()\n"
   ]
  },
  {
   "cell_type": "markdown",
   "metadata": {},
   "source": [
    "# **---> Inciso 8**\n",
    "---"
   ]
  },
  {
   "cell_type": "markdown",
   "metadata": {},
   "source": [
    "### Criptomoneda Más Estable en 2019\n",
    "\n",
    "1. **Definir Estabilidad**:  \n",
    "   - La estabilidad se refiere a la criptomoneda que tuvo el menor número de fluctuaciones en su precio durante el año **2019**, lo que implica poca variabilidad en su valor.\n",
    "\n",
    "2. **Medir la Variabilidad**:  \n",
    "   - Analizar las variaciones diarias o mensuales en los precios de cada criptomoneda a lo largo de 2019.\n",
    "\n",
    "3. **Identificar la Más Estable**:  \n",
    "   - Determinar cuál criptomoneda tuvo la **menor volatilidad** o las **fluctuaciones más suaves** en su precio durante el año 2019, lo que la hace la más estable.\n"
   ]
  },
  {
   "cell_type": "code",
   "execution_count": 128,
   "metadata": {},
   "outputs": [],
   "source": [
    "\n",
    "# Lista de archivos de criptomonedas\n",
    "file_paths = {\n",
    "    \"Bitcoin\": \"bitcoin.csv\",\n",
    "    \"Ethereum\": \"ethereum.csv\",\n",
    "    \"Ripple\": \"ripple.csv\",\n",
    "    \"Bitcoin Cash\": \"bitcoin-cash.csv\",\n",
    "    \"EOS\": \"eos.csv\",\n",
    "    # Agrega más criptomonedas aquí si es necesario\n",
    "}\n",
    "\n",
    "# Leer y procesar los datos\n",
    "dataframes = {}\n",
    "for crypto, file_path in file_paths.items():\n",
    "    df = pd.read_csv(file_path)\n",
    "    df['date'] = pd.to_datetime(df['date'])\n",
    "    df['coin_name'] = crypto\n",
    "    dataframes[crypto] = df\n",
    "\n",
    "# Definir estabilidad como la menor variabilidad en los precios durante el 2019\n"
   ]
  },
  {
   "cell_type": "code",
   "execution_count": 129,
   "metadata": {},
   "outputs": [
    {
     "data": {
      "application/vnd.plotly.v1+json": {
       "config": {
        "plotlyServerURL": "https://plot.ly"
       },
       "data": [
        {
         "alignmentgroup": "True",
         "hovertemplate": "Criptomoneda=%{x}<br>Desviación Estándar (%)=%{marker.color}<extra></extra>",
         "legendgroup": "",
         "marker": {
          "color": [
           3.5835045948096904,
           3.7173467693082576,
           4.226278193096218,
           5.113698884941341,
           5.480768892186969
          ],
          "coloraxis": "coloraxis",
          "pattern": {
           "shape": ""
          }
         },
         "name": "",
         "offsetgroup": "",
         "orientation": "v",
         "showlegend": false,
         "textposition": "auto",
         "type": "bar",
         "x": [
          "Bitcoin",
          "Ripple",
          "Ethereum",
          "EOS",
          "Bitcoin Cash"
         ],
         "xaxis": "x",
         "y": [
          3.5835045948096904,
          3.7173467693082576,
          4.226278193096218,
          5.113698884941341,
          5.480768892186969
         ],
         "yaxis": "y"
        }
       ],
       "layout": {
        "barmode": "relative",
        "coloraxis": {
         "colorbar": {
          "title": {
           "text": "Desviación Estándar (%)"
          }
         },
         "colorscale": [
          [
           0,
           "#0d0887"
          ],
          [
           0.1111111111111111,
           "#46039f"
          ],
          [
           0.2222222222222222,
           "#7201a8"
          ],
          [
           0.3333333333333333,
           "#9c179e"
          ],
          [
           0.4444444444444444,
           "#bd3786"
          ],
          [
           0.5555555555555556,
           "#d8576b"
          ],
          [
           0.6666666666666666,
           "#ed7953"
          ],
          [
           0.7777777777777778,
           "#fb9f3a"
          ],
          [
           0.8888888888888888,
           "#fdca26"
          ],
          [
           1,
           "#f0f921"
          ]
         ]
        },
        "height": 500,
        "legend": {
         "tracegroupgap": 0
        },
        "template": {
         "data": {
          "bar": [
           {
            "error_x": {
             "color": "#f2f5fa"
            },
            "error_y": {
             "color": "#f2f5fa"
            },
            "marker": {
             "line": {
              "color": "rgb(17,17,17)",
              "width": 0.5
             },
             "pattern": {
              "fillmode": "overlay",
              "size": 10,
              "solidity": 0.2
             }
            },
            "type": "bar"
           }
          ],
          "barpolar": [
           {
            "marker": {
             "line": {
              "color": "rgb(17,17,17)",
              "width": 0.5
             },
             "pattern": {
              "fillmode": "overlay",
              "size": 10,
              "solidity": 0.2
             }
            },
            "type": "barpolar"
           }
          ],
          "carpet": [
           {
            "aaxis": {
             "endlinecolor": "#A2B1C6",
             "gridcolor": "#506784",
             "linecolor": "#506784",
             "minorgridcolor": "#506784",
             "startlinecolor": "#A2B1C6"
            },
            "baxis": {
             "endlinecolor": "#A2B1C6",
             "gridcolor": "#506784",
             "linecolor": "#506784",
             "minorgridcolor": "#506784",
             "startlinecolor": "#A2B1C6"
            },
            "type": "carpet"
           }
          ],
          "choropleth": [
           {
            "colorbar": {
             "outlinewidth": 0,
             "ticks": ""
            },
            "type": "choropleth"
           }
          ],
          "contour": [
           {
            "colorbar": {
             "outlinewidth": 0,
             "ticks": ""
            },
            "colorscale": [
             [
              0,
              "#0d0887"
             ],
             [
              0.1111111111111111,
              "#46039f"
             ],
             [
              0.2222222222222222,
              "#7201a8"
             ],
             [
              0.3333333333333333,
              "#9c179e"
             ],
             [
              0.4444444444444444,
              "#bd3786"
             ],
             [
              0.5555555555555556,
              "#d8576b"
             ],
             [
              0.6666666666666666,
              "#ed7953"
             ],
             [
              0.7777777777777778,
              "#fb9f3a"
             ],
             [
              0.8888888888888888,
              "#fdca26"
             ],
             [
              1,
              "#f0f921"
             ]
            ],
            "type": "contour"
           }
          ],
          "contourcarpet": [
           {
            "colorbar": {
             "outlinewidth": 0,
             "ticks": ""
            },
            "type": "contourcarpet"
           }
          ],
          "heatmap": [
           {
            "colorbar": {
             "outlinewidth": 0,
             "ticks": ""
            },
            "colorscale": [
             [
              0,
              "#0d0887"
             ],
             [
              0.1111111111111111,
              "#46039f"
             ],
             [
              0.2222222222222222,
              "#7201a8"
             ],
             [
              0.3333333333333333,
              "#9c179e"
             ],
             [
              0.4444444444444444,
              "#bd3786"
             ],
             [
              0.5555555555555556,
              "#d8576b"
             ],
             [
              0.6666666666666666,
              "#ed7953"
             ],
             [
              0.7777777777777778,
              "#fb9f3a"
             ],
             [
              0.8888888888888888,
              "#fdca26"
             ],
             [
              1,
              "#f0f921"
             ]
            ],
            "type": "heatmap"
           }
          ],
          "heatmapgl": [
           {
            "colorbar": {
             "outlinewidth": 0,
             "ticks": ""
            },
            "colorscale": [
             [
              0,
              "#0d0887"
             ],
             [
              0.1111111111111111,
              "#46039f"
             ],
             [
              0.2222222222222222,
              "#7201a8"
             ],
             [
              0.3333333333333333,
              "#9c179e"
             ],
             [
              0.4444444444444444,
              "#bd3786"
             ],
             [
              0.5555555555555556,
              "#d8576b"
             ],
             [
              0.6666666666666666,
              "#ed7953"
             ],
             [
              0.7777777777777778,
              "#fb9f3a"
             ],
             [
              0.8888888888888888,
              "#fdca26"
             ],
             [
              1,
              "#f0f921"
             ]
            ],
            "type": "heatmapgl"
           }
          ],
          "histogram": [
           {
            "marker": {
             "pattern": {
              "fillmode": "overlay",
              "size": 10,
              "solidity": 0.2
             }
            },
            "type": "histogram"
           }
          ],
          "histogram2d": [
           {
            "colorbar": {
             "outlinewidth": 0,
             "ticks": ""
            },
            "colorscale": [
             [
              0,
              "#0d0887"
             ],
             [
              0.1111111111111111,
              "#46039f"
             ],
             [
              0.2222222222222222,
              "#7201a8"
             ],
             [
              0.3333333333333333,
              "#9c179e"
             ],
             [
              0.4444444444444444,
              "#bd3786"
             ],
             [
              0.5555555555555556,
              "#d8576b"
             ],
             [
              0.6666666666666666,
              "#ed7953"
             ],
             [
              0.7777777777777778,
              "#fb9f3a"
             ],
             [
              0.8888888888888888,
              "#fdca26"
             ],
             [
              1,
              "#f0f921"
             ]
            ],
            "type": "histogram2d"
           }
          ],
          "histogram2dcontour": [
           {
            "colorbar": {
             "outlinewidth": 0,
             "ticks": ""
            },
            "colorscale": [
             [
              0,
              "#0d0887"
             ],
             [
              0.1111111111111111,
              "#46039f"
             ],
             [
              0.2222222222222222,
              "#7201a8"
             ],
             [
              0.3333333333333333,
              "#9c179e"
             ],
             [
              0.4444444444444444,
              "#bd3786"
             ],
             [
              0.5555555555555556,
              "#d8576b"
             ],
             [
              0.6666666666666666,
              "#ed7953"
             ],
             [
              0.7777777777777778,
              "#fb9f3a"
             ],
             [
              0.8888888888888888,
              "#fdca26"
             ],
             [
              1,
              "#f0f921"
             ]
            ],
            "type": "histogram2dcontour"
           }
          ],
          "mesh3d": [
           {
            "colorbar": {
             "outlinewidth": 0,
             "ticks": ""
            },
            "type": "mesh3d"
           }
          ],
          "parcoords": [
           {
            "line": {
             "colorbar": {
              "outlinewidth": 0,
              "ticks": ""
             }
            },
            "type": "parcoords"
           }
          ],
          "pie": [
           {
            "automargin": true,
            "type": "pie"
           }
          ],
          "scatter": [
           {
            "marker": {
             "line": {
              "color": "#283442"
             }
            },
            "type": "scatter"
           }
          ],
          "scatter3d": [
           {
            "line": {
             "colorbar": {
              "outlinewidth": 0,
              "ticks": ""
             }
            },
            "marker": {
             "colorbar": {
              "outlinewidth": 0,
              "ticks": ""
             }
            },
            "type": "scatter3d"
           }
          ],
          "scattercarpet": [
           {
            "marker": {
             "colorbar": {
              "outlinewidth": 0,
              "ticks": ""
             }
            },
            "type": "scattercarpet"
           }
          ],
          "scattergeo": [
           {
            "marker": {
             "colorbar": {
              "outlinewidth": 0,
              "ticks": ""
             }
            },
            "type": "scattergeo"
           }
          ],
          "scattergl": [
           {
            "marker": {
             "line": {
              "color": "#283442"
             }
            },
            "type": "scattergl"
           }
          ],
          "scattermapbox": [
           {
            "marker": {
             "colorbar": {
              "outlinewidth": 0,
              "ticks": ""
             }
            },
            "type": "scattermapbox"
           }
          ],
          "scatterpolar": [
           {
            "marker": {
             "colorbar": {
              "outlinewidth": 0,
              "ticks": ""
             }
            },
            "type": "scatterpolar"
           }
          ],
          "scatterpolargl": [
           {
            "marker": {
             "colorbar": {
              "outlinewidth": 0,
              "ticks": ""
             }
            },
            "type": "scatterpolargl"
           }
          ],
          "scatterternary": [
           {
            "marker": {
             "colorbar": {
              "outlinewidth": 0,
              "ticks": ""
             }
            },
            "type": "scatterternary"
           }
          ],
          "surface": [
           {
            "colorbar": {
             "outlinewidth": 0,
             "ticks": ""
            },
            "colorscale": [
             [
              0,
              "#0d0887"
             ],
             [
              0.1111111111111111,
              "#46039f"
             ],
             [
              0.2222222222222222,
              "#7201a8"
             ],
             [
              0.3333333333333333,
              "#9c179e"
             ],
             [
              0.4444444444444444,
              "#bd3786"
             ],
             [
              0.5555555555555556,
              "#d8576b"
             ],
             [
              0.6666666666666666,
              "#ed7953"
             ],
             [
              0.7777777777777778,
              "#fb9f3a"
             ],
             [
              0.8888888888888888,
              "#fdca26"
             ],
             [
              1,
              "#f0f921"
             ]
            ],
            "type": "surface"
           }
          ],
          "table": [
           {
            "cells": {
             "fill": {
              "color": "#506784"
             },
             "line": {
              "color": "rgb(17,17,17)"
             }
            },
            "header": {
             "fill": {
              "color": "#2a3f5f"
             },
             "line": {
              "color": "rgb(17,17,17)"
             }
            },
            "type": "table"
           }
          ]
         },
         "layout": {
          "annotationdefaults": {
           "arrowcolor": "#f2f5fa",
           "arrowhead": 0,
           "arrowwidth": 1
          },
          "autotypenumbers": "strict",
          "coloraxis": {
           "colorbar": {
            "outlinewidth": 0,
            "ticks": ""
           }
          },
          "colorscale": {
           "diverging": [
            [
             0,
             "#8e0152"
            ],
            [
             0.1,
             "#c51b7d"
            ],
            [
             0.2,
             "#de77ae"
            ],
            [
             0.3,
             "#f1b6da"
            ],
            [
             0.4,
             "#fde0ef"
            ],
            [
             0.5,
             "#f7f7f7"
            ],
            [
             0.6,
             "#e6f5d0"
            ],
            [
             0.7,
             "#b8e186"
            ],
            [
             0.8,
             "#7fbc41"
            ],
            [
             0.9,
             "#4d9221"
            ],
            [
             1,
             "#276419"
            ]
           ],
           "sequential": [
            [
             0,
             "#0d0887"
            ],
            [
             0.1111111111111111,
             "#46039f"
            ],
            [
             0.2222222222222222,
             "#7201a8"
            ],
            [
             0.3333333333333333,
             "#9c179e"
            ],
            [
             0.4444444444444444,
             "#bd3786"
            ],
            [
             0.5555555555555556,
             "#d8576b"
            ],
            [
             0.6666666666666666,
             "#ed7953"
            ],
            [
             0.7777777777777778,
             "#fb9f3a"
            ],
            [
             0.8888888888888888,
             "#fdca26"
            ],
            [
             1,
             "#f0f921"
            ]
           ],
           "sequentialminus": [
            [
             0,
             "#0d0887"
            ],
            [
             0.1111111111111111,
             "#46039f"
            ],
            [
             0.2222222222222222,
             "#7201a8"
            ],
            [
             0.3333333333333333,
             "#9c179e"
            ],
            [
             0.4444444444444444,
             "#bd3786"
            ],
            [
             0.5555555555555556,
             "#d8576b"
            ],
            [
             0.6666666666666666,
             "#ed7953"
            ],
            [
             0.7777777777777778,
             "#fb9f3a"
            ],
            [
             0.8888888888888888,
             "#fdca26"
            ],
            [
             1,
             "#f0f921"
            ]
           ]
          },
          "colorway": [
           "#636efa",
           "#EF553B",
           "#00cc96",
           "#ab63fa",
           "#FFA15A",
           "#19d3f3",
           "#FF6692",
           "#B6E880",
           "#FF97FF",
           "#FECB52"
          ],
          "font": {
           "color": "#f2f5fa"
          },
          "geo": {
           "bgcolor": "rgb(17,17,17)",
           "lakecolor": "rgb(17,17,17)",
           "landcolor": "rgb(17,17,17)",
           "showlakes": true,
           "showland": true,
           "subunitcolor": "#506784"
          },
          "hoverlabel": {
           "align": "left"
          },
          "hovermode": "closest",
          "mapbox": {
           "style": "dark"
          },
          "paper_bgcolor": "rgb(17,17,17)",
          "plot_bgcolor": "rgb(17,17,17)",
          "polar": {
           "angularaxis": {
            "gridcolor": "#506784",
            "linecolor": "#506784",
            "ticks": ""
           },
           "bgcolor": "rgb(17,17,17)",
           "radialaxis": {
            "gridcolor": "#506784",
            "linecolor": "#506784",
            "ticks": ""
           }
          },
          "scene": {
           "xaxis": {
            "backgroundcolor": "rgb(17,17,17)",
            "gridcolor": "#506784",
            "gridwidth": 2,
            "linecolor": "#506784",
            "showbackground": true,
            "ticks": "",
            "zerolinecolor": "#C8D4E3"
           },
           "yaxis": {
            "backgroundcolor": "rgb(17,17,17)",
            "gridcolor": "#506784",
            "gridwidth": 2,
            "linecolor": "#506784",
            "showbackground": true,
            "ticks": "",
            "zerolinecolor": "#C8D4E3"
           },
           "zaxis": {
            "backgroundcolor": "rgb(17,17,17)",
            "gridcolor": "#506784",
            "gridwidth": 2,
            "linecolor": "#506784",
            "showbackground": true,
            "ticks": "",
            "zerolinecolor": "#C8D4E3"
           }
          },
          "shapedefaults": {
           "line": {
            "color": "#f2f5fa"
           }
          },
          "sliderdefaults": {
           "bgcolor": "#C8D4E3",
           "bordercolor": "rgb(17,17,17)",
           "borderwidth": 1,
           "tickwidth": 0
          },
          "ternary": {
           "aaxis": {
            "gridcolor": "#506784",
            "linecolor": "#506784",
            "ticks": ""
           },
           "baxis": {
            "gridcolor": "#506784",
            "linecolor": "#506784",
            "ticks": ""
           },
           "bgcolor": "rgb(17,17,17)",
           "caxis": {
            "gridcolor": "#506784",
            "linecolor": "#506784",
            "ticks": ""
           }
          },
          "title": {
           "x": 0.05
          },
          "updatemenudefaults": {
           "bgcolor": "#506784",
           "borderwidth": 0
          },
          "xaxis": {
           "automargin": true,
           "gridcolor": "#283442",
           "linecolor": "#506784",
           "ticks": "",
           "title": {
            "standoff": 15
           },
           "zerolinecolor": "#283442",
           "zerolinewidth": 2
          },
          "yaxis": {
           "automargin": true,
           "gridcolor": "#283442",
           "linecolor": "#506784",
           "ticks": "",
           "title": {
            "standoff": 15
           },
           "zerolinecolor": "#283442",
           "zerolinewidth": 2
          }
         }
        },
        "title": {
         "text": "Desviación Estándar de la Variabilidad de Precios en 2019"
        },
        "xaxis": {
         "anchor": "y",
         "domain": [
          0,
          1
         ],
         "title": {
          "text": "Criptomoneda"
         }
        },
        "yaxis": {
         "anchor": "x",
         "domain": [
          0,
          1
         ],
         "title": {
          "text": "Desviación Estándar (%)"
         }
        }
       }
      }
     },
     "metadata": {},
     "output_type": "display_data"
    }
   ],
   "source": [
    "\n",
    "# Ya calculamos la variabilidad anteriormente\n",
    "# Ahora, creamos una gráfica de barras con los resultados\n",
    "fig_variability = px.bar(\n",
    "    variability_df, \n",
    "    x='Criptomoneda', \n",
    "    y='Variabilidad', \n",
    "    color='Variabilidad', \n",
    "    title='Desviación Estándar de la Variabilidad de Precios en 2019',\n",
    "    labels={'Variabilidad': 'Desviación Estándar (%)', 'Criptomoneda': 'Criptomoneda'},\n",
    "    template='plotly_dark'\n",
    ")\n",
    "\n",
    "fig_variability.update_layout(\n",
    "    xaxis_title='Criptomoneda',\n",
    "    yaxis_title='Desviación Estándar (%)',\n",
    "    height=500\n",
    ")\n",
    "\n",
    "fig_variability.show()\n"
   ]
  },
  {
   "cell_type": "code",
   "execution_count": 130,
   "metadata": {},
   "outputs": [
    {
     "name": "stdout",
     "output_type": "stream",
     "text": [
      "  Criptomoneda   Variabilidad\n",
      "0       Bitcoin  3.583505    \n",
      "2        Ripple  3.717347    \n",
      "1      Ethereum  4.226278    \n",
      "4           EOS  5.113699    \n",
      "3  Bitcoin Cash  5.480769    \n"
     ]
    }
   ],
   "source": [
    "# Función para calcular la volatilidad de cada criptomoneda en 2019\n",
    "def calculate_price_variability(df, year=2019):\n",
    "    df = df[df['date'].dt.year == year].copy()\n",
    "    df['price_change_pct'] = df['price'].pct_change() * 100  # Cambio porcentual diario\n",
    "    return df['price_change_pct'].std()  # Desviación estándar como medida de variabilidad\n",
    "\n",
    "# Calcular la variabilidad para cada criptomoneda\n",
    "variability = {}\n",
    "for crypto, df in dataframes.items():\n",
    "    variability[crypto] = calculate_price_variability(df)\n",
    "\n",
    "# Mostrar la variabilidad de cada criptomoneda\n",
    "variability_df = pd.DataFrame(list(variability.items()), columns=['Criptomoneda', 'Variabilidad'])\n",
    "variability_df.sort_values(by='Variabilidad', ascending=True, inplace=True)\n",
    "\n",
    "print(variability_df)\n"
   ]
  },
  {
   "cell_type": "code",
   "execution_count": 136,
   "metadata": {},
   "outputs": [
    {
     "data": {
      "application/vnd.plotly.v1+json": {
       "config": {
        "plotlyServerURL": "https://plot.ly"
       },
       "data": [
        {
         "hovertemplate": "Fecha=%{x}<br>Cambio Porcentual Diario (%)=%{y}<extra></extra>",
         "legendgroup": "",
         "line": {
          "color": "#636efa",
          "dash": "solid"
         },
         "marker": {
          "symbol": "circle"
         },
         "mode": "lines",
         "name": "",
         "showlegend": false,
         "type": "scattergl",
         "x": [
          "2015-01-01T00:00:00",
          "2015-01-02T00:00:00",
          "2015-01-03T00:00:00",
          "2015-01-04T00:00:00",
          "2015-01-05T00:00:00",
          "2015-01-06T00:00:00",
          "2015-01-07T00:00:00",
          "2015-01-08T00:00:00",
          "2015-01-09T00:00:00",
          "2015-01-10T00:00:00",
          "2015-01-11T00:00:00",
          "2015-01-12T00:00:00",
          "2015-01-13T00:00:00",
          "2015-01-14T00:00:00",
          "2015-01-15T00:00:00",
          "2015-01-16T00:00:00",
          "2015-01-17T00:00:00",
          "2015-01-18T00:00:00",
          "2015-01-19T00:00:00",
          "2015-01-20T00:00:00",
          "2015-01-21T00:00:00",
          "2015-01-22T00:00:00",
          "2015-01-23T00:00:00",
          "2015-01-24T00:00:00",
          "2015-01-25T00:00:00",
          "2015-01-26T00:00:00",
          "2015-01-27T00:00:00",
          "2015-01-29T00:00:00",
          "2015-01-30T00:00:00",
          "2015-01-31T00:00:00",
          "2015-02-01T00:00:00",
          "2015-02-02T00:00:00",
          "2015-02-03T00:00:00",
          "2015-02-04T00:00:00",
          "2015-02-05T00:00:00",
          "2015-02-06T00:00:00",
          "2015-02-07T00:00:00",
          "2015-02-08T00:00:00",
          "2015-02-09T00:00:00",
          "2015-02-10T00:00:00",
          "2015-02-11T00:00:00",
          "2015-02-12T00:00:00",
          "2015-02-13T00:00:00",
          "2015-02-14T00:00:00",
          "2015-02-15T00:00:00",
          "2015-02-16T00:00:00",
          "2015-02-17T00:00:00",
          "2015-02-18T00:00:00",
          "2015-02-19T00:00:00",
          "2015-02-20T00:00:00",
          "2015-02-21T00:00:00",
          "2015-02-22T00:00:00",
          "2015-02-23T00:00:00",
          "2015-02-24T00:00:00",
          "2015-02-25T00:00:00",
          "2015-02-26T00:00:00",
          "2015-02-27T00:00:00",
          "2015-02-28T00:00:00",
          "2015-03-01T00:00:00",
          "2015-03-02T00:00:00",
          "2015-03-03T00:00:00",
          "2015-03-04T00:00:00",
          "2015-03-05T00:00:00",
          "2015-03-06T00:00:00",
          "2015-03-07T00:00:00",
          "2015-03-08T00:00:00",
          "2015-03-09T00:00:00",
          "2015-03-10T00:00:00",
          "2015-03-11T00:00:00",
          "2015-03-12T00:00:00",
          "2015-03-13T00:00:00",
          "2015-03-14T00:00:00",
          "2015-03-15T00:00:00",
          "2015-03-16T00:00:00",
          "2015-03-17T00:00:00",
          "2015-03-18T00:00:00",
          "2015-03-19T00:00:00",
          "2015-03-20T00:00:00",
          "2015-03-21T00:00:00",
          "2015-03-22T00:00:00",
          "2015-03-23T00:00:00",
          "2015-03-24T00:00:00",
          "2015-03-25T00:00:00",
          "2015-03-26T00:00:00",
          "2015-03-27T00:00:00",
          "2015-03-28T00:00:00",
          "2015-03-29T00:00:00",
          "2015-03-30T00:00:00",
          "2015-03-31T00:00:00",
          "2015-04-01T00:00:00",
          "2015-04-02T00:00:00",
          "2015-04-03T00:00:00",
          "2015-04-04T00:00:00",
          "2015-04-05T00:00:00",
          "2015-04-06T00:00:00",
          "2015-04-07T00:00:00",
          "2015-04-08T00:00:00",
          "2015-04-09T00:00:00",
          "2015-04-10T00:00:00",
          "2015-04-11T00:00:00",
          "2015-04-12T00:00:00",
          "2015-04-13T00:00:00",
          "2015-04-14T00:00:00",
          "2015-04-15T00:00:00",
          "2015-04-16T00:00:00",
          "2015-04-17T00:00:00",
          "2015-04-18T00:00:00",
          "2015-04-19T00:00:00",
          "2015-04-20T00:00:00",
          "2015-04-21T00:00:00",
          "2015-04-22T00:00:00",
          "2015-04-23T00:00:00",
          "2015-04-24T00:00:00",
          "2015-04-25T00:00:00",
          "2015-04-26T00:00:00",
          "2015-04-27T00:00:00",
          "2015-04-28T00:00:00",
          "2015-04-29T00:00:00",
          "2015-04-30T00:00:00",
          "2015-05-01T00:00:00",
          "2015-05-02T00:00:00",
          "2015-05-03T00:00:00",
          "2015-05-04T00:00:00",
          "2015-05-05T00:00:00",
          "2015-05-06T00:00:00",
          "2015-05-07T00:00:00",
          "2015-05-08T00:00:00",
          "2015-05-09T00:00:00",
          "2015-05-10T00:00:00",
          "2015-05-11T00:00:00",
          "2015-05-12T00:00:00",
          "2015-05-13T00:00:00",
          "2015-05-14T00:00:00",
          "2015-05-15T00:00:00",
          "2015-05-16T00:00:00",
          "2015-05-17T00:00:00",
          "2015-05-18T00:00:00",
          "2015-05-19T00:00:00",
          "2015-05-20T00:00:00",
          "2015-05-21T00:00:00",
          "2015-05-22T00:00:00",
          "2015-05-23T00:00:00",
          "2015-05-24T00:00:00",
          "2015-05-25T00:00:00",
          "2015-05-26T00:00:00",
          "2015-05-27T00:00:00",
          "2015-05-28T00:00:00",
          "2015-05-29T00:00:00",
          "2015-05-30T00:00:00",
          "2015-05-31T00:00:00",
          "2015-06-01T00:00:00",
          "2015-06-02T00:00:00",
          "2015-06-03T00:00:00",
          "2015-06-04T00:00:00",
          "2015-06-05T00:00:00",
          "2015-06-06T00:00:00",
          "2015-06-07T00:00:00",
          "2015-06-08T00:00:00",
          "2015-06-09T00:00:00",
          "2015-06-10T00:00:00",
          "2015-06-11T00:00:00",
          "2015-06-12T00:00:00",
          "2015-06-13T00:00:00",
          "2015-06-14T00:00:00",
          "2015-06-15T00:00:00",
          "2015-06-16T00:00:00",
          "2015-06-17T00:00:00",
          "2015-06-18T00:00:00",
          "2015-06-19T00:00:00",
          "2015-06-20T00:00:00",
          "2015-06-21T00:00:00",
          "2015-06-22T00:00:00",
          "2015-06-23T00:00:00",
          "2015-06-24T00:00:00",
          "2015-06-25T00:00:00",
          "2015-06-26T00:00:00",
          "2015-06-27T00:00:00",
          "2015-06-28T00:00:00",
          "2015-06-29T00:00:00",
          "2015-06-30T00:00:00",
          "2015-07-01T00:00:00",
          "2015-07-02T00:00:00",
          "2015-07-03T00:00:00",
          "2015-07-04T00:00:00",
          "2015-07-05T00:00:00",
          "2015-07-06T00:00:00",
          "2015-07-07T00:00:00",
          "2015-07-08T00:00:00",
          "2015-07-09T00:00:00",
          "2015-07-10T00:00:00",
          "2015-07-11T00:00:00",
          "2015-07-12T00:00:00",
          "2015-07-13T00:00:00",
          "2015-07-14T00:00:00",
          "2015-07-15T00:00:00",
          "2015-07-16T00:00:00",
          "2015-07-17T00:00:00",
          "2015-07-18T00:00:00",
          "2015-07-19T00:00:00",
          "2015-07-20T00:00:00",
          "2015-07-21T00:00:00",
          "2015-07-22T00:00:00",
          "2015-07-23T00:00:00",
          "2015-07-24T00:00:00",
          "2015-07-25T00:00:00",
          "2015-07-26T00:00:00",
          "2015-07-27T00:00:00",
          "2015-07-28T00:00:00",
          "2015-07-29T00:00:00",
          "2015-07-30T00:00:00",
          "2015-07-31T00:00:00",
          "2015-08-01T00:00:00",
          "2015-08-02T00:00:00",
          "2015-08-03T00:00:00",
          "2015-08-04T00:00:00",
          "2015-08-05T00:00:00",
          "2015-08-06T00:00:00",
          "2015-08-07T00:00:00",
          "2015-08-08T00:00:00",
          "2015-08-09T00:00:00",
          "2015-08-10T00:00:00",
          "2015-08-11T00:00:00",
          "2015-08-12T00:00:00",
          "2015-08-13T00:00:00",
          "2015-08-14T00:00:00",
          "2015-08-15T00:00:00",
          "2015-08-16T00:00:00",
          "2015-08-17T00:00:00",
          "2015-08-18T00:00:00",
          "2015-08-19T00:00:00",
          "2015-08-20T00:00:00",
          "2015-08-21T00:00:00",
          "2015-08-22T00:00:00",
          "2015-08-23T00:00:00",
          "2015-08-24T00:00:00",
          "2015-08-25T00:00:00",
          "2015-08-26T00:00:00",
          "2015-08-27T00:00:00",
          "2015-08-28T00:00:00",
          "2015-08-29T00:00:00",
          "2015-08-30T00:00:00",
          "2015-08-31T00:00:00",
          "2015-09-01T00:00:00",
          "2015-09-02T00:00:00",
          "2015-09-03T00:00:00",
          "2015-09-04T00:00:00",
          "2015-09-05T00:00:00",
          "2015-09-06T00:00:00",
          "2015-09-07T00:00:00",
          "2015-09-08T00:00:00",
          "2015-09-09T00:00:00",
          "2015-09-10T00:00:00",
          "2015-09-11T00:00:00",
          "2015-09-12T00:00:00",
          "2015-09-13T00:00:00",
          "2015-09-14T00:00:00",
          "2015-09-15T00:00:00",
          "2015-09-16T00:00:00",
          "2015-09-17T00:00:00",
          "2015-09-18T00:00:00",
          "2015-09-19T00:00:00",
          "2015-09-20T00:00:00",
          "2015-09-21T00:00:00",
          "2015-09-22T00:00:00",
          "2015-09-23T00:00:00",
          "2015-09-24T00:00:00",
          "2015-09-25T00:00:00",
          "2015-09-26T00:00:00",
          "2015-09-27T00:00:00",
          "2015-09-28T00:00:00",
          "2015-09-29T00:00:00",
          "2015-09-30T00:00:00",
          "2015-10-01T00:00:00",
          "2015-10-02T00:00:00",
          "2015-10-03T00:00:00",
          "2015-10-04T00:00:00",
          "2015-10-05T00:00:00",
          "2015-10-06T00:00:00",
          "2015-10-07T00:00:00",
          "2015-10-08T00:00:00",
          "2015-10-09T00:00:00",
          "2015-10-10T00:00:00",
          "2015-10-11T00:00:00",
          "2015-10-12T00:00:00",
          "2015-10-13T00:00:00",
          "2015-10-14T00:00:00",
          "2015-10-15T00:00:00",
          "2015-10-16T00:00:00",
          "2015-10-17T00:00:00",
          "2015-10-18T00:00:00",
          "2015-10-19T00:00:00",
          "2015-10-20T00:00:00",
          "2015-10-21T00:00:00",
          "2015-10-22T00:00:00",
          "2015-10-23T00:00:00",
          "2015-10-24T00:00:00",
          "2015-10-25T00:00:00",
          "2015-10-26T00:00:00",
          "2015-10-27T00:00:00",
          "2015-10-28T00:00:00",
          "2015-10-29T00:00:00",
          "2015-10-30T00:00:00",
          "2015-10-31T00:00:00",
          "2015-11-01T00:00:00",
          "2015-11-02T00:00:00",
          "2015-11-03T00:00:00",
          "2015-11-04T00:00:00",
          "2015-11-05T00:00:00",
          "2015-11-06T00:00:00",
          "2015-11-07T00:00:00",
          "2015-11-08T00:00:00",
          "2015-11-09T00:00:00",
          "2015-11-10T00:00:00",
          "2015-11-11T00:00:00",
          "2015-11-12T00:00:00",
          "2015-11-13T00:00:00",
          "2015-11-14T00:00:00",
          "2015-11-15T00:00:00",
          "2015-11-16T00:00:00",
          "2015-11-17T00:00:00",
          "2015-11-18T00:00:00",
          "2015-11-19T00:00:00",
          "2015-11-20T00:00:00",
          "2015-11-21T00:00:00",
          "2015-11-22T00:00:00",
          "2015-11-23T00:00:00",
          "2015-11-24T00:00:00",
          "2015-11-25T00:00:00",
          "2015-11-26T00:00:00",
          "2015-11-27T00:00:00",
          "2015-11-28T00:00:00",
          "2015-11-29T00:00:00",
          "2015-11-30T00:00:00",
          "2015-12-01T00:00:00",
          "2015-12-02T00:00:00",
          "2015-12-03T00:00:00",
          "2015-12-04T00:00:00",
          "2015-12-05T00:00:00",
          "2015-12-06T00:00:00",
          "2015-12-07T00:00:00",
          "2015-12-08T00:00:00",
          "2015-12-09T00:00:00",
          "2015-12-10T00:00:00",
          "2015-12-11T00:00:00",
          "2015-12-12T00:00:00",
          "2015-12-13T00:00:00",
          "2015-12-14T00:00:00",
          "2015-12-15T00:00:00",
          "2015-12-16T00:00:00",
          "2015-12-17T00:00:00",
          "2015-12-18T00:00:00",
          "2015-12-19T00:00:00",
          "2015-12-20T00:00:00",
          "2015-12-21T00:00:00",
          "2015-12-22T00:00:00",
          "2015-12-23T00:00:00",
          "2015-12-24T00:00:00",
          "2015-12-25T00:00:00",
          "2015-12-26T00:00:00",
          "2015-12-27T00:00:00",
          "2015-12-28T00:00:00",
          "2015-12-29T00:00:00",
          "2015-12-30T00:00:00",
          "2015-12-31T00:00:00",
          "2016-01-01T00:00:00",
          "2016-01-02T00:00:00",
          "2016-01-03T00:00:00",
          "2016-01-04T00:00:00",
          "2016-01-05T00:00:00",
          "2016-01-06T00:00:00",
          "2016-01-07T00:00:00",
          "2016-01-08T00:00:00",
          "2016-01-09T00:00:00",
          "2016-01-10T00:00:00",
          "2016-01-11T00:00:00",
          "2016-01-12T00:00:00",
          "2016-01-13T00:00:00",
          "2016-01-14T00:00:00",
          "2016-01-15T00:00:00",
          "2016-01-16T00:00:00",
          "2016-01-17T00:00:00",
          "2016-01-18T00:00:00",
          "2016-01-19T00:00:00",
          "2016-01-20T00:00:00",
          "2016-01-21T00:00:00",
          "2016-01-22T00:00:00",
          "2016-01-23T00:00:00",
          "2016-01-24T00:00:00",
          "2016-01-25T00:00:00",
          "2016-01-26T00:00:00",
          "2016-01-27T00:00:00",
          "2016-01-28T00:00:00",
          "2016-01-29T00:00:00",
          "2016-01-30T00:00:00",
          "2016-01-31T00:00:00",
          "2016-02-01T00:00:00",
          "2016-02-02T00:00:00",
          "2016-02-03T00:00:00",
          "2016-02-04T00:00:00",
          "2016-02-05T00:00:00",
          "2016-02-06T00:00:00",
          "2016-02-07T00:00:00",
          "2016-02-08T00:00:00",
          "2016-02-09T00:00:00",
          "2016-02-10T00:00:00",
          "2016-02-11T00:00:00",
          "2016-02-12T00:00:00",
          "2016-02-13T00:00:00",
          "2016-02-14T00:00:00",
          "2016-02-15T00:00:00",
          "2016-02-16T00:00:00",
          "2016-02-17T00:00:00",
          "2016-02-18T00:00:00",
          "2016-02-19T00:00:00",
          "2016-02-20T00:00:00",
          "2016-02-21T00:00:00",
          "2016-02-22T00:00:00",
          "2016-02-23T00:00:00",
          "2016-02-24T00:00:00",
          "2016-02-25T00:00:00",
          "2016-02-26T00:00:00",
          "2016-02-27T00:00:00",
          "2016-02-28T00:00:00",
          "2016-02-29T00:00:00",
          "2016-03-01T00:00:00",
          "2016-03-02T00:00:00",
          "2016-03-03T00:00:00",
          "2016-03-04T00:00:00",
          "2016-03-05T00:00:00",
          "2016-03-06T00:00:00",
          "2016-03-07T00:00:00",
          "2016-03-08T00:00:00",
          "2016-03-09T00:00:00",
          "2016-03-10T00:00:00",
          "2016-03-11T00:00:00",
          "2016-03-12T00:00:00",
          "2016-03-13T00:00:00",
          "2016-03-14T00:00:00",
          "2016-03-15T00:00:00",
          "2016-03-16T00:00:00",
          "2016-03-17T00:00:00",
          "2016-03-18T00:00:00",
          "2016-03-19T00:00:00",
          "2016-03-20T00:00:00",
          "2016-03-21T00:00:00",
          "2016-03-22T00:00:00",
          "2016-03-23T00:00:00",
          "2016-03-24T00:00:00",
          "2016-03-25T00:00:00",
          "2016-03-26T00:00:00",
          "2016-03-27T00:00:00",
          "2016-03-28T00:00:00",
          "2016-03-29T00:00:00",
          "2016-03-30T00:00:00",
          "2016-03-31T00:00:00",
          "2016-04-01T00:00:00",
          "2016-04-02T00:00:00",
          "2016-04-03T00:00:00",
          "2016-04-04T00:00:00",
          "2016-04-05T00:00:00",
          "2016-04-06T00:00:00",
          "2016-04-07T00:00:00",
          "2016-04-08T00:00:00",
          "2016-04-09T00:00:00",
          "2016-04-10T00:00:00",
          "2016-04-11T00:00:00",
          "2016-04-12T00:00:00",
          "2016-04-13T00:00:00",
          "2016-04-14T00:00:00",
          "2016-04-15T00:00:00",
          "2016-04-16T00:00:00",
          "2016-04-17T00:00:00",
          "2016-04-18T00:00:00",
          "2016-04-19T00:00:00",
          "2016-04-20T00:00:00",
          "2016-04-21T00:00:00",
          "2016-04-22T00:00:00",
          "2016-04-23T00:00:00",
          "2016-04-24T00:00:00",
          "2016-04-25T00:00:00",
          "2016-04-26T00:00:00",
          "2016-04-27T00:00:00",
          "2016-04-28T00:00:00",
          "2016-04-29T00:00:00",
          "2016-04-30T00:00:00",
          "2016-05-01T00:00:00",
          "2016-05-02T00:00:00",
          "2016-05-03T00:00:00",
          "2016-05-04T00:00:00",
          "2016-05-05T00:00:00",
          "2016-05-06T00:00:00",
          "2016-05-07T00:00:00",
          "2016-05-08T00:00:00",
          "2016-05-09T00:00:00",
          "2016-05-10T00:00:00",
          "2016-05-11T00:00:00",
          "2016-05-12T00:00:00",
          "2016-05-13T00:00:00",
          "2016-05-14T00:00:00",
          "2016-05-15T00:00:00",
          "2016-05-16T00:00:00",
          "2016-05-17T00:00:00",
          "2016-05-18T00:00:00",
          "2016-05-19T00:00:00",
          "2016-05-20T00:00:00",
          "2016-05-21T00:00:00",
          "2016-05-22T00:00:00",
          "2016-05-23T00:00:00",
          "2016-05-24T00:00:00",
          "2016-05-25T00:00:00",
          "2016-05-26T00:00:00",
          "2016-05-27T00:00:00",
          "2016-05-28T00:00:00",
          "2016-05-29T00:00:00",
          "2016-05-30T00:00:00",
          "2016-05-31T00:00:00",
          "2016-06-01T00:00:00",
          "2016-06-02T00:00:00",
          "2016-06-03T00:00:00",
          "2016-06-04T00:00:00",
          "2016-06-05T00:00:00",
          "2016-06-06T00:00:00",
          "2016-06-07T00:00:00",
          "2016-06-08T00:00:00",
          "2016-06-09T00:00:00",
          "2016-06-10T00:00:00",
          "2016-06-11T00:00:00",
          "2016-06-12T00:00:00",
          "2016-06-13T00:00:00",
          "2016-06-14T00:00:00",
          "2016-06-15T00:00:00",
          "2016-06-16T00:00:00",
          "2016-06-17T00:00:00",
          "2016-06-18T00:00:00",
          "2016-06-19T00:00:00",
          "2016-06-20T00:00:00",
          "2016-06-21T00:00:00",
          "2016-06-22T00:00:00",
          "2016-06-23T00:00:00",
          "2016-06-24T00:00:00",
          "2016-06-25T00:00:00",
          "2016-06-26T00:00:00",
          "2016-06-27T00:00:00",
          "2016-06-28T00:00:00",
          "2016-06-29T00:00:00",
          "2016-06-30T00:00:00",
          "2016-07-01T00:00:00",
          "2016-07-02T00:00:00",
          "2016-07-03T00:00:00",
          "2016-07-04T00:00:00",
          "2016-07-05T00:00:00",
          "2016-07-06T00:00:00",
          "2016-07-07T00:00:00",
          "2016-07-08T00:00:00",
          "2016-07-09T00:00:00",
          "2016-07-10T00:00:00",
          "2016-07-11T00:00:00",
          "2016-07-12T00:00:00",
          "2016-07-13T00:00:00",
          "2016-07-14T00:00:00",
          "2016-07-15T00:00:00",
          "2016-07-16T00:00:00",
          "2016-07-17T00:00:00",
          "2016-07-18T00:00:00",
          "2016-07-19T00:00:00",
          "2016-07-20T00:00:00",
          "2016-07-21T00:00:00",
          "2016-07-22T00:00:00",
          "2016-07-23T00:00:00",
          "2016-07-24T00:00:00",
          "2016-07-25T00:00:00",
          "2016-07-26T00:00:00",
          "2016-07-27T00:00:00",
          "2016-07-28T00:00:00",
          "2016-07-29T00:00:00",
          "2016-07-30T00:00:00",
          "2016-07-31T00:00:00",
          "2016-08-01T00:00:00",
          "2016-08-02T00:00:00",
          "2016-08-03T00:00:00",
          "2016-08-04T00:00:00",
          "2016-08-05T00:00:00",
          "2016-08-06T00:00:00",
          "2016-08-07T00:00:00",
          "2016-08-08T00:00:00",
          "2016-08-09T00:00:00",
          "2016-08-10T00:00:00",
          "2016-08-11T00:00:00",
          "2016-08-12T00:00:00",
          "2016-08-13T00:00:00",
          "2016-08-14T00:00:00",
          "2016-08-15T00:00:00",
          "2016-08-16T00:00:00",
          "2016-08-17T00:00:00",
          "2016-08-18T00:00:00",
          "2016-08-19T00:00:00",
          "2016-08-20T00:00:00",
          "2016-08-21T00:00:00",
          "2016-08-22T00:00:00",
          "2016-08-23T00:00:00",
          "2016-08-24T00:00:00",
          "2016-08-25T00:00:00",
          "2016-08-26T00:00:00",
          "2016-08-27T00:00:00",
          "2016-08-28T00:00:00",
          "2016-08-29T00:00:00",
          "2016-08-30T00:00:00",
          "2016-08-31T00:00:00",
          "2016-09-01T00:00:00",
          "2016-09-02T00:00:00",
          "2016-09-03T00:00:00",
          "2016-09-04T00:00:00",
          "2016-09-05T00:00:00",
          "2016-09-06T00:00:00",
          "2016-09-07T00:00:00",
          "2016-09-08T00:00:00",
          "2016-09-09T00:00:00",
          "2016-09-10T00:00:00",
          "2016-09-11T00:00:00",
          "2016-09-12T00:00:00",
          "2016-09-13T00:00:00",
          "2016-09-14T00:00:00",
          "2016-09-15T00:00:00",
          "2016-09-16T00:00:00",
          "2016-09-17T00:00:00",
          "2016-09-18T00:00:00",
          "2016-09-19T00:00:00",
          "2016-09-20T00:00:00",
          "2016-09-21T00:00:00",
          "2016-09-22T00:00:00",
          "2016-09-23T00:00:00",
          "2016-09-24T00:00:00",
          "2016-09-25T00:00:00",
          "2016-09-26T00:00:00",
          "2016-09-27T00:00:00",
          "2016-09-28T00:00:00",
          "2016-09-29T00:00:00",
          "2016-09-30T00:00:00",
          "2016-10-01T00:00:00",
          "2016-10-02T00:00:00",
          "2016-10-03T00:00:00",
          "2016-10-04T00:00:00",
          "2016-10-05T00:00:00",
          "2016-10-06T00:00:00",
          "2016-10-07T00:00:00",
          "2016-10-08T00:00:00",
          "2016-10-09T00:00:00",
          "2016-10-10T00:00:00",
          "2016-10-11T00:00:00",
          "2016-10-12T00:00:00",
          "2016-10-13T00:00:00",
          "2016-10-14T00:00:00",
          "2016-10-15T00:00:00",
          "2016-10-16T00:00:00",
          "2016-10-17T00:00:00",
          "2016-10-18T00:00:00",
          "2016-10-19T00:00:00",
          "2016-10-20T00:00:00",
          "2016-10-21T00:00:00",
          "2016-10-22T00:00:00",
          "2016-10-23T00:00:00",
          "2016-10-24T00:00:00",
          "2016-10-25T00:00:00",
          "2016-10-26T00:00:00",
          "2016-10-27T00:00:00",
          "2016-10-28T00:00:00",
          "2016-10-29T00:00:00",
          "2016-10-30T00:00:00",
          "2016-10-31T00:00:00",
          "2016-11-01T00:00:00",
          "2016-11-02T00:00:00",
          "2016-11-03T00:00:00",
          "2016-11-04T00:00:00",
          "2016-11-05T00:00:00",
          "2016-11-06T00:00:00",
          "2016-11-07T00:00:00",
          "2016-11-08T00:00:00",
          "2016-11-09T00:00:00",
          "2016-11-10T00:00:00",
          "2016-11-11T00:00:00",
          "2016-11-12T00:00:00",
          "2016-11-13T00:00:00",
          "2016-11-14T00:00:00",
          "2016-11-15T00:00:00",
          "2016-11-16T00:00:00",
          "2016-11-17T00:00:00",
          "2016-11-18T00:00:00",
          "2016-11-19T00:00:00",
          "2016-11-20T00:00:00",
          "2016-11-21T00:00:00",
          "2016-11-22T00:00:00",
          "2016-11-23T00:00:00",
          "2016-11-24T00:00:00",
          "2016-11-25T00:00:00",
          "2016-11-26T00:00:00",
          "2016-11-27T00:00:00",
          "2016-11-28T00:00:00",
          "2016-11-29T00:00:00",
          "2016-11-30T00:00:00",
          "2016-12-01T00:00:00",
          "2016-12-02T00:00:00",
          "2016-12-03T00:00:00",
          "2016-12-04T00:00:00",
          "2016-12-05T00:00:00",
          "2016-12-06T00:00:00",
          "2016-12-07T00:00:00",
          "2016-12-08T00:00:00",
          "2016-12-09T00:00:00",
          "2016-12-10T00:00:00",
          "2016-12-11T00:00:00",
          "2016-12-12T00:00:00",
          "2016-12-13T00:00:00",
          "2016-12-14T00:00:00",
          "2016-12-15T00:00:00",
          "2016-12-16T00:00:00",
          "2016-12-17T00:00:00",
          "2016-12-18T00:00:00",
          "2016-12-19T00:00:00",
          "2016-12-20T00:00:00",
          "2016-12-21T00:00:00",
          "2016-12-22T00:00:00",
          "2016-12-23T00:00:00",
          "2016-12-24T00:00:00",
          "2016-12-25T00:00:00",
          "2016-12-26T00:00:00",
          "2016-12-27T00:00:00",
          "2016-12-28T00:00:00",
          "2016-12-29T00:00:00",
          "2016-12-30T00:00:00",
          "2016-12-31T00:00:00",
          "2017-01-01T00:00:00",
          "2017-01-02T00:00:00",
          "2017-01-03T00:00:00",
          "2017-01-04T00:00:00",
          "2017-01-05T00:00:00",
          "2017-01-06T00:00:00",
          "2017-01-07T00:00:00",
          "2017-01-08T00:00:00",
          "2017-01-09T00:00:00",
          "2017-01-10T00:00:00",
          "2017-01-11T00:00:00",
          "2017-01-12T00:00:00",
          "2017-01-13T00:00:00",
          "2017-01-14T00:00:00",
          "2017-01-15T00:00:00",
          "2017-01-16T00:00:00",
          "2017-01-17T00:00:00",
          "2017-01-18T00:00:00",
          "2017-01-19T00:00:00",
          "2017-01-20T00:00:00",
          "2017-01-21T00:00:00",
          "2017-01-22T00:00:00",
          "2017-01-23T00:00:00",
          "2017-01-24T00:00:00",
          "2017-01-25T00:00:00",
          "2017-01-26T00:00:00",
          "2017-01-27T00:00:00",
          "2017-01-28T00:00:00",
          "2017-01-29T00:00:00",
          "2017-01-30T00:00:00",
          "2017-01-31T00:00:00",
          "2017-02-01T00:00:00",
          "2017-02-02T00:00:00",
          "2017-02-03T00:00:00",
          "2017-02-04T00:00:00",
          "2017-02-05T00:00:00",
          "2017-02-06T00:00:00",
          "2017-02-07T00:00:00",
          "2017-02-08T00:00:00",
          "2017-02-09T00:00:00",
          "2017-02-10T00:00:00",
          "2017-02-11T00:00:00",
          "2017-02-12T00:00:00",
          "2017-02-13T00:00:00",
          "2017-02-14T00:00:00",
          "2017-02-15T00:00:00",
          "2017-02-16T00:00:00",
          "2017-02-17T00:00:00",
          "2017-02-18T00:00:00",
          "2017-02-19T00:00:00",
          "2017-02-20T00:00:00",
          "2017-02-21T00:00:00",
          "2017-02-22T00:00:00",
          "2017-02-23T00:00:00",
          "2017-02-24T00:00:00",
          "2017-02-25T00:00:00",
          "2017-02-26T00:00:00",
          "2017-02-27T00:00:00",
          "2017-02-28T00:00:00",
          "2017-03-01T00:00:00",
          "2017-03-02T00:00:00",
          "2017-03-03T00:00:00",
          "2017-03-04T00:00:00",
          "2017-03-05T00:00:00",
          "2017-03-06T00:00:00",
          "2017-03-07T00:00:00",
          "2017-03-08T00:00:00",
          "2017-03-09T00:00:00",
          "2017-03-10T00:00:00",
          "2017-03-11T00:00:00",
          "2017-03-12T00:00:00",
          "2017-03-13T00:00:00",
          "2017-03-14T00:00:00",
          "2017-03-15T00:00:00",
          "2017-03-16T00:00:00",
          "2017-03-17T00:00:00",
          "2017-03-18T00:00:00",
          "2017-03-19T00:00:00",
          "2017-03-20T00:00:00",
          "2017-03-21T00:00:00",
          "2017-03-22T00:00:00",
          "2017-03-23T00:00:00",
          "2017-03-24T00:00:00",
          "2017-03-25T00:00:00",
          "2017-03-26T00:00:00",
          "2017-03-27T00:00:00",
          "2017-03-28T00:00:00",
          "2017-03-29T00:00:00",
          "2017-03-30T00:00:00",
          "2017-03-31T00:00:00",
          "2017-04-01T00:00:00",
          "2017-04-02T00:00:00",
          "2017-04-03T00:00:00",
          "2017-04-04T00:00:00",
          "2017-04-05T00:00:00",
          "2017-04-06T00:00:00",
          "2017-04-07T00:00:00",
          "2017-04-08T00:00:00",
          "2017-04-09T00:00:00",
          "2017-04-10T00:00:00",
          "2017-04-11T00:00:00",
          "2017-04-12T00:00:00",
          "2017-04-13T00:00:00",
          "2017-04-14T00:00:00",
          "2017-04-15T00:00:00",
          "2017-04-16T00:00:00",
          "2017-04-17T00:00:00",
          "2017-04-18T00:00:00",
          "2017-04-19T00:00:00",
          "2017-04-20T00:00:00",
          "2017-04-21T00:00:00",
          "2017-04-22T00:00:00",
          "2017-04-23T00:00:00",
          "2017-04-24T00:00:00",
          "2017-04-25T00:00:00",
          "2017-04-26T00:00:00",
          "2017-04-27T00:00:00",
          "2017-04-28T00:00:00",
          "2017-04-29T00:00:00",
          "2017-04-30T00:00:00",
          "2017-05-01T00:00:00",
          "2017-05-02T00:00:00",
          "2017-05-03T00:00:00",
          "2017-05-04T00:00:00",
          "2017-05-05T00:00:00",
          "2017-05-06T00:00:00",
          "2017-05-07T00:00:00",
          "2017-05-08T00:00:00",
          "2017-05-09T00:00:00",
          "2017-05-10T00:00:00",
          "2017-05-11T00:00:00",
          "2017-05-12T00:00:00",
          "2017-05-13T00:00:00",
          "2017-05-14T00:00:00",
          "2017-05-15T00:00:00",
          "2017-05-16T00:00:00",
          "2017-05-17T00:00:00",
          "2017-05-18T00:00:00",
          "2017-05-19T00:00:00",
          "2017-05-20T00:00:00",
          "2017-05-21T00:00:00",
          "2017-05-22T00:00:00",
          "2017-05-23T00:00:00",
          "2017-05-24T00:00:00",
          "2017-05-25T00:00:00",
          "2017-05-26T00:00:00",
          "2017-05-27T00:00:00",
          "2017-05-28T00:00:00",
          "2017-05-29T00:00:00",
          "2017-05-30T00:00:00",
          "2017-05-31T00:00:00",
          "2017-06-01T00:00:00",
          "2017-06-02T00:00:00",
          "2017-06-03T00:00:00",
          "2017-06-04T00:00:00",
          "2017-06-05T00:00:00",
          "2017-06-06T23:29:55.701000",
          "2017-06-07T00:00:00",
          "2017-06-08T23:39:21.692000",
          "2017-06-09T00:00:00",
          "2017-06-10T00:00:00",
          "2017-06-11T00:00:00",
          "2017-06-12T00:00:00",
          "2017-06-13T00:00:00",
          "2017-06-14T00:00:00",
          "2017-06-15T00:00:00",
          "2017-06-16T00:00:00",
          "2017-06-17T00:00:00",
          "2017-06-18T00:00:00",
          "2017-06-19T00:00:00",
          "2017-06-20T00:00:00",
          "2017-06-21T00:00:00",
          "2017-06-22T00:00:00",
          "2017-06-23T00:00:00",
          "2017-06-24T00:00:00",
          "2017-06-25T00:00:00",
          "2017-06-26T00:00:00",
          "2017-06-27T00:00:00",
          "2017-06-28T00:00:00",
          "2017-06-29T00:00:00",
          "2017-06-30T00:00:00",
          "2017-07-01T00:00:00",
          "2017-07-02T00:00:00",
          "2017-07-03T00:00:00",
          "2017-07-04T00:00:00",
          "2017-07-05T00:00:00",
          "2017-07-06T00:00:00",
          "2017-07-07T00:00:00",
          "2017-07-08T00:00:00",
          "2017-07-09T00:00:00",
          "2017-07-10T00:00:00",
          "2017-07-11T00:00:00",
          "2017-07-12T00:00:00",
          "2017-07-13T00:00:00",
          "2017-07-14T00:00:00",
          "2017-07-15T00:00:00",
          "2017-07-16T00:00:00",
          "2017-07-17T00:00:00",
          "2017-07-18T00:00:00",
          "2017-07-19T00:00:00",
          "2017-07-20T00:00:00",
          "2017-07-21T00:00:00",
          "2017-07-22T00:00:00",
          "2017-07-23T00:00:00",
          "2017-07-24T00:00:00",
          "2017-07-25T00:00:00",
          "2017-07-26T00:00:00",
          "2017-07-27T00:00:00",
          "2017-07-28T00:00:00",
          "2017-07-29T00:00:00",
          "2017-07-30T00:00:00",
          "2017-07-31T00:00:00",
          "2017-08-01T00:00:00",
          "2017-08-02T00:00:00",
          "2017-08-03T00:00:00",
          "2017-08-04T00:00:00",
          "2017-08-05T00:00:00",
          "2017-08-06T00:00:00",
          "2017-08-07T00:00:00",
          "2017-08-08T00:00:00",
          "2017-08-09T00:00:00",
          "2017-08-10T00:00:00",
          "2017-08-11T00:00:00",
          "2017-08-12T00:00:00",
          "2017-08-13T00:00:00",
          "2017-08-14T00:00:00",
          "2017-08-15T00:00:00",
          "2017-08-16T00:00:00",
          "2017-08-17T00:00:00",
          "2017-08-18T00:00:00",
          "2017-08-19T00:00:00",
          "2017-08-20T00:00:00",
          "2017-08-21T00:00:00",
          "2017-08-22T00:00:00",
          "2017-08-23T00:00:00",
          "2017-08-24T00:00:00",
          "2017-08-25T00:00:00",
          "2017-08-26T00:00:00",
          "2017-08-27T00:00:00",
          "2017-08-28T00:00:00",
          "2017-08-29T00:00:00",
          "2017-08-30T00:00:00",
          "2017-08-31T00:00:00",
          "2017-09-01T00:00:00",
          "2017-09-02T00:00:00",
          "2017-09-03T00:00:00",
          "2017-09-04T00:00:00",
          "2017-09-05T00:00:00",
          "2017-09-06T00:00:00",
          "2017-09-07T00:00:00",
          "2017-09-08T00:00:00",
          "2017-09-09T00:00:00",
          "2017-09-10T00:00:00",
          "2017-09-11T00:00:00",
          "2017-09-12T00:00:00",
          "2017-09-13T00:00:00",
          "2017-09-14T00:00:00",
          "2017-09-15T00:00:00",
          "2017-09-16T00:00:00",
          "2017-09-17T00:00:00",
          "2017-09-18T00:00:00",
          "2017-09-19T00:00:00",
          "2017-09-20T00:00:00",
          "2017-09-21T00:00:00",
          "2017-09-22T00:00:00",
          "2017-09-23T00:00:00",
          "2017-09-24T00:00:00",
          "2017-09-25T00:00:00",
          "2017-09-26T00:00:00",
          "2017-09-27T00:00:00",
          "2017-09-28T00:00:00",
          "2017-09-29T00:00:00",
          "2017-09-30T00:00:00",
          "2017-10-01T00:00:00",
          "2017-10-02T00:00:00",
          "2017-10-03T00:00:00",
          "2017-10-04T00:00:00",
          "2017-10-05T00:00:00",
          "2017-10-06T00:00:00",
          "2017-10-07T00:00:00",
          "2017-10-08T00:00:00",
          "2017-10-09T00:00:00",
          "2017-10-10T00:00:00",
          "2017-10-11T00:00:00",
          "2017-10-12T00:00:00",
          "2017-10-13T00:00:00",
          "2017-10-14T00:00:00",
          "2017-10-15T00:00:00",
          "2017-10-16T00:00:00",
          "2017-10-17T00:00:00",
          "2017-10-18T00:00:00",
          "2017-10-19T00:00:00",
          "2017-10-20T00:00:00",
          "2017-10-21T00:00:00",
          "2017-10-22T00:00:00",
          "2017-10-23T00:00:00",
          "2017-10-24T00:00:00",
          "2017-10-25T00:00:00",
          "2017-10-26T00:00:00",
          "2017-10-27T00:00:00",
          "2017-10-28T00:00:00",
          "2017-10-29T00:00:00",
          "2017-10-30T00:00:00",
          "2017-10-31T00:00:00",
          "2017-11-01T00:00:00",
          "2017-11-02T00:00:00",
          "2017-11-03T00:00:00",
          "2017-11-04T00:00:00",
          "2017-11-05T00:00:00",
          "2017-11-06T00:00:00",
          "2017-11-07T00:00:00",
          "2017-11-08T00:00:00",
          "2017-11-09T00:00:00",
          "2017-11-10T00:00:00",
          "2017-11-11T00:00:00",
          "2017-11-12T00:00:00",
          "2017-11-13T00:00:00",
          "2017-11-14T00:00:00",
          "2017-11-15T00:00:00",
          "2017-11-16T00:00:00",
          "2017-11-17T00:00:00",
          "2017-11-18T00:00:00",
          "2017-11-19T00:00:00",
          "2017-11-20T00:00:00",
          "2017-11-21T00:00:00",
          "2017-11-22T00:00:00",
          "2017-11-23T00:00:00",
          "2017-11-24T00:00:00",
          "2017-11-25T00:00:00",
          "2017-11-26T00:00:00",
          "2017-11-27T00:00:00",
          "2017-11-28T00:00:00",
          "2017-11-29T00:00:00",
          "2017-11-30T00:00:00",
          "2017-12-01T00:00:00",
          "2017-12-02T00:00:00",
          "2017-12-03T00:00:00",
          "2017-12-04T00:00:00",
          "2017-12-05T00:00:00",
          "2017-12-06T00:00:00",
          "2017-12-07T00:00:00",
          "2017-12-08T00:00:00",
          "2017-12-09T00:00:00",
          "2017-12-10T00:00:00",
          "2017-12-11T00:00:00",
          "2017-12-12T00:00:00",
          "2017-12-13T00:00:00",
          "2017-12-14T00:00:00",
          "2017-12-15T00:00:00",
          "2017-12-16T00:00:00",
          "2017-12-17T00:00:00",
          "2017-12-18T00:00:00",
          "2017-12-19T00:00:00",
          "2017-12-20T00:00:00",
          "2017-12-21T00:00:00",
          "2017-12-22T00:00:00",
          "2017-12-23T00:00:00",
          "2017-12-24T00:00:00",
          "2017-12-25T00:00:00",
          "2017-12-26T00:00:00",
          "2017-12-27T00:00:00",
          "2017-12-28T00:00:00",
          "2017-12-29T00:00:00",
          "2017-12-30T00:00:00",
          "2017-12-31T00:00:00",
          "2018-01-01T00:00:00",
          "2018-01-02T00:00:00",
          "2018-01-03T00:00:00",
          "2018-01-04T00:00:00",
          "2018-01-05T00:00:00",
          "2018-01-06T00:00:00",
          "2018-01-07T00:00:00",
          "2018-01-08T00:00:00",
          "2018-01-09T00:00:00",
          "2018-01-10T00:00:00",
          "2018-01-11T00:00:00",
          "2018-01-12T00:00:00",
          "2018-01-13T00:00:00",
          "2018-01-14T00:00:00",
          "2018-01-15T00:00:00",
          "2018-01-16T00:00:00",
          "2018-01-17T00:00:00",
          "2018-01-18T00:00:00",
          "2018-01-19T00:00:00",
          "2018-01-20T00:00:00",
          "2018-01-21T00:00:00",
          "2018-01-22T00:00:00",
          "2018-01-23T00:00:00",
          "2018-01-24T00:00:00",
          "2018-01-25T00:00:00",
          "2018-01-26T00:00:00",
          "2018-01-27T00:00:00",
          "2018-01-28T00:00:00",
          "2018-01-29T00:00:00",
          "2018-01-30T00:05:18.718000",
          "2018-01-31T00:00:00",
          "2018-02-01T00:00:00",
          "2018-02-02T00:00:00",
          "2018-02-03T00:00:00",
          "2018-02-04T00:00:00",
          "2018-02-05T00:00:00",
          "2018-02-06T00:00:00",
          "2018-02-07T00:00:00",
          "2018-02-08T00:05:28.226000",
          "2018-02-09T00:00:00",
          "2018-02-10T00:00:00",
          "2018-02-11T00:00:00",
          "2018-02-12T00:00:00",
          "2018-02-13T00:00:00",
          "2018-02-14T00:00:00",
          "2018-02-15T00:00:00",
          "2018-02-16T00:00:00",
          "2018-02-17T00:00:00",
          "2018-02-18T00:00:00",
          "2018-02-19T00:00:00",
          "2018-02-20T00:00:00",
          "2018-02-21T00:00:00",
          "2018-02-22T00:00:00",
          "2018-02-23T00:00:00",
          "2018-02-24T00:00:00",
          "2018-02-25T00:00:00",
          "2018-02-26T00:00:00",
          "2018-02-27T00:00:00",
          "2018-02-28T00:00:00",
          "2018-03-01T00:00:00",
          "2018-03-02T00:00:00",
          "2018-03-03T00:00:00",
          "2018-03-04T00:00:00",
          "2018-03-05T00:00:00",
          "2018-03-06T00:00:00",
          "2018-03-07T00:00:00",
          "2018-03-08T00:00:00",
          "2018-03-09T00:00:00",
          "2018-03-10T00:00:00",
          "2018-03-11T00:00:00",
          "2018-03-12T00:00:00",
          "2018-03-13T00:00:00",
          "2018-03-14T00:00:00",
          "2018-03-15T00:00:00",
          "2018-03-16T00:00:00",
          "2018-03-17T00:00:00",
          "2018-03-18T00:00:00",
          "2018-03-19T00:00:00",
          "2018-03-20T00:00:00",
          "2018-03-21T00:00:00",
          "2018-03-22T00:00:00",
          "2018-03-23T00:00:00",
          "2018-03-24T00:00:00",
          "2018-03-25T00:00:00",
          "2018-03-26T00:00:00",
          "2018-03-27T00:00:00",
          "2018-03-28T00:00:00",
          "2018-03-29T00:00:00",
          "2018-03-30T00:00:00",
          "2018-03-31T00:00:00",
          "2018-04-01T00:00:00",
          "2018-04-02T00:00:00",
          "2018-04-03T00:00:00",
          "2018-04-04T00:00:00",
          "2018-04-05T00:00:00",
          "2018-04-06T00:00:00",
          "2018-04-07T00:00:00",
          "2018-04-08T00:00:00",
          "2018-04-09T00:00:00",
          "2018-04-10T00:00:00",
          "2018-04-11T00:00:00",
          "2018-04-12T00:00:00",
          "2018-04-13T00:00:00",
          "2018-04-14T00:00:00",
          "2018-04-15T00:00:00",
          "2018-04-16T00:00:00",
          "2018-04-17T00:00:00",
          "2018-04-18T00:00:00",
          "2018-04-19T00:00:00",
          "2018-04-20T00:00:00",
          "2018-04-21T00:00:00",
          "2018-04-22T00:00:00",
          "2018-04-23T00:00:00",
          "2018-04-24T00:00:00",
          "2018-04-25T00:00:00",
          "2018-04-26T00:00:00",
          "2018-04-27T00:00:00",
          "2018-04-28T00:00:00",
          "2018-04-29T00:00:00",
          "2018-04-30T00:00:00",
          "2018-05-01T00:00:00",
          "2018-05-02T00:00:00",
          "2018-05-03T00:00:00",
          "2018-05-04T00:00:00",
          "2018-05-05T00:00:00",
          "2018-05-06T00:00:00",
          "2018-05-07T00:00:00",
          "2018-05-08T00:00:00",
          "2018-05-09T00:00:00",
          "2018-05-10T00:00:00",
          "2018-05-11T00:00:00",
          "2018-05-12T00:00:00",
          "2018-05-13T00:00:00",
          "2018-05-14T00:00:00",
          "2018-05-15T00:00:00",
          "2018-05-16T00:00:00",
          "2018-05-17T00:00:00",
          "2018-05-18T00:00:00",
          "2018-05-19T00:00:00",
          "2018-05-20T00:00:00",
          "2018-05-21T00:00:00",
          "2018-05-22T00:00:00",
          "2018-05-23T00:00:00",
          "2018-05-24T00:00:00",
          "2018-05-25T00:00:00",
          "2018-05-26T00:00:00",
          "2018-05-27T00:00:00",
          "2018-05-28T00:00:00",
          "2018-05-29T00:00:00",
          "2018-05-30T00:00:00",
          "2018-05-31T00:00:00",
          "2018-06-01T00:00:00",
          "2018-06-02T00:00:00",
          "2018-06-03T00:00:00",
          "2018-06-04T00:00:00",
          "2018-06-05T00:00:00",
          "2018-06-06T00:00:00",
          "2018-06-07T00:00:00",
          "2018-06-08T00:00:00",
          "2018-06-09T00:00:00",
          "2018-06-10T00:00:00",
          "2018-06-11T00:00:00",
          "2018-06-12T00:00:00",
          "2018-06-13T00:00:00",
          "2018-06-14T00:00:00",
          "2018-06-15T00:00:00",
          "2018-06-16T00:00:00",
          "2018-06-17T00:00:00",
          "2018-06-18T00:00:00",
          "2018-06-19T00:00:00",
          "2018-06-20T00:00:00",
          "2018-06-21T00:00:00",
          "2018-06-22T00:00:00",
          "2018-06-23T00:00:00",
          "2018-06-24T00:00:00",
          "2018-06-25T00:00:00",
          "2018-06-26T00:00:00",
          "2018-06-27T00:00:00",
          "2018-06-28T00:00:00",
          "2018-06-29T00:00:00",
          "2018-06-30T00:00:00",
          "2018-07-01T00:00:00",
          "2018-07-02T00:00:00",
          "2018-07-03T00:00:00",
          "2018-07-04T00:00:00",
          "2018-07-05T00:00:00",
          "2018-07-06T00:00:00",
          "2018-07-07T00:00:00",
          "2018-07-08T00:00:00",
          "2018-07-09T00:00:00",
          "2018-07-10T00:00:00",
          "2018-07-11T00:00:00",
          "2018-07-12T00:00:00",
          "2018-07-13T00:00:00",
          "2018-07-14T00:00:00",
          "2018-07-15T00:00:00",
          "2018-07-16T00:00:00",
          "2018-07-17T00:00:00",
          "2018-07-18T00:00:00",
          "2018-07-19T00:00:00",
          "2018-07-20T00:00:00",
          "2018-07-21T00:00:00",
          "2018-07-22T00:00:00",
          "2018-07-23T00:00:00",
          "2018-07-24T00:00:00",
          "2018-07-25T00:00:00",
          "2018-07-26T00:00:00",
          "2018-07-27T00:00:00",
          "2018-07-28T00:00:00",
          "2018-07-29T00:00:00",
          "2018-07-30T00:00:00",
          "2018-07-31T00:00:00",
          "2018-08-01T00:00:00",
          "2018-08-02T00:00:00",
          "2018-08-03T00:00:00",
          "2018-08-04T00:00:00",
          "2018-08-05T00:00:00",
          "2018-08-06T00:00:00",
          "2018-08-07T00:00:00",
          "2018-08-08T00:00:00",
          "2018-08-09T00:00:00",
          "2018-08-10T00:00:00",
          "2018-08-11T00:00:00",
          "2018-08-12T00:00:00",
          "2018-08-13T00:00:00",
          "2018-08-14T00:00:00",
          "2018-08-15T00:00:00",
          "2018-08-16T00:00:00",
          "2018-08-17T00:00:00",
          "2018-08-18T00:00:00",
          "2018-08-19T00:00:00",
          "2018-08-20T00:00:00",
          "2018-08-21T00:00:00",
          "2018-08-22T00:00:00",
          "2018-08-23T00:00:00",
          "2018-08-24T00:00:00",
          "2018-08-25T00:00:00",
          "2018-08-26T00:00:00",
          "2018-08-27T00:00:00",
          "2018-08-28T00:00:00",
          "2018-08-29T00:00:00",
          "2018-08-30T00:00:00",
          "2018-08-31T00:00:00",
          "2018-09-01T00:00:00",
          "2018-09-02T00:00:00",
          "2018-09-03T00:00:00",
          "2018-09-04T00:00:00",
          "2018-09-05T00:00:00",
          "2018-09-06T00:00:00",
          "2018-09-07T00:00:00",
          "2018-09-08T00:00:00",
          "2018-09-09T00:00:00",
          "2018-09-10T00:00:00",
          "2018-09-11T00:00:00",
          "2018-09-12T00:00:00",
          "2018-09-13T00:00:00",
          "2018-09-14T00:00:00",
          "2018-09-15T00:00:00",
          "2018-09-16T00:00:00",
          "2018-09-17T00:00:00",
          "2018-09-18T00:00:00",
          "2018-09-19T00:00:00",
          "2018-09-20T00:00:00",
          "2018-09-21T00:00:00",
          "2018-09-22T00:00:00",
          "2018-09-23T00:00:00",
          "2018-09-24T00:00:00",
          "2018-09-25T00:00:00",
          "2018-09-26T00:00:00",
          "2018-09-27T00:00:00",
          "2018-09-28T00:00:00",
          "2018-09-29T00:00:00",
          "2018-09-30T00:00:00",
          "2018-10-01T00:00:00",
          "2018-10-02T00:00:00",
          "2018-10-03T00:00:00",
          "2018-10-04T00:00:00",
          "2018-10-05T00:00:00",
          "2018-10-06T00:00:00",
          "2018-10-07T00:00:00",
          "2018-10-08T00:00:00",
          "2018-10-09T00:00:00",
          "2018-10-10T00:00:00",
          "2018-10-11T00:00:00",
          "2018-10-12T00:00:00",
          "2018-10-13T00:00:00",
          "2018-10-14T00:00:00",
          "2018-10-15T00:00:00",
          "2018-10-16T00:00:00",
          "2018-10-17T00:00:00",
          "2018-10-18T00:00:00",
          "2018-10-19T00:00:00",
          "2018-10-20T00:00:00",
          "2018-10-21T00:00:00",
          "2018-10-22T00:00:00",
          "2018-10-23T00:00:00",
          "2018-10-24T00:00:00",
          "2018-10-25T00:00:00",
          "2018-10-26T00:00:00",
          "2018-10-27T00:00:00",
          "2018-10-28T00:00:00",
          "2018-10-29T00:00:00",
          "2018-10-30T00:00:00",
          "2018-10-31T00:00:00",
          "2018-11-01T00:00:00",
          "2018-11-02T00:00:00",
          "2018-11-03T00:00:00",
          "2018-11-04T00:00:00",
          "2018-11-05T00:00:00",
          "2018-11-06T00:00:00",
          "2018-11-07T00:00:00",
          "2018-11-08T00:00:00",
          "2018-11-09T00:00:00",
          "2018-11-10T00:00:00",
          "2018-11-11T00:00:00",
          "2018-11-12T00:00:00",
          "2018-11-13T00:00:00",
          "2018-11-14T00:00:00",
          "2018-11-15T00:00:00",
          "2018-11-16T00:00:00",
          "2018-11-17T00:00:00",
          "2018-11-18T00:00:00",
          "2018-11-19T00:00:00",
          "2018-11-20T00:00:00",
          "2018-11-21T00:00:00",
          "2018-11-22T00:00:00",
          "2018-11-23T00:00:00",
          "2018-11-24T00:00:00",
          "2018-11-25T00:00:00",
          "2018-11-26T00:00:00",
          "2018-11-27T00:00:00",
          "2018-11-28T00:00:00",
          "2018-11-29T00:00:00",
          "2018-11-30T00:00:00",
          "2018-12-01T00:00:00",
          "2018-12-02T00:00:00",
          "2018-12-03T00:00:00",
          "2018-12-04T00:00:00",
          "2018-12-05T00:00:00",
          "2018-12-06T00:00:00",
          "2018-12-07T00:00:00",
          "2018-12-08T00:00:00",
          "2018-12-09T00:00:00",
          "2018-12-10T00:00:00",
          "2018-12-11T00:00:00",
          "2018-12-12T00:00:00",
          "2018-12-13T00:00:00",
          "2018-12-14T00:00:00",
          "2018-12-15T00:00:00",
          "2018-12-16T00:00:00",
          "2018-12-17T00:00:00",
          "2018-12-18T00:00:00",
          "2018-12-19T00:00:00",
          "2018-12-20T00:00:00",
          "2018-12-21T00:00:00",
          "2018-12-22T00:00:00",
          "2018-12-23T00:00:00",
          "2018-12-24T00:00:00",
          "2018-12-25T00:00:00",
          "2018-12-26T00:00:00",
          "2018-12-27T00:00:00",
          "2018-12-28T00:00:00",
          "2018-12-29T00:00:00",
          "2018-12-30T00:00:00",
          "2018-12-31T00:00:00",
          "2019-01-01T00:00:00",
          "2019-01-02T00:00:00",
          "2019-01-03T00:00:00",
          "2019-01-04T00:00:00",
          "2019-01-05T00:00:00",
          "2019-01-06T00:00:00",
          "2019-01-07T00:00:00",
          "2019-01-08T00:00:00",
          "2019-01-09T00:00:00",
          "2019-01-10T00:00:00",
          "2019-01-11T00:00:00",
          "2019-01-12T00:00:00",
          "2019-01-13T00:00:00",
          "2019-01-14T00:00:00",
          "2019-01-15T00:00:00",
          "2019-01-16T00:00:00",
          "2019-01-17T00:00:00",
          "2019-01-18T00:00:00",
          "2019-01-19T00:00:00",
          "2019-01-20T00:00:00",
          "2019-01-21T00:00:00",
          "2019-01-22T00:00:00",
          "2019-01-23T00:00:00",
          "2019-01-24T00:00:00",
          "2019-01-25T00:00:00",
          "2019-01-26T00:00:00",
          "2019-01-27T00:00:00",
          "2019-01-28T00:00:00",
          "2019-01-29T00:00:00",
          "2019-01-30T00:00:00",
          "2019-01-31T00:00:00",
          "2019-02-01T00:00:00",
          "2019-02-02T00:00:00",
          "2019-02-03T00:00:00",
          "2019-02-04T00:00:00",
          "2019-02-05T00:00:00",
          "2019-02-06T00:00:00",
          "2019-02-07T00:00:00",
          "2019-02-08T00:00:00",
          "2019-02-09T00:00:00",
          "2019-02-10T00:00:00",
          "2019-02-11T00:00:00",
          "2019-02-12T00:00:00",
          "2019-02-13T00:00:00",
          "2019-02-14T00:00:00",
          "2019-02-15T00:00:00",
          "2019-02-16T00:00:00",
          "2019-02-17T00:00:00",
          "2019-02-18T00:00:00",
          "2019-02-19T00:00:00",
          "2019-02-20T00:00:00",
          "2019-02-21T00:00:00",
          "2019-02-22T00:00:00",
          "2019-02-23T00:00:00",
          "2019-02-24T00:00:00",
          "2019-02-25T00:00:00",
          "2019-02-26T00:00:00",
          "2019-02-27T00:00:00",
          "2019-02-28T00:00:00",
          "2019-03-01T00:00:00",
          "2019-03-02T00:00:00",
          "2019-03-03T00:00:00",
          "2019-03-04T00:00:00",
          "2019-03-05T00:00:00",
          "2019-03-06T00:00:00",
          "2019-03-07T00:00:00",
          "2019-03-08T00:00:00",
          "2019-03-09T00:00:00",
          "2019-03-10T00:00:00",
          "2019-03-11T00:00:00",
          "2019-03-12T00:00:00",
          "2019-03-13T00:00:00",
          "2019-03-14T00:00:00",
          "2019-03-15T00:00:00",
          "2019-03-16T00:00:00",
          "2019-03-17T00:00:00",
          "2019-03-18T00:00:00",
          "2019-03-19T00:00:00",
          "2019-03-20T00:00:00",
          "2019-03-21T00:00:00",
          "2019-03-22T00:00:00",
          "2019-03-23T00:00:00",
          "2019-03-24T00:00:00",
          "2019-03-25T00:00:00",
          "2019-03-26T00:00:00",
          "2019-03-27T00:00:00",
          "2019-03-28T00:00:00",
          "2019-03-29T00:00:00",
          "2019-03-30T00:00:00",
          "2019-03-31T00:00:00",
          "2019-04-01T00:00:00",
          "2019-04-02T00:00:00",
          "2019-04-03T00:00:00",
          "2019-04-04T00:00:00",
          "2019-04-05T00:00:00",
          "2019-04-06T00:00:00",
          "2019-04-07T00:00:00",
          "2019-04-08T00:00:00",
          "2019-04-09T00:00:00",
          "2019-04-10T00:00:00",
          "2019-04-11T00:00:00",
          "2019-04-12T00:00:00",
          "2019-04-13T00:00:00",
          "2019-04-14T00:00:00",
          "2019-04-15T00:00:00",
          "2019-04-16T00:00:00",
          "2019-04-17T00:00:00",
          "2019-04-18T00:00:00",
          "2019-04-19T00:00:00",
          "2019-04-20T00:00:00",
          "2019-04-21T00:00:00",
          "2019-04-22T00:00:00",
          "2019-04-23T00:00:00",
          "2019-04-24T00:00:00",
          "2019-04-25T00:00:00",
          "2019-04-26T00:00:00",
          "2019-04-27T00:00:00",
          "2019-04-28T00:00:00",
          "2019-04-29T00:00:00",
          "2019-04-30T00:00:00",
          "2019-05-01T00:00:00",
          "2019-05-02T00:00:00",
          "2019-05-03T00:00:00",
          "2019-05-04T00:00:00",
          "2019-05-05T00:00:00",
          "2019-05-06T00:00:00",
          "2019-05-07T00:00:00",
          "2019-05-08T00:00:00",
          "2019-05-09T00:00:00",
          "2019-05-10T00:00:00",
          "2019-05-11T00:00:00",
          "2019-05-12T00:00:00",
          "2019-05-13T00:00:00",
          "2019-05-14T00:00:00",
          "2019-05-15T00:00:00",
          "2019-05-16T00:00:00",
          "2019-05-17T00:00:00",
          "2019-05-18T00:00:00",
          "2019-05-19T00:00:00",
          "2019-05-20T00:00:00",
          "2019-05-21T00:00:00",
          "2019-05-22T00:00:00",
          "2019-05-23T00:00:00",
          "2019-05-24T00:00:00",
          "2019-05-25T00:00:00",
          "2019-05-26T00:00:00",
          "2019-05-27T00:00:00",
          "2019-05-28T00:00:00",
          "2019-05-29T00:00:00",
          "2019-05-30T00:00:00",
          "2019-05-31T00:00:00",
          "2019-06-01T00:00:00",
          "2019-06-02T00:00:00",
          "2019-06-03T00:00:00",
          "2019-06-04T00:00:00",
          "2019-06-05T00:00:00",
          "2019-06-06T00:00:00",
          "2019-06-07T00:00:00",
          "2019-06-08T00:00:00",
          "2019-06-09T00:00:00",
          "2019-06-10T00:00:00",
          "2019-06-11T00:00:00",
          "2019-06-12T00:00:00",
          "2019-06-13T00:00:00",
          "2019-06-14T00:00:00",
          "2019-06-15T00:00:00",
          "2019-06-16T00:00:00",
          "2019-06-17T00:00:00",
          "2019-06-18T00:00:00",
          "2019-06-19T00:00:00",
          "2019-06-20T00:00:00",
          "2019-06-21T00:00:00",
          "2019-06-22T00:00:00",
          "2019-06-23T00:00:00",
          "2019-06-24T00:00:00",
          "2019-06-25T00:00:00",
          "2019-06-26T00:00:00",
          "2019-06-27T00:00:00",
          "2019-06-28T00:00:00",
          "2019-06-29T00:00:00",
          "2019-06-30T00:00:00",
          "2019-07-01T00:00:00",
          "2019-07-02T00:00:00",
          "2019-07-03T00:00:00",
          "2019-07-04T00:00:00",
          "2019-07-05T00:00:00",
          "2019-07-06T00:00:00",
          "2019-07-07T00:00:00",
          "2019-07-08T00:00:00",
          "2019-07-09T00:00:00",
          "2019-07-10T00:00:00",
          "2019-07-11T00:00:00",
          "2019-07-12T00:00:00",
          "2019-07-13T00:00:00",
          "2019-07-14T00:00:00",
          "2019-07-15T00:00:00",
          "2019-07-16T00:00:00",
          "2019-07-17T00:00:00",
          "2019-07-18T00:00:00",
          "2019-07-19T00:00:00",
          "2019-07-20T00:00:00",
          "2019-07-21T00:00:00",
          "2019-07-22T00:00:00",
          "2019-07-23T00:00:00",
          "2019-07-24T00:00:00",
          "2019-07-25T00:00:00",
          "2019-07-26T00:00:00",
          "2019-07-27T00:00:00",
          "2019-07-28T00:00:00",
          "2019-07-29T00:00:00",
          "2019-07-30T00:00:00",
          "2019-07-31T00:00:00",
          "2019-08-01T00:00:00",
          "2019-08-02T00:00:00",
          "2019-08-03T00:00:00",
          "2019-08-04T00:00:00",
          "2019-08-05T00:00:00",
          "2019-08-06T00:00:00",
          "2019-08-07T00:00:00",
          "2019-08-08T00:00:00",
          "2019-08-09T00:00:00",
          "2019-08-10T00:00:00",
          "2019-08-11T00:00:00",
          "2019-08-12T00:00:00",
          "2019-08-13T00:00:00",
          "2019-08-14T00:00:00",
          "2019-08-15T00:00:00",
          "2019-08-16T00:00:00",
          "2019-08-17T00:00:00",
          "2019-08-18T00:00:00",
          "2019-08-19T00:00:00",
          "2019-08-20T00:00:00",
          "2019-08-21T00:00:00",
          "2019-08-22T00:00:00",
          "2019-08-23T00:00:00",
          "2019-08-24T00:00:00",
          "2019-08-25T00:00:00",
          "2019-08-26T00:00:00",
          "2019-08-27T00:00:00",
          "2019-08-28T00:00:00",
          "2019-08-29T00:00:00",
          "2019-08-30T00:00:00",
          "2019-08-31T00:00:00",
          "2019-09-01T00:00:00",
          "2019-09-02T00:00:00",
          "2019-09-03T00:00:00",
          "2019-09-04T00:00:00",
          "2019-09-05T00:00:00",
          "2019-09-06T00:00:00",
          "2019-09-07T00:00:00",
          "2019-09-08T00:00:00",
          "2019-09-09T00:00:00",
          "2019-09-10T00:00:00",
          "2019-09-11T00:00:00",
          "2019-09-12T00:00:00",
          "2019-09-13T00:00:00",
          "2019-09-14T00:00:00",
          "2019-09-15T00:00:00",
          "2019-09-16T00:00:00",
          "2019-09-17T00:00:00",
          "2019-09-18T00:00:00",
          "2019-09-19T00:00:00",
          "2019-09-20T00:00:00",
          "2019-09-21T00:00:00",
          "2019-09-22T00:00:00",
          "2019-09-23T00:00:00",
          "2019-09-24T00:00:00",
          "2019-09-25T00:00:00",
          "2019-09-26T00:00:00",
          "2019-09-27T00:00:00",
          "2019-09-28T00:00:00",
          "2019-09-29T00:00:00",
          "2019-09-30T00:00:00",
          "2019-10-01T00:00:00",
          "2019-10-02T00:00:00",
          "2019-10-03T00:00:00",
          "2019-10-04T00:00:00",
          "2019-10-05T00:00:00",
          "2019-10-06T00:00:00",
          "2019-10-07T00:00:00",
          "2019-10-08T00:00:00",
          "2019-10-09T00:00:00",
          "2019-10-10T00:00:00",
          "2019-10-11T00:00:00",
          "2019-10-12T00:00:00",
          "2019-10-13T00:00:00",
          "2019-10-14T00:00:00",
          "2019-10-15T00:00:00",
          "2019-10-16T00:00:00",
          "2019-10-17T00:00:00",
          "2019-10-18T00:00:00",
          "2019-10-19T00:00:00",
          "2019-10-20T00:00:00",
          "2019-10-21T00:00:00",
          "2019-10-22T00:00:00",
          "2019-10-23T00:00:00",
          "2019-10-24T00:00:00",
          "2019-10-25T00:00:00",
          "2019-10-26T00:00:00",
          "2019-10-27T00:00:00",
          "2019-10-28T00:00:00",
          "2019-10-29T00:00:00",
          "2019-10-30T00:00:00",
          "2019-10-31T00:00:00",
          "2019-11-01T00:00:00",
          "2019-11-02T00:00:00",
          "2019-11-03T00:00:00",
          "2019-11-04T00:00:00",
          "2019-11-05T00:00:00",
          "2019-11-06T00:00:00",
          "2019-11-07T00:00:00",
          "2019-11-08T00:00:00",
          "2019-11-09T00:00:00",
          "2019-11-10T00:00:00",
          "2019-11-11T00:00:00",
          "2019-11-12T00:00:00",
          "2019-11-13T00:00:00",
          "2019-11-14T00:00:00",
          "2019-11-15T00:00:00",
          "2019-11-16T00:00:00",
          "2019-11-17T00:00:00",
          "2019-11-18T00:00:00",
          "2019-11-19T00:00:00",
          "2019-11-20T00:00:00",
          "2019-11-21T00:00:00",
          "2019-11-22T00:00:00",
          "2019-11-23T00:00:00",
          "2019-11-24T00:00:00",
          "2019-11-25T00:00:00",
          "2019-11-26T00:00:00",
          "2019-11-27T00:00:00",
          "2019-11-28T00:00:00",
          "2019-11-29T00:00:00",
          "2019-11-30T00:00:00",
          "2019-12-01T00:00:00",
          "2019-12-02T00:00:00",
          "2019-12-03T00:00:00",
          "2019-12-04T00:00:00",
          "2019-12-05T00:00:00",
          "2019-12-06T00:00:00",
          "2019-12-07T00:00:00",
          "2019-12-08T00:00:00",
          "2019-12-09T00:00:00",
          "2019-12-10T00:00:00",
          "2019-12-11T00:00:00",
          "2019-12-12T00:00:00",
          "2019-12-13T00:00:00",
          "2019-12-14T00:00:00",
          "2019-12-15T00:00:00",
          "2019-12-16T00:00:00",
          "2019-12-17T00:00:00",
          "2019-12-18T00:00:00",
          "2019-12-19T00:00:00",
          "2019-12-20T00:00:00",
          "2019-12-21T00:00:00",
          "2019-12-22T00:00:00",
          "2019-12-23T00:00:00",
          "2019-12-24T00:00:00",
          "2019-12-25T00:00:00",
          "2019-12-26T00:00:00",
          "2019-12-27T00:00:00",
          "2019-12-28T00:00:00",
          "2019-12-29T00:00:00",
          "2019-12-30T00:00:00",
          "2019-12-31T00:00:00",
          "2020-01-01T00:00:00",
          "2020-01-02T00:00:00",
          "2020-01-03T00:00:00",
          "2020-01-04T00:00:00",
          "2020-01-05T00:00:00",
          "2020-01-06T00:00:00",
          "2020-01-07T00:00:00",
          "2020-01-08T00:00:00",
          "2020-01-09T00:00:00",
          "2020-01-10T00:00:00",
          "2020-01-11T00:00:00",
          "2020-01-12T00:00:00",
          "2020-01-13T00:00:00",
          "2020-01-14T00:00:00",
          "2020-01-15T00:00:00",
          "2020-01-16T00:00:00",
          "2020-01-17T00:00:00",
          "2020-01-18T00:00:00",
          "2020-01-19T00:00:00",
          "2020-01-20T00:00:00",
          "2020-01-21T00:00:00",
          "2020-01-22T00:00:00",
          "2020-01-23T00:00:00",
          "2020-01-24T00:00:00",
          "2020-01-25T00:00:00",
          "2020-01-26T00:00:00",
          "2020-01-27T00:00:00",
          "2020-01-28T00:00:00",
          "2020-01-29T00:00:00",
          "2020-01-30T00:00:00",
          "2020-01-31T00:00:00",
          "2020-02-01T00:00:00",
          "2020-02-02T00:00:00",
          "2020-02-03T00:00:00",
          "2020-02-04T00:00:00",
          "2020-02-05T00:00:00",
          "2020-02-06T00:00:00",
          "2020-02-07T00:00:00",
          "2020-02-08T00:00:00",
          "2020-02-09T00:00:00",
          "2020-02-10T00:00:00",
          "2020-02-11T00:00:00",
          "2020-02-12T00:00:00",
          "2020-02-13T00:00:00",
          "2020-02-14T00:00:00",
          "2020-02-15T00:00:00",
          "2020-02-16T00:00:00",
          "2020-02-17T00:00:00",
          "2020-02-18T00:00:00",
          "2020-02-19T00:00:00",
          "2020-02-20T00:00:00",
          "2020-02-21T00:00:00",
          "2020-02-22T00:00:00",
          "2020-02-23T00:00:00",
          "2020-02-24T00:00:00",
          "2020-02-25T00:00:00",
          "2020-02-26T00:00:00",
          "2020-02-27T00:00:00",
          "2020-02-28T00:00:00",
          "2020-02-29T00:00:00",
          "2020-03-01T00:00:00",
          "2020-03-02T00:00:00",
          "2020-03-03T00:00:00",
          "2020-03-04T00:00:00",
          "2020-03-05T00:00:00",
          "2020-03-06T00:00:00",
          "2020-03-07T00:00:00",
          "2020-03-08T00:00:00",
          "2020-03-09T00:00:00",
          "2020-03-10T00:00:00",
          "2020-03-11T00:00:00",
          "2020-03-12T00:00:00",
          "2020-03-13T00:00:00",
          "2020-03-14T00:00:00",
          "2020-03-15T00:00:00",
          "2020-03-16T00:00:00",
          "2020-03-17T00:00:00",
          "2020-03-18T00:00:00",
          "2020-03-19T00:00:00",
          "2020-03-20T00:00:00",
          "2020-03-21T00:00:00",
          "2020-03-22T00:00:00",
          "2020-03-23T00:00:00",
          "2020-03-24T00:00:00",
          "2020-03-25T00:00:00",
          "2020-03-26T00:00:00",
          "2020-03-27T00:00:00",
          "2020-03-28T00:00:00",
          "2020-03-29T00:00:00",
          "2020-03-30T00:00:00",
          "2020-03-31T00:00:00",
          "2020-04-01T00:00:00",
          "2020-04-02T00:00:00",
          "2020-04-03T00:00:00",
          "2020-04-04T00:00:00",
          "2020-04-05T00:00:00",
          "2020-04-06T00:00:00",
          "2020-04-07T00:00:00",
          "2020-04-08T00:00:00",
          "2020-04-09T00:00:00",
          "2020-04-10T00:00:00",
          "2020-04-11T00:00:00",
          "2020-04-12T00:00:00",
          "2020-04-13T00:00:00",
          "2020-04-14T00:00:00",
          "2020-04-15T00:00:00",
          "2020-04-16T00:00:00",
          "2020-04-17T00:00:00",
          "2020-04-18T00:00:00",
          "2020-04-19T00:00:00",
          "2020-04-20T00:00:00",
          "2020-04-21T00:00:00",
          "2020-04-22T00:00:00",
          "2020-04-23T00:00:00",
          "2020-04-24T00:00:00",
          "2020-04-25T00:00:00",
          "2020-04-26T00:00:00",
          "2020-04-27T00:00:00",
          "2020-04-28T00:00:00",
          "2020-04-29T00:00:00",
          "2020-04-30T00:00:00",
          "2020-05-01T00:00:00",
          "2020-05-02T00:00:00",
          "2020-05-03T00:00:00",
          "2020-05-04T00:00:00",
          "2020-05-05T00:00:00",
          "2020-05-06T00:00:00",
          "2020-05-07T00:00:00",
          "2020-05-08T00:00:00",
          "2020-05-09T00:00:00",
          "2020-05-10T00:00:00",
          "2020-05-11T00:00:00",
          "2020-05-12T00:00:00",
          "2020-05-13T00:00:00",
          "2020-05-14T00:00:00",
          "2020-05-15T00:00:00",
          "2020-05-16T00:00:00",
          "2020-05-17T00:00:00",
          "2020-05-18T00:00:00",
          "2020-05-19T00:00:00",
          "2020-05-20T00:00:00",
          "2020-05-21T00:00:00",
          "2020-05-22T00:00:00",
          "2020-05-23T00:00:00",
          "2020-05-24T00:00:00",
          "2020-05-25T00:00:00",
          "2020-05-26T00:00:00",
          "2020-05-27T00:00:00",
          "2020-05-28T00:00:00",
          "2020-05-29T00:00:00",
          "2020-05-30T00:00:00",
          "2020-05-31T00:00:00",
          "2020-06-01T00:00:00",
          "2020-06-02T00:00:00",
          "2020-06-03T00:00:00",
          "2020-06-04T00:00:00",
          "2020-06-05T00:00:00",
          "2020-06-06T00:00:00",
          "2020-06-07T00:00:00",
          "2020-06-08T00:00:00",
          "2020-06-09T00:00:00",
          "2020-06-10T00:00:00",
          "2020-06-11T00:00:00",
          "2020-06-12T00:00:00",
          "2020-06-13T00:00:00",
          "2020-06-14T00:00:00",
          "2020-06-15T00:00:00",
          "2020-06-16T00:00:00",
          "2020-06-17T00:00:00",
          "2020-06-18T00:00:00",
          "2020-06-19T00:00:00",
          "2020-06-20T00:00:00",
          "2020-06-21T00:00:00",
          "2020-06-22T00:00:00",
          "2020-06-23T00:00:00",
          "2020-06-24T00:00:00",
          "2020-06-25T00:00:00",
          "2020-06-26T00:00:00",
          "2020-06-27T00:00:00",
          "2020-06-28T00:00:00",
          "2020-06-29T00:00:00",
          "2020-06-30T00:00:00",
          "2020-07-01T00:00:00",
          "2020-07-02T00:00:00",
          "2020-07-03T00:00:00",
          "2020-07-04T00:00:00",
          "2020-07-05T00:00:00",
          "2020-07-06T00:00:00",
          "2020-07-07T00:00:00",
          "2020-07-08T00:00:00",
          "2020-07-09T00:00:00",
          "2020-07-10T00:00:00",
          "2020-07-11T00:00:00",
          "2020-07-12T00:00:00",
          "2020-07-13T00:00:00",
          "2020-07-14T00:00:00",
          "2020-07-15T00:00:00",
          "2020-07-16T00:00:00",
          "2020-07-17T00:00:00",
          "2020-07-18T00:00:00",
          "2020-07-19T00:00:00",
          "2020-07-20T00:00:00",
          "2020-07-21T00:00:00",
          "2020-07-22T00:00:00",
          "2020-07-23T00:00:00",
          "2020-07-24T00:00:00",
          "2020-07-25T00:00:00",
          "2020-07-26T00:00:00",
          "2020-07-27T00:00:00",
          "2020-07-28T00:00:00",
          "2020-07-29T00:00:00",
          "2020-07-30T00:00:00",
          "2020-07-31T00:00:00",
          "2020-08-01T00:00:00",
          "2020-08-02T00:00:00",
          "2020-08-03T00:00:00",
          "2020-08-04T00:00:00",
          "2020-08-05T00:00:00",
          "2020-08-06T00:00:00",
          "2020-08-07T00:00:00",
          "2020-08-08T00:00:00",
          "2020-08-09T00:00:00",
          "2020-08-10T00:00:00",
          "2020-08-11T00:00:00",
          "2020-08-12T00:00:00",
          "2020-08-13T00:00:00",
          "2020-08-14T00:00:00",
          "2020-08-15T00:00:00",
          "2020-08-16T00:00:00",
          "2020-08-17T00:00:00",
          "2020-08-18T00:00:00",
          "2020-08-19T00:00:00",
          "2020-08-20T00:00:00",
          "2020-08-21T00:00:00",
          "2020-08-22T00:00:00",
          "2020-08-23T00:00:00",
          "2020-08-24T00:00:00",
          "2020-08-25T00:00:00",
          "2020-08-26T00:00:00",
          "2020-08-27T00:00:00",
          "2020-08-28T00:00:00",
          "2020-08-29T00:00:00",
          "2020-08-30T00:00:00",
          "2020-08-31T00:00:00",
          "2020-09-01T00:00:00",
          "2020-09-02T00:00:00",
          "2020-09-03T00:00:00",
          "2020-09-04T00:00:00",
          "2020-09-05T00:00:00",
          "2020-09-06T00:00:00",
          "2020-09-07T00:00:00",
          "2020-09-08T00:00:00",
          "2020-09-09T00:00:00",
          "2020-09-10T00:00:00",
          "2020-09-11T00:00:00",
          "2020-09-12T00:00:00",
          "2020-09-13T00:00:00",
          "2020-09-14T00:00:00",
          "2020-09-15T00:00:00",
          "2020-09-16T00:00:00",
          "2020-09-17T00:00:00",
          "2020-09-18T00:00:00",
          "2020-09-19T00:00:00",
          "2020-09-20T00:00:00",
          "2020-09-21T00:00:00",
          "2020-09-22T00:00:00",
          "2020-09-23T00:00:00",
          "2020-09-24T00:00:00",
          "2020-09-25T00:00:00",
          "2020-09-26T00:00:00",
          "2020-09-27T00:00:00",
          "2020-09-28T00:00:00",
          "2020-09-29T00:00:00",
          "2020-09-30T00:00:00",
          "2020-10-01T00:00:00",
          "2020-10-02T00:00:00",
          "2020-10-03T00:00:00",
          "2020-10-04T00:00:00",
          "2020-10-05T00:00:00",
          "2020-10-06T00:00:00",
          "2020-10-07T00:00:00",
          "2020-10-08T00:00:00",
          "2020-10-09T00:00:00",
          "2020-10-10T00:00:00",
          "2020-10-11T00:00:00",
          "2020-10-12T00:00:00",
          "2020-10-13T00:00:00",
          "2020-10-14T00:00:00",
          "2020-10-15T00:00:00",
          "2020-10-16T00:00:00",
          "2020-10-17T00:00:00",
          "2020-10-18T00:00:00",
          "2020-10-19T00:00:00",
          "2020-10-20T00:00:00",
          "2020-10-21T00:00:00",
          "2020-10-22T00:00:00",
          "2020-10-23T00:00:00",
          "2020-10-24T00:00:00",
          "2020-10-25T00:00:00",
          "2020-10-26T00:00:00",
          "2020-10-27T00:00:00",
          "2020-10-28T00:00:00",
          "2020-10-29T00:00:00",
          "2020-10-30T00:00:00",
          "2020-10-31T00:00:00",
          "2020-11-01T00:00:00",
          "2020-11-02T00:00:00",
          "2020-11-03T00:00:00",
          "2020-11-04T00:00:00",
          "2020-11-05T00:00:00",
          "2020-11-06T00:00:00",
          "2020-11-07T00:00:00",
          "2020-11-08T00:00:00",
          "2020-11-09T00:00:00",
          "2020-11-10T00:00:00",
          "2020-11-11T00:00:00",
          "2020-11-12T00:00:00",
          "2020-11-13T00:00:00",
          "2020-11-14T00:00:00",
          "2020-11-15T00:00:00",
          "2020-11-16T00:00:00",
          "2020-11-17T00:00:00",
          "2020-11-18T00:00:00",
          "2020-11-19T00:00:00",
          "2020-11-20T00:00:00",
          "2020-11-21T00:00:00",
          "2020-11-22T00:00:00",
          "2020-11-23T00:00:00",
          "2020-11-24T00:00:00",
          "2020-11-25T00:00:00",
          "2020-11-26T00:00:00",
          "2020-11-27T00:00:00",
          "2020-11-28T00:00:00",
          "2020-11-29T00:00:00",
          "2020-11-30T00:00:00",
          "2020-12-01T00:00:00",
          "2020-12-02T00:00:00",
          "2020-12-03T00:00:00",
          "2020-12-04T00:00:00",
          "2020-12-05T00:00:00",
          "2020-12-06T00:00:00",
          "2020-12-07T00:00:00",
          "2020-12-08T00:00:00",
          "2020-12-09T00:00:00",
          "2020-12-10T00:00:00",
          "2020-12-11T00:00:00",
          "2020-12-12T00:00:00",
          "2020-12-13T00:00:00",
          "2020-12-14T00:00:00",
          "2020-12-15T00:00:00",
          "2020-12-16T00:00:00",
          "2020-12-17T00:00:00",
          "2020-12-18T00:00:00",
          "2020-12-19T00:00:00",
          "2020-12-20T00:00:00",
          "2020-12-21T00:00:00",
          "2020-12-22T00:00:00",
          "2020-12-23T00:00:00",
          "2020-12-24T00:00:00",
          "2020-12-25T00:00:00",
          "2020-12-26T00:00:00",
          "2020-12-27T00:00:00",
          "2020-12-28T00:00:00",
          "2020-12-29T00:00:00",
          "2020-12-30T00:00:00",
          "2020-12-31T00:00:00",
          "2021-01-01T00:00:00",
          "2021-01-02T00:00:00",
          "2021-01-03T00:00:00",
          "2021-01-04T00:00:00",
          "2021-01-05T00:00:00",
          "2021-01-06T00:00:00",
          "2021-01-07T00:00:00",
          "2021-01-08T00:00:00",
          "2021-01-09T00:00:00",
          "2021-01-10T00:00:00",
          "2021-01-11T00:00:00",
          "2021-01-12T00:00:00",
          "2021-01-13T00:00:00",
          "2021-01-14T00:00:00",
          "2021-01-15T00:00:00",
          "2021-01-16T00:00:00",
          "2021-01-17T00:00:00",
          "2021-01-18T00:00:00",
          "2021-01-19T00:00:00",
          "2021-01-20T00:00:00",
          "2021-01-21T00:00:00",
          "2021-01-22T00:00:00",
          "2021-01-23T00:00:00",
          "2021-01-24T00:00:00",
          "2021-01-25T00:00:00",
          "2021-01-26T00:00:00",
          "2021-01-27T00:00:00",
          "2021-01-28T00:00:00",
          "2021-01-29T00:00:00",
          "2021-01-30T00:00:00",
          "2021-01-31T00:00:00",
          "2021-02-01T00:00:00",
          "2021-02-02T00:00:00",
          "2021-02-03T00:00:00",
          "2021-02-04T00:00:00",
          "2021-02-05T00:00:00",
          "2021-02-06T00:00:00",
          "2021-02-07T00:00:00",
          "2021-02-08T00:00:00",
          "2021-02-09T00:00:00",
          "2021-02-10T00:00:00",
          "2021-02-11T00:00:00",
          "2021-02-12T00:00:00",
          "2021-02-13T00:00:00",
          "2021-02-14T00:00:00",
          "2021-02-15T00:00:00",
          "2021-02-16T00:00:00",
          "2021-02-17T00:00:00",
          "2021-02-18T00:00:00",
          "2021-02-19T00:00:00",
          "2021-02-20T00:00:00",
          "2021-02-21T00:00:00",
          "2021-02-22T00:00:00",
          "2021-02-23T00:00:00",
          "2021-02-24T00:00:00",
          "2021-02-25T00:00:00",
          "2021-02-26T00:00:00",
          "2021-02-27T00:00:00",
          "2021-02-28T00:00:00",
          "2021-03-01T00:00:00",
          "2021-03-02T00:00:00",
          "2021-03-03T00:00:00",
          "2021-03-04T00:00:00",
          "2021-03-05T00:00:00",
          "2021-03-06T00:00:00",
          "2021-03-07T00:00:00",
          "2021-03-08T00:00:00",
          "2021-03-09T00:00:00",
          "2021-03-10T00:00:00",
          "2021-03-11T00:00:00",
          "2021-03-12T00:00:00",
          "2021-03-13T00:00:00",
          "2021-03-14T00:00:00",
          "2021-03-15T00:00:00",
          "2021-03-16T00:00:00",
          "2021-03-17T00:00:00",
          "2021-03-18T00:00:00",
          "2021-03-19T00:00:00",
          "2021-03-20T00:00:00",
          "2021-03-21T00:00:00",
          "2021-03-22T00:00:00",
          "2021-03-23T00:00:00",
          "2021-03-24T00:00:00",
          "2021-03-25T00:00:00",
          "2021-03-26T00:00:00",
          "2021-03-27T00:00:00",
          "2021-03-28T00:00:00",
          "2021-03-29T00:00:00",
          "2021-03-30T00:00:00",
          "2021-03-31T00:00:00",
          "2021-04-01T00:00:00",
          "2021-04-02T00:00:00",
          "2021-04-03T00:00:00",
          "2021-04-04T00:00:00",
          "2021-04-05T00:00:00",
          "2021-04-06T00:00:00",
          "2021-04-07T00:00:00",
          "2021-04-08T00:00:00",
          "2021-04-09T00:00:00",
          "2021-04-10T00:00:00",
          "2021-04-11T00:00:00",
          "2021-04-12T00:00:00",
          "2021-04-13T00:00:00",
          "2021-04-14T00:00:00",
          "2021-04-15T00:00:00",
          "2021-04-16T00:00:00",
          "2021-04-17T00:00:00",
          "2021-04-18T00:00:00",
          "2021-04-19T00:00:00",
          "2021-04-20T00:00:00",
          "2021-04-21T00:00:00",
          "2021-04-22T00:00:00",
          "2021-04-23T00:00:00",
          "2021-04-24T00:00:00",
          "2021-04-25T00:00:00",
          "2021-04-26T00:00:00",
          "2021-04-27T00:00:00",
          "2021-04-28T00:00:00",
          "2021-04-29T00:00:00",
          "2021-04-30T00:00:00",
          "2021-05-01T00:00:00",
          "2021-05-02T00:00:00",
          "2021-05-03T00:00:00",
          "2021-05-04T00:00:00",
          "2021-05-05T00:00:00",
          "2021-05-06T00:00:00",
          "2021-05-07T00:00:00",
          "2021-05-08T00:00:00",
          "2021-05-09T00:00:00",
          "2021-05-10T00:00:00",
          "2021-05-11T00:00:00",
          "2021-05-12T00:00:00",
          "2021-05-13T00:00:00",
          "2021-05-14T00:00:00",
          "2021-05-15T00:00:00",
          "2021-05-16T00:00:00",
          "2021-05-17T00:00:00",
          "2021-05-18T00:00:00",
          "2021-05-19T00:00:00",
          "2021-05-20T00:00:00",
          "2021-05-21T00:00:00",
          "2021-05-22T00:00:00",
          "2021-05-23T00:00:00",
          "2021-05-24T00:00:00",
          "2021-05-25T00:00:00",
          "2021-05-26T00:00:00",
          "2021-05-27T00:00:00",
          "2021-05-28T00:00:00",
          "2021-05-29T00:00:00",
          "2021-05-30T00:00:00",
          "2021-05-31T00:00:00",
          "2021-06-01T00:00:00",
          "2021-06-02T00:00:00",
          "2021-06-03T00:00:00",
          "2021-06-04T00:00:00",
          "2021-06-05T00:00:00",
          "2021-06-06T00:00:00",
          "2021-06-07T00:00:00",
          "2021-06-08T00:00:00",
          "2021-06-09T00:00:00",
          "2021-06-10T00:00:00",
          "2021-06-11T00:00:00",
          "2021-06-12T00:00:00",
          "2021-06-13T00:00:00",
          "2021-06-14T00:00:00",
          "2021-06-15T00:00:00",
          "2021-06-16T00:00:00",
          "2021-06-17T00:00:00",
          "2021-06-18T00:00:00",
          "2021-06-19T00:00:00",
          "2021-06-20T00:00:00",
          "2021-06-21T00:00:00",
          "2021-06-22T00:00:00",
          "2021-06-23T00:00:00",
          "2021-06-24T00:00:00",
          "2021-06-25T00:00:00",
          "2021-06-26T00:00:00",
          "2021-06-27T00:00:00",
          "2021-06-28T00:00:00",
          "2021-06-29T00:00:00",
          "2021-06-30T00:00:00",
          "2021-07-01T00:00:00",
          "2021-07-02T00:00:00",
          "2021-07-03T00:00:00",
          "2021-07-04T00:00:00",
          "2021-07-05T00:00:00",
          "2021-07-06T00:00:00",
          "2021-07-07T00:00:00",
          "2021-07-08T00:00:00",
          "2021-07-09T00:00:00",
          "2021-07-10T00:00:00",
          "2021-07-11T00:00:00",
          "2021-07-12T00:00:00",
          "2021-07-13T00:00:00",
          "2021-07-14T00:00:00",
          "2021-07-15T00:00:00",
          "2021-07-16T00:00:00",
          "2021-07-17T00:00:00",
          "2021-07-18T00:00:00",
          "2021-07-19T00:00:00",
          "2021-07-20T00:00:00",
          "2021-07-21T00:00:00",
          "2021-07-22T00:00:00",
          "2021-07-23T00:00:00",
          "2021-07-24T00:00:00",
          "2021-07-25T00:00:00",
          "2021-07-26T00:00:00",
          "2021-07-27T00:00:00",
          "2021-07-28T00:00:00",
          "2021-07-29T00:00:00",
          "2021-07-30T00:00:00",
          "2021-07-31T00:00:00",
          "2021-08-01T00:00:00",
          "2021-08-02T00:00:00",
          "2021-08-03T00:00:00",
          "2021-08-04T00:00:00",
          "2021-08-05T00:00:00",
          "2021-08-06T00:00:00",
          "2021-08-07T00:00:00",
          "2021-08-08T00:00:00",
          "2021-08-09T00:00:00",
          "2021-08-10T00:00:00",
          "2021-08-11T00:00:00",
          "2021-08-12T00:00:00",
          "2021-08-13T00:00:00",
          "2021-08-14T00:00:00",
          "2021-08-15T00:00:00",
          "2021-08-16T00:00:00",
          "2021-08-17T00:00:00",
          "2021-08-18T00:00:00",
          "2021-08-19T00:00:00",
          "2021-08-20T00:00:00",
          "2021-08-21T00:00:00",
          "2021-08-22T00:00:00",
          "2021-08-23T00:00:00",
          "2021-08-24T00:00:00",
          "2021-08-25T00:00:00",
          "2021-08-26T00:00:00",
          "2021-08-27T00:00:00",
          "2021-08-28T00:00:00",
          "2021-08-29T00:00:00",
          "2021-08-30T00:00:00",
          "2021-08-31T00:00:00",
          "2021-09-01T00:00:00",
          "2021-09-02T00:00:00",
          "2021-09-03T00:00:00",
          "2021-09-04T00:00:00",
          "2021-09-05T00:00:00",
          "2021-09-06T00:00:00",
          "2021-09-07T00:00:00",
          "2021-09-08T00:00:00",
          "2021-09-09T00:00:00",
          "2021-09-10T00:00:00",
          "2021-09-11T00:00:00",
          "2021-09-12T00:00:00",
          "2021-09-13T00:00:00",
          "2021-09-14T00:00:00",
          "2021-09-15T00:00:00",
          "2021-09-16T00:00:00",
          "2021-09-17T00:00:00",
          "2021-09-18T00:00:00",
          "2021-09-19T00:00:00",
          "2021-09-20T00:00:00",
          "2021-09-21T00:00:00",
          "2021-09-22T00:00:00",
          "2021-09-23T00:00:00",
          "2021-09-24T00:00:00",
          "2021-09-25T00:00:00",
          "2021-09-26T00:00:00",
          "2021-09-27T00:00:00",
          "2021-09-28T00:00:00",
          "2021-09-29T00:00:00",
          "2021-09-30T00:00:00",
          "2021-10-01T00:00:00",
          "2021-10-02T00:00:00",
          "2021-10-03T00:00:00",
          "2021-10-04T00:00:00",
          "2021-10-05T00:00:00",
          "2021-10-06T00:00:00",
          "2021-10-07T00:00:00",
          "2021-10-08T00:00:00",
          "2021-10-09T00:00:00",
          "2021-10-10T00:00:00",
          "2021-10-11T00:00:00",
          "2021-10-12T00:00:00",
          "2021-10-13T00:00:00",
          "2021-10-14T00:00:00",
          "2021-10-15T00:00:00",
          "2021-10-16T00:00:00",
          "2021-10-17T00:00:00",
          "2021-10-18T00:00:00",
          "2021-10-19T00:00:00",
          "2021-10-20T00:00:00",
          "2021-10-21T00:00:00",
          "2021-10-22T00:00:00",
          "2021-10-23T00:00:00",
          "2021-10-24T00:00:00",
          "2021-10-25T00:00:00",
          "2021-10-26T00:00:00",
          "2021-10-27T00:00:00",
          "2021-10-28T00:00:00",
          "2021-10-29T00:00:00",
          "2021-10-30T00:00:00",
          "2021-10-31T00:00:00",
          "2021-11-01T00:00:00",
          "2021-11-02T00:00:00",
          "2021-11-03T00:00:00",
          "2021-11-04T00:00:00",
          "2021-11-05T00:00:00",
          "2021-11-06T00:00:00",
          "2021-11-07T00:00:00",
          "2021-11-08T00:00:00",
          "2021-11-09T00:00:00",
          "2021-11-10T00:00:00",
          "2021-11-11T00:00:00",
          "2021-11-12T00:00:00",
          "2021-11-13T00:00:00",
          "2021-11-14T00:00:00",
          "2021-11-15T00:00:00",
          "2021-11-16T00:00:00",
          "2021-11-17T00:00:00",
          "2021-11-18T00:00:00",
          "2021-11-19T00:00:00",
          "2021-11-20T00:00:00",
          "2021-11-21T00:00:00",
          "2021-11-22T00:00:00",
          "2021-11-23T00:00:00",
          "2021-11-24T00:00:00",
          "2021-11-25T00:00:00",
          "2021-11-26T00:00:00",
          "2021-11-27T00:00:00",
          "2021-11-28T00:00:00",
          "2021-11-29T00:00:00",
          "2021-11-30T00:00:00",
          "2021-12-01T00:00:00",
          "2021-12-02T00:00:00",
          "2021-12-03T00:00:00",
          "2021-12-04T00:00:00",
          "2021-12-05T00:00:00",
          "2021-12-06T00:00:00",
          "2021-12-07T00:00:00",
          "2021-12-08T00:00:00",
          "2021-12-09T00:00:00",
          "2021-12-10T00:00:00",
          "2021-12-11T00:00:00",
          "2021-12-12T00:00:00",
          "2021-12-13T00:00:00",
          "2021-12-14T00:00:00",
          "2021-12-15T00:00:00",
          "2021-12-16T00:00:00",
          "2021-12-17T00:00:00",
          "2021-12-18T00:00:00",
          "2021-12-19T00:00:00",
          "2021-12-20T00:00:00",
          "2021-12-21T00:00:00",
          "2021-12-22T00:00:00",
          "2021-12-23T00:00:00",
          "2021-12-24T00:00:00",
          "2021-12-25T00:00:00",
          "2021-12-26T00:00:00",
          "2021-12-27T00:00:00",
          "2021-12-28T00:00:00",
          "2021-12-29T00:00:00",
          "2021-12-30T00:00:00",
          "2021-12-31T00:00:00",
          "2022-01-01T00:00:00",
          "2022-01-02T00:00:00",
          "2022-01-03T00:00:00",
          "2022-01-04T00:00:00",
          "2022-01-05T00:00:00",
          "2022-01-06T00:00:00",
          "2022-01-07T00:00:00",
          "2022-01-08T00:00:00",
          "2022-01-09T00:00:00",
          "2022-01-10T00:00:00",
          "2022-01-11T00:00:00",
          "2022-01-12T00:00:00",
          "2022-01-13T00:00:00",
          "2022-01-14T00:00:00",
          "2022-01-15T00:00:00",
          "2022-01-16T00:00:00",
          "2022-01-17T00:00:00",
          "2022-01-18T00:00:00",
          "2022-01-19T00:00:00",
          "2022-01-20T00:00:00",
          "2022-01-21T00:00:00",
          "2022-01-22T00:00:00",
          "2022-01-23T00:00:00",
          "2022-01-24T00:00:00",
          "2022-01-25T00:00:00",
          "2022-01-26T00:00:00",
          "2022-01-27T00:00:00",
          "2022-01-28T00:00:00",
          "2022-01-29T00:00:00",
          "2022-01-30T00:00:00",
          "2022-01-31T00:00:00",
          "2022-02-01T00:00:00",
          "2022-02-02T00:00:00",
          "2022-02-03T00:00:00",
          "2022-02-04T00:00:00",
          "2022-02-05T00:00:00",
          "2022-02-06T00:00:00",
          "2022-02-07T00:00:00",
          "2022-02-08T00:00:00",
          "2022-02-09T00:00:00",
          "2022-02-10T00:00:00",
          "2022-02-11T00:00:00",
          "2022-02-12T00:00:00",
          "2022-02-13T00:00:00",
          "2022-02-14T00:00:00",
          "2022-02-15T00:00:00",
          "2022-02-16T00:00:00",
          "2022-02-17T00:00:00",
          "2022-02-18T00:00:00",
          "2022-02-19T00:00:00",
          "2022-02-20T00:00:00",
          "2022-02-21T00:00:00",
          "2022-02-22T00:00:00",
          "2022-02-23T00:00:00",
          "2022-02-24T00:00:00",
          "2022-02-25T00:00:00",
          "2022-02-26T00:00:00",
          "2022-02-27T00:00:00",
          "2022-02-28T00:00:00",
          "2022-03-01T00:00:00",
          "2022-03-02T00:00:00",
          "2022-03-03T00:00:00",
          "2022-03-04T00:00:00",
          "2022-03-05T00:00:00",
          "2022-03-06T00:00:00",
          "2022-03-07T00:00:00",
          "2022-03-08T00:00:00",
          "2022-03-09T00:00:00",
          "2022-03-10T00:00:00",
          "2022-03-11T00:00:00",
          "2022-03-12T00:00:00",
          "2022-03-13T00:00:00",
          "2022-03-14T00:00:00",
          "2022-03-15T00:00:00",
          "2022-03-16T00:00:00",
          "2022-03-17T00:00:00",
          "2022-03-18T00:00:00",
          "2022-03-19T00:00:00",
          "2022-03-20T00:00:00",
          "2022-03-21T00:00:00",
          "2022-03-22T00:00:00",
          "2022-03-23T00:00:00",
          "2022-03-24T00:00:00",
          "2022-03-25T00:00:00",
          "2022-03-26T00:00:00",
          "2022-03-27T00:00:00",
          "2022-03-28T00:00:00",
          "2022-03-29T00:00:00",
          "2022-03-30T00:00:00",
          "2022-03-31T00:00:00",
          "2022-04-01T00:00:00",
          "2022-04-02T00:00:00",
          "2022-04-03T00:00:00",
          "2022-04-04T00:00:00",
          "2022-04-05T00:00:00",
          "2022-04-06T00:00:00",
          "2022-04-07T00:00:00",
          "2022-04-08T00:00:00",
          "2022-04-09T00:00:00",
          "2022-04-10T00:00:00",
          "2022-04-11T00:00:00",
          "2022-04-12T00:00:00",
          "2022-04-13T00:00:00",
          "2022-04-14T00:00:00",
          "2022-04-15T00:00:00",
          "2022-04-16T00:00:00",
          "2022-04-17T00:00:00",
          "2022-04-18T00:00:00",
          "2022-04-19T00:00:00",
          "2022-04-20T00:00:00",
          "2022-04-21T00:00:00",
          "2022-04-22T00:00:00",
          "2022-04-23T00:00:00",
          "2022-04-24T00:00:00",
          "2022-04-25T00:00:00",
          "2022-04-26T00:00:00",
          "2022-04-27T00:00:00",
          "2022-04-28T00:00:00",
          "2022-04-29T00:00:00",
          "2022-04-30T00:00:00",
          "2022-05-01T00:00:00",
          "2022-05-02T00:00:00",
          "2022-05-03T00:00:00",
          "2022-05-04T00:00:00",
          "2022-05-05T00:00:00",
          "2022-05-06T00:00:00",
          "2022-05-07T00:00:00",
          "2022-05-08T00:00:00",
          "2022-05-09T00:00:00",
          "2022-05-10T00:00:00",
          "2022-05-11T00:00:00",
          "2022-05-12T00:00:00",
          "2022-05-13T00:00:00",
          "2022-05-14T00:00:00",
          "2022-05-15T00:00:00",
          "2022-05-16T00:00:00",
          "2022-05-17T00:00:00",
          "2022-05-18T00:00:00",
          "2022-05-19T00:00:00",
          "2022-05-20T00:00:00",
          "2022-05-21T00:00:00",
          "2022-05-22T00:00:00",
          "2022-05-23T00:00:00",
          "2022-05-24T00:00:00",
          "2022-05-25T00:00:00",
          "2022-05-26T00:00:00",
          "2022-05-27T00:00:00",
          "2022-05-28T00:00:00",
          "2022-05-29T00:00:00",
          "2022-05-30T00:00:00",
          "2022-05-31T00:00:00",
          "2022-06-01T00:00:00",
          "2022-06-02T00:00:00",
          "2022-06-03T00:00:00",
          "2022-06-04T00:00:00",
          "2022-06-05T00:00:00",
          "2022-06-06T00:00:00",
          "2022-06-07T00:00:00",
          "2022-06-08T00:00:00",
          "2022-06-09T00:00:00",
          "2022-06-10T00:00:00",
          "2022-06-11T00:00:00",
          "2022-06-12T00:00:00",
          "2022-06-13T00:00:00",
          "2022-06-14T00:00:00",
          "2022-06-15T00:00:00",
          "2022-06-16T00:00:00",
          "2022-06-17T00:00:00",
          "2022-06-18T00:00:00",
          "2022-06-19T00:00:00",
          "2022-06-20T00:00:00",
          "2022-06-21T00:00:00",
          "2022-06-22T00:00:00",
          "2022-06-23T00:00:00",
          "2022-06-24T00:00:00",
          "2022-06-25T00:00:00",
          "2022-06-26T00:00:00",
          "2022-06-27T00:00:00",
          "2022-06-28T00:00:00",
          "2022-06-29T00:00:00",
          "2022-06-30T00:00:00",
          "2022-07-01T00:00:00",
          "2022-07-02T00:00:00",
          "2022-07-03T00:00:00",
          "2022-07-04T00:00:00",
          "2022-07-05T00:00:00",
          "2022-07-06T00:00:00",
          "2022-07-07T00:00:00",
          "2022-07-08T00:00:00",
          "2022-07-09T00:00:00",
          "2022-07-10T00:00:00",
          "2022-07-11T00:00:00",
          "2022-07-12T00:00:00",
          "2022-07-13T00:00:00",
          "2022-07-14T00:00:00",
          "2022-07-15T00:00:00",
          "2022-07-16T00:00:00",
          "2022-07-17T00:00:00",
          "2022-07-18T00:00:00",
          "2022-07-19T00:00:00",
          "2022-07-20T00:00:00",
          "2022-07-21T00:00:00",
          "2022-07-22T00:00:00",
          "2022-07-23T00:00:00",
          "2022-07-24T00:00:00",
          "2022-07-25T00:00:00",
          "2022-07-26T00:00:00",
          "2022-07-27T00:00:00",
          "2022-07-28T00:00:00",
          "2022-07-29T00:00:00",
          "2022-07-30T00:00:00",
          "2022-07-31T00:00:00",
          "2022-08-01T00:00:00",
          "2022-08-02T00:00:00",
          "2022-08-03T00:00:00",
          "2022-08-04T00:00:00",
          "2022-08-05T00:00:00",
          "2022-08-06T00:00:00",
          "2022-08-07T00:00:00",
          "2022-08-08T00:00:00",
          "2022-08-09T00:00:00",
          "2022-08-10T00:00:00",
          "2022-08-11T00:00:00",
          "2022-08-12T00:00:00",
          "2022-08-13T00:00:00",
          "2022-08-14T00:00:00",
          "2022-08-15T00:00:00",
          "2022-08-16T00:00:00",
          "2022-08-17T00:00:00",
          "2022-08-18T00:00:00",
          "2022-08-19T00:00:00",
          "2022-08-20T00:00:00",
          "2022-08-21T00:00:00",
          "2022-08-22T00:00:00",
          "2022-08-23T00:00:00",
          "2022-08-24T00:00:00",
          "2022-08-25T00:00:00",
          "2022-08-26T00:00:00",
          "2022-08-27T00:00:00",
          "2022-08-28T00:00:00",
          "2022-08-29T00:00:00",
          "2022-08-30T00:00:00",
          "2022-08-31T00:00:00",
          "2022-09-01T00:00:00",
          "2022-09-02T00:00:00",
          "2022-09-03T00:00:00",
          "2022-09-04T00:00:00",
          "2022-09-05T00:00:00",
          "2022-09-06T00:00:00",
          "2022-09-07T00:00:00",
          "2022-09-08T00:00:00",
          "2022-09-09T00:00:00",
          "2022-09-10T00:00:00",
          "2022-09-11T00:00:00",
          "2022-09-12T00:00:00",
          "2022-09-13T00:00:00",
          "2022-09-14T00:00:00",
          "2022-09-15T00:00:00",
          "2022-09-16T00:00:00",
          "2022-09-17T00:00:00",
          "2022-09-18T00:00:00",
          "2022-09-19T00:00:00",
          "2022-09-20T00:00:00",
          "2022-09-21T00:00:00",
          "2022-09-22T00:00:00",
          "2022-09-23T00:00:00",
          "2022-09-24T00:00:00",
          "2022-09-25T00:00:00",
          "2022-09-26T00:00:00",
          "2022-09-27T00:00:00",
          "2022-09-28T00:00:00",
          "2022-09-29T00:00:00",
          "2022-09-30T00:00:00",
          "2022-10-01T00:00:00",
          "2022-10-02T00:00:00",
          "2022-10-03T00:00:00",
          "2022-10-04T00:00:00",
          "2022-10-05T00:00:00",
          "2022-10-06T00:00:00",
          "2022-10-07T00:00:00",
          "2022-10-08T00:00:00",
          "2022-10-09T00:00:00",
          "2022-10-10T00:00:00",
          "2022-10-11T00:00:00",
          "2022-10-12T00:00:00",
          "2022-10-13T00:00:00",
          "2022-10-14T00:00:00",
          "2022-10-15T00:00:00",
          "2022-10-16T00:00:00",
          "2022-10-17T00:00:00",
          "2022-10-18T00:00:00",
          "2022-10-19T00:00:00",
          "2022-10-20T00:00:00",
          "2022-10-21T00:00:00",
          "2022-10-22T00:00:00",
          "2022-10-23T00:00:00",
          "2022-10-24T00:00:00",
          "2022-10-25T00:00:00",
          "2022-10-26T00:00:00",
          "2022-10-27T00:00:00",
          "2022-10-28T00:00:00",
          "2022-10-29T00:00:00",
          "2022-10-30T00:00:00",
          "2022-10-31T00:00:00",
          "2022-11-01T00:00:00",
          "2022-11-02T00:00:00",
          "2022-11-03T00:00:00",
          "2022-11-04T00:00:00",
          "2022-11-05T00:00:00",
          "2022-11-06T00:00:00",
          "2022-11-07T00:00:00",
          "2022-11-08T00:00:00",
          "2022-11-09T00:00:00",
          "2022-11-10T00:00:00",
          "2022-11-11T00:00:00",
          "2022-11-12T00:00:00",
          "2022-11-13T00:00:00",
          "2022-11-14T00:00:00",
          "2022-11-15T00:00:00",
          "2022-11-16T00:00:00",
          "2022-11-17T00:00:00",
          "2022-11-18T00:00:00",
          "2022-11-19T00:00:00",
          "2022-11-20T00:00:00",
          "2022-11-21T00:00:00",
          "2022-11-22T00:00:00",
          "2022-11-23T00:00:00",
          "2022-11-24T00:00:00",
          "2022-11-25T00:00:00",
          "2022-11-26T00:00:00",
          "2022-11-27T00:00:00",
          "2022-11-28T00:00:00",
          "2022-11-29T00:00:00",
          "2022-11-30T00:00:00",
          "2022-12-01T00:00:00",
          "2022-12-02T00:00:00",
          "2022-12-03T00:00:00",
          "2022-12-04T00:00:00",
          "2022-12-05T00:00:00",
          "2022-12-06T00:00:00",
          "2022-12-07T00:00:00",
          "2022-12-08T00:00:00",
          "2022-12-09T00:00:00",
          "2022-12-10T00:00:00",
          "2022-12-11T00:00:00",
          "2022-12-12T00:00:00",
          "2022-12-13T00:00:00",
          "2022-12-14T00:00:00",
          "2022-12-15T00:00:00",
          "2022-12-16T00:00:00",
          "2022-12-17T00:00:00",
          "2022-12-18T00:00:00",
          "2022-12-19T00:00:00",
          "2022-12-20T00:00:00",
          "2022-12-21T00:00:00",
          "2022-12-22T00:00:00",
          "2022-12-23T00:00:00",
          "2022-12-24T00:00:00",
          "2022-12-25T00:00:00",
          "2022-12-26T00:00:00",
          "2022-12-27T00:00:00",
          "2022-12-28T00:00:00",
          "2022-12-29T00:00:00",
          "2022-12-30T00:00:00",
          "2022-12-31T00:00:00",
          "2023-01-01T00:00:00",
          "2023-01-02T00:00:00",
          "2023-01-03T00:00:00",
          "2023-01-04T00:00:00",
          "2023-01-05T00:00:00",
          "2023-01-06T00:00:00",
          "2023-01-07T00:00:00",
          "2023-01-08T00:00:00",
          "2023-01-09T00:00:00",
          "2023-01-10T00:00:00",
          "2023-01-11T00:00:00",
          "2023-01-12T00:00:00",
          "2023-01-13T00:00:00",
          "2023-01-14T00:00:00",
          "2023-01-15T00:00:00",
          "2023-01-16T00:00:00",
          "2023-01-17T00:00:00",
          "2023-01-18T00:00:00",
          "2023-01-19T00:00:00",
          "2023-01-20T00:00:00",
          "2023-01-21T00:00:00",
          "2023-01-22T00:00:00",
          "2023-01-23T00:00:00",
          "2023-01-24T00:00:00",
          "2023-01-25T00:00:00",
          "2023-01-26T00:00:00",
          "2023-01-27T00:00:00",
          "2023-01-28T00:00:00",
          "2023-01-29T00:00:00",
          "2023-01-30T00:00:00",
          "2023-01-31T00:00:00",
          "2023-02-01T00:00:00",
          "2023-02-02T00:00:00",
          "2023-02-03T00:00:00",
          "2023-02-04T00:00:00",
          "2023-02-05T00:00:00",
          "2023-02-06T00:00:00",
          "2023-02-07T00:00:00",
          "2023-02-08T00:00:00",
          "2023-02-09T00:00:00",
          "2023-02-10T00:00:00",
          "2023-02-11T00:00:00",
          "2023-02-12T00:00:00",
          "2023-02-13T00:00:00",
          "2023-02-14T00:00:00",
          "2023-02-15T00:00:00",
          "2023-02-16T00:00:00",
          "2023-02-17T00:00:00",
          "2023-02-18T00:00:00",
          "2023-02-19T00:00:00",
          "2023-02-20T00:00:00",
          "2023-02-21T00:00:00",
          "2023-02-22T00:00:00",
          "2023-02-23T00:00:00",
          "2023-02-24T00:00:00",
          "2023-02-25T00:00:00",
          "2023-02-26T00:00:00",
          "2023-02-27T00:00:00",
          "2023-02-28T00:00:00",
          "2023-03-01T00:00:00",
          "2023-03-02T00:00:00",
          "2023-03-03T00:00:00",
          "2023-03-04T00:00:00",
          "2023-03-05T00:00:00",
          "2023-03-06T00:00:00",
          "2023-03-07T00:00:00",
          "2023-03-08T00:00:00",
          "2023-03-09T00:00:00",
          "2023-03-10T00:00:00",
          "2023-03-11T00:00:00",
          "2023-03-12T00:00:00",
          "2023-03-13T00:00:00",
          "2023-03-14T00:00:00",
          "2023-03-15T00:00:00",
          "2023-03-16T00:00:00",
          "2023-03-17T00:00:00",
          "2023-03-18T00:00:00",
          "2023-03-19T00:00:00",
          "2023-03-20T00:00:00",
          "2023-03-21T00:00:00",
          "2023-03-22T00:00:00",
          "2023-03-23T00:00:00",
          "2023-03-24T00:00:00",
          "2023-03-25T00:00:00",
          "2023-03-26T00:00:00",
          "2023-03-27T00:00:00",
          "2023-03-28T00:00:00",
          "2023-03-29T00:00:00",
          "2023-03-30T00:00:00",
          "2023-03-31T00:00:00",
          "2023-04-01T00:00:00",
          "2023-04-02T00:00:00",
          "2023-04-03T00:00:00",
          "2023-04-04T00:00:00",
          "2023-04-05T00:00:00",
          "2023-04-06T00:00:00",
          "2023-04-07T00:00:00",
          "2023-04-08T00:00:00",
          "2023-04-09T00:00:00",
          "2023-04-10T00:00:00",
          "2023-04-11T00:00:00",
          "2023-04-12T00:00:00",
          "2023-04-13T00:00:00",
          "2023-04-14T00:00:00",
          "2023-04-15T00:00:00",
          "2023-04-16T00:00:00",
          "2023-04-17T00:00:00",
          "2023-04-18T00:00:00",
          "2023-04-19T00:00:00",
          "2023-04-20T00:00:00",
          "2023-04-21T00:00:00",
          "2023-04-22T00:00:00",
          "2023-04-23T00:00:00",
          "2023-04-24T00:00:00",
          "2023-04-25T00:00:00",
          "2023-04-26T00:00:00",
          "2023-04-27T00:00:00",
          "2023-04-28T00:00:00",
          "2023-04-29T00:00:00",
          "2023-04-30T00:00:00",
          "2023-05-01T00:00:00",
          "2023-05-02T00:00:00",
          "2023-05-03T00:00:00",
          "2023-05-04T00:00:00",
          "2023-05-05T00:00:00",
          "2023-05-06T00:00:00",
          "2023-05-07T00:00:00",
          "2023-05-08T00:00:00",
          "2023-05-09T00:00:00",
          "2023-05-10T00:00:00",
          "2023-05-11T00:00:00",
          "2023-05-12T00:00:00",
          "2023-05-13T00:00:00",
          "2023-05-14T00:00:00",
          "2023-05-15T00:00:00",
          "2023-05-16T00:00:00",
          "2023-05-17T00:00:00",
          "2023-05-18T00:00:00",
          "2023-05-19T00:00:00",
          "2023-05-20T00:00:00",
          "2023-05-21T00:00:00",
          "2023-05-22T00:00:00",
          "2023-05-23T00:00:00",
          "2023-05-24T00:00:00",
          "2023-05-25T00:00:00",
          "2023-05-26T00:00:00",
          "2023-05-27T00:00:00",
          "2023-05-28T00:00:00",
          "2023-05-29T00:00:00",
          "2023-05-30T00:00:00",
          "2023-05-31T00:00:00",
          "2023-06-01T00:00:00",
          "2023-06-02T00:00:00",
          "2023-06-03T00:00:00",
          "2023-06-04T00:00:00",
          "2023-06-05T00:00:00",
          "2023-06-06T00:00:00",
          "2023-06-07T00:00:00",
          "2023-06-08T00:00:00",
          "2023-06-09T00:00:00",
          "2023-06-10T00:00:00",
          "2023-06-11T00:00:00",
          "2023-06-12T00:00:00",
          "2023-06-13T00:00:00",
          "2023-06-14T00:00:00",
          "2023-06-15T00:00:00",
          "2023-06-16T00:00:00",
          "2023-06-17T00:00:00",
          "2023-06-18T00:00:00",
          "2023-06-19T00:00:00",
          "2023-06-20T00:00:00",
          "2023-06-21T00:00:00",
          "2023-06-22T00:00:00",
          "2023-06-23T00:00:00",
          "2023-06-24T00:00:00",
          "2023-06-25T00:00:00",
          "2023-06-26T00:00:00",
          "2023-06-27T00:00:00",
          "2023-06-28T00:00:00",
          "2023-06-29T00:00:00",
          "2023-06-30T00:00:00",
          "2023-07-01T00:00:00",
          "2023-07-02T00:00:00",
          "2023-07-03T00:00:00",
          "2023-07-04T00:00:00",
          "2023-07-05T00:00:00",
          "2023-07-06T00:00:00",
          "2023-07-07T00:00:00",
          "2023-07-08T00:00:00",
          "2023-07-09T00:00:00",
          "2023-07-10T00:00:00",
          "2023-07-11T00:00:00",
          "2023-07-12T00:00:00",
          "2023-07-13T00:00:00",
          "2023-07-14T00:00:00",
          "2023-07-15T00:00:00",
          "2023-07-16T00:00:00",
          "2023-07-17T00:00:00",
          "2023-07-18T00:00:00",
          "2023-07-19T00:00:00",
          "2023-07-20T00:00:00",
          "2023-07-21T00:00:00",
          "2023-07-22T00:00:00",
          "2023-07-23T00:00:00",
          "2023-07-24T00:00:00",
          "2023-07-25T00:00:00",
          "2023-07-26T00:00:00",
          "2023-07-27T00:00:00",
          "2023-07-28T00:00:00",
          "2023-07-29T00:00:00",
          "2023-07-30T00:00:00",
          "2023-07-31T00:00:00",
          "2023-08-01T00:00:00",
          "2023-08-02T00:00:00",
          "2023-08-03T00:00:00",
          "2023-08-04T00:00:00",
          "2023-08-05T00:00:00",
          "2023-08-06T00:00:00",
          "2023-08-07T00:00:00",
          "2023-08-08T00:00:00",
          "2023-08-09T00:00:00",
          "2023-08-10T00:00:00",
          "2023-08-11T00:00:00",
          "2023-08-12T00:00:00",
          "2023-08-13T00:00:00",
          "2023-08-14T00:00:00",
          "2023-08-15T00:00:00",
          "2023-08-16T00:00:00",
          "2023-08-17T00:00:00",
          "2023-08-18T00:00:00",
          "2023-08-19T00:00:00",
          "2023-08-20T00:00:00",
          "2023-08-21T00:00:00",
          "2023-08-22T00:00:00",
          "2023-08-23T00:00:00",
          "2023-08-24T00:00:00",
          "2023-08-25T00:00:00",
          "2023-08-26T00:00:00",
          "2023-08-27T00:00:00",
          "2023-08-28T00:00:00",
          "2023-08-29T00:00:00",
          "2023-08-30T00:00:00",
          "2023-08-31T00:00:00",
          "2023-09-01T00:00:00",
          "2023-09-02T00:00:00",
          "2023-09-03T00:00:00",
          "2023-09-04T00:00:00",
          "2023-09-05T00:00:00",
          "2023-09-06T00:00:00",
          "2023-09-07T00:00:00",
          "2023-09-08T00:00:00",
          "2023-09-09T00:00:00",
          "2023-09-10T00:00:00",
          "2023-09-11T00:00:00",
          "2023-09-12T00:00:00",
          "2023-09-13T00:00:00",
          "2023-09-14T00:00:00",
          "2023-09-15T00:00:00",
          "2023-09-16T00:00:00",
          "2023-09-17T00:00:00",
          "2023-09-18T00:00:00",
          "2023-09-19T00:00:00",
          "2023-09-20T00:00:00",
          "2023-09-21T00:00:00",
          "2023-09-22T00:00:00",
          "2023-09-23T00:00:00",
          "2023-09-24T00:00:00",
          "2023-09-25T00:00:00",
          "2023-09-26T00:00:00",
          "2023-09-27T00:00:00",
          "2023-09-28T00:00:00",
          "2023-09-29T00:00:00",
          "2023-09-30T00:00:00",
          "2023-10-01T00:00:00",
          "2023-10-02T00:00:00",
          "2023-10-03T00:00:00",
          "2023-10-04T00:00:00",
          "2023-10-05T00:00:00",
          "2023-10-06T00:00:00",
          "2023-10-07T00:00:00",
          "2023-10-08T00:00:00",
          "2023-10-09T00:00:00",
          "2023-10-10T00:00:00",
          "2023-10-11T00:00:00",
          "2023-10-12T00:00:00",
          "2023-10-13T00:00:00",
          "2023-10-14T00:00:00",
          "2023-10-15T00:00:00",
          "2023-10-16T00:00:00",
          "2023-10-17T00:00:00",
          "2023-10-18T00:00:00",
          "2023-10-19T00:00:00",
          "2023-10-20T00:00:00",
          "2023-10-21T00:00:00",
          "2023-10-22T00:00:00",
          "2023-10-23T00:00:00",
          "2023-10-24T00:00:00",
          "2023-10-25T00:00:00",
          "2023-10-26T00:00:00",
          "2023-10-27T00:00:00",
          "2023-10-28T00:00:00",
          "2023-10-29T00:00:00",
          "2023-10-30T00:00:00",
          "2023-10-31T00:00:00",
          "2023-11-01T00:00:00",
          "2023-11-02T00:00:00",
          "2023-11-03T00:00:00",
          "2023-11-04T00:00:00",
          "2023-11-05T00:00:00",
          "2023-11-06T00:00:00",
          "2023-11-07T00:00:00",
          "2023-11-08T00:00:00",
          "2023-11-09T00:00:00",
          "2023-11-10T00:00:00",
          "2023-11-11T00:00:00",
          "2023-11-12T00:00:00",
          "2023-11-13T00:00:00",
          "2023-11-14T00:00:00",
          "2023-11-15T00:00:00",
          "2023-11-16T00:00:00",
          "2023-11-17T00:00:00",
          "2023-11-18T00:00:00",
          "2023-11-19T00:00:00",
          "2023-11-20T00:00:00",
          "2023-11-21T00:00:00",
          "2023-11-22T00:00:00",
          "2023-11-23T00:00:00",
          "2023-11-24T00:00:00",
          "2023-11-25T00:00:00",
          "2023-11-26T00:00:00",
          "2023-11-27T00:00:00",
          "2023-11-28T00:00:00",
          "2023-11-29T00:00:00",
          "2023-11-30T00:00:00",
          "2023-12-01T00:00:00",
          "2023-12-02T00:00:00",
          "2023-12-03T00:00:00",
          "2023-12-04T00:00:00",
          "2023-12-05T00:00:00",
          "2023-12-06T00:00:00",
          "2023-12-07T00:00:00",
          "2023-12-08T00:00:00",
          "2023-12-09T00:00:00",
          "2023-12-10T00:00:00",
          "2023-12-11T00:00:00",
          "2023-12-12T00:00:00",
          "2023-12-13T00:00:00",
          "2023-12-14T00:00:00",
          "2023-12-15T00:00:00",
          "2023-12-16T00:00:00",
          "2023-12-17T00:00:00",
          "2023-12-18T00:00:00",
          "2023-12-19T00:00:00",
          "2023-12-20T00:00:00",
          "2023-12-21T00:00:00",
          "2023-12-22T00:00:00",
          "2023-12-23T00:00:00",
          "2023-12-24T00:00:00",
          "2023-12-25T00:00:00",
          "2023-12-26T00:00:00",
          "2023-12-27T00:00:00",
          "2023-12-28T00:00:00",
          "2023-12-29T00:00:00",
          "2023-12-30T00:00:00",
          "2023-12-31T00:00:00",
          "2024-01-01T00:00:00",
          "2024-01-02T00:00:00",
          "2024-01-03T00:00:00",
          "2024-01-04T00:00:00",
          "2024-01-05T00:00:00",
          "2024-01-06T00:00:00",
          "2024-01-07T00:00:00",
          "2024-01-08T00:00:00",
          "2024-01-09T00:00:00",
          "2024-01-10T00:00:00",
          "2024-01-11T00:00:00",
          "2024-01-12T00:00:00",
          "2024-01-13T00:00:00",
          "2024-01-14T00:00:00",
          "2024-01-15T00:00:00",
          "2024-01-16T00:00:00",
          "2024-01-17T00:00:00",
          "2024-01-18T00:00:00",
          "2024-01-19T00:00:00",
          "2024-01-20T00:00:00",
          "2024-01-21T00:00:00",
          "2024-01-22T00:00:00",
          "2024-01-23T00:00:00",
          "2024-01-24T00:00:00",
          "2024-01-25T00:00:00",
          "2024-01-26T00:00:00",
          "2024-01-27T00:00:00",
          "2024-01-28T00:00:00",
          "2024-01-29T00:00:00",
          "2024-01-30T00:00:00",
          "2024-01-31T00:00:00",
          "2024-02-01T00:00:00",
          "2024-02-02T00:00:00",
          "2024-02-03T00:00:00",
          "2024-02-04T00:00:00",
          "2024-02-05T00:00:00",
          "2024-02-06T00:00:00",
          "2024-02-07T00:00:00",
          "2024-02-08T00:00:00",
          "2024-02-09T00:00:00",
          "2024-02-10T00:00:00",
          "2024-02-11T00:00:00",
          "2024-02-12T00:00:00",
          "2024-02-13T00:00:00",
          "2024-02-14T00:00:00",
          "2024-02-15T00:00:00",
          "2024-02-16T00:00:00",
          "2024-02-17T00:00:00",
          "2024-02-18T00:00:00",
          "2024-02-19T00:00:00",
          "2024-02-20T00:00:00",
          "2024-02-21T00:00:00",
          "2024-02-22T00:00:00",
          "2024-02-23T00:00:00",
          "2024-02-24T00:00:00",
          "2024-02-25T00:00:00",
          "2024-02-26T00:00:00",
          "2024-02-27T00:00:00",
          "2024-02-28T00:00:00",
          "2024-02-29T00:00:00",
          "2024-03-01T00:00:00",
          "2024-03-02T00:00:00",
          "2024-03-03T00:00:00",
          "2024-03-04T00:00:00",
          "2024-03-05T00:00:00",
          "2024-03-06T00:00:00",
          "2024-03-07T00:00:00",
          "2024-03-08T00:00:00",
          "2024-03-09T00:00:00",
          "2024-03-10T00:00:00",
          "2024-03-11T00:00:00",
          "2024-03-12T00:00:00",
          "2024-03-13T00:00:00",
          "2024-03-14T00:00:00",
          "2024-03-15T00:00:00",
          "2024-03-16T00:00:00",
          "2024-03-17T00:00:00",
          "2024-03-18T00:00:00",
          "2024-03-19T00:00:00",
          "2024-03-20T00:00:00",
          "2024-03-21T00:00:00",
          "2024-03-22T00:00:00",
          "2024-03-23T00:00:00",
          "2024-03-24T00:00:00",
          "2024-03-25T00:00:00",
          "2024-03-26T00:00:00",
          "2024-03-27T00:00:00"
         ],
         "xaxis": "x",
         "y": [
          null,
          0.14458967107440213,
          -8.864479115651026,
          -8.945744873888595,
          4.707667780605229,
          4.448356635678219,
          3.678929179903667,
          -3.859770678248242,
          1.800406043188274,
          -5.19411631853438,
          -2.676909515431658,
          0.4377761022153148,
          -17.483520200375523,
          -22.25839520222548,
          22.311047651467142,
          -2.2511361590912493,
          -3.072938935748437,
          4.761007241414927,
          2.6584148845969047,
          -1.8789997436435169,
          6.427800185926147,
          3.5694598989221893,
          0.3687689701403096,
          6.525603483069853,
          2.3147894363471755,
          6.87416310108504,
          -4.442729171412574,
          -10.300536565774877,
          -1.676124764563769,
          -4.641494711667571,
          3.7823480334441273,
          6.076642166405843,
          -5.835947359233195,
          -0.31131104158674816,
          -3.7258725044749808,
          2.569502327193862,
          2.1205264842201643,
          -1.8921230201258243,
          -1.2623701190770498,
          0.2531211919368337,
          -0.7041490727593636,
          1.343960712823944,
          6.141790425183324,
          9.899633991210056,
          -10.043064207134478,
          1.2548273319479053,
          2.7708133141799207,
          -3.230678619861349,
          2.4187657006663477,
          1.5744148535073776,
          0.026138745938353303,
          -3.519575794637586,
          1.0948279155859053,
          0.25175123534477706,
          -0.5669132757567752,
          -0.5084060981468741,
          7.506396862768505,
          -0.1181571734598541,
          1.6200372950850417,
          4.755003249808376,
          3.9497113477292345,
          -2.7099943625674694,
          0.6615649516353184,
          -0.9039190322586932,
          1.190909617484892,
          -0.3652738914285303,
          5.360116251119962,
          0.34912375123441475,
          1.948049934947882,
          -0.6895165241366352,
          -2.001835191376755,
          -2.2732535633504414,
          1.3413682325436271,
          1.6935160175907127,
          -1.9808649220687813,
          -10.108314040733735,
          1.7204199272161658,
          0.3476104378514755,
          -0.5433343234671484,
          3.2017431121596385,
          -0.6612817641349689,
          -7.8410403146745855,
          0.45014049555427427,
          0.5230000223330755,
          -0.16638424297996668,
          1.983470606228832,
          -4.0214291070372665,
          1.9131202573480222,
          -1.3274016819865397,
          1.44132508348771,
          2.255288713831005,
          0.5079238015224918,
          -0.11883794313359841,
          2.5226856170404544,
          -1.6512534278380508,
          -0.8671096176425697,
          -3.5297393254965725,
          -0.4381386180317026,
          -3.5671593317366357,
          0.8207216875961709,
          -0.3009091558853205,
          -5.002235526977749,
          -2.6555014950005895,
          2.301197938527366,
          2.234547191884362,
          -2.4484096301798486,
          0.24124117363371056,
          -0.12222268569659356,
          0.7308205632087672,
          4.626706243095491,
          -0.3860465889204967,
          0.5957720205303385,
          -1.7804727148254318,
          -2.1774018632273906,
          -3.2972231860249335,
          4.606132998331858,
          -1.2813950313950828,
          0.1575502465628542,
          4.523495361459262,
          -1.4734096235386906,
          1.0380668925837444,
          2.0095995727097415,
          -0.37993680226114934,
          -1.2424540926791017,
          -2.621296898536707,
          3.0588925362639685,
          2.876142624923439,
          -0.8720865807261835,
          -0.8186489497669314,
          0.9583610931611419,
          -0.13715078647722478,
          -2.5006738603066236,
          0.5200881776020294,
          0.12116398539947504,
          -0.42731616585960364,
          0.04517368349010731,
          -1.5286886443721337,
          -0.2284539846529765,
          0.9068544816304813,
          0.5864181706316085,
          2.3424892904399197,
          -0.7895093376439899,
          0.9240171675892972,
          -1.575473891951551,
          0.02362692205641892,
          -0.11225400225939319,
          0.10900790581316322,
          -0.17588175625747882,
          -1.524519617296738,
          -1.6185836204666182,
          -2.7693928687273717,
          1.0840604734597914,
          -0.11322825904462874,
          -0.5802208679940968,
          0.2527045858856436,
          0.24365793025136195,
          -0.742690829419479,
          2.2742589183139206,
          0.36077626143786734,
          -0.22838331451193739,
          0.4070266573858783,
          0.2538986136474186,
          0.9161970361546423,
          0.44620193173625644,
          1.512059198495641,
          5.5956691637018885,
          -1.1098543842621433,
          0.34623310014267883,
          -2.235065499372324,
          1.020055004862197,
          -0.6027080513974159,
          1.345555396627618,
          -1.3872589261522794,
          -1.35776871386587,
          0.8061937899962901,
          0.0020620520964964584,
          3.3565804293021584,
          -0.908104268995813,
          3.2047235748632774,
          2.3809439159130585,
          -1.8675332812895462,
          -1.1075669290727452,
          0.1991916786672432,
          2.059092102633242,
          4.080072499796206,
          -0.9021250407962422,
          -1.1953119151557279,
          1.5933730965342008,
          -0.2671296923961508,
          5.998487129443375,
          2.4097914994552605,
          6.269750206146263,
          -6.294840323635887,
          -1.3761867163457953,
          -0.9475199724399253,
          -2.559996078894766,
          0.611789572144894,
          -1.3970114896283303,
          -0.6112272563676413,
          1.6272433483109916,
          -0.8304961395760646,
          0.44835214857250616,
          -0.20352992806029757,
          4.655510992144296,
          -0.01960797328188768,
          1.1497025120473126,
          0.31231529424184945,
          0.471097155714606,
          -1.793850714083478,
          -0.6521551521584845,
          -1.1018610776931115,
          -1.048611277580369,
          0.3652635861452813,
          0.03662087055433805,
          0.8549232993976252,
          -0.9985380751263206,
          -1.2038555706065823,
          0.17819779812138226,
          -6.71723279397427,
          1.746629053758264,
          -0.28761736829894247,
          2.385857403988667,
          -0.7982456530406856,
          -1.5153494393226996,
          0.5584103513511129,
          -1.7545736231790454,
          -1.02137237872999,
          -0.2918362644958039,
          -1.5509014507705476,
          -10.714700608432393,
          3.840366577830978,
          -0.9825778358909187,
          -1.3702781015476506,
          -0.8306393051153216,
          -7.547354065783596,
          5.347080043474306,
          1.7793928747476873,
          -1.0193255458199713,
          3.8964364776669758,
          -1.3770281487863745,
          -0.17556046068535336,
          0.8817138106663291,
          -1.2669610884304183,
          0.6513822007182979,
          -0.9084038508975212,
          1.5382286293871505,
          2.0424175693292135,
          1.8655630789415456,
          0.5746273244263245,
          1.270545481761154,
          -2.3047832001074076,
          0.34928210361040435,
          0.5128212657146358,
          -2.1212411526504327,
          -1.8751878380552367,
          -0.12789321523893893,
          -0.1295339038269394,
          -0.6297197447020508,
          1.8742559002730808,
          -0.1684239471354987,
          -0.46510927291981696,
          -0.26531380838163976,
          -1.8238556626926972,
          1.5147969024891905,
          -0.007525564080179681,
          1.7661174476585773,
          0.44937383910690354,
          -0.19099766061915213,
          -0.7219610118881392,
          2.766683831920269,
          -0.8568747871186666,
          -0.49737339298947525,
          0.7157494101792672,
          -0.20043258104168737,
          0.7217841408113879,
          -0.13189840809668674,
          0.6985769511507423,
          2.5466474814396234,
          -1.3070312119588645,
          -0.13242996444828847,
          0.5369681779557656,
          0.4569110145529409,
          0.9042441960713576,
          -0.7970858756916055,
          1.5633265340777802,
          1.319339500274852,
          0.7653291448771027,
          3.041260070510532,
          3.0456963069822374,
          -3.007087466332492,
          0.7531045686208326,
          2.292499812648563,
          -1.2016662078600526,
          2.4546220920107498,
          1.39465517430446,
          2.0073658451471355,
          0.6334540350004358,
          0.26932491422269056,
          3.254985098903407,
          2.994205747849321,
          3.3825632351304202,
          3.788793698012083,
          -4.15048345521768,
          4.072905482065159,
          7.929516909535539,
          13.532912656178798,
          1.5372508172899035,
          -4.175944730274194,
          -3.7801343577487767,
          3.817866779677326,
          -4.019531855526215,
          2.4608212068844226,
          -11.499196099242347,
          -9.169627723207263,
          10.448946510100265,
          -0.17250817416518682,
          -1.7402155484154136,
          -3.3233685569575955,
          3.3914329576515634,
          1.1341379133431584,
          0.10026528523385814,
          -2.9450255927165547,
          -1.27500245724399,
          1.1642196896866075,
          -0.542503821207474,
          -0.1750181666382744,
          -0.8828203166382775,
          2.5595429700074,
          8.55534800666733,
          0.7764319499221184,
          -0.7796418494140922,
          4.288457435459825,
          1.8242850374708963,
          -3.916566428297652,
          -1.2739028752235537,
          0.5947271612507965,
          0.5022800689284068,
          7.684822489366483,
          0.8616518834235531,
          0.08730720715921514,
          4.710223022403692,
          1.074758433632761,
          -0.10973529355385869,
          8.516226523710134,
          -3.870782356906799,
          0.20970193353462285,
          1.7121943944104379,
          4.900321920604922,
          -2.3838760943571957,
          0.5637631798094178,
          1.6086384079671667,
          -0.3801076288873384,
          -4.528484827498136,
          -0.7526143146335484,
          -0.35906068628100973,
          1.5092713364524224,
          2.7293195218835553,
          0.1835540011474679,
          -8.48067546989304,
          1.6382476767715648,
          -0.7588606475201987,
          2.720651853542133,
          -1.2363648143948969,
          1.014031971996987,
          0.7626310772163691,
          -0.023249015369630754,
          -0.9504381501453052,
          0.7754568826447095,
          -0.32730996876827456,
          -0.1786561447762569,
          5.816948460969562,
          -0.38071221688128487,
          -1.316769017034003,
          -0.3347381042056785,
          0.25536272911654834,
          -0.5703146432801565,
          -3.0669011556959003,
          -0.6657872813108034,
          -14.754113637263721,
          5.165449616301188,
          0.4009739795693301,
          -0.31680626158258063,
          -1.5882866134208862,
          10.509610437581628,
          -2.6341298036518745,
          -7.504628324117579,
          3.2955117838869175,
          3.4429128351482596,
          -2.6621610892778813,
          0.03313570856882109,
          0.5185294657235939,
          -3.7869051511948526,
          -0.16861984655591744,
          -0.525451819947631,
          -3.3346510276689334,
          1.8358620235376932,
          0.4923984141913973,
          -1.272300116931424,
          5.50140713455245,
          -0.6805260881207364,
          -2.8071230618070486,
          0.16324135447653987,
          -1.16665823384835,
          0.7471654595620159,
          1.583272935393376,
          -0.7295388187842478,
          1.5016257445804149,
          2.0129598662207426,
          3.5141282298219334,
          -1.1790351953759326,
          1.9114675533765668,
          2.4168761194360178,
          1.0967974091400157,
          -0.48526180408238195,
          5.184595244851242,
          -0.559938338774002,
          -0.19309244272199821,
          -3.997460044814638,
          0.6864111995660283,
          -0.01063359696780175,
          0.9186041565242942,
          1.1966400408403466,
          0.15226582187675142,
          0.9524095592159609,
          -1.269800580885705,
          -1.596305732188763,
          -1.0162903282801783,
          -2.5615761201986498,
          -2.971852040018741,
          1.9310695522365195,
          2.1802268147153026,
          -0.4502827862908787,
          0.10731359119346973,
          0.9635743198833868,
          0.7223295187031908,
          -2.0267160188791045,
          0.41236511108779794,
          0.5066728081552618,
          0.2547125438691955,
          0.21725479440191098,
          0.4455711761542691,
          -2.4187380497132205,
          -0.37743705300284924,
          1.264447225370624,
          -0.19204529452613306,
          1.281711348582193,
          0.41214333749639565,
          -0.7637367368612646,
          0.20728735571236,
          0.2337982840360242,
          2.071919657319765,
          -0.6096170438863235,
          -1.7052389558042669,
          -0.7099076638743873,
          0.6711149135839589,
          0.3341631236066567,
          0.699693344275043,
          -0.3538494531417413,
          0.2993890263878196,
          0.7662652555687766,
          -0.23541882072916076,
          -0.13755288671333243,
          -0.617940704290898,
          -0.5565459263897177,
          1.1986206730826954,
          0.3445467346420594,
          0.8511917157298488,
          -0.44863567357529277,
          0.15626878230554642,
          1.1846601338567186,
          0.2267621160742861,
          -0.6761946530963625,
          0.11190882818135073,
          1.8352135092624566,
          1.2709397987946014,
          2.074376125779609,
          -0.7969708457202351,
          0.967623712814647,
          1.7938639009512425,
          0.11806324102077159,
          1.6048959097957338,
          -4.9303631886734145,
          1.0323996321851325,
          1.5988659956696294,
          -1.8974255638834703,
          1.0468784535937692,
          -1.7905751758758415,
          1.307571857957912,
          -0.7064179435931517,
          0.4032483522283581,
          2.828553735392836,
          -0.5138425544821024,
          0.007621154583192791,
          0.5364883960434108,
          -2.4734324207845826,
          0.4114796836069967,
          0.5643782661291619,
          0.2806054568525118,
          -0.11052461913961809,
          0.5124005769445938,
          -0.6430236088389552,
          -0.5432046657125822,
          0.20975991441620767,
          -2.8303530662526444,
          0.3062157947423927,
          0.2849138243174565,
          -1.0091459493124733,
          1.0258163788681607,
          0.5853218254639803,
          0.7371530994752629,
          1.0415205264388883,
          4.436980420159942,
          11.539386828288256,
          -0.7418479032059611,
          1.8298819726128013,
          -0.5273068974812056,
          1.4604625080210987,
          -0.06231823847110407,
          5.866949253199505,
          0.5401046551376298,
          0.1655852953084569,
          1.9299903837735943,
          -1.3068287665142897,
          0.9046909465257214,
          -0.9486588960779363,
          0.28057968136478983,
          3.1971737159220304,
          12.374093169997536,
          4.8502275035151365,
          -2.606834162534888,
          1.06349711575644,
          10.420251952102277,
          -2.095986350744583,
          0.9848430928576457,
          0.9575056236672541,
          -3.9113174071237933,
          -9.420976751455001,
          -10.99276855268554,
          5.290001835564717,
          6.131252439213686,
          0.7015385855618783,
          -5.517653072796758,
          3.018245495831895,
          -0.22474163196052332,
          -1.454139567097379,
          5.361941650704272,
          0.9073637316562078,
          2.2630623718109755,
          -4.08369124411575,
          2.0993718237053205,
          -1.6457999480504526,
          1.2566439661057416,
          -5.51826476249373,
          4.247362480365924,
          -1.783566167027606,
          -0.5428463941324457,
          -0.19236653898616618,
          3.370668803056698,
          -1.907450353827722,
          0.21666793284207397,
          0.9265030115086947,
          -0.3283812859632973,
          2.244089797295601,
          -0.5311277368968748,
          -0.03409204632797147,
          -0.5431583702974252,
          -0.8241382215658399,
          -2.145348450637974,
          0.6654993933250752,
          0.8278506450119849,
          -0.9579020195881527,
          -0.49022872079020896,
          0.6614766052629673,
          0.04151301334964774,
          0.22137066695469,
          -0.42495341507539086,
          -4.7060204780792425,
          -2.8855941126682882,
          -14.628561189942157,
          9.716251853341372,
          1.625476374377377,
          -0.09883854685768245,
          2.013979040813174,
          0.8563989551337414,
          -0.3298645530588451,
          -0.9158431555113866,
          1.189870758641609,
          -0.7856329203226653,
          -0.18444086915595514,
          -0.35141112396518404,
          -2.3495123656005146,
          -0.5260597996528005,
          1.8474958699540744,
          -1.1693125970007268,
          0.14113012081249376,
          0.213810650435442,
          1.4741761941196474,
          -0.23356897482019745,
          0.7975501770439264,
          -0.5491462575880179,
          -0.7071683789399152,
          -0.3065910694080132,
          0.3449824280270519,
          -1.6482853079325177,
          0.8712658840082543,
          -0.1775972956007288,
          0.623529757451946,
          -0.750193952870537,
          -0.029432485965175115,
          0.41507024265641235,
          3.873510900102417,
          2.0955895302710914,
          -0.33596806775479937,
          0.6659591674718968,
          0.5964934056249094,
          1.8135326427546117,
          -0.5683748556080337,
          0.18431853355580508,
          -2.8477865686063475,
          0.08521013177886783,
          0.13432697935109594,
          0.29341707258776495,
          -0.46697620906439585,
          0.16010433133968327,
          -0.19941623634539551,
          0.5701223007487988,
          -0.029133896085831168,
          -0.13946716069737075,
          -1.962681054087534,
          -0.14793381742488343,
          1.1654084282811006,
          -0.1030084275846277,
          -0.32617490405773,
          1.1322604022818927,
          -0.3117593941403207,
          -0.10799270118297954,
          0.17935399425077492,
          0.5987058361414999,
          0.9539355482939715,
          -0.6027237100126426,
          0.26248538665778476,
          -0.44421181882385863,
          0.39291415158988485,
          -0.10730232983227062,
          0.8574421421323253,
          0.05111820671486189,
          -0.30979647831148593,
          -0.05043735696536045,
          4.295231524995868,
          -0.7934602778211342,
          -0.15637754976969287,
          0.5605950150731065,
          -0.15218276975141887,
          0.467272266170804,
          -0.4223458077749598,
          -0.3164792759016932,
          -1.105883093482729,
          0.016708105420182306,
          0.18714724939037364,
          3.5521728111024276,
          -0.3774340100062834,
          -0.13238380281097584,
          0.5961314575063437,
          3.184588355675144,
          1.4782805614644179,
          0.6125941561886172,
          4.050784358111104,
          -2.5346240123543695,
          0.18628706650776206,
          4.384445908056156,
          0.6800282499434429,
          -6.552011962453141,
          2.3392516091492954,
          0.27239321473837563,
          1.1510711660494444,
          -0.8472935208263088,
          0.40327577477454746,
          1.7261686461477632,
          -1.1042159058839318,
          0.3404807220031003,
          -1.6603960776505278,
          -0.2008757273981976,
          0.4561400752991718,
          0.9367018355579404,
          4.035680109478057,
          -0.3265429848225754,
          1.3468611201386649,
          0.26505590128413914,
          -2.9368940529847953,
          1.1166969373998858,
          1.577382366718516,
          -0.9298281340457293,
          -0.596027249697384,
          0.19752318485679599,
          -0.7410070425164839,
          -0.6791415927585365,
          0.5613080398826131,
          -0.004435566404348279,
          1.4414670474576452,
          1.4408396586664374,
          2.4057074184488325,
          -0.8217988242151475,
          0.20069414156052012,
          -1.8436032364574473,
          0.8577714559183436,
          0.6883552954589645,
          0.623105973832172,
          0.15172862393078024,
          0.4267104641597852,
          -0.6329875760789361,
          1.3276971779473845,
          -0.027915237103204316,
          -0.29859357632532335,
          -0.04108822975595894,
          0.7433218686841325,
          0.9650119186650707,
          -0.05529375600135111,
          0.21244447747716944,
          1.2156438235738642,
          3.363605283888993,
          3.961373022344561,
          6.718031647273115,
          -2.7715116408395746,
          0.2978455608368291,
          0.9246140548629711,
          2.9369061572027455,
          5.168897283974538,
          -0.5545469431197381,
          -1.1110490219777946,
          0.5873476986503201,
          3.2569873516943737,
          2.1190120735434137,
          1.602484225844858,
          9.204764387201724,
          -12.396168924121442,
          -9.75453419033122,
          0.676295324834375,
          0.8894998971201717,
          -0.6834285293707998,
          0.43027669356003884,
          -13.412166000067538,
          1.9317142210505622,
          3.136156812218771,
          -0.8094371999086025,
          0.499801302234526,
          0.7783675269569468,
          9.156294141082522,
          -3.3420800141569895,
          2.6266255499551416,
          -0.6055592101595453,
          3.1654519535844416,
          -0.09771773098123937,
          0.014006416306266978,
          -3.6041386102518613,
          0.8675883009584107,
          2.4495625948964816,
          0.31981952455863993,
          0.21316853381974088,
          -0.6631386206934264,
          0.7491879966484705,
          5.1330736814468425,
          1.8906565627075045,
          2.2127536739898312,
          0.6980522227219454,
          1.7910910760579934,
          -1.6160368221287413,
          0.7458683156871482,
          2.6343210623894553,
          0.36151212553492407,
          -6.973960896286213,
          1.060023123035947,
          1.8984765116574875,
          -1.03096780678541,
          -0.4417519473087772,
          1.4052977290367252,
          -0.12086518626865939,
          2.5793420891040864,
          2.092396515790096,
          0.19145559650817212,
          -0.4797394796776544,
          2.7066213412725526,
          4.010288047058297,
          -0.18693783165014688,
          5.550565936123153,
          -0.4034719676034193,
          -2.664755238308125,
          2.7204821442672777,
          1.055035139870042,
          -0.234552494233764,
          3.120657108492586,
          2.819103480912566,
          2.175740829562245,
          -1.6072452016830274,
          0.5846770980052929,
          0.37242415765768033,
          -3.7416093221942948,
          -6.765749001698751,
          3.619050154797665,
          -7.658102776044029,
          7.381159192561437,
          4.178437604246077,
          1.0324504607814866,
          0.2647719750864752,
          0.9546505299224961,
          -3.269278091513861,
          -11.76529702693373,
          -10.439671307107645,
          6.396105134680452,
          1.2547177043735758,
          7.369213629151572,
          -6.5481494823061315,
          -1.0290772742019172,
          -8.659544663619744,
          2.685519379970591,
          -1.1176621952470822,
          9.23316581158029,
          0.2030421140072125,
          -0.5843470687652452,
          -0.6859401121458109,
          4.535349219405815,
          0.6471717121449228,
          1.1808306450201034,
          3.755712346189388,
          0.10438921231821219,
          -0.7152742325981842,
          5.464003761981551,
          -0.3714482865077806,
          -0.6307178183264872,
          0.45911639547953076,
          1.9210254449991249,
          1.3302602611285241,
          -0.6782062549220647,
          -3.6189802339163024,
          0.8071816857135206,
          -0.28419675133711797,
          0.5072340367848316,
          1.5875277119808517,
          1.0319937136090918,
          0.6686213636886373,
          2.299299759080564,
          0.0864101239010262,
          -0.4237093994959973,
          -0.14653468515688495,
          0.16969339308892106,
          1.047132607755974,
          1.9219426069538192,
          3.4173709722524315,
          -0.759213182479701,
          0.4905597541638329,
          1.6720817259317844,
          4.338046841426579,
          2.399809719229351,
          3.0211579863338223,
          0.9114511035170691,
          0.44577686479565504,
          2.7735713928107586,
          0.6505170191527965,
          4.846073885613289,
          4.089526013542466,
          2.7726516790158806,
          3.517466058687102,
          -5.971227659236167,
          2.996138519408098,
          0.9121725380052847,
          -4.049241594543174,
          1.190062082505472,
          5.1352053673131115,
          4.708217949689186,
          4.418974866635539,
          3.5743653268412334,
          0.5118282095702309,
          2.7030562855023366,
          8.689983954176839,
          6.779283400266722,
          -3.315132648318342,
          -4.41967534477058,
          -7.934855637475923,
          6.56037775254521,
          3.008748641296677,
          -5.1884813243321615,
          7.447427478629098,
          4.5923246435552345,
          3.209771545686735,
          1.9215643771297586,
          -0.2394108970006248,
          6.460146181845183,
          6.6833654687903365,
          -6.453887621313703,
          3.981688467127431,
          -0.25281461628229307,
          4.273598631312492,
          2.5961259373679324,
          -10.367898902676153,
          1.293243325787441,
          -8.50772896411096,
          -2.3531010101185967,
          2.835623384458552,
          6.753134601039545,
          -3.9630764106132865,
          1.665247860030128,
          6.017099002451753,
          -2.188411999279649,
          0.29109666478217555,
          0.4709883026138728,
          -4.358676272984551,
          -0.44123994186326954,
          -4.552178658456518,
          1.7343837568083442,
          1.7417105065818506,
          -0.5341358223378334,
          -2.768804333168451,
          -2.044880334095922,
          3.2266772351212003,
          2.3096250662962836,
          1.3304894926721378,
          -0.14470609656821454,
          0.2090781634959571,
          -3.959635221010127,
          2.1511602127229468,
          -1.71575369417164,
          -6.180558725509988,
          -0.40638699280730606,
          1.4196906881289495,
          -0.9637400962704046,
          -5.73494290889891,
          -8.76902132496019,
          -5.222666987351399,
          13.190137425351312,
          5.620687531175816,
          -1.2703730794125456,
          21.63893126498828,
          -3.930505255154493,
          5.427724163443104,
          -2.5244502869069763,
          0.7227644548978507,
          -6.818448207522443,
          -2.1982742816034184,
          5.665314705669,
          5.638476222876743,
          -2.8128564475431217,
          0.7434032750615271,
          4.782078431315373,
          -4.652981509742171,
          -1.4578646349260649,
          2.9474235057429965,
          2.4674140591421923,
          13.745174540626358,
          -1.4623789689500288,
          5.234836684945354,
          1.6009827049525693,
          -2.332602831877051,
          1.1110386369214575,
          5.7805149900899355,
          6.667989245576611,
          5.871201069346221,
          3.7889914354438226,
          -0.6319075050507883,
          2.7293710443664354,
          0.5714558898790578,
          -4.414165537882642,
          0.42770936409397553,
          -2.769805205942666,
          -1.6494608457125692,
          1.8597833832229682,
          1.5134043831731336,
          2.4135414395421106,
          0.7823516295405675,
          -1.8185862799499852,
          -0.170840531552241,
          2.4237772825281167,
          4.217514799375532,
          3.6354297840101024,
          3.2748786110920802,
          3.4075482186302297,
          -6.304402657338748,
          1.6649385701804853,
          -6.805822056160061,
          3.0272133071027385,
          3.245924547433754,
          -0.16179437651449025,
          -6.534876363482911,
          -0.9241231268914629,
          -2.6602247868419915,
          0.7818580143231113,
          -0.8168096409362668,
          -5.986611001313403,
          -20.1610197405255,
          15.71516018160799,
          0.5109355047030695,
          -1.4653036184395618,
          12.912966053562247,
          -2.8251001412962773,
          -1.049357957725594,
          -5.960630230121112,
          -0.16194744594801858,
          3.8989848230031265,
          -2.420844194543237,
          5.29367982201181,
          -0.3561157968022588,
          7.300335851173623,
          0.0162675700045245,
          -0.10809744189037573,
          4.052278380309393,
          1.158445430451427,
          0.8222223008569118,
          -1.465925469960394,
          -2.028331131548211,
          1.3923364287253381,
          1.3324421086055693,
          1.32187088559923,
          3.571059065975435,
          4.304819380591196,
          0.22602072073847346,
          0.8061375563497508,
          10.892293652283236,
          5.230565884027394,
          1.22490229362191,
          0.08506248528323823,
          0.7896775943234458,
          -1.4849829314412033,
          -0.9049987276807059,
          1.852350278951742,
          4.500949920595576,
          1.531981778007041,
          -0.6701346013736065,
          -0.724264827837573,
          -6.877560766785029,
          2.7890260502203557,
          3.123265347735704,
          -1.8279032296971809,
          -0.713515581595281,
          6.7879568805164325,
          -0.3129077564487215,
          4.3290646254313225,
          5.435017722021174,
          5.137985341194717,
          2.4780400805918257,
          2.153455125492476,
          0.3481848563044343,
          -4.223443272145566,
          0.8967320468713069,
          4.11739517210119,
          -3.692550826146157,
          -7.367541208757633,
          -4.378081114156284,
          -7.8374476237486395,
          9.487377950077992,
          3.5672133983871035,
          9.70281153127075,
          7.088230213307356,
          -0.40181909519442227,
          0.5664388021868083,
          2.3444634706837997,
          2.613390130668991,
          -1.2940351276267137,
          1.7622363814965292,
          -1.6889603381378238,
          1.9767273176274802,
          5.61758548623712,
          6.86055506464196,
          5.227602293503586,
          4.329641355277558,
          -3.7162192008310835,
          5.36959495905025,
          5.665243074978732,
          1.5171487063850186,
          0.8435065456186219,
          3.360514761822375,
          4.634890259473501,
          13.982128810559825,
          33.25562469746735,
          -8.56179253593985,
          -9.708883852918015,
          3.5508212129026884,
          8.210737515801213,
          0.8383656656966387,
          -4.202197554173748,
          2.059402477233152,
          6.60091918205139,
          9.382051450765406,
          -1.2296461621226995,
          -1.2125787030989765,
          -5.2838458739937755,
          -6.131214695350639,
          -4.130449801645797,
          -13.881872386243765,
          8.215164511361795,
          -5.188336524194059,
          -1.0266394194802242,
          16.17820173730944,
          -1.4660025188761527,
          -7.971508692676466,
          0.19020526396460458,
          -9.778370814727854,
          8.951516285236272,
          -5.026984676855206,
          8.715483807709102,
          1.709658229998956,
          2.5184967860790053,
          14.775311889189346,
          0.03675378494685244,
          -7.107569603545061,
          -6.687308239540957,
          -1.8593385306467702,
          -0.6116947985972732,
          -9.405346019090144,
          5.044101722681638,
          2.9406572532944875,
          -4.717376895220338,
          -0.44617737354181175,
          -18.651711170908936,
          -2.6315502570465887,
          1.3493372493634803,
          1.6339994494861898,
          12.77208633209257,
          -11.740079086106492,
          -6.082877378373097,
          -0.8878975946945089,
          3.5167526461337806,
          -0.4598827723284904,
          -1.6066203310008742,
          3.7239449901715016,
          1.8285572601275835,
          -4.354930916100974,
          -0.5597336449517876,
          -9.963946999342067,
          1.249341194975817,
          -10.321223431845695,
          -2.6502449674726702,
          1.8657792218040203,
          -7.5531273475723975,
          -17.59920284490304,
          12.538835674186032,
          -1.2917547016317532,
          7.842779450360005,
          5.386377330696934,
          -0.8789920434739806,
          -4.7353367182919825,
          9.0928354816449,
          -4.411535347046414,
          10.680063318422107,
          7.260847231524625,
          0.4222158091549799,
          8.383529329442997,
          -4.390241188307509,
          5.508287398568479,
          3.5961791914673302,
          -13.291034744584652,
          0.594279293607114,
          2.6813930780318573,
          -5.428671498130699,
          -0.44249875607539346,
          6.763851567999568,
          3.416615665867928,
          -3.3869674477374545,
          4.957029794362877,
          2.196440613684203,
          2.324419087192253,
          -0.6108229868855397,
          2.1241385415790015,
          -6.92933813467338,
          -6.786474830672207,
          -5.788459756282638,
          -1.534014704287645,
          -4.155430767381729,
          6.991336080967936,
          -2.9408832980955646,
          -0.17519136579993155,
          -9.86605038645678,
          0.6276693745885353,
          1.9217114025557036,
          -5.359130631320308,
          1.9152245987709593,
          5.143433275993514,
          3.313446627832173,
          0.487266548009746,
          -2.607846674161851,
          1.009651645560794,
          -2.305398599106556,
          -1.6530576961579335,
          -3.4491639580474187,
          -4.268564005545727,
          1.1996853310960898,
          -10.136258916436503,
          -3.221972661214201,
          1.1309801158331245,
          -1.988494797405027,
          3.566771378145095,
          5.422545722326988,
          -8.293282206755482,
          0.14763856584931734,
          -3.306402416641374,
          3.8577802346829726,
          1.457361648360167,
          -2.9538015556540786,
          0.7497971074029053,
          1.4025633696725937,
          13.159300745575786,
          0.11938963931810154,
          0.6623595187255304,
          4.562673227136571,
          -2.7496485490323685,
          -1.9594541938948051,
          2.8421778314900115,
          2.223454450252915,
          2.681853520414923,
          4.458856175326376,
          -1.2323832283811065,
          1.2815549217941147,
          9.40278371661818,
          -9.172934665926846,
          4.494690361064757,
          -3.052384867989033,
          3.459342491795292,
          0.8213202415883192,
          -1.3665495711767894,
          -1.889523998263165,
          1.0888883253888926,
          4.696903075628112,
          0.873226486187062,
          1.367022024590181,
          -1.8673783997367521,
          -2.8757346414708507,
          -1.7054434111614558,
          1.0868612341187633,
          -3.016771700905063,
          -6.291901493872077,
          0.8925021992210569,
          2.3984894664748957,
          0.14956035657023303,
          -2.571300715853453,
          -1.536859071327179,
          -3.440821295289276,
          1.8218873891785448,
          -0.27061894566475786,
          3.2104291722754974,
          -1.0453771105852105,
          -4.137605993297166,
          -5.655718873771843,
          0.0942181677189069,
          -1.2086156365370693,
          -1.9158256741849011,
          -0.030396687018574564,
          -2.942343278434967,
          4.783555274161921,
          -0.9445322671191025,
          1.074610314755886,
          0.36070713769835727,
          1.074339699628335,
          0.9562786170310256,
          -2.306639147785672,
          1.4115918327317623,
          0.48311657996675805,
          0.10780119857891624,
          -0.6910011960527207,
          -1.9330976200208072,
          -8.73232331297803,
          1.6643394574900716,
          -4.335752599544563,
          -3.7638353048776607,
          4.903961524773814,
          -3.580491064943081,
          1.1239432413644668,
          -0.9255691648462627,
          4.030058358559785,
          0.46646591613928035,
          0.08486974203474329,
          -0.3506403500680433,
          -9.001163017854374,
          1.3280244141676167,
          -0.1577140612895933,
          1.3335295871543584,
          -2.7552110517621187,
          0.777014717054314,
          -3.8752006583337217,
          5.140618032315825,
          2.980185506690902,
          -0.8422560098098053,
          4.477674106283391,
          -1.484940570074167,
          1.0021286086085768,
          -0.3806479460782164,
          1.0026985411435652,
          2.37065574380384,
          -0.8757699049573575,
          -0.7816972481568096,
          -5.187467057327144,
          1.1082011967242122,
          -2.238182209765527,
          0.2858014307744128,
          -0.036167696998778975,
          1.6579594437303502,
          6.173463007600621,
          8.33145600272751,
          0.42991521894424345,
          1.4728389092453886,
          -1.4904230195416424,
          0.6446614405712481,
          0.22670852976311995,
          4.179757401203021,
          9.310559983972656,
          -3.298600178974853,
          -2.6456237154565354,
          2.7273522924140314,
          0.5745932443860013,
          0.06662332968065954,
          -0.1423885851857376,
          -5.468802180629851,
          -1.6276104057341367,
          -0.9414709873528992,
          -1.7102909736790406,
          -5.432710404256369,
          0.39374050768963276,
          -1.5702527637581176,
          -3.095303808223826,
          -6.737525935696864,
          4.340935765006626,
          -5.583301529453422,
          0.626408757965824,
          1.8240895497135812,
          -0.5446146470950319,
          -1.1421109698987464,
          0.8940864089625133,
          0.6639765980349432,
          4.078526321218079,
          -2.8119777906553955,
          1.464000958962397,
          -3.592182782658604,
          3.5943219197694276,
          -2.0196368522576003,
          2.9102002955547324,
          2.5043977931498818,
          0.772800468006829,
          -0.11502395208831118,
          2.7170065587134973,
          2.3858354082310296,
          -0.4131504576929568,
          -0.3207697658610953,
          0.04963126710848531,
          2.613106481628047,
          1.3035432472425557,
          -0.6074418514499746,
          1.3574833696408772,
          -8.078527193037278,
          -3.94161193587681,
          -1.5459590592944883,
          -3.3859104779558447,
          1.2872973976844282,
          0.75662750512977,
          -0.46318607305823045,
          0.8227082444514755,
          2.4624526387300394,
          0.20890625729628187,
          0.4647513025314298,
          -0.36710323403358336,
          -3.9366274768258935,
          1.5511302396730597,
          0.5779767673917302,
          1.6938529242988443,
          4.035025575584106,
          -0.10071758803626985,
          -0.5336082624354033,
          -1.7112447441172018,
          -2.3479589216139907,
          0.3335359670328053,
          3.7430954665572225,
          -1.043122538945096,
          -0.4324518649796327,
          0.3022091683299921,
          -0.4104518646513067,
          -1.124948440458784,
          -0.38845735979022855,
          1.2222837844630074,
          0.6458349362347571,
          -0.48427375322864785,
          -0.06514565794011329,
          1.0365837152928936,
          -0.2907479458410078,
          -0.7731777734373613,
          -5.288109627425341,
          0.8216605803736732,
          0.46599265499500664,
          0.21649450638432377,
          5.235330354843981,
          -0.3716261792182096,
          0.0092864099638712,
          -1.7817261093335812,
          -0.5168125958734393,
          0.7534281083469763,
          -0.046056589156284744,
          -0.26158997339860157,
          -0.6109612981110457,
          0.13354235214555477,
          -0.35874828500769285,
          0.16467308367764666,
          -0.1819153739158974,
          0.3757826566528566,
          -2.911060189550485,
          0.6218985147184108,
          0.5517925712601901,
          0.2081583984551827,
          0.7126771707361534,
          -0.5797546246652074,
          -0.5811951191407094,
          1.0137118498029007,
          0.925951302391792,
          1.5437258281365107,
          -1.2828745267782438,
          -1.181314643897513,
          0.2512831494049239,
          0.06820954719748418,
          -0.35639021518194536,
          -0.2661553463068178,
          -9.472151728658773,
          -1.7633131098975796,
          -1.3467756050472457,
          -0.19188361361532902,
          0.7084930937822254,
          -13.294591907943044,
          -8.968473304729962,
          3.6564257070517137,
          -6.6340761426593176,
          1.613883013910633,
          -10.99105737249576,
          3.6962466625770185,
          -5.641639679871913,
          0.5509288544998103,
          11.33127227755768,
          0.2866478837756814,
          -6.304183933014018,
          4.486238637497353,
          -1.5509996267380588,
          -5.958267425908781,
          1.6719841518761047,
          -4.868554799261227,
          -7.59465609586456,
          -1.6799600150799288,
          0.4747581486177932,
          3.6744928865202198,
          -3.2878880938189914,
          -1.6017102576422304,
          1.7547987768553819,
          -4.172767339970374,
          -2.3677578624987206,
          0.16629387105708826,
          -0.15299209030696925,
          8.988684130004554,
          4.265509861023475,
          0.8746574136248242,
          10.232435176254251,
          -5.384120654606672,
          2.972790233527678,
          -0.4784675918676706,
          2.0390743213938967,
          -6.534372580827186,
          0.596796750488493,
          -5.127684860155812,
          7.434203762475877,
          -1.9776551439245948,
          0.8346392285095483,
          -3.0762473353170283,
          2.7550932581009047,
          2.0533079741715143,
          -2.470096162523383,
          1.0258707119013444,
          -0.7328508029561642,
          5.972903252308215,
          -0.5942756786078807,
          -0.40297739138842603,
          0.21730111612741076,
          -8.999443816288322,
          0.24839833243550657,
          -0.947271878631073,
          -2.851350569323674,
          4.354212696550186,
          -2.1997253373208236,
          0.8365398769697885,
          0.6485893618537908,
          -0.6403797085699714,
          2.1344755997129594,
          -3.685304765797015,
          -0.23065729919530265,
          1.140262747041243,
          -0.43589308698738227,
          0.2796074496543177,
          -0.022985692465848917,
          -0.03388257677241491,
          -0.29444492670661626,
          -3.4028109273782303,
          -0.5489219464106965,
          1.3039047753344413,
          -0.7501414577418264,
          0.9483404487945046,
          0.6376542508403471,
          -0.9337447395762477,
          0.28887059585083197,
          0.17006819430485098,
          -1.8461025991850732,
          -0.3471161062492789,
          7.963060780089948,
          0.0853144365905667,
          0.22586426811068705,
          -1.2037758838140844,
          0.06940783450204435,
          -0.6577601428533031,
          -0.5650994884299432,
          0.32224098869364504,
          0.5931991701400463,
          1.1727481812527252,
          6.042021994183466,
          0.7330405949886432,
          1.578512844292379,
          -1.0560052952312438,
          0.9867742893859832,
          3.5659132896797896,
          -9.050750794067064,
          2.185878230891314,
          -0.40457542481663333,
          0.10942209659792201,
          0.05847088085439989,
          0.003835100797111579,
          0.10199270500941271,
          -0.3322679033558651,
          -2.472890655611648,
          3.761278278766711,
          0.20893385303957235,
          0.28821278504727044,
          -0.25203654022520894,
          2.0643204908797674,
          -0.45770957145043756,
          -1.6107963731819774,
          0.41761975415477437,
          -0.27507088249081324,
          0.28146503485912966,
          1.2578194836391,
          2.0952671016374547,
          -0.6666990042085374,
          0.14360219854177014,
          0.6739917433976172,
          0.7971857624416545,
          -1.538839068089326,
          0.14662927335382658,
          0.4960167700249096,
          -0.38789467944086997,
          -1.6481616664192345,
          0.28217004526744915,
          2.475491185376355,
          -0.19250017279146547,
          1.8600863901279796,
          0.013003164465197337,
          -0.008155323925340685,
          1.043011147113715,
          17.266109881059233,
          1.925071171387649,
          -1.1463316805804369,
          2.3664781187979544,
          0.5366597419511399,
          2.679736536169486,
          1.736860671875684,
          -1.7983938493783547,
          2.643576665631109,
          -4.9183868829777655,
          0.6868742219288793,
          -0.18648354294232838,
          1.5045829721504589,
          -2.125204734470565,
          3.4468543792556927,
          0.1027845460081167,
          1.0693681006340938,
          0.10592754205782651,
          0.5176686402786013,
          0.06548342870160706,
          1.3136656717358308,
          3.2892036804848646,
          -1.9040192223271135,
          -4.567287367825157,
          1.7827626717744849,
          -0.7339622014219005,
          0.015701925887068313,
          -1.1040398036483268,
          1.7894875017255618,
          1.1672985795213364,
          1.7950931397607617,
          5.151377585885797,
          1.2640721742621652,
          -0.9410761904403486,
          -0.5838363914779876,
          2.192126647915593,
          1.999689887449474,
          3.5316771277732695,
          3.274253479015332,
          13.940265863044864,
          -4.195355888887942,
          12.255690680886545,
          2.3581134610663135,
          2.530240047307686,
          -3.861100144135121,
          -6.761650730166979,
          -0.5816987343068458,
          11.890378501862543,
          -2.348944825958088,
          -0.2317479061901384,
          -3.6762406964464645,
          2.5570197380572646,
          1.468263020879279,
          0.7569348851922175,
          7.38343685390328,
          2.142875801255628,
          -1.0101572355145194,
          -0.8743084206511598,
          -3.927858212311197,
          3.1856426499633494,
          -0.24936458875528533,
          2.214612400975402,
          -6.51980684104565,
          -5.994843598395782,
          1.6764535557096005,
          0.11104126918481949,
          2.7487643062042766,
          -1.1643555960818008,
          -3.456195133398654,
          4.364880826983253,
          -1.308984640486388,
          3.1284425009257433,
          1.0137020060295487,
          5.3949909472578605,
          1.6964080823136385,
          1.8161942735839487,
          3.7209507617497195,
          -2.3499371171337713,
          2.110253675773266,
          2.8256289727654815,
          5.9701100803624785,
          5.797013785299243,
          1.3190469727689003,
          1.838678037870345,
          6.906577357091304,
          10.058114873632352,
          -13.984487195297145,
          10.497782859721205,
          -3.0734710822124534,
          -9.057869645244354,
          -2.287368355480035,
          1.7268266449641523,
          10.652299139491749,
          -6.229578853806705,
          -2.1581947855542793,
          2.6596969385332514,
          1.391504037919411,
          7.203750620973426,
          2.3154813867861224,
          -3.0115109672823492,
          -6.42209616809073,
          3.684673469136124,
          -3.2703535501820813,
          -9.922928318190849,
          6.085133593971337,
          -12.578816031866724,
          1.2420392521223844,
          10.135879725136455,
          -0.9363334021048497,
          2.2560983479004593,
          -1.548294264840011,
          -2.4901845723265925,
          -3.9343020465879897,
          -1.3795209005931564,
          0.8054204800065135,
          -0.3262981275551802,
          -4.0455115583353685,
          0.9216764343597861,
          -0.25340843650363265,
          0.6082049418398183,
          5.168647817070116,
          2.9644820086277335,
          1.6200642094904794,
          2.488596615527894,
          1.4863342714911854,
          7.916032216864233,
          -2.6091357633871937,
          4.000754424798947,
          0.44837983455063846,
          -1.4285198556651113,
          -4.427051148610772,
          1.961147582161793,
          -1.46109976354033,
          -4.19625899208409,
          -8.138900242768809,
          2.792069528500396,
          0.28279722166302257,
          -0.9760286031255894,
          0.8377532968758095,
          5.684836666438331,
          -1.3966861634741146,
          -5.768273009280412,
          0.03685916685289836,
          2.544673971094924,
          -2.315693994795942,
          -0.541654372391398,
          2.4266480099782717,
          -1.616099554625705,
          -4.075598437665406,
          -2.7512788377223374,
          1.0948289923968346,
          0.19086230157778772,
          1.2696293846220952,
          6.102787346546612,
          2.878444993822682,
          -0.439258801508724,
          -0.030881293367468476,
          -2.0765981532943067,
          1.0704482613095978,
          -0.5468964270533005,
          -0.7919996388878303,
          -1.9456563347919675,
          0.29253460298370726,
          2.4688903054230105,
          -0.43930021455472756,
          -0.05866318328904274,
          -0.4239501212404573,
          -0.36148358260839064,
          -0.6364235127372164,
          -0.433364907851963,
          0.9290206601819007,
          -0.7294265773868713,
          -1.7806524287669379,
          0.4411666596955133,
          -3.403932952332178,
          -10.276724600187615,
          -2.9470051111273765,
          -4.1134768342728005,
          1.0454934608231214,
          0.5086834982575672,
          -1.9541304760687939,
          2.5657254103740312,
          1.1511268538610286,
          -0.19568200296352645,
          -2.0811345310356333,
          -0.24259130557996444,
          -0.199559008779282,
          -3.0712615120118136,
          3.7009958167407486,
          -0.0190713140731269,
          4.796281267928282,
          -0.13461654432188608,
          -3.3133252081158027,
          0.3699344932355242,
          -0.22836609634803162,
          0.6979085922242501,
          -2.054391283319945,
          -2.0249963831442286,
          0.8692466042194535,
          -1.51755452504595,
          -0.09440151912105677,
          3.252412379737013,
          0.15296484756868178,
          -2.136309752476606,
          -7.16893250485211,
          -0.4635072098485349,
          16.385910082986044,
          6.532640313518234,
          3.089690683036306,
          -2.758601092184887,
          1.8102589513997458,
          -2.5011671278009406,
          -0.21860176620535077,
          0.8915075491670699,
          0.7518434430298315,
          -1.059335906077763,
          1.8976763350163184,
          -0.8378327903261651,
          0.42659240032130175,
          -1.2738142062143631,
          -4.6109349680724225,
          0.1578873189960417,
          2.654884923048506,
          -3.469341093625189,
          0.8801295221939176,
          -0.40844994530249146,
          -1.3539904750259124,
          -1.9832321413844278,
          0.1879787564275981,
          0.14267816699036207,
          -3.592466454432064,
          -0.7802527427482553,
          -0.5279132120036389,
          -5.723549441549213,
          -4.44783556041094,
          0.22864750445075188,
          -5.115820983675046,
          2.631677255967224,
          0.5537845009566,
          4.555515831923063,
          -0.6030719570550458,
          3.7942948398922427,
          -2.130168384050113,
          -1.9928690272460914,
          -1.3074336800159014,
          -0.3133335329027265,
          -1.044588092874188,
          2.272007358119321,
          2.13106817101818,
          -0.4963226511536467,
          0.19710983623524303,
          -2.14800129617142,
          -1.539211859480183,
          -0.5048923317257148,
          0.045574511951573804,
          0.6477594334045822,
          -2.28511132227891,
          0.3787595357281681,
          -2.919381959563072,
          -3.968597822949238,
          9.771994995101396,
          -1.6799134171198493,
          0.4597024563578467,
          -0.6107396011214017,
          4.8538634022140315,
          -2.043062906703208,
          -0.9352076060784698,
          -0.8590434388528356,
          0.05974905249976903,
          0.5428932859795177,
          0.8314975046961548,
          1.1787505292093936,
          -2.077356842226008,
          -0.6253084916720497,
          -0.019446803921974176,
          -3.19584590506764,
          4.832002688987447,
          0.6990094897371346,
          -0.019109414546947256,
          5.2340778271195765,
          5.336225430643382,
          -1.2473417652011376,
          -2.647266507414947,
          4.439251855585669,
          -2.0588853595515433,
          1.988438564499928,
          -0.743485963292434,
          8.522417094899314,
          0.21562338733220887,
          -1.132890859963287,
          2.082916759207154,
          0.04867898162956852,
          -2.4309472496035656,
          -0.6803685378068303,
          1.0840217318682122,
          -0.680606799991279,
          -2.8790341356649263,
          0.19178627361471356,
          -0.9894456138014207,
          2.9593068320749705,
          3.2993975655460916,
          4.971884469641719,
          -0.4711184147639713,
          2.5106605613973487,
          -2.121440420011711,
          0.5926467979729733,
          -0.2649469276101324,
          -0.31594145786217886,
          -1.3852683480677697,
          4.490483892129338,
          1.5893430137044362,
          0.5624825228284669,
          0.9312075346030291,
          2.6052556213079336,
          -2.544824910571153,
          3.4054642765890764,
          0.9970913930757552,
          -1.0420982098883202,
          0.967560049550098,
          -4.128047770245635,
          0.5006751288824329,
          -2.2131516474874657,
          4.218727411772583,
          -5.086021857521739,
          -0.10646320720663072,
          0.674869663142541,
          -0.14892716138805717,
          2.982936288639859,
          -2.7723251933291504,
          -3.3669674735429256,
          -5.817716798779515,
          -0.2327044438207082,
          -0.7270535980796744,
          -1.8852364863241156,
          0.173192434740832,
          3.945864362533391,
          -1.6748214973287157,
          0.022022135717469915,
          3.199390616602371,
          1.0728635253292929,
          -2.5574329931885242,
          -9.669926798567207,
          -1.492700842820982,
          -0.18431847557141,
          0.3641265870239385,
          -35.19026936118513,
          7.774252869820719,
          -5.928939729625993,
          3.523927519599779,
          -6.769850269600819,
          7.092187336240996,
          -0.24371894351701284,
          14.767083224037414,
          0.41170306552067437,
          -0.8043221933576206,
          -4.655615479585573,
          10.183207484098467,
          4.2411951494724764,
          -0.5092463446224493,
          1.0403598336089948,
          -5.435405755119016,
          -2.2324133588876083,
          -5.430267342151895,
          8.246429037069491,
          0.2899229868647213,
          3.411745608070871,
          2.516254220907199,
          -1.102322777485354,
          1.8799300056131507,
          -1.0405631945789584,
          7.507125247474833,
          -1.3820004444163203,
          2.0218674765035693,
          -0.6510600317072068,
          -5.892045700157366,
          0.2052087836101002,
          0.49976258608610546,
          -0.8045562335184719,
          0.038497752148036746,
          -3.3635684037811475,
          6.493686091639139,
          -0.3493623018724801,
          2.945866694311783,
          -1.5878330170760457,
          -3.8029493776754464,
          -0.2102788982352055,
          3.916328294900473,
          3.8368218509687413,
          1.5251740253842572,
          0.5758750261390722,
          1.9275534370279956,
          1.1766749018498723,
          -0.20646665739703085,
          12.711662317206862,
          -1.5300537471757858,
          2.487419218427811,
          1.6033032580028639,
          -0.8658537107331554,
          -0.04797228598039105,
          1.3375426538044577,
          1.5710618992485381,
          8.906585572628089,
          -1.3791827069027374,
          -2.5966099317531244,
          -8.510285998391842,
          -1.6893861029636636,
          2.135043138102355,
          5.62804954888203,
          5.530580171999877,
          -4.973198997597605,
          0.7089875922754452,
          3.1042225286742386,
          0.43566356225150926,
          0.5331348715335027,
          -2.3943297227945526,
          -4.897336002509856,
          0.7925503903112308,
          0.4226321944214462,
          -4.781845933859219,
          1.738958750176245,
          -0.5016057259138118,
          3.789828587047128,
          4.054090520481646,
          -1.245806548496231,
          2.4990186803985903,
          -2.0257689067694207,
          7.404370357489154,
          -6.419072418550609,
          1.3660607403807923,
          1.3579266783757094,
          -1.4242489119280388,
          0.2686860493534393,
          0.7838741112481173,
          0.3535019859128852,
          -0.06164103394518117,
          1.1046719201916133,
          -5.558556531212478,
          1.53910025405819,
          -0.0006319355382422565,
          -1.3043232975243901,
          0.9175980439723785,
          0.9882329203966922,
          -0.6463588127716413,
          -0.6720043164197054,
          -0.9254177323978152,
          0.5097066952217233,
          -0.6611698674064082,
          4.090208874915802,
          -0.5579159476400641,
          -3.4974915242690696,
          -0.3164773683996591,
          -0.9956163126771389,
          -1.6645505130404636,
          1.3978148619111952,
          0.49522695136940964,
          -0.3858889627777806,
          0.8847372834001943,
          -1.4771937695628234,
          -0.2521687629805869,
          0.6782131555493898,
          -0.4982099360934744,
          2.805741739907397,
          -0.9499243843832161,
          1.9294213910930447,
          -2.0828310066851485,
          0.511030603713003,
          -0.5235313611443582,
          0.6840243524839584,
          -0.6100267854220465,
          0.06815645598172715,
          -0.4724664649728205,
          -0.7267777823249277,
          0.21663922470123165,
          0.1324354210859635,
          0.3731631770442556,
          -0.42874966869567155,
          2.4142337977910877,
          1.3844839953045307,
          0.7936757536404659,
          -0.561834700929531,
          1.6347246612925748,
          2.4136450586574876,
          10.442605725492427,
          -0.5230852236029926,
          1.730372837404226,
          0.20457649637453112,
          1.8823190157265746,
          4.29597427394981,
          -6.313766613083438,
          1.4874115949844446,
          -0.43620921611432495,
          4.8054907893082754,
          0.41695639140284513,
          -1.6709519633357206,
          1.4487594509114077,
          -0.4794182570134531,
          1.5414605246252266,
          -3.913591652496251,
          1.5896317187983788,
          2.0492123761085557,
          -0.3365673539173386,
          0.743071918646665,
          0.31075407370215746,
          3.114571343381334,
          -2.630725092894981,
          -1.8103685575860728,
          1.0956664947356476,
          -2.9229224015323463,
          1.400427838802143,
          -0.24371569970836893,
          0.9521006507172913,
          -3.4703683307436783,
          1.0065331001039235,
          -1.4357101038733,
          1.935507203447151,
          -0.32673129640198306,
          1.9119673637859824,
          -0.24510634893384342,
          1.9096560239241667,
          -4.009765049269253,
          -10.691607081264143,
          2.81453003478207,
          -2.9250945707456566,
          0.8079161780929711,
          0.9690771680307853,
          -2.262961539058239,
          1.0384156838013858,
          1.094848466484355,
          0.3487052559795423,
          0.5893265871883324,
          -1.0586697372143017,
          3.2165212234779084,
          1.1864068210434286,
          1.5264754268763392,
          -0.13014286732293545,
          -0.09915972061086409,
          1.4353975780600603,
          -1.4495824320879036,
          -4.429091924882389,
          0.8435764953957481,
          -2.88578679911744,
          4.9174158188150185,
          -0.4151970382065273,
          0.5729176829329274,
          0.20578278868281785,
          -0.8664131318419699,
          1.5506709110430394,
          -0.614857089395493,
          -1.326774280517451,
          -0.5203363332700772,
          -0.24609276287838044,
          1.176150553803379,
          1.0706756170835385,
          -1.6596425731634667,
          0.5850788840734422,
          2.0683849671283117,
          1.6033720811665653,
          2.018299393243317,
          0.8086882162986475,
          1.4534327180206974,
          -1.0142627803337856,
          0.08285319370324729,
          0.5247884046185147,
          -1.5352607990090084,
          0.4127214574262794,
          1.1445360901036317,
          2.2290285125287745,
          1.3321996494727761,
          7.538405794171199,
          1.1291848598347975,
          -0.17737383629634618,
          1.376645479940919,
          -0.6457720124825483,
          0.30243550746853476,
          4.550973586801854,
          -2.7256024451907557,
          1.1961089778988576,
          0.7089468597816229,
          1.7837058309573273,
          -0.42294582916115875,
          -1.180724502292796,
          3.1833828390592345,
          0.7987125193956279,
          10.29389362994555,
          -0.0322731882452576,
          -4.694099443285193,
          4.5744111583196245,
          -1.038788505727617,
          -0.3692942592850468,
          2.6716675393603007,
          3.686152430430356,
          0.37912730856932697,
          -1.4164021961283413,
          -0.6889335696726118,
          4.565185933219018,
          5.608435527410616,
          1.0090434093930511,
          -0.0570811245275582,
          4.54021925495911,
          0.32592074006956295,
          -1.5993812232425686,
          -0.16268378485876367,
          3.9804100498072037,
          -1.7716514240779802,
          -8.613206014343133,
          0.013105591437989617,
          3.376242571670174,
          2.545189167641082,
          7.9227895302986795,
          -3.8354024639252193,
          1.8612348338538531,
          1.1807681887238797,
          -3.7250870428499505,
          2.2867823453997183,
          0.9741441896123693,
          -0.6558550604963909,
          -4.491382903983753,
          1.245994015805807,
          -1.631717166926172,
          -1.117240131348296,
          4.148116787979461,
          1.829304381185115,
          0.5683007894979886,
          0.895079177749869,
          9.701855263916471,
          6.980097815859065,
          1.380862485418688,
          3.2148181140009724,
          -1.4479488894995285,
          -2.8799963553819197,
          4.175832676915059,
          -2.0452628617609325,
          1.9399234089541029,
          3.833373999277101,
          7.3163412178262055,
          -0.19980769411324095,
          2.6573411382805556,
          1.1028593461554825,
          5.151406835647077,
          0.6419808372734703,
          1.1360472864595295,
          9.57919732125676,
          2.625313593304668,
          -4.522055282913517,
          8.144004999626953,
          8.365990406142876,
          7.076400880094824,
          3.2085242259999536,
          -1.2726218551487478,
          -4.711653994394394,
          -7.1045280705501535,
          -4.854430441169278,
          10.364891961763401,
          4.7435441036287385,
          -6.232621359707924,
          -1.4483393271750522,
          -1.2424569262195373,
          2.209795140976123,
          -1.3406057680110606,
          -1.4329777202814808,
          -13.133248710118261,
          6.61264529500436,
          -2.6998721736739117,
          0.6406056386295322,
          0.31543730281120563,
          0.6387253674635218,
          -6.557536072098014,
          8.811874938156805,
          3.0863937233140293,
          0.1426057844250872,
          -3.3179794618171776,
          1.0319243627137986,
          6.226414946672509,
          5.6606337344713875,
          -1.8088135757159396,
          3.235842313984283,
          3.3455752809860684,
          -1.135639694797519,
          19.246950702977884,
          0.5657621099263821,
          -3.6952704771388123,
          6.616175584644424,
          -0.8402539356822225,
          -0.9973685230850404,
          3.5503548424144826,
          -1.459408587230493,
          2.7968521809861535,
          5.900998941936186,
          -0.7874459851812454,
          8.322822826663923,
          0.6047705444668594,
          2.2911037042981697,
          -5.650228168406734,
          -10.510699246958932,
          2.3771592497671135,
          -5.730689804477418,
          -0.938823046253312,
          0.21919583706544454,
          -3.6082222917898643,
          10.71193904785439,
          -2.520928353876206,
          4.214148810392593,
          -3.6577684227784957,
          0.7477585479017002,
          -0.14757305293682244,
          4.679219854873895,
          1.9789165698379296,
          4.532398021998518,
          2.413542377944089,
          3.156667240316069,
          -0.7527516035529702,
          6.906834795648686,
          -3.076285212040486,
          -6.097427677449563,
          1.8366061084677199,
          3.8442065075686704,
          -1.8512537764319936,
          0.5539497036659125,
          0.22816002786092415,
          -1.3749091197684415,
          -5.564017469379367,
          0.3949454585630008,
          -3.770281676857401,
          -2.1131248901280153,
          7.033079768269035,
          1.4524306684397414,
          -0.18683908980438035,
          3.421662179826357,
          1.7935298363346286,
          0.2535350763682276,
          -0.027507254185410446,
          0.4401814285357686,
          -3.3857419942641576,
          2.047647462145896,
          0.820921860163959,
          -1.0980613788445504,
          -3.3201670657669102,
          3.4403610583138677,
          0.15043187549799164,
          3.1406802145909074,
          0.014385178652998043,
          -0.12835956654702052,
          6.118499417645085,
          -1.2104325931705406,
          0.593323168315929,
          -2.6629929350873383,
          -1.9894091302535832,
          -6.611358382387444,
          -1.0086870235117562,
          1.0293440473748916,
          -3.7386418757886286,
          -4.1050026721860755,
          -1.4902978785255483,
          -2.0667983098967557,
          -2.297216476217856,
          10.202566547512127,
          1.8766797172715677,
          -0.32950538632057214,
          -2.2147349623186208,
          7.895649310766273,
          -0.026877148069859302,
          -2.0968026550347907,
          1.0592705242362443,
          -6.531312003080602,
          7.421260161288568,
          -1.6094497390189644,
          1.5109599316671218,
          2.45863680115892,
          -0.9493577195854197,
          -3.9720026570882916,
          1.8376996720220973,
          -12.162893315712164,
          -0.06392748084139699,
          -0.11912932608563187,
          -6.275608209112427,
          -0.4186284565958931,
          -6.019608622655859,
          -1.5755393847344368,
          -13.468344811771171,
          8.448804207910165,
          -7.661399112993683,
          0.48389192340183573,
          -6.777101130926955,
          10.477911749873737,
          -1.1170025859763788,
          3.1303423722972123,
          -1.9388432630688457,
          -7.589168916413536,
          -2.618694308050229,
          2.702143668847534,
          4.552536847638744,
          -1.7691458139646121,
          2.7416791441407407,
          3.8890016710358744,
          -5.651395886721122,
          -3.7676842479272388,
          0.8087563594138869,
          -6.650274916019905,
          0.3161820683443173,
          11.909512560137369,
          -1.7317596553928505,
          1.0463225889895789,
          -4.3531977655250635,
          9.761513147962342,
          3.7723982766155517,
          -0.6063100451889292,
          -5.093708395277852,
          -0.33358732275655667,
          -6.054696628707179,
          -0.8346149051624119,
          0.577362719670238,
          -11.387188429389584,
          2.5094754626683757,
          3.6756758058622774,
          2.886515574380266,
          -7.879674836056793,
          0.2530666767590395,
          8.066829495402782,
          -0.14578183488352936,
          4.086460029645922,
          -2.217207883217631,
          -4.247531810224981,
          0.8112828502641056,
          2.2948046330617755,
          1.9128257566860318,
          -4.142142820468719,
          0.6538986051361384,
          -0.6375848942846263,
          -2.943147897679954,
          3.15094686701205,
          -0.7852489984866207,
          1.7665263168178402,
          -3.0241560890626906,
          -1.7625489092782165,
          0.6185447993340976,
          -3.5052176163416715,
          -1.028762862380539,
          0.601975510875663,
          1.0469657551051448,
          -3.105265770741761,
          -3.0920252617758326,
          8.047127605805994,
          0.07941827455497652,
          3.2276076862088443,
          2.265838196102532,
          3.6316690761958537,
          5.14944441581926,
          4.813796527363312,
          2.442906051174698,
          -0.13349913958108361,
          4.898985559461999,
          -0.43421818708627713,
          -4.4051576056917785,
          -1.5935512044842115,
          -2.3178235394354485,
          3.605133967143326,
          2.7012693376347263,
          4.841976095104594,
          4.311561408080289,
          -2.003154008280894,
          5.84593353558629,
          -1.4499532554713257,
          0.027489570018168763,
          -2.5340594238690506,
          7.241365417434253,
          -1.3169600570215878,
          -0.13559452004373584,
          -2.1121650574411066,
          -3.252760201447602,
          1.0800866282972832,
          3.8421663663875005,
          5.243003879864427,
          -0.5329500316606062,
          0.6475206016586466,
          0.5442226454509091,
          -3.186621371204612,
          2.215440933078372,
          -3.619459701364447,
          3.9256174839673363,
          -0.2986079564013089,
          -0.059805055122730266,
          -3.6457084595312605,
          0.4481048623173223,
          3.142752089323819,
          1.056323574937279,
          1.2074550045339416,
          0.15720919645705322,
          3.3654759292878866,
          2.0187046730675062,
          -10.89241138052608,
          -1.9366578907289655,
          0.9415477951377538,
          -3.689539659169372,
          0.879149466266993,
          2.2097513796597523,
          -2.284618129140281,
          4.420924605696541,
          2.229958901231255,
          -0.6372305695335756,
          -1.3592781560245792,
          2.197752160998956,
          -1.8555009843039039,
          -9.368789030090808,
          -5.930929886151337,
          7.924899699956134,
          3.1974396776981884,
          -4.954836716821898,
          0.24486947501465295,
          1.1200216795629547,
          -2.514038795686102,
          -2.9279478189722097,
          1.4076746705318444,
          5.462336316714178,
          9.85548686007547,
          -0.8387266848030372,
          1.0574147849576887,
          2.0240286782506223,
          4.889871179498462,
          7.250018263191826,
          -2.7436787692232234,
          0.21586854317416915,
          2.0635132735442596,
          -0.7502717229098121,
          5.228556947593477,
          -2.1494205771029007,
          2.046595711684307,
          -0.06184613157379504,
          7.5829551924546434,
          -1.0409294001069824,
          0.6836171865272744,
          0.7050530590506421,
          4.030566826685744,
          2.6657341490993636,
          -5.580569372262511,
          -2.4173164798613422,
          0.8895231650529967,
          -0.6479781938479978,
          3.35939359750157,
          -4.150085506325352,
          -3.2393592749542788,
          3.6263950553575564,
          2.4941635097122328,
          -0.7159893306932563,
          -0.5908873677866078,
          -0.5694267482849735,
          3.477280896937862,
          -0.1838288384141462,
          -2.4222650933138135,
          -0.5752412339716018,
          0.6759043213572458,
          2.419459385310141,
          7.068182162969716,
          -0.6975176376694314,
          -3.104190765803294,
          -0.08516500063071586,
          -0.8823806160427772,
          0.3543072315732809,
          1.528978210577936,
          -2.6125956659382332,
          -5.4513746999305335,
          0.256570790691657,
          -5.967187089751369,
          2.5829133879631705,
          2.7774150344410886,
          -1.569718182259272,
          -4.6549420033564655,
          2.4153435687739977,
          -0.953455989697094,
          2.9715333991548354,
          -8.608216391045321,
          1.310867453104403,
          4.958900530936705,
          1.067675352030517,
          -1.447728295138373,
          0.2772986648486908,
          -1.1563953157635254,
          -4.817526665373872,
          -8.596994171332117,
          0.21658842416134583,
          2.4216440020385255,
          0.36876883657550596,
          -0.23141312724298535,
          -5.233647539461739,
          -1.2160326481506667,
          4.09850337209372,
          1.6424415318371688,
          -6.702700041420573,
          3.6710826860398615,
          1.0871551072966668,
          -2.5386426808561735,
          -2.863712300811039,
          1.3843702404730207,
          -0.34704755441260504,
          0.6622070755288201,
          4.304621901072125,
          -0.7921861702355093,
          4.398892230653018,
          -0.023366933269819423,
          -0.44260089478739273,
          0.3737862674686232,
          -0.15494201190555668,
          -6.004875913326712,
          -2.5524350337429724,
          1.472625241317993,
          -1.8482364262034423,
          3.2306516849863742,
          -0.8969064999717391,
          -1.8065449896845442,
          -1.2746659072568889,
          -4.9868857008413485,
          -0.9867513817594764,
          -3.908838636957479,
          0.552566264219001,
          0.25313005348310824,
          0.017911244764867718,
          2.1670767118787015,
          2.8161403652869454,
          -3.122802842195538,
          1.2026839278598933,
          0.24534708304879693,
          -0.24720427343304374,
          -1.9050440305514837,
          0.22960161589495875,
          -1.5235295925520642,
          -2.4955214630225875,
          -10.314717948676133,
          -3.6384771196187993,
          3.2005686195213823,
          1.2879205324396237,
          0.5844382625913136,
          -0.32033462040456095,
          1.1022363427287907,
          1.5444964666576189,
          1.0028370956264965,
          -0.6513550653628686,
          1.5069391011803157,
          0.7266414171813729,
          -4.724294099185611,
          0.27126062164060105,
          12.32431640386633,
          -0.4322843907005658,
          2.3662710374420914,
          3.379325269662159,
          0.6228916702915033,
          0.45138177565349213,
          -1.7027542114408045,
          -2.7109814378795005,
          -0.44916691832693756,
          -0.01633466511935522,
          0.9154026985503938,
          4.549703715059494,
          -1.1464865457421203,
          -7.943791010243373,
          -1.2067444344367795,
          0.2976125690637321,
          -4.176748802277974,
          -3.7753253665336772,
          3.4463711900186267,
          -2.5169054548831005,
          2.651838399905304,
          2.48366396382107,
          -0.574725278986643,
          -3.2913925287566648,
          14.342062470719586,
          2.85523515515389,
          -1.0771224568641102,
          -3.384959172662305,
          -7.746588373252495,
          0.6705231278573809,
          -2.5850829141349174,
          -0.9533543221325713,
          1.7240116528726368,
          8.398788431552063,
          -5.996469317215136,
          -1.7562910554084321,
          0.3314439139190606,
          -2.701975856472316,
          4.799940464131991,
          -0.8509759884836487,
          4.662350441432284,
          -0.3982095336052871,
          2.03821637818713,
          0.8712937903458728,
          -2.1768689339140668,
          -0.5363992876390222,
          3.263566587273825,
          0.943965138917302,
          2.6492627113029465,
          0.900584613642752,
          0.4039230295041163,
          4.952216565725176,
          0.598867163584127,
          0.9881547264162016,
          -0.8341794146226711,
          -3.261472419373057,
          1.6292982757344143,
          -0.9251222950191429,
          1.2923003985706893,
          0.40502745874786417,
          -2.1173863654968983,
          -5.3394430820044025,
          0.7323704236066764,
          -2.756374710146847,
          1.135955788109011,
          -1.2185373970329705,
          -6.318032083616476,
          1.5193245904238317,
          2.485944347915181,
          -3.023192693375132,
          1.5694413446848188,
          -0.33562311939724365,
          -1.7583519893521249,
          2.7540084664565256,
          1.6275456763842344,
          -0.2431482762823678,
          -2.0983993140235246,
          -1.9040717108970595,
          -0.4906545856964706,
          -0.23439372123182922,
          2.583867762733405,
          -5.8155784700275825,
          2.894340040137622,
          1.2840052477316455,
          -2.7457674879987404,
          -2.14728734736076,
          1.8959053487899835,
          0.06204485579888175,
          -2.0825640322940653,
          5.1393146802857,
          -7.775492136137007,
          -1.3542886077427818,
          -1.503705191920357,
          -4.225072091560644,
          -11.155533940837026,
          2.502006098788434,
          -6.8116479497290605,
          0.7353924595037808,
          0.6338400325837767,
          2.997551573524415,
          3.742964203610488,
          -4.456363045998025,
          1.9335445982837651,
          -5.671699616050063,
          5.596394134055704,
          -3.7047522135231548,
          0.8021877514164943,
          2.914542284172228,
          -3.9138106427056507,
          1.6865738310585021,
          -0.2363048997334416,
          -0.8050323246984403,
          -2.3857105484380914,
          1.5414864818419582,
          1.3897946779694026,
          7.6237594816071175,
          0.3932110805627609,
          -6.377691769778915,
          2.170595954049359,
          -2.5158956620546236,
          0.5324630058160418,
          0.15199248828374756,
          4.862732081075638,
          -0.34143022033863435,
          -3.314303176962974,
          -0.4235942686646288,
          -3.3217601832910004,
          -2.4986969853889707,
          -5.663169143084956,
          -15.84584813408394,
          -1.247102331961103,
          1.2782696212391587,
          -9.412264090656276,
          0.315367564778235,
          -6.963470767227376,
          7.712300768202307,
          0.586588594291082,
          0.3109258624627742,
          -3.4653402548429857,
          5.588111869848711,
          0.7698619275380958,
          1.2376918847456064,
          -2.197703213133795,
          -1.431295551118994,
          -2.2597670494801103,
          -0.8579447402009,
          -2.48716337085203,
          -1.0248163483426276,
          -0.7173556857315466,
          0.2180076861763025,
          4.902991586672911,
          -0.33683478843167247,
          1.8718692565211859,
          5.3188420740939435,
          0.9151267328104895,
          -1.231496774122487,
          -3.3803918176788517,
          -4.129213409025834,
          -3.2389005732566534,
          4.519214428028495,
          1.7285429011283826,
          1.06912803993795,
          1.915243870861616,
          -1.7398157018625016,
          7.544061012516279,
          4.338140049087436,
          -0.22943115392649593,
          -0.6781073416121886,
          -1.9792731283653442,
          -0.8402167587602816,
          0.4777334097110453,
          -5.675420949739851,
          -0.44389040424146486,
          7.879555905790525,
          3.986153699026773,
          0.10710959831976563,
          -0.8140186228231872,
          -1.157374141266243,
          -0.19654350032978218,
          -1.199560314593373,
          -0.8390177326116466,
          -0.7963866922370166,
          2.410546796472568,
          -1.03533388884135,
          0.9268124212816753,
          2.6988821226757276,
          -2.6024474815890652,
          3.211339038092209,
          -0.000325066367157234,
          1.9317423035876358,
          0.09124382086662663,
          -0.4956783115818708,
          -0.5492094398887093,
          -1.0988079146367125,
          -2.3163432372660275,
          -0.47533121286887914,
          -9.904130280808099,
          1.0951999682215607,
          2.0803972545773153,
          -1.05485331434082,
          0.816843514195642,
          -0.774462355750849,
          1.0401765857520173,
          -6.229463898715326,
          -0.9933718711381267,
          -2.0463755875107292,
          3.3043724991414836,
          -2.479266256876711,
          1.1017413898510187,
          0.6513405670746764,
          -1.0545046206640318,
          -0.6362983444783255,
          0.834986705137708,
          -0.9723703294193253,
          -4.681319568405251,
          2.2329615674786307,
          0.2186250283543023,
          10.540952251410985,
          1.628331421377438,
          0.14933653691502347,
          2.759298622692863,
          -9.645187069674021,
          0.35152638446938056,
          -2.733783541277779,
          0.3159135393723478,
          1.8582065533802483,
          -3.449874027792743,
          0.6854337575779468,
          -3.5791725045071,
          -1.750369990339229,
          4.987624692448067,
          -0.8858148515029529,
          -1.824258545521984,
          -0.6893312775329785,
          2.1814416822528493,
          -0.5379713028511035,
          1.7181989990192381,
          0.6118729184031224,
          -0.4438745050083681,
          -0.8341293477994172,
          -1.290794299005471,
          2.913240098593728,
          3.694240622269862,
          -0.9022576035567997,
          -1.0553584028644147,
          -2.464989884212554,
          -0.20183141515399683,
          0.1550672242496276,
          -1.5706082585911552,
          -0.4391582725218779,
          0.49537532319670063,
          1.2055707227381696,
          -0.9587114088559057,
          -0.6528072306640209,
          1.0493558308026563,
          1.478622200345714,
          -1.0730509299105906,
          -1.1049533793337951,
          -0.5387346356653722,
          0.7467784299818758,
          0.1595188802885783,
          1.9316879782376395,
          -1.3174249017224526,
          4.028648339937102,
          3.379398463647787,
          -2.3869998875249543,
          1.5429003129053154,
          1.0172571799300645,
          -0.8501422088104005,
          -0.6267993243771142,
          -0.024177131458147372,
          -1.5942944797545877,
          0.237720367415184,
          4.647999790478252,
          0.6272697207941436,
          -1.7666092445890458,
          -1.4791358901680374,
          -9.881668173474722,
          -15.191548433826018,
          11.76741759273725,
          -2.9253224073697015,
          -1.652366634082103,
          -2.7005923598867443,
          1.8445904916425837,
          1.4700432818766318,
          -1.1908013452738175,
          0.17355028333978506,
          -0.06782033785414088,
          0.03415777235582507,
          -2.4451581624685637,
          -3.0037982469358626,
          2.2593026587236276,
          2.6984356845784374,
          -0.07209910748718906,
          -0.43134849667485486,
          -0.41328425045998873,
          0.018190647000571047,
          -1.439556851918511,
          1.3547429099700636,
          4.52818087982243,
          -1.2438162470531644,
          0.6607025084738316,
          -0.945224861619598,
          1.338673731025164,
          -1.029503650354191,
          0.6614511240175647,
          -1.371558978975651,
          2.2770386283444743,
          -0.494284212858076,
          -0.14262114844755258,
          -0.1420519098935369,
          0.4593757313439806,
          3.5190982052508923,
          0.1380626052056355,
          -2.6411676252570238,
          -4.121499251942784,
          1.099196510369227,
          -0.3788354672885186,
          -1.9127868206699983,
          2.9031383034741065,
          -0.4880563800264692,
          0.04719349643249604,
          -0.1981286123318604,
          0.3401329287114674,
          -0.037935972654834504,
          0.3438084749696202,
          -1.1730218987833552,
          -0.9755458956066887,
          0.6377265366672491,
          -0.2424756517108051,
          -0.38139494900579773,
          0.4550939334445836,
          0.35130793257425186,
          0.019812772479976815,
          1.0644700753237757,
          -0.13690602813015706,
          0.7612423980209115,
          -0.055250073151857926,
          0.7300742426176177,
          0.7045191410668394,
          1.4073525814612298,
          3.2111794478777433,
          4.834060517469041,
          5.6976785892356,
          5.402857926287563,
          -0.7896399116305242,
          1.544639167833406,
          -0.08761987973390228,
          -2.0321565089452043,
          1.7119154087430033,
          7.704145724426104,
          0.2871051071923647,
          -0.1509016861427459,
          1.091688629323917,
          -1.630917629739781,
          2.5228298638877433,
          -0.6715861875609797,
          0.252390192923313,
          -0.2626424759269219,
          3.3673010946373205,
          -4.0217527420750905,
          1.3000555118770185,
          2.540649270343076,
          -0.7818072118516706,
          -0.37425798273249544,
          -0.4742881988224035,
          -1.6883337822508393,
          -0.6964245463255248,
          2.2312817727178302,
          -1.4913376586343619,
          -4.909558497124056,
          -0.8741786381856187,
          1.1987864370420764,
          -0.5005048820124869,
          0.1283748030886711,
          1.8903148178992524,
          9.396028052238048,
          -2.2666227210340617,
          3.6701632087936975,
          0.056707207182071784,
          -1.454027138822167,
          2.0679379521939323,
          -1.489828867736931,
          -1.1110348185939478,
          -0.807543948267686,
          -3.251725762228841,
          -0.0658046003979007,
          1.6585788961944736,
          -0.09766719793484757,
          -1.5417052860807856,
          2.0677110739998117,
          -0.7192796333740259,
          -4.67476895170944,
          -0.08540589821967037,
          0.329133723833519,
          -0.030203285384111656,
          -0.8829032847839535,
          -2.2710263512224382,
          -6.15462006251255,
          -0.8887328874374045,
          1.6158628470188896,
          7.67074989315657,
          9.428262813165912,
          2.3979934202618125,
          -1.1627519804775943,
          2.8212712624479552,
          9.16251694550474,
          -1.3066219677128732,
          3.9805914902666384,
          -0.9141673737560585,
          1.1997202372216131,
          -2.883448452692783,
          3.681266719164422,
          -3.036712610741954,
          0.2707135740906974,
          1.3670681342889068,
          -3.0881200266800968,
          0.4011818825656155,
          4.043947105211432,
          -1.2462571853326332,
          1.6963002809902372,
          -0.06255998636987004,
          -0.9208617985260292,
          -1.4912686677553522,
          1.2938999966910059,
          0.07762112021665324,
          -0.5469229316769075,
          -0.3870653565759552,
          0.1206014359281804,
          1.3698054662450998,
          4.609100983166647,
          2.0330517848332397,
          -1.1790693235653404,
          1.674980922124658,
          0.20845693430109336,
          -0.5128158233236091,
          -0.024262092893923004,
          -2.7630853128400634,
          3.0489371784565344,
          -5.047393477447038,
          -2.0033811784337274,
          -3.3813539816491267,
          2.0567044076625463,
          -0.9154605032206997,
          -0.3439131945154883,
          3.0517362759208355,
          0.003432206034847951,
          3.990274937137972,
          -0.48680313321664004,
          -0.41598831475475606,
          0.4932317160461386,
          -4.211404845055622,
          1.8804606352192943,
          1.165374176064482,
          -0.48936789978134554,
          2.3360258981135917,
          -2.142866929715226,
          -0.9564674768905657,
          -3.1968975963476587,
          -0.3226698796955474,
          0.11714936851203728,
          -2.224941261351332,
          -0.8772521314566517,
          0.038957727979282986,
          0.42420503802236276,
          1.174161845097066,
          -0.7532018678668706,
          1.3590727739192676,
          -1.9971507326897564,
          0.15429958712691594,
          0.7789657472113465,
          -1.1809379375294915,
          0.35802041491121983,
          1.3146849744600564,
          -3.2472204426777784,
          0.5188474141871957,
          0.9154828547460747,
          0.4875082217907112,
          4.7007682099699855,
          -1.24711097260638,
          -0.16512440457804312,
          -1.690249073119432,
          -1.5465796574820834,
          1.5793206790090553,
          -0.6656286076885398,
          0.920242525081072,
          -5.574982772575332,
          5.520957895401457,
          -3.197939940368777,
          0.6136181829951903,
          -0.1445915892721139,
          -2.310043275790985,
          0.22606824338304854,
          -0.023989096883947347,
          -0.14726263967415054,
          -2.954721948945438,
          1.8195372009170763,
          2.9835242777890514,
          0.6598420780023595,
          -0.6337558239842278,
          1.6948063785357403,
          5.793649912694598,
          6.250680126651709,
          -0.5519035635796699,
          2.317012195075052,
          -0.29849802249855006,
          -0.27198961579779635,
          -0.5557486815181756,
          1.3473154604290105,
          -1.9876136296760771,
          1.2735669101882952,
          0.04651329714207009,
          0.3373867491356375,
          -0.0383621264574141,
          1.8409922138447055,
          -1.1533400342996436,
          -0.9450019526503706,
          -1.6229029688183627,
          1.084393641464021,
          -0.1684565726759124,
          -0.3116774804957867,
          0.7438231719455235,
          0.7453148818078015,
          -0.6969048272096767,
          3.4156096853951157,
          -3.6067754975772304,
          -0.04571287516114131,
          -0.20013424060193463,
          -0.2959080440466777,
          -0.9945243407607274,
          0.2406944789324017,
          -0.4439634477669485,
          0.4285125055914829,
          -0.6837003561910748,
          1.1706461032117366,
          -2.9045713713245047,
          0.13045347021982678,
          0.4814645989145827,
          -0.5565683393881304,
          0.3899055973710652,
          0.14549436148452166,
          -0.2690759082975669,
          -0.15240049470124362,
          1.0398247302157104,
          -1.3219759124347585,
          0.10126151596883126,
          -0.3023445820440229,
          -0.14142504313228166,
          -0.008937581436829767,
          0.4611707539427412,
          2.06117922389093,
          -0.6517006395666214,
          -0.5464475048670536,
          -0.09166364377836134,
          0.05202701724509318,
          -0.4323811562348845,
          0.39480010250099173,
          -0.78262521990764,
          -1.427104482240682,
          -7.8340207154415475,
          -1.7310246680636854,
          0.23784033574991703,
          0.21422050656403346,
          -0.15937822976407334,
          -0.3266990793778568,
          1.599210297914233,
          -1.191207059964161,
          -0.3478028463422045,
          -0.16134400840210894,
          0.3103661722864137,
          0.10180168549442925,
          6.2094188099086844,
          -1.5623311468028644,
          -5.01824857335349,
          -0.44387958633987923,
          0.16010312730605492,
          0.4097658962912698,
          -0.5016701221375208,
          -0.17403158577881106,
          -0.1219926961564477,
          1.7061147203344174,
          -1.0885066676825539,
          -0.06910475984533981,
          -0.2114574670447067,
          -2.714489607808257,
          2.9184526740534844,
          1.3787144936247886,
          1.1743674235282553,
          0.3891067790968261,
          -0.28858043099525554,
          -0.13849219652946054,
          0.8313146329503418,
          1.7868723092681726,
          -0.38006282138686176,
          -2.045715201466869,
          0.041054939815299285,
          0.0070953088716185775,
          -1.220597260063272,
          0.18694322883394676,
          -0.3569656318424541,
          0.5548202615044628,
          2.5004295342700322,
          -0.339940769160596,
          0.19570031129796384,
          3.6990693975945454,
          -1.2601968737803504,
          -0.6371266521452701,
          1.2864454308333606,
          -1.281790572009589,
          1.9037914028344538,
          0.06919993352529907,
          -0.10522667567751665,
          -1.2677823215625605,
          -0.7303631948814227,
          -2.0080764076371382,
          -0.421177375720605,
          0.41901470282001974,
          0.08214014583538543,
          1.0687989812853127,
          5.020250537221238,
          -0.3352405631050659,
          -0.3148618117483126,
          1.3679031001138098,
          3.348840995885727,
          0.8177322215843219,
          0.3319042813093587,
          9.77329382224621,
          2.711299038841286,
          1.8473332000638942,
          -0.8631196313611311,
          -0.8057437177767968,
          0.5709234641647409,
          1.3598595040562822,
          -0.16650796096666642,
          0.5031648873814465,
          2.2645335630465224,
          -1.5043365717716584,
          -0.551694466723196,
          0.912795441578651,
          0.03857782743914573,
          -0.08744489593839333,
          1.1568771569670178,
          1.0117890322086653,
          2.719200994288151,
          1.5660944059204374,
          -0.5932002445932394,
          -0.148226848679478,
          -1.3988862973381533,
          -2.7468772430886634,
          6.635103820199939,
          -4.490717334696093,
          0.901189090648935,
          0.14949785116440406,
          2.273297769943028,
          0.20127191358709773,
          -4.064995004662819,
          4.169213255451187,
          -0.4578074726576231,
          1.1948939282361293,
          0.18792574562123132,
          -0.8410894413422021,
          -0.6445913196573505,
          1.4820523137240027,
          0.021454743463222847,
          -0.2605848663833066,
          2.5892158161305856,
          2.050771216061853,
          1.2122310119943025,
          5.040146322675509,
          5.078372686448307,
          -0.7202112231918023,
          -1.1833512170660976,
          2.1540420022242213,
          -1.0331711190192938,
          0.0285010984126588,
          -5.84350187980135,
          0.606434036351966,
          3.572769997174019,
          0.18129614772588454,
          -2.365940107904707,
          0.6073861886241483,
          -1.9794231625438474,
          3.0749522258775475,
          -1.0167147311065383,
          3.2755295434803378,
          0.4940523844762623,
          0.3511915102144325,
          -0.5719181787281147,
          -1.6389177992229387,
          1.4018023579590366,
          -2.5707027986871744,
          2.1216289789058873,
          -1.8835697890675074,
          -1.2345902448690937,
          0.34677423774729377,
          -0.029391391113120502,
          4.644782079333232,
          1.870086852996411,
          -4.829715853029947,
          3.2087098306943895,
          -0.18526475016918953,
          -0.35721106513364465,
          -0.16465701924750498,
          6.955745823735149,
          -1.7688686735049752,
          1.1416468254854983,
          -0.6818396622051415,
          -7.385239190093918,
          -0.10597091363595545,
          -2.4447584337507933,
          1.881305423901214,
          1.3165078101329941,
          -1.0061704828781548,
          -3.4004522573623963,
          0.8229148243696693,
          0.06049425067766734,
          -0.2022952873095507,
          -4.903890833359304,
          0.8321131341824994,
          0.7285759168398132,
          -0.4620330394059069,
          4.819057953819406,
          0.6131315923198599,
          -0.22087557607750608,
          2.9529663287386043,
          -0.8680274979929736,
          -0.7198795461504592,
          1.1407765254315194,
          0.23593544827500423,
          -0.448939784911806,
          -0.8783527510306421,
          0.11525278926629579,
          1.0301204749794568,
          2.6913148181688884,
          2.4653547875443937,
          3.981121807062027,
          1.3273424153177782,
          0.8810872817781146,
          3.860259108983266,
          -0.6353443763062905,
          4.13821666586065,
          0.32450365736982345,
          0.4007142228299676,
          -0.9238063200851854,
          0.8783448469965371,
          -0.717651457630164,
          1.0093450640148438,
          -0.8492334825902725,
          -1.0093148458770296,
          -0.9322363424427937,
          1.4004730086935258,
          0.38559728663969395,
          5.268034348845019,
          4.635498359943679,
          9.745108074601427,
          -2.0146958615591237,
          1.8408751932331047,
          -0.5747125330287872,
          1.5873570137080462,
          8.141614056136337,
          -5.712422606185763,
          2.884334113368814,
          1.2078705999432282,
          2.0470207790855177,
          0.2821508175894216,
          0.8286081720485061,
          4.42252136475183,
          -0.9196928024741036,
          2.2815978913819146,
          -2.2951935384010747,
          -2.6914978332995387,
          -6.051201803370043,
          4.798577665708992,
          -1.0470846837379089,
          -8.235878354195869,
          9.152274152104777,
          -3.3664244283092337,
          -3.0928560635419267,
          1.223066456464439,
          4.705829818930973,
          3.9042098425960514,
          0.20461550019010843
         ],
         "yaxis": "y"
        }
       ],
       "layout": {
        "height": 500,
        "legend": {
         "tracegroupgap": 0
        },
        "template": {
         "data": {
          "bar": [
           {
            "error_x": {
             "color": "#f2f5fa"
            },
            "error_y": {
             "color": "#f2f5fa"
            },
            "marker": {
             "line": {
              "color": "rgb(17,17,17)",
              "width": 0.5
             },
             "pattern": {
              "fillmode": "overlay",
              "size": 10,
              "solidity": 0.2
             }
            },
            "type": "bar"
           }
          ],
          "barpolar": [
           {
            "marker": {
             "line": {
              "color": "rgb(17,17,17)",
              "width": 0.5
             },
             "pattern": {
              "fillmode": "overlay",
              "size": 10,
              "solidity": 0.2
             }
            },
            "type": "barpolar"
           }
          ],
          "carpet": [
           {
            "aaxis": {
             "endlinecolor": "#A2B1C6",
             "gridcolor": "#506784",
             "linecolor": "#506784",
             "minorgridcolor": "#506784",
             "startlinecolor": "#A2B1C6"
            },
            "baxis": {
             "endlinecolor": "#A2B1C6",
             "gridcolor": "#506784",
             "linecolor": "#506784",
             "minorgridcolor": "#506784",
             "startlinecolor": "#A2B1C6"
            },
            "type": "carpet"
           }
          ],
          "choropleth": [
           {
            "colorbar": {
             "outlinewidth": 0,
             "ticks": ""
            },
            "type": "choropleth"
           }
          ],
          "contour": [
           {
            "colorbar": {
             "outlinewidth": 0,
             "ticks": ""
            },
            "colorscale": [
             [
              0,
              "#0d0887"
             ],
             [
              0.1111111111111111,
              "#46039f"
             ],
             [
              0.2222222222222222,
              "#7201a8"
             ],
             [
              0.3333333333333333,
              "#9c179e"
             ],
             [
              0.4444444444444444,
              "#bd3786"
             ],
             [
              0.5555555555555556,
              "#d8576b"
             ],
             [
              0.6666666666666666,
              "#ed7953"
             ],
             [
              0.7777777777777778,
              "#fb9f3a"
             ],
             [
              0.8888888888888888,
              "#fdca26"
             ],
             [
              1,
              "#f0f921"
             ]
            ],
            "type": "contour"
           }
          ],
          "contourcarpet": [
           {
            "colorbar": {
             "outlinewidth": 0,
             "ticks": ""
            },
            "type": "contourcarpet"
           }
          ],
          "heatmap": [
           {
            "colorbar": {
             "outlinewidth": 0,
             "ticks": ""
            },
            "colorscale": [
             [
              0,
              "#0d0887"
             ],
             [
              0.1111111111111111,
              "#46039f"
             ],
             [
              0.2222222222222222,
              "#7201a8"
             ],
             [
              0.3333333333333333,
              "#9c179e"
             ],
             [
              0.4444444444444444,
              "#bd3786"
             ],
             [
              0.5555555555555556,
              "#d8576b"
             ],
             [
              0.6666666666666666,
              "#ed7953"
             ],
             [
              0.7777777777777778,
              "#fb9f3a"
             ],
             [
              0.8888888888888888,
              "#fdca26"
             ],
             [
              1,
              "#f0f921"
             ]
            ],
            "type": "heatmap"
           }
          ],
          "heatmapgl": [
           {
            "colorbar": {
             "outlinewidth": 0,
             "ticks": ""
            },
            "colorscale": [
             [
              0,
              "#0d0887"
             ],
             [
              0.1111111111111111,
              "#46039f"
             ],
             [
              0.2222222222222222,
              "#7201a8"
             ],
             [
              0.3333333333333333,
              "#9c179e"
             ],
             [
              0.4444444444444444,
              "#bd3786"
             ],
             [
              0.5555555555555556,
              "#d8576b"
             ],
             [
              0.6666666666666666,
              "#ed7953"
             ],
             [
              0.7777777777777778,
              "#fb9f3a"
             ],
             [
              0.8888888888888888,
              "#fdca26"
             ],
             [
              1,
              "#f0f921"
             ]
            ],
            "type": "heatmapgl"
           }
          ],
          "histogram": [
           {
            "marker": {
             "pattern": {
              "fillmode": "overlay",
              "size": 10,
              "solidity": 0.2
             }
            },
            "type": "histogram"
           }
          ],
          "histogram2d": [
           {
            "colorbar": {
             "outlinewidth": 0,
             "ticks": ""
            },
            "colorscale": [
             [
              0,
              "#0d0887"
             ],
             [
              0.1111111111111111,
              "#46039f"
             ],
             [
              0.2222222222222222,
              "#7201a8"
             ],
             [
              0.3333333333333333,
              "#9c179e"
             ],
             [
              0.4444444444444444,
              "#bd3786"
             ],
             [
              0.5555555555555556,
              "#d8576b"
             ],
             [
              0.6666666666666666,
              "#ed7953"
             ],
             [
              0.7777777777777778,
              "#fb9f3a"
             ],
             [
              0.8888888888888888,
              "#fdca26"
             ],
             [
              1,
              "#f0f921"
             ]
            ],
            "type": "histogram2d"
           }
          ],
          "histogram2dcontour": [
           {
            "colorbar": {
             "outlinewidth": 0,
             "ticks": ""
            },
            "colorscale": [
             [
              0,
              "#0d0887"
             ],
             [
              0.1111111111111111,
              "#46039f"
             ],
             [
              0.2222222222222222,
              "#7201a8"
             ],
             [
              0.3333333333333333,
              "#9c179e"
             ],
             [
              0.4444444444444444,
              "#bd3786"
             ],
             [
              0.5555555555555556,
              "#d8576b"
             ],
             [
              0.6666666666666666,
              "#ed7953"
             ],
             [
              0.7777777777777778,
              "#fb9f3a"
             ],
             [
              0.8888888888888888,
              "#fdca26"
             ],
             [
              1,
              "#f0f921"
             ]
            ],
            "type": "histogram2dcontour"
           }
          ],
          "mesh3d": [
           {
            "colorbar": {
             "outlinewidth": 0,
             "ticks": ""
            },
            "type": "mesh3d"
           }
          ],
          "parcoords": [
           {
            "line": {
             "colorbar": {
              "outlinewidth": 0,
              "ticks": ""
             }
            },
            "type": "parcoords"
           }
          ],
          "pie": [
           {
            "automargin": true,
            "type": "pie"
           }
          ],
          "scatter": [
           {
            "marker": {
             "line": {
              "color": "#283442"
             }
            },
            "type": "scatter"
           }
          ],
          "scatter3d": [
           {
            "line": {
             "colorbar": {
              "outlinewidth": 0,
              "ticks": ""
             }
            },
            "marker": {
             "colorbar": {
              "outlinewidth": 0,
              "ticks": ""
             }
            },
            "type": "scatter3d"
           }
          ],
          "scattercarpet": [
           {
            "marker": {
             "colorbar": {
              "outlinewidth": 0,
              "ticks": ""
             }
            },
            "type": "scattercarpet"
           }
          ],
          "scattergeo": [
           {
            "marker": {
             "colorbar": {
              "outlinewidth": 0,
              "ticks": ""
             }
            },
            "type": "scattergeo"
           }
          ],
          "scattergl": [
           {
            "marker": {
             "line": {
              "color": "#283442"
             }
            },
            "type": "scattergl"
           }
          ],
          "scattermapbox": [
           {
            "marker": {
             "colorbar": {
              "outlinewidth": 0,
              "ticks": ""
             }
            },
            "type": "scattermapbox"
           }
          ],
          "scatterpolar": [
           {
            "marker": {
             "colorbar": {
              "outlinewidth": 0,
              "ticks": ""
             }
            },
            "type": "scatterpolar"
           }
          ],
          "scatterpolargl": [
           {
            "marker": {
             "colorbar": {
              "outlinewidth": 0,
              "ticks": ""
             }
            },
            "type": "scatterpolargl"
           }
          ],
          "scatterternary": [
           {
            "marker": {
             "colorbar": {
              "outlinewidth": 0,
              "ticks": ""
             }
            },
            "type": "scatterternary"
           }
          ],
          "surface": [
           {
            "colorbar": {
             "outlinewidth": 0,
             "ticks": ""
            },
            "colorscale": [
             [
              0,
              "#0d0887"
             ],
             [
              0.1111111111111111,
              "#46039f"
             ],
             [
              0.2222222222222222,
              "#7201a8"
             ],
             [
              0.3333333333333333,
              "#9c179e"
             ],
             [
              0.4444444444444444,
              "#bd3786"
             ],
             [
              0.5555555555555556,
              "#d8576b"
             ],
             [
              0.6666666666666666,
              "#ed7953"
             ],
             [
              0.7777777777777778,
              "#fb9f3a"
             ],
             [
              0.8888888888888888,
              "#fdca26"
             ],
             [
              1,
              "#f0f921"
             ]
            ],
            "type": "surface"
           }
          ],
          "table": [
           {
            "cells": {
             "fill": {
              "color": "#506784"
             },
             "line": {
              "color": "rgb(17,17,17)"
             }
            },
            "header": {
             "fill": {
              "color": "#2a3f5f"
             },
             "line": {
              "color": "rgb(17,17,17)"
             }
            },
            "type": "table"
           }
          ]
         },
         "layout": {
          "annotationdefaults": {
           "arrowcolor": "#f2f5fa",
           "arrowhead": 0,
           "arrowwidth": 1
          },
          "autotypenumbers": "strict",
          "coloraxis": {
           "colorbar": {
            "outlinewidth": 0,
            "ticks": ""
           }
          },
          "colorscale": {
           "diverging": [
            [
             0,
             "#8e0152"
            ],
            [
             0.1,
             "#c51b7d"
            ],
            [
             0.2,
             "#de77ae"
            ],
            [
             0.3,
             "#f1b6da"
            ],
            [
             0.4,
             "#fde0ef"
            ],
            [
             0.5,
             "#f7f7f7"
            ],
            [
             0.6,
             "#e6f5d0"
            ],
            [
             0.7,
             "#b8e186"
            ],
            [
             0.8,
             "#7fbc41"
            ],
            [
             0.9,
             "#4d9221"
            ],
            [
             1,
             "#276419"
            ]
           ],
           "sequential": [
            [
             0,
             "#0d0887"
            ],
            [
             0.1111111111111111,
             "#46039f"
            ],
            [
             0.2222222222222222,
             "#7201a8"
            ],
            [
             0.3333333333333333,
             "#9c179e"
            ],
            [
             0.4444444444444444,
             "#bd3786"
            ],
            [
             0.5555555555555556,
             "#d8576b"
            ],
            [
             0.6666666666666666,
             "#ed7953"
            ],
            [
             0.7777777777777778,
             "#fb9f3a"
            ],
            [
             0.8888888888888888,
             "#fdca26"
            ],
            [
             1,
             "#f0f921"
            ]
           ],
           "sequentialminus": [
            [
             0,
             "#0d0887"
            ],
            [
             0.1111111111111111,
             "#46039f"
            ],
            [
             0.2222222222222222,
             "#7201a8"
            ],
            [
             0.3333333333333333,
             "#9c179e"
            ],
            [
             0.4444444444444444,
             "#bd3786"
            ],
            [
             0.5555555555555556,
             "#d8576b"
            ],
            [
             0.6666666666666666,
             "#ed7953"
            ],
            [
             0.7777777777777778,
             "#fb9f3a"
            ],
            [
             0.8888888888888888,
             "#fdca26"
            ],
            [
             1,
             "#f0f921"
            ]
           ]
          },
          "colorway": [
           "#636efa",
           "#EF553B",
           "#00cc96",
           "#ab63fa",
           "#FFA15A",
           "#19d3f3",
           "#FF6692",
           "#B6E880",
           "#FF97FF",
           "#FECB52"
          ],
          "font": {
           "color": "#f2f5fa"
          },
          "geo": {
           "bgcolor": "rgb(17,17,17)",
           "lakecolor": "rgb(17,17,17)",
           "landcolor": "rgb(17,17,17)",
           "showlakes": true,
           "showland": true,
           "subunitcolor": "#506784"
          },
          "hoverlabel": {
           "align": "left"
          },
          "hovermode": "closest",
          "mapbox": {
           "style": "dark"
          },
          "paper_bgcolor": "rgb(17,17,17)",
          "plot_bgcolor": "rgb(17,17,17)",
          "polar": {
           "angularaxis": {
            "gridcolor": "#506784",
            "linecolor": "#506784",
            "ticks": ""
           },
           "bgcolor": "rgb(17,17,17)",
           "radialaxis": {
            "gridcolor": "#506784",
            "linecolor": "#506784",
            "ticks": ""
           }
          },
          "scene": {
           "xaxis": {
            "backgroundcolor": "rgb(17,17,17)",
            "gridcolor": "#506784",
            "gridwidth": 2,
            "linecolor": "#506784",
            "showbackground": true,
            "ticks": "",
            "zerolinecolor": "#C8D4E3"
           },
           "yaxis": {
            "backgroundcolor": "rgb(17,17,17)",
            "gridcolor": "#506784",
            "gridwidth": 2,
            "linecolor": "#506784",
            "showbackground": true,
            "ticks": "",
            "zerolinecolor": "#C8D4E3"
           },
           "zaxis": {
            "backgroundcolor": "rgb(17,17,17)",
            "gridcolor": "#506784",
            "gridwidth": 2,
            "linecolor": "#506784",
            "showbackground": true,
            "ticks": "",
            "zerolinecolor": "#C8D4E3"
           }
          },
          "shapedefaults": {
           "line": {
            "color": "#f2f5fa"
           }
          },
          "sliderdefaults": {
           "bgcolor": "#C8D4E3",
           "bordercolor": "rgb(17,17,17)",
           "borderwidth": 1,
           "tickwidth": 0
          },
          "ternary": {
           "aaxis": {
            "gridcolor": "#506784",
            "linecolor": "#506784",
            "ticks": ""
           },
           "baxis": {
            "gridcolor": "#506784",
            "linecolor": "#506784",
            "ticks": ""
           },
           "bgcolor": "rgb(17,17,17)",
           "caxis": {
            "gridcolor": "#506784",
            "linecolor": "#506784",
            "ticks": ""
           }
          },
          "title": {
           "x": 0.05
          },
          "updatemenudefaults": {
           "bgcolor": "#506784",
           "borderwidth": 0
          },
          "xaxis": {
           "automargin": true,
           "gridcolor": "#283442",
           "linecolor": "#506784",
           "ticks": "",
           "title": {
            "standoff": 15
           },
           "zerolinecolor": "#283442",
           "zerolinewidth": 2
          },
          "yaxis": {
           "automargin": true,
           "gridcolor": "#283442",
           "linecolor": "#506784",
           "ticks": "",
           "title": {
            "standoff": 15
           },
           "zerolinecolor": "#283442",
           "zerolinewidth": 2
          }
         }
        },
        "title": {
         "text": "Cambio Porcentual Diario de Bitcoin en 2019"
        },
        "xaxis": {
         "anchor": "y",
         "domain": [
          0,
          1
         ],
         "title": {
          "text": "Fecha"
         }
        },
        "yaxis": {
         "anchor": "x",
         "domain": [
          0,
          1
         ],
         "title": {
          "text": "Cambio Porcentual Diario (%)"
         }
        }
       }
      }
     },
     "metadata": {},
     "output_type": "display_data"
    }
   ],
   "source": [
    "# Calcular el cambio porcentual diario del precio de cada criptomoneda\n",
    "for crypto, df in dataframes.items():\n",
    "    df['price_change_pct'] = df['price'].pct_change() * 100  # Calculamos el cambio porcentual diario\n",
    "\n",
    "# Graficar el cambio porcentual diario del precio de cada criptomoneda durante 2019\n",
    "fig_daily_changes = px.line(\n",
    "    dataframes['Bitcoin'],  # Usamos Bitcoin como ejemplo, pero esto puede extenderse a otras criptos\n",
    "    x='date', \n",
    "    y='price_change_pct', \n",
    "    title='Cambio Porcentual Diario de Bitcoin en 2019',\n",
    "    labels={'price_change_pct': 'Cambio Porcentual Diario (%)', 'date': 'Fecha'},\n",
    "    template='plotly_dark'\n",
    ")\n",
    "\n",
    "fig_daily_changes.update_layout(\n",
    "    xaxis_title='Fecha',\n",
    "    yaxis_title='Cambio Porcentual Diario (%)',\n",
    "    height=500\n",
    ")\n",
    "\n",
    "fig_daily_changes.show()"
   ]
  },
  {
   "cell_type": "code",
   "execution_count": 132,
   "metadata": {},
   "outputs": [
    {
     "data": {
      "application/vnd.plotly.v1+json": {
       "config": {
        "plotlyServerURL": "https://plot.ly"
       },
       "data": [
        {
         "alignmentgroup": "True",
         "bingroup": "x",
         "hovertemplate": "Cambio Porcentual Diario (%)=%{x}<br>count=%{y}<extra></extra>",
         "legendgroup": "",
         "marker": {
          "color": "#636efa",
          "pattern": {
           "shape": ""
          }
         },
         "name": "",
         "nbinsx": 50,
         "offsetgroup": "",
         "orientation": "v",
         "showlegend": false,
         "type": "histogram",
         "x": [
          null,
          0.14458967107440213,
          -8.864479115651026,
          -8.945744873888595,
          4.707667780605229,
          4.448356635678219,
          3.678929179903667,
          -3.859770678248242,
          1.800406043188274,
          -5.19411631853438,
          -2.676909515431658,
          0.4377761022153148,
          -17.483520200375523,
          -22.25839520222548,
          22.311047651467142,
          -2.2511361590912493,
          -3.072938935748437,
          4.761007241414927,
          2.6584148845969047,
          -1.8789997436435169,
          6.427800185926147,
          3.5694598989221893,
          0.3687689701403096,
          6.525603483069853,
          2.3147894363471755,
          6.87416310108504,
          -4.442729171412574,
          -10.300536565774877,
          -1.676124764563769,
          -4.641494711667571,
          3.7823480334441273,
          6.076642166405843,
          -5.835947359233195,
          -0.31131104158674816,
          -3.7258725044749808,
          2.569502327193862,
          2.1205264842201643,
          -1.8921230201258243,
          -1.2623701190770498,
          0.2531211919368337,
          -0.7041490727593636,
          1.343960712823944,
          6.141790425183324,
          9.899633991210056,
          -10.043064207134478,
          1.2548273319479053,
          2.7708133141799207,
          -3.230678619861349,
          2.4187657006663477,
          1.5744148535073776,
          0.026138745938353303,
          -3.519575794637586,
          1.0948279155859053,
          0.25175123534477706,
          -0.5669132757567752,
          -0.5084060981468741,
          7.506396862768505,
          -0.1181571734598541,
          1.6200372950850417,
          4.755003249808376,
          3.9497113477292345,
          -2.7099943625674694,
          0.6615649516353184,
          -0.9039190322586932,
          1.190909617484892,
          -0.3652738914285303,
          5.360116251119962,
          0.34912375123441475,
          1.948049934947882,
          -0.6895165241366352,
          -2.001835191376755,
          -2.2732535633504414,
          1.3413682325436271,
          1.6935160175907127,
          -1.9808649220687813,
          -10.108314040733735,
          1.7204199272161658,
          0.3476104378514755,
          -0.5433343234671484,
          3.2017431121596385,
          -0.6612817641349689,
          -7.8410403146745855,
          0.45014049555427427,
          0.5230000223330755,
          -0.16638424297996668,
          1.983470606228832,
          -4.0214291070372665,
          1.9131202573480222,
          -1.3274016819865397,
          1.44132508348771,
          2.255288713831005,
          0.5079238015224918,
          -0.11883794313359841,
          2.5226856170404544,
          -1.6512534278380508,
          -0.8671096176425697,
          -3.5297393254965725,
          -0.4381386180317026,
          -3.5671593317366357,
          0.8207216875961709,
          -0.3009091558853205,
          -5.002235526977749,
          -2.6555014950005895,
          2.301197938527366,
          2.234547191884362,
          -2.4484096301798486,
          0.24124117363371056,
          -0.12222268569659356,
          0.7308205632087672,
          4.626706243095491,
          -0.3860465889204967,
          0.5957720205303385,
          -1.7804727148254318,
          -2.1774018632273906,
          -3.2972231860249335,
          4.606132998331858,
          -1.2813950313950828,
          0.1575502465628542,
          4.523495361459262,
          -1.4734096235386906,
          1.0380668925837444,
          2.0095995727097415,
          -0.37993680226114934,
          -1.2424540926791017,
          -2.621296898536707,
          3.0588925362639685,
          2.876142624923439,
          -0.8720865807261835,
          -0.8186489497669314,
          0.9583610931611419,
          -0.13715078647722478,
          -2.5006738603066236,
          0.5200881776020294,
          0.12116398539947504,
          -0.42731616585960364,
          0.04517368349010731,
          -1.5286886443721337,
          -0.2284539846529765,
          0.9068544816304813,
          0.5864181706316085,
          2.3424892904399197,
          -0.7895093376439899,
          0.9240171675892972,
          -1.575473891951551,
          0.02362692205641892,
          -0.11225400225939319,
          0.10900790581316322,
          -0.17588175625747882,
          -1.524519617296738,
          -1.6185836204666182,
          -2.7693928687273717,
          1.0840604734597914,
          -0.11322825904462874,
          -0.5802208679940968,
          0.2527045858856436,
          0.24365793025136195,
          -0.742690829419479,
          2.2742589183139206,
          0.36077626143786734,
          -0.22838331451193739,
          0.4070266573858783,
          0.2538986136474186,
          0.9161970361546423,
          0.44620193173625644,
          1.512059198495641,
          5.5956691637018885,
          -1.1098543842621433,
          0.34623310014267883,
          -2.235065499372324,
          1.020055004862197,
          -0.6027080513974159,
          1.345555396627618,
          -1.3872589261522794,
          -1.35776871386587,
          0.8061937899962901,
          0.0020620520964964584,
          3.3565804293021584,
          -0.908104268995813,
          3.2047235748632774,
          2.3809439159130585,
          -1.8675332812895462,
          -1.1075669290727452,
          0.1991916786672432,
          2.059092102633242,
          4.080072499796206,
          -0.9021250407962422,
          -1.1953119151557279,
          1.5933730965342008,
          -0.2671296923961508,
          5.998487129443375,
          2.4097914994552605,
          6.269750206146263,
          -6.294840323635887,
          -1.3761867163457953,
          -0.9475199724399253,
          -2.559996078894766,
          0.611789572144894,
          -1.3970114896283303,
          -0.6112272563676413,
          1.6272433483109916,
          -0.8304961395760646,
          0.44835214857250616,
          -0.20352992806029757,
          4.655510992144296,
          -0.01960797328188768,
          1.1497025120473126,
          0.31231529424184945,
          0.471097155714606,
          -1.793850714083478,
          -0.6521551521584845,
          -1.1018610776931115,
          -1.048611277580369,
          0.3652635861452813,
          0.03662087055433805,
          0.8549232993976252,
          -0.9985380751263206,
          -1.2038555706065823,
          0.17819779812138226,
          -6.71723279397427,
          1.746629053758264,
          -0.28761736829894247,
          2.385857403988667,
          -0.7982456530406856,
          -1.5153494393226996,
          0.5584103513511129,
          -1.7545736231790454,
          -1.02137237872999,
          -0.2918362644958039,
          -1.5509014507705476,
          -10.714700608432393,
          3.840366577830978,
          -0.9825778358909187,
          -1.3702781015476506,
          -0.8306393051153216,
          -7.547354065783596,
          5.347080043474306,
          1.7793928747476873,
          -1.0193255458199713,
          3.8964364776669758,
          -1.3770281487863745,
          -0.17556046068535336,
          0.8817138106663291,
          -1.2669610884304183,
          0.6513822007182979,
          -0.9084038508975212,
          1.5382286293871505,
          2.0424175693292135,
          1.8655630789415456,
          0.5746273244263245,
          1.270545481761154,
          -2.3047832001074076,
          0.34928210361040435,
          0.5128212657146358,
          -2.1212411526504327,
          -1.8751878380552367,
          -0.12789321523893893,
          -0.1295339038269394,
          -0.6297197447020508,
          1.8742559002730808,
          -0.1684239471354987,
          -0.46510927291981696,
          -0.26531380838163976,
          -1.8238556626926972,
          1.5147969024891905,
          -0.007525564080179681,
          1.7661174476585773,
          0.44937383910690354,
          -0.19099766061915213,
          -0.7219610118881392,
          2.766683831920269,
          -0.8568747871186666,
          -0.49737339298947525,
          0.7157494101792672,
          -0.20043258104168737,
          0.7217841408113879,
          -0.13189840809668674,
          0.6985769511507423,
          2.5466474814396234,
          -1.3070312119588645,
          -0.13242996444828847,
          0.5369681779557656,
          0.4569110145529409,
          0.9042441960713576,
          -0.7970858756916055,
          1.5633265340777802,
          1.319339500274852,
          0.7653291448771027,
          3.041260070510532,
          3.0456963069822374,
          -3.007087466332492,
          0.7531045686208326,
          2.292499812648563,
          -1.2016662078600526,
          2.4546220920107498,
          1.39465517430446,
          2.0073658451471355,
          0.6334540350004358,
          0.26932491422269056,
          3.254985098903407,
          2.994205747849321,
          3.3825632351304202,
          3.788793698012083,
          -4.15048345521768,
          4.072905482065159,
          7.929516909535539,
          13.532912656178798,
          1.5372508172899035,
          -4.175944730274194,
          -3.7801343577487767,
          3.817866779677326,
          -4.019531855526215,
          2.4608212068844226,
          -11.499196099242347,
          -9.169627723207263,
          10.448946510100265,
          -0.17250817416518682,
          -1.7402155484154136,
          -3.3233685569575955,
          3.3914329576515634,
          1.1341379133431584,
          0.10026528523385814,
          -2.9450255927165547,
          -1.27500245724399,
          1.1642196896866075,
          -0.542503821207474,
          -0.1750181666382744,
          -0.8828203166382775,
          2.5595429700074,
          8.55534800666733,
          0.7764319499221184,
          -0.7796418494140922,
          4.288457435459825,
          1.8242850374708963,
          -3.916566428297652,
          -1.2739028752235537,
          0.5947271612507965,
          0.5022800689284068,
          7.684822489366483,
          0.8616518834235531,
          0.08730720715921514,
          4.710223022403692,
          1.074758433632761,
          -0.10973529355385869,
          8.516226523710134,
          -3.870782356906799,
          0.20970193353462285,
          1.7121943944104379,
          4.900321920604922,
          -2.3838760943571957,
          0.5637631798094178,
          1.6086384079671667,
          -0.3801076288873384,
          -4.528484827498136,
          -0.7526143146335484,
          -0.35906068628100973,
          1.5092713364524224,
          2.7293195218835553,
          0.1835540011474679,
          -8.48067546989304,
          1.6382476767715648,
          -0.7588606475201987,
          2.720651853542133,
          -1.2363648143948969,
          1.014031971996987,
          0.7626310772163691,
          -0.023249015369630754,
          -0.9504381501453052,
          0.7754568826447095,
          -0.32730996876827456,
          -0.1786561447762569,
          5.816948460969562,
          -0.38071221688128487,
          -1.316769017034003,
          -0.3347381042056785,
          0.25536272911654834,
          -0.5703146432801565,
          -3.0669011556959003,
          -0.6657872813108034,
          -14.754113637263721,
          5.165449616301188,
          0.4009739795693301,
          -0.31680626158258063,
          -1.5882866134208862,
          10.509610437581628,
          -2.6341298036518745,
          -7.504628324117579,
          3.2955117838869175,
          3.4429128351482596,
          -2.6621610892778813,
          0.03313570856882109,
          0.5185294657235939,
          -3.7869051511948526,
          -0.16861984655591744,
          -0.525451819947631,
          -3.3346510276689334,
          1.8358620235376932,
          0.4923984141913973,
          -1.272300116931424,
          5.50140713455245,
          -0.6805260881207364,
          -2.8071230618070486,
          0.16324135447653987,
          -1.16665823384835,
          0.7471654595620159,
          1.583272935393376,
          -0.7295388187842478,
          1.5016257445804149,
          2.0129598662207426,
          3.5141282298219334,
          -1.1790351953759326,
          1.9114675533765668,
          2.4168761194360178,
          1.0967974091400157,
          -0.48526180408238195,
          5.184595244851242,
          -0.559938338774002,
          -0.19309244272199821,
          -3.997460044814638,
          0.6864111995660283,
          -0.01063359696780175,
          0.9186041565242942,
          1.1966400408403466,
          0.15226582187675142,
          0.9524095592159609,
          -1.269800580885705,
          -1.596305732188763,
          -1.0162903282801783,
          -2.5615761201986498,
          -2.971852040018741,
          1.9310695522365195,
          2.1802268147153026,
          -0.4502827862908787,
          0.10731359119346973,
          0.9635743198833868,
          0.7223295187031908,
          -2.0267160188791045,
          0.41236511108779794,
          0.5066728081552618,
          0.2547125438691955,
          0.21725479440191098,
          0.4455711761542691,
          -2.4187380497132205,
          -0.37743705300284924,
          1.264447225370624,
          -0.19204529452613306,
          1.281711348582193,
          0.41214333749639565,
          -0.7637367368612646,
          0.20728735571236,
          0.2337982840360242,
          2.071919657319765,
          -0.6096170438863235,
          -1.7052389558042669,
          -0.7099076638743873,
          0.6711149135839589,
          0.3341631236066567,
          0.699693344275043,
          -0.3538494531417413,
          0.2993890263878196,
          0.7662652555687766,
          -0.23541882072916076,
          -0.13755288671333243,
          -0.617940704290898,
          -0.5565459263897177,
          1.1986206730826954,
          0.3445467346420594,
          0.8511917157298488,
          -0.44863567357529277,
          0.15626878230554642,
          1.1846601338567186,
          0.2267621160742861,
          -0.6761946530963625,
          0.11190882818135073,
          1.8352135092624566,
          1.2709397987946014,
          2.074376125779609,
          -0.7969708457202351,
          0.967623712814647,
          1.7938639009512425,
          0.11806324102077159,
          1.6048959097957338,
          -4.9303631886734145,
          1.0323996321851325,
          1.5988659956696294,
          -1.8974255638834703,
          1.0468784535937692,
          -1.7905751758758415,
          1.307571857957912,
          -0.7064179435931517,
          0.4032483522283581,
          2.828553735392836,
          -0.5138425544821024,
          0.007621154583192791,
          0.5364883960434108,
          -2.4734324207845826,
          0.4114796836069967,
          0.5643782661291619,
          0.2806054568525118,
          -0.11052461913961809,
          0.5124005769445938,
          -0.6430236088389552,
          -0.5432046657125822,
          0.20975991441620767,
          -2.8303530662526444,
          0.3062157947423927,
          0.2849138243174565,
          -1.0091459493124733,
          1.0258163788681607,
          0.5853218254639803,
          0.7371530994752629,
          1.0415205264388883,
          4.436980420159942,
          11.539386828288256,
          -0.7418479032059611,
          1.8298819726128013,
          -0.5273068974812056,
          1.4604625080210987,
          -0.06231823847110407,
          5.866949253199505,
          0.5401046551376298,
          0.1655852953084569,
          1.9299903837735943,
          -1.3068287665142897,
          0.9046909465257214,
          -0.9486588960779363,
          0.28057968136478983,
          3.1971737159220304,
          12.374093169997536,
          4.8502275035151365,
          -2.606834162534888,
          1.06349711575644,
          10.420251952102277,
          -2.095986350744583,
          0.9848430928576457,
          0.9575056236672541,
          -3.9113174071237933,
          -9.420976751455001,
          -10.99276855268554,
          5.290001835564717,
          6.131252439213686,
          0.7015385855618783,
          -5.517653072796758,
          3.018245495831895,
          -0.22474163196052332,
          -1.454139567097379,
          5.361941650704272,
          0.9073637316562078,
          2.2630623718109755,
          -4.08369124411575,
          2.0993718237053205,
          -1.6457999480504526,
          1.2566439661057416,
          -5.51826476249373,
          4.247362480365924,
          -1.783566167027606,
          -0.5428463941324457,
          -0.19236653898616618,
          3.370668803056698,
          -1.907450353827722,
          0.21666793284207397,
          0.9265030115086947,
          -0.3283812859632973,
          2.244089797295601,
          -0.5311277368968748,
          -0.03409204632797147,
          -0.5431583702974252,
          -0.8241382215658399,
          -2.145348450637974,
          0.6654993933250752,
          0.8278506450119849,
          -0.9579020195881527,
          -0.49022872079020896,
          0.6614766052629673,
          0.04151301334964774,
          0.22137066695469,
          -0.42495341507539086,
          -4.7060204780792425,
          -2.8855941126682882,
          -14.628561189942157,
          9.716251853341372,
          1.625476374377377,
          -0.09883854685768245,
          2.013979040813174,
          0.8563989551337414,
          -0.3298645530588451,
          -0.9158431555113866,
          1.189870758641609,
          -0.7856329203226653,
          -0.18444086915595514,
          -0.35141112396518404,
          -2.3495123656005146,
          -0.5260597996528005,
          1.8474958699540744,
          -1.1693125970007268,
          0.14113012081249376,
          0.213810650435442,
          1.4741761941196474,
          -0.23356897482019745,
          0.7975501770439264,
          -0.5491462575880179,
          -0.7071683789399152,
          -0.3065910694080132,
          0.3449824280270519,
          -1.6482853079325177,
          0.8712658840082543,
          -0.1775972956007288,
          0.623529757451946,
          -0.750193952870537,
          -0.029432485965175115,
          0.41507024265641235,
          3.873510900102417,
          2.0955895302710914,
          -0.33596806775479937,
          0.6659591674718968,
          0.5964934056249094,
          1.8135326427546117,
          -0.5683748556080337,
          0.18431853355580508,
          -2.8477865686063475,
          0.08521013177886783,
          0.13432697935109594,
          0.29341707258776495,
          -0.46697620906439585,
          0.16010433133968327,
          -0.19941623634539551,
          0.5701223007487988,
          -0.029133896085831168,
          -0.13946716069737075,
          -1.962681054087534,
          -0.14793381742488343,
          1.1654084282811006,
          -0.1030084275846277,
          -0.32617490405773,
          1.1322604022818927,
          -0.3117593941403207,
          -0.10799270118297954,
          0.17935399425077492,
          0.5987058361414999,
          0.9539355482939715,
          -0.6027237100126426,
          0.26248538665778476,
          -0.44421181882385863,
          0.39291415158988485,
          -0.10730232983227062,
          0.8574421421323253,
          0.05111820671486189,
          -0.30979647831148593,
          -0.05043735696536045,
          4.295231524995868,
          -0.7934602778211342,
          -0.15637754976969287,
          0.5605950150731065,
          -0.15218276975141887,
          0.467272266170804,
          -0.4223458077749598,
          -0.3164792759016932,
          -1.105883093482729,
          0.016708105420182306,
          0.18714724939037364,
          3.5521728111024276,
          -0.3774340100062834,
          -0.13238380281097584,
          0.5961314575063437,
          3.184588355675144,
          1.4782805614644179,
          0.6125941561886172,
          4.050784358111104,
          -2.5346240123543695,
          0.18628706650776206,
          4.384445908056156,
          0.6800282499434429,
          -6.552011962453141,
          2.3392516091492954,
          0.27239321473837563,
          1.1510711660494444,
          -0.8472935208263088,
          0.40327577477454746,
          1.7261686461477632,
          -1.1042159058839318,
          0.3404807220031003,
          -1.6603960776505278,
          -0.2008757273981976,
          0.4561400752991718,
          0.9367018355579404,
          4.035680109478057,
          -0.3265429848225754,
          1.3468611201386649,
          0.26505590128413914,
          -2.9368940529847953,
          1.1166969373998858,
          1.577382366718516,
          -0.9298281340457293,
          -0.596027249697384,
          0.19752318485679599,
          -0.7410070425164839,
          -0.6791415927585365,
          0.5613080398826131,
          -0.004435566404348279,
          1.4414670474576452,
          1.4408396586664374,
          2.4057074184488325,
          -0.8217988242151475,
          0.20069414156052012,
          -1.8436032364574473,
          0.8577714559183436,
          0.6883552954589645,
          0.623105973832172,
          0.15172862393078024,
          0.4267104641597852,
          -0.6329875760789361,
          1.3276971779473845,
          -0.027915237103204316,
          -0.29859357632532335,
          -0.04108822975595894,
          0.7433218686841325,
          0.9650119186650707,
          -0.05529375600135111,
          0.21244447747716944,
          1.2156438235738642,
          3.363605283888993,
          3.961373022344561,
          6.718031647273115,
          -2.7715116408395746,
          0.2978455608368291,
          0.9246140548629711,
          2.9369061572027455,
          5.168897283974538,
          -0.5545469431197381,
          -1.1110490219777946,
          0.5873476986503201,
          3.2569873516943737,
          2.1190120735434137,
          1.602484225844858,
          9.204764387201724,
          -12.396168924121442,
          -9.75453419033122,
          0.676295324834375,
          0.8894998971201717,
          -0.6834285293707998,
          0.43027669356003884,
          -13.412166000067538,
          1.9317142210505622,
          3.136156812218771,
          -0.8094371999086025,
          0.499801302234526,
          0.7783675269569468,
          9.156294141082522,
          -3.3420800141569895,
          2.6266255499551416,
          -0.6055592101595453,
          3.1654519535844416,
          -0.09771773098123937,
          0.014006416306266978,
          -3.6041386102518613,
          0.8675883009584107,
          2.4495625948964816,
          0.31981952455863993,
          0.21316853381974088,
          -0.6631386206934264,
          0.7491879966484705,
          5.1330736814468425,
          1.8906565627075045,
          2.2127536739898312,
          0.6980522227219454,
          1.7910910760579934,
          -1.6160368221287413,
          0.7458683156871482,
          2.6343210623894553,
          0.36151212553492407,
          -6.973960896286213,
          1.060023123035947,
          1.8984765116574875,
          -1.03096780678541,
          -0.4417519473087772,
          1.4052977290367252,
          -0.12086518626865939,
          2.5793420891040864,
          2.092396515790096,
          0.19145559650817212,
          -0.4797394796776544,
          2.7066213412725526,
          4.010288047058297,
          -0.18693783165014688,
          5.550565936123153,
          -0.4034719676034193,
          -2.664755238308125,
          2.7204821442672777,
          1.055035139870042,
          -0.234552494233764,
          3.120657108492586,
          2.819103480912566,
          2.175740829562245,
          -1.6072452016830274,
          0.5846770980052929,
          0.37242415765768033,
          -3.7416093221942948,
          -6.765749001698751,
          3.619050154797665,
          -7.658102776044029,
          7.381159192561437,
          4.178437604246077,
          1.0324504607814866,
          0.2647719750864752,
          0.9546505299224961,
          -3.269278091513861,
          -11.76529702693373,
          -10.439671307107645,
          6.396105134680452,
          1.2547177043735758,
          7.369213629151572,
          -6.5481494823061315,
          -1.0290772742019172,
          -8.659544663619744,
          2.685519379970591,
          -1.1176621952470822,
          9.23316581158029,
          0.2030421140072125,
          -0.5843470687652452,
          -0.6859401121458109,
          4.535349219405815,
          0.6471717121449228,
          1.1808306450201034,
          3.755712346189388,
          0.10438921231821219,
          -0.7152742325981842,
          5.464003761981551,
          -0.3714482865077806,
          -0.6307178183264872,
          0.45911639547953076,
          1.9210254449991249,
          1.3302602611285241,
          -0.6782062549220647,
          -3.6189802339163024,
          0.8071816857135206,
          -0.28419675133711797,
          0.5072340367848316,
          1.5875277119808517,
          1.0319937136090918,
          0.6686213636886373,
          2.299299759080564,
          0.0864101239010262,
          -0.4237093994959973,
          -0.14653468515688495,
          0.16969339308892106,
          1.047132607755974,
          1.9219426069538192,
          3.4173709722524315,
          -0.759213182479701,
          0.4905597541638329,
          1.6720817259317844,
          4.338046841426579,
          2.399809719229351,
          3.0211579863338223,
          0.9114511035170691,
          0.44577686479565504,
          2.7735713928107586,
          0.6505170191527965,
          4.846073885613289,
          4.089526013542466,
          2.7726516790158806,
          3.517466058687102,
          -5.971227659236167,
          2.996138519408098,
          0.9121725380052847,
          -4.049241594543174,
          1.190062082505472,
          5.1352053673131115,
          4.708217949689186,
          4.418974866635539,
          3.5743653268412334,
          0.5118282095702309,
          2.7030562855023366,
          8.689983954176839,
          6.779283400266722,
          -3.315132648318342,
          -4.41967534477058,
          -7.934855637475923,
          6.56037775254521,
          3.008748641296677,
          -5.1884813243321615,
          7.447427478629098,
          4.5923246435552345,
          3.209771545686735,
          1.9215643771297586,
          -0.2394108970006248,
          6.460146181845183,
          6.6833654687903365,
          -6.453887621313703,
          3.981688467127431,
          -0.25281461628229307,
          4.273598631312492,
          2.5961259373679324,
          -10.367898902676153,
          1.293243325787441,
          -8.50772896411096,
          -2.3531010101185967,
          2.835623384458552,
          6.753134601039545,
          -3.9630764106132865,
          1.665247860030128,
          6.017099002451753,
          -2.188411999279649,
          0.29109666478217555,
          0.4709883026138728,
          -4.358676272984551,
          -0.44123994186326954,
          -4.552178658456518,
          1.7343837568083442,
          1.7417105065818506,
          -0.5341358223378334,
          -2.768804333168451,
          -2.044880334095922,
          3.2266772351212003,
          2.3096250662962836,
          1.3304894926721378,
          -0.14470609656821454,
          0.2090781634959571,
          -3.959635221010127,
          2.1511602127229468,
          -1.71575369417164,
          -6.180558725509988,
          -0.40638699280730606,
          1.4196906881289495,
          -0.9637400962704046,
          -5.73494290889891,
          -8.76902132496019,
          -5.222666987351399,
          13.190137425351312,
          5.620687531175816,
          -1.2703730794125456,
          21.63893126498828,
          -3.930505255154493,
          5.427724163443104,
          -2.5244502869069763,
          0.7227644548978507,
          -6.818448207522443,
          -2.1982742816034184,
          5.665314705669,
          5.638476222876743,
          -2.8128564475431217,
          0.7434032750615271,
          4.782078431315373,
          -4.652981509742171,
          -1.4578646349260649,
          2.9474235057429965,
          2.4674140591421923,
          13.745174540626358,
          -1.4623789689500288,
          5.234836684945354,
          1.6009827049525693,
          -2.332602831877051,
          1.1110386369214575,
          5.7805149900899355,
          6.667989245576611,
          5.871201069346221,
          3.7889914354438226,
          -0.6319075050507883,
          2.7293710443664354,
          0.5714558898790578,
          -4.414165537882642,
          0.42770936409397553,
          -2.769805205942666,
          -1.6494608457125692,
          1.8597833832229682,
          1.5134043831731336,
          2.4135414395421106,
          0.7823516295405675,
          -1.8185862799499852,
          -0.170840531552241,
          2.4237772825281167,
          4.217514799375532,
          3.6354297840101024,
          3.2748786110920802,
          3.4075482186302297,
          -6.304402657338748,
          1.6649385701804853,
          -6.805822056160061,
          3.0272133071027385,
          3.245924547433754,
          -0.16179437651449025,
          -6.534876363482911,
          -0.9241231268914629,
          -2.6602247868419915,
          0.7818580143231113,
          -0.8168096409362668,
          -5.986611001313403,
          -20.1610197405255,
          15.71516018160799,
          0.5109355047030695,
          -1.4653036184395618,
          12.912966053562247,
          -2.8251001412962773,
          -1.049357957725594,
          -5.960630230121112,
          -0.16194744594801858,
          3.8989848230031265,
          -2.420844194543237,
          5.29367982201181,
          -0.3561157968022588,
          7.300335851173623,
          0.0162675700045245,
          -0.10809744189037573,
          4.052278380309393,
          1.158445430451427,
          0.8222223008569118,
          -1.465925469960394,
          -2.028331131548211,
          1.3923364287253381,
          1.3324421086055693,
          1.32187088559923,
          3.571059065975435,
          4.304819380591196,
          0.22602072073847346,
          0.8061375563497508,
          10.892293652283236,
          5.230565884027394,
          1.22490229362191,
          0.08506248528323823,
          0.7896775943234458,
          -1.4849829314412033,
          -0.9049987276807059,
          1.852350278951742,
          4.500949920595576,
          1.531981778007041,
          -0.6701346013736065,
          -0.724264827837573,
          -6.877560766785029,
          2.7890260502203557,
          3.123265347735704,
          -1.8279032296971809,
          -0.713515581595281,
          6.7879568805164325,
          -0.3129077564487215,
          4.3290646254313225,
          5.435017722021174,
          5.137985341194717,
          2.4780400805918257,
          2.153455125492476,
          0.3481848563044343,
          -4.223443272145566,
          0.8967320468713069,
          4.11739517210119,
          -3.692550826146157,
          -7.367541208757633,
          -4.378081114156284,
          -7.8374476237486395,
          9.487377950077992,
          3.5672133983871035,
          9.70281153127075,
          7.088230213307356,
          -0.40181909519442227,
          0.5664388021868083,
          2.3444634706837997,
          2.613390130668991,
          -1.2940351276267137,
          1.7622363814965292,
          -1.6889603381378238,
          1.9767273176274802,
          5.61758548623712,
          6.86055506464196,
          5.227602293503586,
          4.329641355277558,
          -3.7162192008310835,
          5.36959495905025,
          5.665243074978732,
          1.5171487063850186,
          0.8435065456186219,
          3.360514761822375,
          4.634890259473501,
          13.982128810559825,
          33.25562469746735,
          -8.56179253593985,
          -9.708883852918015,
          3.5508212129026884,
          8.210737515801213,
          0.8383656656966387,
          -4.202197554173748,
          2.059402477233152,
          6.60091918205139,
          9.382051450765406,
          -1.2296461621226995,
          -1.2125787030989765,
          -5.2838458739937755,
          -6.131214695350639,
          -4.130449801645797,
          -13.881872386243765,
          8.215164511361795,
          -5.188336524194059,
          -1.0266394194802242,
          16.17820173730944,
          -1.4660025188761527,
          -7.971508692676466,
          0.19020526396460458,
          -9.778370814727854,
          8.951516285236272,
          -5.026984676855206,
          8.715483807709102,
          1.709658229998956,
          2.5184967860790053,
          14.775311889189346,
          0.03675378494685244,
          -7.107569603545061,
          -6.687308239540957,
          -1.8593385306467702,
          -0.6116947985972732,
          -9.405346019090144,
          5.044101722681638,
          2.9406572532944875,
          -4.717376895220338,
          -0.44617737354181175,
          -18.651711170908936,
          -2.6315502570465887,
          1.3493372493634803,
          1.6339994494861898,
          12.77208633209257,
          -11.740079086106492,
          -6.082877378373097,
          -0.8878975946945089,
          3.5167526461337806,
          -0.4598827723284904,
          -1.6066203310008742,
          3.7239449901715016,
          1.8285572601275835,
          -4.354930916100974,
          -0.5597336449517876,
          -9.963946999342067,
          1.249341194975817,
          -10.321223431845695,
          -2.6502449674726702,
          1.8657792218040203,
          -7.5531273475723975,
          -17.59920284490304,
          12.538835674186032,
          -1.2917547016317532,
          7.842779450360005,
          5.386377330696934,
          -0.8789920434739806,
          -4.7353367182919825,
          9.0928354816449,
          -4.411535347046414,
          10.680063318422107,
          7.260847231524625,
          0.4222158091549799,
          8.383529329442997,
          -4.390241188307509,
          5.508287398568479,
          3.5961791914673302,
          -13.291034744584652,
          0.594279293607114,
          2.6813930780318573,
          -5.428671498130699,
          -0.44249875607539346,
          6.763851567999568,
          3.416615665867928,
          -3.3869674477374545,
          4.957029794362877,
          2.196440613684203,
          2.324419087192253,
          -0.6108229868855397,
          2.1241385415790015,
          -6.92933813467338,
          -6.786474830672207,
          -5.788459756282638,
          -1.534014704287645,
          -4.155430767381729,
          6.991336080967936,
          -2.9408832980955646,
          -0.17519136579993155,
          -9.86605038645678,
          0.6276693745885353,
          1.9217114025557036,
          -5.359130631320308,
          1.9152245987709593,
          5.143433275993514,
          3.313446627832173,
          0.487266548009746,
          -2.607846674161851,
          1.009651645560794,
          -2.305398599106556,
          -1.6530576961579335,
          -3.4491639580474187,
          -4.268564005545727,
          1.1996853310960898,
          -10.136258916436503,
          -3.221972661214201,
          1.1309801158331245,
          -1.988494797405027,
          3.566771378145095,
          5.422545722326988,
          -8.293282206755482,
          0.14763856584931734,
          -3.306402416641374,
          3.8577802346829726,
          1.457361648360167,
          -2.9538015556540786,
          0.7497971074029053,
          1.4025633696725937,
          13.159300745575786,
          0.11938963931810154,
          0.6623595187255304,
          4.562673227136571,
          -2.7496485490323685,
          -1.9594541938948051,
          2.8421778314900115,
          2.223454450252915,
          2.681853520414923,
          4.458856175326376,
          -1.2323832283811065,
          1.2815549217941147,
          9.40278371661818,
          -9.172934665926846,
          4.494690361064757,
          -3.052384867989033,
          3.459342491795292,
          0.8213202415883192,
          -1.3665495711767894,
          -1.889523998263165,
          1.0888883253888926,
          4.696903075628112,
          0.873226486187062,
          1.367022024590181,
          -1.8673783997367521,
          -2.8757346414708507,
          -1.7054434111614558,
          1.0868612341187633,
          -3.016771700905063,
          -6.291901493872077,
          0.8925021992210569,
          2.3984894664748957,
          0.14956035657023303,
          -2.571300715853453,
          -1.536859071327179,
          -3.440821295289276,
          1.8218873891785448,
          -0.27061894566475786,
          3.2104291722754974,
          -1.0453771105852105,
          -4.137605993297166,
          -5.655718873771843,
          0.0942181677189069,
          -1.2086156365370693,
          -1.9158256741849011,
          -0.030396687018574564,
          -2.942343278434967,
          4.783555274161921,
          -0.9445322671191025,
          1.074610314755886,
          0.36070713769835727,
          1.074339699628335,
          0.9562786170310256,
          -2.306639147785672,
          1.4115918327317623,
          0.48311657996675805,
          0.10780119857891624,
          -0.6910011960527207,
          -1.9330976200208072,
          -8.73232331297803,
          1.6643394574900716,
          -4.335752599544563,
          -3.7638353048776607,
          4.903961524773814,
          -3.580491064943081,
          1.1239432413644668,
          -0.9255691648462627,
          4.030058358559785,
          0.46646591613928035,
          0.08486974203474329,
          -0.3506403500680433,
          -9.001163017854374,
          1.3280244141676167,
          -0.1577140612895933,
          1.3335295871543584,
          -2.7552110517621187,
          0.777014717054314,
          -3.8752006583337217,
          5.140618032315825,
          2.980185506690902,
          -0.8422560098098053,
          4.477674106283391,
          -1.484940570074167,
          1.0021286086085768,
          -0.3806479460782164,
          1.0026985411435652,
          2.37065574380384,
          -0.8757699049573575,
          -0.7816972481568096,
          -5.187467057327144,
          1.1082011967242122,
          -2.238182209765527,
          0.2858014307744128,
          -0.036167696998778975,
          1.6579594437303502,
          6.173463007600621,
          8.33145600272751,
          0.42991521894424345,
          1.4728389092453886,
          -1.4904230195416424,
          0.6446614405712481,
          0.22670852976311995,
          4.179757401203021,
          9.310559983972656,
          -3.298600178974853,
          -2.6456237154565354,
          2.7273522924140314,
          0.5745932443860013,
          0.06662332968065954,
          -0.1423885851857376,
          -5.468802180629851,
          -1.6276104057341367,
          -0.9414709873528992,
          -1.7102909736790406,
          -5.432710404256369,
          0.39374050768963276,
          -1.5702527637581176,
          -3.095303808223826,
          -6.737525935696864,
          4.340935765006626,
          -5.583301529453422,
          0.626408757965824,
          1.8240895497135812,
          -0.5446146470950319,
          -1.1421109698987464,
          0.8940864089625133,
          0.6639765980349432,
          4.078526321218079,
          -2.8119777906553955,
          1.464000958962397,
          -3.592182782658604,
          3.5943219197694276,
          -2.0196368522576003,
          2.9102002955547324,
          2.5043977931498818,
          0.772800468006829,
          -0.11502395208831118,
          2.7170065587134973,
          2.3858354082310296,
          -0.4131504576929568,
          -0.3207697658610953,
          0.04963126710848531,
          2.613106481628047,
          1.3035432472425557,
          -0.6074418514499746,
          1.3574833696408772,
          -8.078527193037278,
          -3.94161193587681,
          -1.5459590592944883,
          -3.3859104779558447,
          1.2872973976844282,
          0.75662750512977,
          -0.46318607305823045,
          0.8227082444514755,
          2.4624526387300394,
          0.20890625729628187,
          0.4647513025314298,
          -0.36710323403358336,
          -3.9366274768258935,
          1.5511302396730597,
          0.5779767673917302,
          1.6938529242988443,
          4.035025575584106,
          -0.10071758803626985,
          -0.5336082624354033,
          -1.7112447441172018,
          -2.3479589216139907,
          0.3335359670328053,
          3.7430954665572225,
          -1.043122538945096,
          -0.4324518649796327,
          0.3022091683299921,
          -0.4104518646513067,
          -1.124948440458784,
          -0.38845735979022855,
          1.2222837844630074,
          0.6458349362347571,
          -0.48427375322864785,
          -0.06514565794011329,
          1.0365837152928936,
          -0.2907479458410078,
          -0.7731777734373613,
          -5.288109627425341,
          0.8216605803736732,
          0.46599265499500664,
          0.21649450638432377,
          5.235330354843981,
          -0.3716261792182096,
          0.0092864099638712,
          -1.7817261093335812,
          -0.5168125958734393,
          0.7534281083469763,
          -0.046056589156284744,
          -0.26158997339860157,
          -0.6109612981110457,
          0.13354235214555477,
          -0.35874828500769285,
          0.16467308367764666,
          -0.1819153739158974,
          0.3757826566528566,
          -2.911060189550485,
          0.6218985147184108,
          0.5517925712601901,
          0.2081583984551827,
          0.7126771707361534,
          -0.5797546246652074,
          -0.5811951191407094,
          1.0137118498029007,
          0.925951302391792,
          1.5437258281365107,
          -1.2828745267782438,
          -1.181314643897513,
          0.2512831494049239,
          0.06820954719748418,
          -0.35639021518194536,
          -0.2661553463068178,
          -9.472151728658773,
          -1.7633131098975796,
          -1.3467756050472457,
          -0.19188361361532902,
          0.7084930937822254,
          -13.294591907943044,
          -8.968473304729962,
          3.6564257070517137,
          -6.6340761426593176,
          1.613883013910633,
          -10.99105737249576,
          3.6962466625770185,
          -5.641639679871913,
          0.5509288544998103,
          11.33127227755768,
          0.2866478837756814,
          -6.304183933014018,
          4.486238637497353,
          -1.5509996267380588,
          -5.958267425908781,
          1.6719841518761047,
          -4.868554799261227,
          -7.59465609586456,
          -1.6799600150799288,
          0.4747581486177932,
          3.6744928865202198,
          -3.2878880938189914,
          -1.6017102576422304,
          1.7547987768553819,
          -4.172767339970374,
          -2.3677578624987206,
          0.16629387105708826,
          -0.15299209030696925,
          8.988684130004554,
          4.265509861023475,
          0.8746574136248242,
          10.232435176254251,
          -5.384120654606672,
          2.972790233527678,
          -0.4784675918676706,
          2.0390743213938967,
          -6.534372580827186,
          0.596796750488493,
          -5.127684860155812,
          7.434203762475877,
          -1.9776551439245948,
          0.8346392285095483,
          -3.0762473353170283,
          2.7550932581009047,
          2.0533079741715143,
          -2.470096162523383,
          1.0258707119013444,
          -0.7328508029561642,
          5.972903252308215,
          -0.5942756786078807,
          -0.40297739138842603,
          0.21730111612741076,
          -8.999443816288322,
          0.24839833243550657,
          -0.947271878631073,
          -2.851350569323674,
          4.354212696550186,
          -2.1997253373208236,
          0.8365398769697885,
          0.6485893618537908,
          -0.6403797085699714,
          2.1344755997129594,
          -3.685304765797015,
          -0.23065729919530265,
          1.140262747041243,
          -0.43589308698738227,
          0.2796074496543177,
          -0.022985692465848917,
          -0.03388257677241491,
          -0.29444492670661626,
          -3.4028109273782303,
          -0.5489219464106965,
          1.3039047753344413,
          -0.7501414577418264,
          0.9483404487945046,
          0.6376542508403471,
          -0.9337447395762477,
          0.28887059585083197,
          0.17006819430485098,
          -1.8461025991850732,
          -0.3471161062492789,
          7.963060780089948,
          0.0853144365905667,
          0.22586426811068705,
          -1.2037758838140844,
          0.06940783450204435,
          -0.6577601428533031,
          -0.5650994884299432,
          0.32224098869364504,
          0.5931991701400463,
          1.1727481812527252,
          6.042021994183466,
          0.7330405949886432,
          1.578512844292379,
          -1.0560052952312438,
          0.9867742893859832,
          3.5659132896797896,
          -9.050750794067064,
          2.185878230891314,
          -0.40457542481663333,
          0.10942209659792201,
          0.05847088085439989,
          0.003835100797111579,
          0.10199270500941271,
          -0.3322679033558651,
          -2.472890655611648,
          3.761278278766711,
          0.20893385303957235,
          0.28821278504727044,
          -0.25203654022520894,
          2.0643204908797674,
          -0.45770957145043756,
          -1.6107963731819774,
          0.41761975415477437,
          -0.27507088249081324,
          0.28146503485912966,
          1.2578194836391,
          2.0952671016374547,
          -0.6666990042085374,
          0.14360219854177014,
          0.6739917433976172,
          0.7971857624416545,
          -1.538839068089326,
          0.14662927335382658,
          0.4960167700249096,
          -0.38789467944086997,
          -1.6481616664192345,
          0.28217004526744915,
          2.475491185376355,
          -0.19250017279146547,
          1.8600863901279796,
          0.013003164465197337,
          -0.008155323925340685,
          1.043011147113715,
          17.266109881059233,
          1.925071171387649,
          -1.1463316805804369,
          2.3664781187979544,
          0.5366597419511399,
          2.679736536169486,
          1.736860671875684,
          -1.7983938493783547,
          2.643576665631109,
          -4.9183868829777655,
          0.6868742219288793,
          -0.18648354294232838,
          1.5045829721504589,
          -2.125204734470565,
          3.4468543792556927,
          0.1027845460081167,
          1.0693681006340938,
          0.10592754205782651,
          0.5176686402786013,
          0.06548342870160706,
          1.3136656717358308,
          3.2892036804848646,
          -1.9040192223271135,
          -4.567287367825157,
          1.7827626717744849,
          -0.7339622014219005,
          0.015701925887068313,
          -1.1040398036483268,
          1.7894875017255618,
          1.1672985795213364,
          1.7950931397607617,
          5.151377585885797,
          1.2640721742621652,
          -0.9410761904403486,
          -0.5838363914779876,
          2.192126647915593,
          1.999689887449474,
          3.5316771277732695,
          3.274253479015332,
          13.940265863044864,
          -4.195355888887942,
          12.255690680886545,
          2.3581134610663135,
          2.530240047307686,
          -3.861100144135121,
          -6.761650730166979,
          -0.5816987343068458,
          11.890378501862543,
          -2.348944825958088,
          -0.2317479061901384,
          -3.6762406964464645,
          2.5570197380572646,
          1.468263020879279,
          0.7569348851922175,
          7.38343685390328,
          2.142875801255628,
          -1.0101572355145194,
          -0.8743084206511598,
          -3.927858212311197,
          3.1856426499633494,
          -0.24936458875528533,
          2.214612400975402,
          -6.51980684104565,
          -5.994843598395782,
          1.6764535557096005,
          0.11104126918481949,
          2.7487643062042766,
          -1.1643555960818008,
          -3.456195133398654,
          4.364880826983253,
          -1.308984640486388,
          3.1284425009257433,
          1.0137020060295487,
          5.3949909472578605,
          1.6964080823136385,
          1.8161942735839487,
          3.7209507617497195,
          -2.3499371171337713,
          2.110253675773266,
          2.8256289727654815,
          5.9701100803624785,
          5.797013785299243,
          1.3190469727689003,
          1.838678037870345,
          6.906577357091304,
          10.058114873632352,
          -13.984487195297145,
          10.497782859721205,
          -3.0734710822124534,
          -9.057869645244354,
          -2.287368355480035,
          1.7268266449641523,
          10.652299139491749,
          -6.229578853806705,
          -2.1581947855542793,
          2.6596969385332514,
          1.391504037919411,
          7.203750620973426,
          2.3154813867861224,
          -3.0115109672823492,
          -6.42209616809073,
          3.684673469136124,
          -3.2703535501820813,
          -9.922928318190849,
          6.085133593971337,
          -12.578816031866724,
          1.2420392521223844,
          10.135879725136455,
          -0.9363334021048497,
          2.2560983479004593,
          -1.548294264840011,
          -2.4901845723265925,
          -3.9343020465879897,
          -1.3795209005931564,
          0.8054204800065135,
          -0.3262981275551802,
          -4.0455115583353685,
          0.9216764343597861,
          -0.25340843650363265,
          0.6082049418398183,
          5.168647817070116,
          2.9644820086277335,
          1.6200642094904794,
          2.488596615527894,
          1.4863342714911854,
          7.916032216864233,
          -2.6091357633871937,
          4.000754424798947,
          0.44837983455063846,
          -1.4285198556651113,
          -4.427051148610772,
          1.961147582161793,
          -1.46109976354033,
          -4.19625899208409,
          -8.138900242768809,
          2.792069528500396,
          0.28279722166302257,
          -0.9760286031255894,
          0.8377532968758095,
          5.684836666438331,
          -1.3966861634741146,
          -5.768273009280412,
          0.03685916685289836,
          2.544673971094924,
          -2.315693994795942,
          -0.541654372391398,
          2.4266480099782717,
          -1.616099554625705,
          -4.075598437665406,
          -2.7512788377223374,
          1.0948289923968346,
          0.19086230157778772,
          1.2696293846220952,
          6.102787346546612,
          2.878444993822682,
          -0.439258801508724,
          -0.030881293367468476,
          -2.0765981532943067,
          1.0704482613095978,
          -0.5468964270533005,
          -0.7919996388878303,
          -1.9456563347919675,
          0.29253460298370726,
          2.4688903054230105,
          -0.43930021455472756,
          -0.05866318328904274,
          -0.4239501212404573,
          -0.36148358260839064,
          -0.6364235127372164,
          -0.433364907851963,
          0.9290206601819007,
          -0.7294265773868713,
          -1.7806524287669379,
          0.4411666596955133,
          -3.403932952332178,
          -10.276724600187615,
          -2.9470051111273765,
          -4.1134768342728005,
          1.0454934608231214,
          0.5086834982575672,
          -1.9541304760687939,
          2.5657254103740312,
          1.1511268538610286,
          -0.19568200296352645,
          -2.0811345310356333,
          -0.24259130557996444,
          -0.199559008779282,
          -3.0712615120118136,
          3.7009958167407486,
          -0.0190713140731269,
          4.796281267928282,
          -0.13461654432188608,
          -3.3133252081158027,
          0.3699344932355242,
          -0.22836609634803162,
          0.6979085922242501,
          -2.054391283319945,
          -2.0249963831442286,
          0.8692466042194535,
          -1.51755452504595,
          -0.09440151912105677,
          3.252412379737013,
          0.15296484756868178,
          -2.136309752476606,
          -7.16893250485211,
          -0.4635072098485349,
          16.385910082986044,
          6.532640313518234,
          3.089690683036306,
          -2.758601092184887,
          1.8102589513997458,
          -2.5011671278009406,
          -0.21860176620535077,
          0.8915075491670699,
          0.7518434430298315,
          -1.059335906077763,
          1.8976763350163184,
          -0.8378327903261651,
          0.42659240032130175,
          -1.2738142062143631,
          -4.6109349680724225,
          0.1578873189960417,
          2.654884923048506,
          -3.469341093625189,
          0.8801295221939176,
          -0.40844994530249146,
          -1.3539904750259124,
          -1.9832321413844278,
          0.1879787564275981,
          0.14267816699036207,
          -3.592466454432064,
          -0.7802527427482553,
          -0.5279132120036389,
          -5.723549441549213,
          -4.44783556041094,
          0.22864750445075188,
          -5.115820983675046,
          2.631677255967224,
          0.5537845009566,
          4.555515831923063,
          -0.6030719570550458,
          3.7942948398922427,
          -2.130168384050113,
          -1.9928690272460914,
          -1.3074336800159014,
          -0.3133335329027265,
          -1.044588092874188,
          2.272007358119321,
          2.13106817101818,
          -0.4963226511536467,
          0.19710983623524303,
          -2.14800129617142,
          -1.539211859480183,
          -0.5048923317257148,
          0.045574511951573804,
          0.6477594334045822,
          -2.28511132227891,
          0.3787595357281681,
          -2.919381959563072,
          -3.968597822949238,
          9.771994995101396,
          -1.6799134171198493,
          0.4597024563578467,
          -0.6107396011214017,
          4.8538634022140315,
          -2.043062906703208,
          -0.9352076060784698,
          -0.8590434388528356,
          0.05974905249976903,
          0.5428932859795177,
          0.8314975046961548,
          1.1787505292093936,
          -2.077356842226008,
          -0.6253084916720497,
          -0.019446803921974176,
          -3.19584590506764,
          4.832002688987447,
          0.6990094897371346,
          -0.019109414546947256,
          5.2340778271195765,
          5.336225430643382,
          -1.2473417652011376,
          -2.647266507414947,
          4.439251855585669,
          -2.0588853595515433,
          1.988438564499928,
          -0.743485963292434,
          8.522417094899314,
          0.21562338733220887,
          -1.132890859963287,
          2.082916759207154,
          0.04867898162956852,
          -2.4309472496035656,
          -0.6803685378068303,
          1.0840217318682122,
          -0.680606799991279,
          -2.8790341356649263,
          0.19178627361471356,
          -0.9894456138014207,
          2.9593068320749705,
          3.2993975655460916,
          4.971884469641719,
          -0.4711184147639713,
          2.5106605613973487,
          -2.121440420011711,
          0.5926467979729733,
          -0.2649469276101324,
          -0.31594145786217886,
          -1.3852683480677697,
          4.490483892129338,
          1.5893430137044362,
          0.5624825228284669,
          0.9312075346030291,
          2.6052556213079336,
          -2.544824910571153,
          3.4054642765890764,
          0.9970913930757552,
          -1.0420982098883202,
          0.967560049550098,
          -4.128047770245635,
          0.5006751288824329,
          -2.2131516474874657,
          4.218727411772583,
          -5.086021857521739,
          -0.10646320720663072,
          0.674869663142541,
          -0.14892716138805717,
          2.982936288639859,
          -2.7723251933291504,
          -3.3669674735429256,
          -5.817716798779515,
          -0.2327044438207082,
          -0.7270535980796744,
          -1.8852364863241156,
          0.173192434740832,
          3.945864362533391,
          -1.6748214973287157,
          0.022022135717469915,
          3.199390616602371,
          1.0728635253292929,
          -2.5574329931885242,
          -9.669926798567207,
          -1.492700842820982,
          -0.18431847557141,
          0.3641265870239385,
          -35.19026936118513,
          7.774252869820719,
          -5.928939729625993,
          3.523927519599779,
          -6.769850269600819,
          7.092187336240996,
          -0.24371894351701284,
          14.767083224037414,
          0.41170306552067437,
          -0.8043221933576206,
          -4.655615479585573,
          10.183207484098467,
          4.2411951494724764,
          -0.5092463446224493,
          1.0403598336089948,
          -5.435405755119016,
          -2.2324133588876083,
          -5.430267342151895,
          8.246429037069491,
          0.2899229868647213,
          3.411745608070871,
          2.516254220907199,
          -1.102322777485354,
          1.8799300056131507,
          -1.0405631945789584,
          7.507125247474833,
          -1.3820004444163203,
          2.0218674765035693,
          -0.6510600317072068,
          -5.892045700157366,
          0.2052087836101002,
          0.49976258608610546,
          -0.8045562335184719,
          0.038497752148036746,
          -3.3635684037811475,
          6.493686091639139,
          -0.3493623018724801,
          2.945866694311783,
          -1.5878330170760457,
          -3.8029493776754464,
          -0.2102788982352055,
          3.916328294900473,
          3.8368218509687413,
          1.5251740253842572,
          0.5758750261390722,
          1.9275534370279956,
          1.1766749018498723,
          -0.20646665739703085,
          12.711662317206862,
          -1.5300537471757858,
          2.487419218427811,
          1.6033032580028639,
          -0.8658537107331554,
          -0.04797228598039105,
          1.3375426538044577,
          1.5710618992485381,
          8.906585572628089,
          -1.3791827069027374,
          -2.5966099317531244,
          -8.510285998391842,
          -1.6893861029636636,
          2.135043138102355,
          5.62804954888203,
          5.530580171999877,
          -4.973198997597605,
          0.7089875922754452,
          3.1042225286742386,
          0.43566356225150926,
          0.5331348715335027,
          -2.3943297227945526,
          -4.897336002509856,
          0.7925503903112308,
          0.4226321944214462,
          -4.781845933859219,
          1.738958750176245,
          -0.5016057259138118,
          3.789828587047128,
          4.054090520481646,
          -1.245806548496231,
          2.4990186803985903,
          -2.0257689067694207,
          7.404370357489154,
          -6.419072418550609,
          1.3660607403807923,
          1.3579266783757094,
          -1.4242489119280388,
          0.2686860493534393,
          0.7838741112481173,
          0.3535019859128852,
          -0.06164103394518117,
          1.1046719201916133,
          -5.558556531212478,
          1.53910025405819,
          -0.0006319355382422565,
          -1.3043232975243901,
          0.9175980439723785,
          0.9882329203966922,
          -0.6463588127716413,
          -0.6720043164197054,
          -0.9254177323978152,
          0.5097066952217233,
          -0.6611698674064082,
          4.090208874915802,
          -0.5579159476400641,
          -3.4974915242690696,
          -0.3164773683996591,
          -0.9956163126771389,
          -1.6645505130404636,
          1.3978148619111952,
          0.49522695136940964,
          -0.3858889627777806,
          0.8847372834001943,
          -1.4771937695628234,
          -0.2521687629805869,
          0.6782131555493898,
          -0.4982099360934744,
          2.805741739907397,
          -0.9499243843832161,
          1.9294213910930447,
          -2.0828310066851485,
          0.511030603713003,
          -0.5235313611443582,
          0.6840243524839584,
          -0.6100267854220465,
          0.06815645598172715,
          -0.4724664649728205,
          -0.7267777823249277,
          0.21663922470123165,
          0.1324354210859635,
          0.3731631770442556,
          -0.42874966869567155,
          2.4142337977910877,
          1.3844839953045307,
          0.7936757536404659,
          -0.561834700929531,
          1.6347246612925748,
          2.4136450586574876,
          10.442605725492427,
          -0.5230852236029926,
          1.730372837404226,
          0.20457649637453112,
          1.8823190157265746,
          4.29597427394981,
          -6.313766613083438,
          1.4874115949844446,
          -0.43620921611432495,
          4.8054907893082754,
          0.41695639140284513,
          -1.6709519633357206,
          1.4487594509114077,
          -0.4794182570134531,
          1.5414605246252266,
          -3.913591652496251,
          1.5896317187983788,
          2.0492123761085557,
          -0.3365673539173386,
          0.743071918646665,
          0.31075407370215746,
          3.114571343381334,
          -2.630725092894981,
          -1.8103685575860728,
          1.0956664947356476,
          -2.9229224015323463,
          1.400427838802143,
          -0.24371569970836893,
          0.9521006507172913,
          -3.4703683307436783,
          1.0065331001039235,
          -1.4357101038733,
          1.935507203447151,
          -0.32673129640198306,
          1.9119673637859824,
          -0.24510634893384342,
          1.9096560239241667,
          -4.009765049269253,
          -10.691607081264143,
          2.81453003478207,
          -2.9250945707456566,
          0.8079161780929711,
          0.9690771680307853,
          -2.262961539058239,
          1.0384156838013858,
          1.094848466484355,
          0.3487052559795423,
          0.5893265871883324,
          -1.0586697372143017,
          3.2165212234779084,
          1.1864068210434286,
          1.5264754268763392,
          -0.13014286732293545,
          -0.09915972061086409,
          1.4353975780600603,
          -1.4495824320879036,
          -4.429091924882389,
          0.8435764953957481,
          -2.88578679911744,
          4.9174158188150185,
          -0.4151970382065273,
          0.5729176829329274,
          0.20578278868281785,
          -0.8664131318419699,
          1.5506709110430394,
          -0.614857089395493,
          -1.326774280517451,
          -0.5203363332700772,
          -0.24609276287838044,
          1.176150553803379,
          1.0706756170835385,
          -1.6596425731634667,
          0.5850788840734422,
          2.0683849671283117,
          1.6033720811665653,
          2.018299393243317,
          0.8086882162986475,
          1.4534327180206974,
          -1.0142627803337856,
          0.08285319370324729,
          0.5247884046185147,
          -1.5352607990090084,
          0.4127214574262794,
          1.1445360901036317,
          2.2290285125287745,
          1.3321996494727761,
          7.538405794171199,
          1.1291848598347975,
          -0.17737383629634618,
          1.376645479940919,
          -0.6457720124825483,
          0.30243550746853476,
          4.550973586801854,
          -2.7256024451907557,
          1.1961089778988576,
          0.7089468597816229,
          1.7837058309573273,
          -0.42294582916115875,
          -1.180724502292796,
          3.1833828390592345,
          0.7987125193956279,
          10.29389362994555,
          -0.0322731882452576,
          -4.694099443285193,
          4.5744111583196245,
          -1.038788505727617,
          -0.3692942592850468,
          2.6716675393603007,
          3.686152430430356,
          0.37912730856932697,
          -1.4164021961283413,
          -0.6889335696726118,
          4.565185933219018,
          5.608435527410616,
          1.0090434093930511,
          -0.0570811245275582,
          4.54021925495911,
          0.32592074006956295,
          -1.5993812232425686,
          -0.16268378485876367,
          3.9804100498072037,
          -1.7716514240779802,
          -8.613206014343133,
          0.013105591437989617,
          3.376242571670174,
          2.545189167641082,
          7.9227895302986795,
          -3.8354024639252193,
          1.8612348338538531,
          1.1807681887238797,
          -3.7250870428499505,
          2.2867823453997183,
          0.9741441896123693,
          -0.6558550604963909,
          -4.491382903983753,
          1.245994015805807,
          -1.631717166926172,
          -1.117240131348296,
          4.148116787979461,
          1.829304381185115,
          0.5683007894979886,
          0.895079177749869,
          9.701855263916471,
          6.980097815859065,
          1.380862485418688,
          3.2148181140009724,
          -1.4479488894995285,
          -2.8799963553819197,
          4.175832676915059,
          -2.0452628617609325,
          1.9399234089541029,
          3.833373999277101,
          7.3163412178262055,
          -0.19980769411324095,
          2.6573411382805556,
          1.1028593461554825,
          5.151406835647077,
          0.6419808372734703,
          1.1360472864595295,
          9.57919732125676,
          2.625313593304668,
          -4.522055282913517,
          8.144004999626953,
          8.365990406142876,
          7.076400880094824,
          3.2085242259999536,
          -1.2726218551487478,
          -4.711653994394394,
          -7.1045280705501535,
          -4.854430441169278,
          10.364891961763401,
          4.7435441036287385,
          -6.232621359707924,
          -1.4483393271750522,
          -1.2424569262195373,
          2.209795140976123,
          -1.3406057680110606,
          -1.4329777202814808,
          -13.133248710118261,
          6.61264529500436,
          -2.6998721736739117,
          0.6406056386295322,
          0.31543730281120563,
          0.6387253674635218,
          -6.557536072098014,
          8.811874938156805,
          3.0863937233140293,
          0.1426057844250872,
          -3.3179794618171776,
          1.0319243627137986,
          6.226414946672509,
          5.6606337344713875,
          -1.8088135757159396,
          3.235842313984283,
          3.3455752809860684,
          -1.135639694797519,
          19.246950702977884,
          0.5657621099263821,
          -3.6952704771388123,
          6.616175584644424,
          -0.8402539356822225,
          -0.9973685230850404,
          3.5503548424144826,
          -1.459408587230493,
          2.7968521809861535,
          5.900998941936186,
          -0.7874459851812454,
          8.322822826663923,
          0.6047705444668594,
          2.2911037042981697,
          -5.650228168406734,
          -10.510699246958932,
          2.3771592497671135,
          -5.730689804477418,
          -0.938823046253312,
          0.21919583706544454,
          -3.6082222917898643,
          10.71193904785439,
          -2.520928353876206,
          4.214148810392593,
          -3.6577684227784957,
          0.7477585479017002,
          -0.14757305293682244,
          4.679219854873895,
          1.9789165698379296,
          4.532398021998518,
          2.413542377944089,
          3.156667240316069,
          -0.7527516035529702,
          6.906834795648686,
          -3.076285212040486,
          -6.097427677449563,
          1.8366061084677199,
          3.8442065075686704,
          -1.8512537764319936,
          0.5539497036659125,
          0.22816002786092415,
          -1.3749091197684415,
          -5.564017469379367,
          0.3949454585630008,
          -3.770281676857401,
          -2.1131248901280153,
          7.033079768269035,
          1.4524306684397414,
          -0.18683908980438035,
          3.421662179826357,
          1.7935298363346286,
          0.2535350763682276,
          -0.027507254185410446,
          0.4401814285357686,
          -3.3857419942641576,
          2.047647462145896,
          0.820921860163959,
          -1.0980613788445504,
          -3.3201670657669102,
          3.4403610583138677,
          0.15043187549799164,
          3.1406802145909074,
          0.014385178652998043,
          -0.12835956654702052,
          6.118499417645085,
          -1.2104325931705406,
          0.593323168315929,
          -2.6629929350873383,
          -1.9894091302535832,
          -6.611358382387444,
          -1.0086870235117562,
          1.0293440473748916,
          -3.7386418757886286,
          -4.1050026721860755,
          -1.4902978785255483,
          -2.0667983098967557,
          -2.297216476217856,
          10.202566547512127,
          1.8766797172715677,
          -0.32950538632057214,
          -2.2147349623186208,
          7.895649310766273,
          -0.026877148069859302,
          -2.0968026550347907,
          1.0592705242362443,
          -6.531312003080602,
          7.421260161288568,
          -1.6094497390189644,
          1.5109599316671218,
          2.45863680115892,
          -0.9493577195854197,
          -3.9720026570882916,
          1.8376996720220973,
          -12.162893315712164,
          -0.06392748084139699,
          -0.11912932608563187,
          -6.275608209112427,
          -0.4186284565958931,
          -6.019608622655859,
          -1.5755393847344368,
          -13.468344811771171,
          8.448804207910165,
          -7.661399112993683,
          0.48389192340183573,
          -6.777101130926955,
          10.477911749873737,
          -1.1170025859763788,
          3.1303423722972123,
          -1.9388432630688457,
          -7.589168916413536,
          -2.618694308050229,
          2.702143668847534,
          4.552536847638744,
          -1.7691458139646121,
          2.7416791441407407,
          3.8890016710358744,
          -5.651395886721122,
          -3.7676842479272388,
          0.8087563594138869,
          -6.650274916019905,
          0.3161820683443173,
          11.909512560137369,
          -1.7317596553928505,
          1.0463225889895789,
          -4.3531977655250635,
          9.761513147962342,
          3.7723982766155517,
          -0.6063100451889292,
          -5.093708395277852,
          -0.33358732275655667,
          -6.054696628707179,
          -0.8346149051624119,
          0.577362719670238,
          -11.387188429389584,
          2.5094754626683757,
          3.6756758058622774,
          2.886515574380266,
          -7.879674836056793,
          0.2530666767590395,
          8.066829495402782,
          -0.14578183488352936,
          4.086460029645922,
          -2.217207883217631,
          -4.247531810224981,
          0.8112828502641056,
          2.2948046330617755,
          1.9128257566860318,
          -4.142142820468719,
          0.6538986051361384,
          -0.6375848942846263,
          -2.943147897679954,
          3.15094686701205,
          -0.7852489984866207,
          1.7665263168178402,
          -3.0241560890626906,
          -1.7625489092782165,
          0.6185447993340976,
          -3.5052176163416715,
          -1.028762862380539,
          0.601975510875663,
          1.0469657551051448,
          -3.105265770741761,
          -3.0920252617758326,
          8.047127605805994,
          0.07941827455497652,
          3.2276076862088443,
          2.265838196102532,
          3.6316690761958537,
          5.14944441581926,
          4.813796527363312,
          2.442906051174698,
          -0.13349913958108361,
          4.898985559461999,
          -0.43421818708627713,
          -4.4051576056917785,
          -1.5935512044842115,
          -2.3178235394354485,
          3.605133967143326,
          2.7012693376347263,
          4.841976095104594,
          4.311561408080289,
          -2.003154008280894,
          5.84593353558629,
          -1.4499532554713257,
          0.027489570018168763,
          -2.5340594238690506,
          7.241365417434253,
          -1.3169600570215878,
          -0.13559452004373584,
          -2.1121650574411066,
          -3.252760201447602,
          1.0800866282972832,
          3.8421663663875005,
          5.243003879864427,
          -0.5329500316606062,
          0.6475206016586466,
          0.5442226454509091,
          -3.186621371204612,
          2.215440933078372,
          -3.619459701364447,
          3.9256174839673363,
          -0.2986079564013089,
          -0.059805055122730266,
          -3.6457084595312605,
          0.4481048623173223,
          3.142752089323819,
          1.056323574937279,
          1.2074550045339416,
          0.15720919645705322,
          3.3654759292878866,
          2.0187046730675062,
          -10.89241138052608,
          -1.9366578907289655,
          0.9415477951377538,
          -3.689539659169372,
          0.879149466266993,
          2.2097513796597523,
          -2.284618129140281,
          4.420924605696541,
          2.229958901231255,
          -0.6372305695335756,
          -1.3592781560245792,
          2.197752160998956,
          -1.8555009843039039,
          -9.368789030090808,
          -5.930929886151337,
          7.924899699956134,
          3.1974396776981884,
          -4.954836716821898,
          0.24486947501465295,
          1.1200216795629547,
          -2.514038795686102,
          -2.9279478189722097,
          1.4076746705318444,
          5.462336316714178,
          9.85548686007547,
          -0.8387266848030372,
          1.0574147849576887,
          2.0240286782506223,
          4.889871179498462,
          7.250018263191826,
          -2.7436787692232234,
          0.21586854317416915,
          2.0635132735442596,
          -0.7502717229098121,
          5.228556947593477,
          -2.1494205771029007,
          2.046595711684307,
          -0.06184613157379504,
          7.5829551924546434,
          -1.0409294001069824,
          0.6836171865272744,
          0.7050530590506421,
          4.030566826685744,
          2.6657341490993636,
          -5.580569372262511,
          -2.4173164798613422,
          0.8895231650529967,
          -0.6479781938479978,
          3.35939359750157,
          -4.150085506325352,
          -3.2393592749542788,
          3.6263950553575564,
          2.4941635097122328,
          -0.7159893306932563,
          -0.5908873677866078,
          -0.5694267482849735,
          3.477280896937862,
          -0.1838288384141462,
          -2.4222650933138135,
          -0.5752412339716018,
          0.6759043213572458,
          2.419459385310141,
          7.068182162969716,
          -0.6975176376694314,
          -3.104190765803294,
          -0.08516500063071586,
          -0.8823806160427772,
          0.3543072315732809,
          1.528978210577936,
          -2.6125956659382332,
          -5.4513746999305335,
          0.256570790691657,
          -5.967187089751369,
          2.5829133879631705,
          2.7774150344410886,
          -1.569718182259272,
          -4.6549420033564655,
          2.4153435687739977,
          -0.953455989697094,
          2.9715333991548354,
          -8.608216391045321,
          1.310867453104403,
          4.958900530936705,
          1.067675352030517,
          -1.447728295138373,
          0.2772986648486908,
          -1.1563953157635254,
          -4.817526665373872,
          -8.596994171332117,
          0.21658842416134583,
          2.4216440020385255,
          0.36876883657550596,
          -0.23141312724298535,
          -5.233647539461739,
          -1.2160326481506667,
          4.09850337209372,
          1.6424415318371688,
          -6.702700041420573,
          3.6710826860398615,
          1.0871551072966668,
          -2.5386426808561735,
          -2.863712300811039,
          1.3843702404730207,
          -0.34704755441260504,
          0.6622070755288201,
          4.304621901072125,
          -0.7921861702355093,
          4.398892230653018,
          -0.023366933269819423,
          -0.44260089478739273,
          0.3737862674686232,
          -0.15494201190555668,
          -6.004875913326712,
          -2.5524350337429724,
          1.472625241317993,
          -1.8482364262034423,
          3.2306516849863742,
          -0.8969064999717391,
          -1.8065449896845442,
          -1.2746659072568889,
          -4.9868857008413485,
          -0.9867513817594764,
          -3.908838636957479,
          0.552566264219001,
          0.25313005348310824,
          0.017911244764867718,
          2.1670767118787015,
          2.8161403652869454,
          -3.122802842195538,
          1.2026839278598933,
          0.24534708304879693,
          -0.24720427343304374,
          -1.9050440305514837,
          0.22960161589495875,
          -1.5235295925520642,
          -2.4955214630225875,
          -10.314717948676133,
          -3.6384771196187993,
          3.2005686195213823,
          1.2879205324396237,
          0.5844382625913136,
          -0.32033462040456095,
          1.1022363427287907,
          1.5444964666576189,
          1.0028370956264965,
          -0.6513550653628686,
          1.5069391011803157,
          0.7266414171813729,
          -4.724294099185611,
          0.27126062164060105,
          12.32431640386633,
          -0.4322843907005658,
          2.3662710374420914,
          3.379325269662159,
          0.6228916702915033,
          0.45138177565349213,
          -1.7027542114408045,
          -2.7109814378795005,
          -0.44916691832693756,
          -0.01633466511935522,
          0.9154026985503938,
          4.549703715059494,
          -1.1464865457421203,
          -7.943791010243373,
          -1.2067444344367795,
          0.2976125690637321,
          -4.176748802277974,
          -3.7753253665336772,
          3.4463711900186267,
          -2.5169054548831005,
          2.651838399905304,
          2.48366396382107,
          -0.574725278986643,
          -3.2913925287566648,
          14.342062470719586,
          2.85523515515389,
          -1.0771224568641102,
          -3.384959172662305,
          -7.746588373252495,
          0.6705231278573809,
          -2.5850829141349174,
          -0.9533543221325713,
          1.7240116528726368,
          8.398788431552063,
          -5.996469317215136,
          -1.7562910554084321,
          0.3314439139190606,
          -2.701975856472316,
          4.799940464131991,
          -0.8509759884836487,
          4.662350441432284,
          -0.3982095336052871,
          2.03821637818713,
          0.8712937903458728,
          -2.1768689339140668,
          -0.5363992876390222,
          3.263566587273825,
          0.943965138917302,
          2.6492627113029465,
          0.900584613642752,
          0.4039230295041163,
          4.952216565725176,
          0.598867163584127,
          0.9881547264162016,
          -0.8341794146226711,
          -3.261472419373057,
          1.6292982757344143,
          -0.9251222950191429,
          1.2923003985706893,
          0.40502745874786417,
          -2.1173863654968983,
          -5.3394430820044025,
          0.7323704236066764,
          -2.756374710146847,
          1.135955788109011,
          -1.2185373970329705,
          -6.318032083616476,
          1.5193245904238317,
          2.485944347915181,
          -3.023192693375132,
          1.5694413446848188,
          -0.33562311939724365,
          -1.7583519893521249,
          2.7540084664565256,
          1.6275456763842344,
          -0.2431482762823678,
          -2.0983993140235246,
          -1.9040717108970595,
          -0.4906545856964706,
          -0.23439372123182922,
          2.583867762733405,
          -5.8155784700275825,
          2.894340040137622,
          1.2840052477316455,
          -2.7457674879987404,
          -2.14728734736076,
          1.8959053487899835,
          0.06204485579888175,
          -2.0825640322940653,
          5.1393146802857,
          -7.775492136137007,
          -1.3542886077427818,
          -1.503705191920357,
          -4.225072091560644,
          -11.155533940837026,
          2.502006098788434,
          -6.8116479497290605,
          0.7353924595037808,
          0.6338400325837767,
          2.997551573524415,
          3.742964203610488,
          -4.456363045998025,
          1.9335445982837651,
          -5.671699616050063,
          5.596394134055704,
          -3.7047522135231548,
          0.8021877514164943,
          2.914542284172228,
          -3.9138106427056507,
          1.6865738310585021,
          -0.2363048997334416,
          -0.8050323246984403,
          -2.3857105484380914,
          1.5414864818419582,
          1.3897946779694026,
          7.6237594816071175,
          0.3932110805627609,
          -6.377691769778915,
          2.170595954049359,
          -2.5158956620546236,
          0.5324630058160418,
          0.15199248828374756,
          4.862732081075638,
          -0.34143022033863435,
          -3.314303176962974,
          -0.4235942686646288,
          -3.3217601832910004,
          -2.4986969853889707,
          -5.663169143084956,
          -15.84584813408394,
          -1.247102331961103,
          1.2782696212391587,
          -9.412264090656276,
          0.315367564778235,
          -6.963470767227376,
          7.712300768202307,
          0.586588594291082,
          0.3109258624627742,
          -3.4653402548429857,
          5.588111869848711,
          0.7698619275380958,
          1.2376918847456064,
          -2.197703213133795,
          -1.431295551118994,
          -2.2597670494801103,
          -0.8579447402009,
          -2.48716337085203,
          -1.0248163483426276,
          -0.7173556857315466,
          0.2180076861763025,
          4.902991586672911,
          -0.33683478843167247,
          1.8718692565211859,
          5.3188420740939435,
          0.9151267328104895,
          -1.231496774122487,
          -3.3803918176788517,
          -4.129213409025834,
          -3.2389005732566534,
          4.519214428028495,
          1.7285429011283826,
          1.06912803993795,
          1.915243870861616,
          -1.7398157018625016,
          7.544061012516279,
          4.338140049087436,
          -0.22943115392649593,
          -0.6781073416121886,
          -1.9792731283653442,
          -0.8402167587602816,
          0.4777334097110453,
          -5.675420949739851,
          -0.44389040424146486,
          7.879555905790525,
          3.986153699026773,
          0.10710959831976563,
          -0.8140186228231872,
          -1.157374141266243,
          -0.19654350032978218,
          -1.199560314593373,
          -0.8390177326116466,
          -0.7963866922370166,
          2.410546796472568,
          -1.03533388884135,
          0.9268124212816753,
          2.6988821226757276,
          -2.6024474815890652,
          3.211339038092209,
          -0.000325066367157234,
          1.9317423035876358,
          0.09124382086662663,
          -0.4956783115818708,
          -0.5492094398887093,
          -1.0988079146367125,
          -2.3163432372660275,
          -0.47533121286887914,
          -9.904130280808099,
          1.0951999682215607,
          2.0803972545773153,
          -1.05485331434082,
          0.816843514195642,
          -0.774462355750849,
          1.0401765857520173,
          -6.229463898715326,
          -0.9933718711381267,
          -2.0463755875107292,
          3.3043724991414836,
          -2.479266256876711,
          1.1017413898510187,
          0.6513405670746764,
          -1.0545046206640318,
          -0.6362983444783255,
          0.834986705137708,
          -0.9723703294193253,
          -4.681319568405251,
          2.2329615674786307,
          0.2186250283543023,
          10.540952251410985,
          1.628331421377438,
          0.14933653691502347,
          2.759298622692863,
          -9.645187069674021,
          0.35152638446938056,
          -2.733783541277779,
          0.3159135393723478,
          1.8582065533802483,
          -3.449874027792743,
          0.6854337575779468,
          -3.5791725045071,
          -1.750369990339229,
          4.987624692448067,
          -0.8858148515029529,
          -1.824258545521984,
          -0.6893312775329785,
          2.1814416822528493,
          -0.5379713028511035,
          1.7181989990192381,
          0.6118729184031224,
          -0.4438745050083681,
          -0.8341293477994172,
          -1.290794299005471,
          2.913240098593728,
          3.694240622269862,
          -0.9022576035567997,
          -1.0553584028644147,
          -2.464989884212554,
          -0.20183141515399683,
          0.1550672242496276,
          -1.5706082585911552,
          -0.4391582725218779,
          0.49537532319670063,
          1.2055707227381696,
          -0.9587114088559057,
          -0.6528072306640209,
          1.0493558308026563,
          1.478622200345714,
          -1.0730509299105906,
          -1.1049533793337951,
          -0.5387346356653722,
          0.7467784299818758,
          0.1595188802885783,
          1.9316879782376395,
          -1.3174249017224526,
          4.028648339937102,
          3.379398463647787,
          -2.3869998875249543,
          1.5429003129053154,
          1.0172571799300645,
          -0.8501422088104005,
          -0.6267993243771142,
          -0.024177131458147372,
          -1.5942944797545877,
          0.237720367415184,
          4.647999790478252,
          0.6272697207941436,
          -1.7666092445890458,
          -1.4791358901680374,
          -9.881668173474722,
          -15.191548433826018,
          11.76741759273725,
          -2.9253224073697015,
          -1.652366634082103,
          -2.7005923598867443,
          1.8445904916425837,
          1.4700432818766318,
          -1.1908013452738175,
          0.17355028333978506,
          -0.06782033785414088,
          0.03415777235582507,
          -2.4451581624685637,
          -3.0037982469358626,
          2.2593026587236276,
          2.6984356845784374,
          -0.07209910748718906,
          -0.43134849667485486,
          -0.41328425045998873,
          0.018190647000571047,
          -1.439556851918511,
          1.3547429099700636,
          4.52818087982243,
          -1.2438162470531644,
          0.6607025084738316,
          -0.945224861619598,
          1.338673731025164,
          -1.029503650354191,
          0.6614511240175647,
          -1.371558978975651,
          2.2770386283444743,
          -0.494284212858076,
          -0.14262114844755258,
          -0.1420519098935369,
          0.4593757313439806,
          3.5190982052508923,
          0.1380626052056355,
          -2.6411676252570238,
          -4.121499251942784,
          1.099196510369227,
          -0.3788354672885186,
          -1.9127868206699983,
          2.9031383034741065,
          -0.4880563800264692,
          0.04719349643249604,
          -0.1981286123318604,
          0.3401329287114674,
          -0.037935972654834504,
          0.3438084749696202,
          -1.1730218987833552,
          -0.9755458956066887,
          0.6377265366672491,
          -0.2424756517108051,
          -0.38139494900579773,
          0.4550939334445836,
          0.35130793257425186,
          0.019812772479976815,
          1.0644700753237757,
          -0.13690602813015706,
          0.7612423980209115,
          -0.055250073151857926,
          0.7300742426176177,
          0.7045191410668394,
          1.4073525814612298,
          3.2111794478777433,
          4.834060517469041,
          5.6976785892356,
          5.402857926287563,
          -0.7896399116305242,
          1.544639167833406,
          -0.08761987973390228,
          -2.0321565089452043,
          1.7119154087430033,
          7.704145724426104,
          0.2871051071923647,
          -0.1509016861427459,
          1.091688629323917,
          -1.630917629739781,
          2.5228298638877433,
          -0.6715861875609797,
          0.252390192923313,
          -0.2626424759269219,
          3.3673010946373205,
          -4.0217527420750905,
          1.3000555118770185,
          2.540649270343076,
          -0.7818072118516706,
          -0.37425798273249544,
          -0.4742881988224035,
          -1.6883337822508393,
          -0.6964245463255248,
          2.2312817727178302,
          -1.4913376586343619,
          -4.909558497124056,
          -0.8741786381856187,
          1.1987864370420764,
          -0.5005048820124869,
          0.1283748030886711,
          1.8903148178992524,
          9.396028052238048,
          -2.2666227210340617,
          3.6701632087936975,
          0.056707207182071784,
          -1.454027138822167,
          2.0679379521939323,
          -1.489828867736931,
          -1.1110348185939478,
          -0.807543948267686,
          -3.251725762228841,
          -0.0658046003979007,
          1.6585788961944736,
          -0.09766719793484757,
          -1.5417052860807856,
          2.0677110739998117,
          -0.7192796333740259,
          -4.67476895170944,
          -0.08540589821967037,
          0.329133723833519,
          -0.030203285384111656,
          -0.8829032847839535,
          -2.2710263512224382,
          -6.15462006251255,
          -0.8887328874374045,
          1.6158628470188896,
          7.67074989315657,
          9.428262813165912,
          2.3979934202618125,
          -1.1627519804775943,
          2.8212712624479552,
          9.16251694550474,
          -1.3066219677128732,
          3.9805914902666384,
          -0.9141673737560585,
          1.1997202372216131,
          -2.883448452692783,
          3.681266719164422,
          -3.036712610741954,
          0.2707135740906974,
          1.3670681342889068,
          -3.0881200266800968,
          0.4011818825656155,
          4.043947105211432,
          -1.2462571853326332,
          1.6963002809902372,
          -0.06255998636987004,
          -0.9208617985260292,
          -1.4912686677553522,
          1.2938999966910059,
          0.07762112021665324,
          -0.5469229316769075,
          -0.3870653565759552,
          0.1206014359281804,
          1.3698054662450998,
          4.609100983166647,
          2.0330517848332397,
          -1.1790693235653404,
          1.674980922124658,
          0.20845693430109336,
          -0.5128158233236091,
          -0.024262092893923004,
          -2.7630853128400634,
          3.0489371784565344,
          -5.047393477447038,
          -2.0033811784337274,
          -3.3813539816491267,
          2.0567044076625463,
          -0.9154605032206997,
          -0.3439131945154883,
          3.0517362759208355,
          0.003432206034847951,
          3.990274937137972,
          -0.48680313321664004,
          -0.41598831475475606,
          0.4932317160461386,
          -4.211404845055622,
          1.8804606352192943,
          1.165374176064482,
          -0.48936789978134554,
          2.3360258981135917,
          -2.142866929715226,
          -0.9564674768905657,
          -3.1968975963476587,
          -0.3226698796955474,
          0.11714936851203728,
          -2.224941261351332,
          -0.8772521314566517,
          0.038957727979282986,
          0.42420503802236276,
          1.174161845097066,
          -0.7532018678668706,
          1.3590727739192676,
          -1.9971507326897564,
          0.15429958712691594,
          0.7789657472113465,
          -1.1809379375294915,
          0.35802041491121983,
          1.3146849744600564,
          -3.2472204426777784,
          0.5188474141871957,
          0.9154828547460747,
          0.4875082217907112,
          4.7007682099699855,
          -1.24711097260638,
          -0.16512440457804312,
          -1.690249073119432,
          -1.5465796574820834,
          1.5793206790090553,
          -0.6656286076885398,
          0.920242525081072,
          -5.574982772575332,
          5.520957895401457,
          -3.197939940368777,
          0.6136181829951903,
          -0.1445915892721139,
          -2.310043275790985,
          0.22606824338304854,
          -0.023989096883947347,
          -0.14726263967415054,
          -2.954721948945438,
          1.8195372009170763,
          2.9835242777890514,
          0.6598420780023595,
          -0.6337558239842278,
          1.6948063785357403,
          5.793649912694598,
          6.250680126651709,
          -0.5519035635796699,
          2.317012195075052,
          -0.29849802249855006,
          -0.27198961579779635,
          -0.5557486815181756,
          1.3473154604290105,
          -1.9876136296760771,
          1.2735669101882952,
          0.04651329714207009,
          0.3373867491356375,
          -0.0383621264574141,
          1.8409922138447055,
          -1.1533400342996436,
          -0.9450019526503706,
          -1.6229029688183627,
          1.084393641464021,
          -0.1684565726759124,
          -0.3116774804957867,
          0.7438231719455235,
          0.7453148818078015,
          -0.6969048272096767,
          3.4156096853951157,
          -3.6067754975772304,
          -0.04571287516114131,
          -0.20013424060193463,
          -0.2959080440466777,
          -0.9945243407607274,
          0.2406944789324017,
          -0.4439634477669485,
          0.4285125055914829,
          -0.6837003561910748,
          1.1706461032117366,
          -2.9045713713245047,
          0.13045347021982678,
          0.4814645989145827,
          -0.5565683393881304,
          0.3899055973710652,
          0.14549436148452166,
          -0.2690759082975669,
          -0.15240049470124362,
          1.0398247302157104,
          -1.3219759124347585,
          0.10126151596883126,
          -0.3023445820440229,
          -0.14142504313228166,
          -0.008937581436829767,
          0.4611707539427412,
          2.06117922389093,
          -0.6517006395666214,
          -0.5464475048670536,
          -0.09166364377836134,
          0.05202701724509318,
          -0.4323811562348845,
          0.39480010250099173,
          -0.78262521990764,
          -1.427104482240682,
          -7.8340207154415475,
          -1.7310246680636854,
          0.23784033574991703,
          0.21422050656403346,
          -0.15937822976407334,
          -0.3266990793778568,
          1.599210297914233,
          -1.191207059964161,
          -0.3478028463422045,
          -0.16134400840210894,
          0.3103661722864137,
          0.10180168549442925,
          6.2094188099086844,
          -1.5623311468028644,
          -5.01824857335349,
          -0.44387958633987923,
          0.16010312730605492,
          0.4097658962912698,
          -0.5016701221375208,
          -0.17403158577881106,
          -0.1219926961564477,
          1.7061147203344174,
          -1.0885066676825539,
          -0.06910475984533981,
          -0.2114574670447067,
          -2.714489607808257,
          2.9184526740534844,
          1.3787144936247886,
          1.1743674235282553,
          0.3891067790968261,
          -0.28858043099525554,
          -0.13849219652946054,
          0.8313146329503418,
          1.7868723092681726,
          -0.38006282138686176,
          -2.045715201466869,
          0.041054939815299285,
          0.0070953088716185775,
          -1.220597260063272,
          0.18694322883394676,
          -0.3569656318424541,
          0.5548202615044628,
          2.5004295342700322,
          -0.339940769160596,
          0.19570031129796384,
          3.6990693975945454,
          -1.2601968737803504,
          -0.6371266521452701,
          1.2864454308333606,
          -1.281790572009589,
          1.9037914028344538,
          0.06919993352529907,
          -0.10522667567751665,
          -1.2677823215625605,
          -0.7303631948814227,
          -2.0080764076371382,
          -0.421177375720605,
          0.41901470282001974,
          0.08214014583538543,
          1.0687989812853127,
          5.020250537221238,
          -0.3352405631050659,
          -0.3148618117483126,
          1.3679031001138098,
          3.348840995885727,
          0.8177322215843219,
          0.3319042813093587,
          9.77329382224621,
          2.711299038841286,
          1.8473332000638942,
          -0.8631196313611311,
          -0.8057437177767968,
          0.5709234641647409,
          1.3598595040562822,
          -0.16650796096666642,
          0.5031648873814465,
          2.2645335630465224,
          -1.5043365717716584,
          -0.551694466723196,
          0.912795441578651,
          0.03857782743914573,
          -0.08744489593839333,
          1.1568771569670178,
          1.0117890322086653,
          2.719200994288151,
          1.5660944059204374,
          -0.5932002445932394,
          -0.148226848679478,
          -1.3988862973381533,
          -2.7468772430886634,
          6.635103820199939,
          -4.490717334696093,
          0.901189090648935,
          0.14949785116440406,
          2.273297769943028,
          0.20127191358709773,
          -4.064995004662819,
          4.169213255451187,
          -0.4578074726576231,
          1.1948939282361293,
          0.18792574562123132,
          -0.8410894413422021,
          -0.6445913196573505,
          1.4820523137240027,
          0.021454743463222847,
          -0.2605848663833066,
          2.5892158161305856,
          2.050771216061853,
          1.2122310119943025,
          5.040146322675509,
          5.078372686448307,
          -0.7202112231918023,
          -1.1833512170660976,
          2.1540420022242213,
          -1.0331711190192938,
          0.0285010984126588,
          -5.84350187980135,
          0.606434036351966,
          3.572769997174019,
          0.18129614772588454,
          -2.365940107904707,
          0.6073861886241483,
          -1.9794231625438474,
          3.0749522258775475,
          -1.0167147311065383,
          3.2755295434803378,
          0.4940523844762623,
          0.3511915102144325,
          -0.5719181787281147,
          -1.6389177992229387,
          1.4018023579590366,
          -2.5707027986871744,
          2.1216289789058873,
          -1.8835697890675074,
          -1.2345902448690937,
          0.34677423774729377,
          -0.029391391113120502,
          4.644782079333232,
          1.870086852996411,
          -4.829715853029947,
          3.2087098306943895,
          -0.18526475016918953,
          -0.35721106513364465,
          -0.16465701924750498,
          6.955745823735149,
          -1.7688686735049752,
          1.1416468254854983,
          -0.6818396622051415,
          -7.385239190093918,
          -0.10597091363595545,
          -2.4447584337507933,
          1.881305423901214,
          1.3165078101329941,
          -1.0061704828781548,
          -3.4004522573623963,
          0.8229148243696693,
          0.06049425067766734,
          -0.2022952873095507,
          -4.903890833359304,
          0.8321131341824994,
          0.7285759168398132,
          -0.4620330394059069,
          4.819057953819406,
          0.6131315923198599,
          -0.22087557607750608,
          2.9529663287386043,
          -0.8680274979929736,
          -0.7198795461504592,
          1.1407765254315194,
          0.23593544827500423,
          -0.448939784911806,
          -0.8783527510306421,
          0.11525278926629579,
          1.0301204749794568,
          2.6913148181688884,
          2.4653547875443937,
          3.981121807062027,
          1.3273424153177782,
          0.8810872817781146,
          3.860259108983266,
          -0.6353443763062905,
          4.13821666586065,
          0.32450365736982345,
          0.4007142228299676,
          -0.9238063200851854,
          0.8783448469965371,
          -0.717651457630164,
          1.0093450640148438,
          -0.8492334825902725,
          -1.0093148458770296,
          -0.9322363424427937,
          1.4004730086935258,
          0.38559728663969395,
          5.268034348845019,
          4.635498359943679,
          9.745108074601427,
          -2.0146958615591237,
          1.8408751932331047,
          -0.5747125330287872,
          1.5873570137080462,
          8.141614056136337,
          -5.712422606185763,
          2.884334113368814,
          1.2078705999432282,
          2.0470207790855177,
          0.2821508175894216,
          0.8286081720485061,
          4.42252136475183,
          -0.9196928024741036,
          2.2815978913819146,
          -2.2951935384010747,
          -2.6914978332995387,
          -6.051201803370043,
          4.798577665708992,
          -1.0470846837379089,
          -8.235878354195869,
          9.152274152104777,
          -3.3664244283092337,
          -3.0928560635419267,
          1.223066456464439,
          4.705829818930973,
          3.9042098425960514,
          0.20461550019010843
         ],
         "xaxis": "x",
         "yaxis": "y"
        }
       ],
       "layout": {
        "barmode": "relative",
        "height": 500,
        "legend": {
         "tracegroupgap": 0
        },
        "template": {
         "data": {
          "bar": [
           {
            "error_x": {
             "color": "#f2f5fa"
            },
            "error_y": {
             "color": "#f2f5fa"
            },
            "marker": {
             "line": {
              "color": "rgb(17,17,17)",
              "width": 0.5
             },
             "pattern": {
              "fillmode": "overlay",
              "size": 10,
              "solidity": 0.2
             }
            },
            "type": "bar"
           }
          ],
          "barpolar": [
           {
            "marker": {
             "line": {
              "color": "rgb(17,17,17)",
              "width": 0.5
             },
             "pattern": {
              "fillmode": "overlay",
              "size": 10,
              "solidity": 0.2
             }
            },
            "type": "barpolar"
           }
          ],
          "carpet": [
           {
            "aaxis": {
             "endlinecolor": "#A2B1C6",
             "gridcolor": "#506784",
             "linecolor": "#506784",
             "minorgridcolor": "#506784",
             "startlinecolor": "#A2B1C6"
            },
            "baxis": {
             "endlinecolor": "#A2B1C6",
             "gridcolor": "#506784",
             "linecolor": "#506784",
             "minorgridcolor": "#506784",
             "startlinecolor": "#A2B1C6"
            },
            "type": "carpet"
           }
          ],
          "choropleth": [
           {
            "colorbar": {
             "outlinewidth": 0,
             "ticks": ""
            },
            "type": "choropleth"
           }
          ],
          "contour": [
           {
            "colorbar": {
             "outlinewidth": 0,
             "ticks": ""
            },
            "colorscale": [
             [
              0,
              "#0d0887"
             ],
             [
              0.1111111111111111,
              "#46039f"
             ],
             [
              0.2222222222222222,
              "#7201a8"
             ],
             [
              0.3333333333333333,
              "#9c179e"
             ],
             [
              0.4444444444444444,
              "#bd3786"
             ],
             [
              0.5555555555555556,
              "#d8576b"
             ],
             [
              0.6666666666666666,
              "#ed7953"
             ],
             [
              0.7777777777777778,
              "#fb9f3a"
             ],
             [
              0.8888888888888888,
              "#fdca26"
             ],
             [
              1,
              "#f0f921"
             ]
            ],
            "type": "contour"
           }
          ],
          "contourcarpet": [
           {
            "colorbar": {
             "outlinewidth": 0,
             "ticks": ""
            },
            "type": "contourcarpet"
           }
          ],
          "heatmap": [
           {
            "colorbar": {
             "outlinewidth": 0,
             "ticks": ""
            },
            "colorscale": [
             [
              0,
              "#0d0887"
             ],
             [
              0.1111111111111111,
              "#46039f"
             ],
             [
              0.2222222222222222,
              "#7201a8"
             ],
             [
              0.3333333333333333,
              "#9c179e"
             ],
             [
              0.4444444444444444,
              "#bd3786"
             ],
             [
              0.5555555555555556,
              "#d8576b"
             ],
             [
              0.6666666666666666,
              "#ed7953"
             ],
             [
              0.7777777777777778,
              "#fb9f3a"
             ],
             [
              0.8888888888888888,
              "#fdca26"
             ],
             [
              1,
              "#f0f921"
             ]
            ],
            "type": "heatmap"
           }
          ],
          "heatmapgl": [
           {
            "colorbar": {
             "outlinewidth": 0,
             "ticks": ""
            },
            "colorscale": [
             [
              0,
              "#0d0887"
             ],
             [
              0.1111111111111111,
              "#46039f"
             ],
             [
              0.2222222222222222,
              "#7201a8"
             ],
             [
              0.3333333333333333,
              "#9c179e"
             ],
             [
              0.4444444444444444,
              "#bd3786"
             ],
             [
              0.5555555555555556,
              "#d8576b"
             ],
             [
              0.6666666666666666,
              "#ed7953"
             ],
             [
              0.7777777777777778,
              "#fb9f3a"
             ],
             [
              0.8888888888888888,
              "#fdca26"
             ],
             [
              1,
              "#f0f921"
             ]
            ],
            "type": "heatmapgl"
           }
          ],
          "histogram": [
           {
            "marker": {
             "pattern": {
              "fillmode": "overlay",
              "size": 10,
              "solidity": 0.2
             }
            },
            "type": "histogram"
           }
          ],
          "histogram2d": [
           {
            "colorbar": {
             "outlinewidth": 0,
             "ticks": ""
            },
            "colorscale": [
             [
              0,
              "#0d0887"
             ],
             [
              0.1111111111111111,
              "#46039f"
             ],
             [
              0.2222222222222222,
              "#7201a8"
             ],
             [
              0.3333333333333333,
              "#9c179e"
             ],
             [
              0.4444444444444444,
              "#bd3786"
             ],
             [
              0.5555555555555556,
              "#d8576b"
             ],
             [
              0.6666666666666666,
              "#ed7953"
             ],
             [
              0.7777777777777778,
              "#fb9f3a"
             ],
             [
              0.8888888888888888,
              "#fdca26"
             ],
             [
              1,
              "#f0f921"
             ]
            ],
            "type": "histogram2d"
           }
          ],
          "histogram2dcontour": [
           {
            "colorbar": {
             "outlinewidth": 0,
             "ticks": ""
            },
            "colorscale": [
             [
              0,
              "#0d0887"
             ],
             [
              0.1111111111111111,
              "#46039f"
             ],
             [
              0.2222222222222222,
              "#7201a8"
             ],
             [
              0.3333333333333333,
              "#9c179e"
             ],
             [
              0.4444444444444444,
              "#bd3786"
             ],
             [
              0.5555555555555556,
              "#d8576b"
             ],
             [
              0.6666666666666666,
              "#ed7953"
             ],
             [
              0.7777777777777778,
              "#fb9f3a"
             ],
             [
              0.8888888888888888,
              "#fdca26"
             ],
             [
              1,
              "#f0f921"
             ]
            ],
            "type": "histogram2dcontour"
           }
          ],
          "mesh3d": [
           {
            "colorbar": {
             "outlinewidth": 0,
             "ticks": ""
            },
            "type": "mesh3d"
           }
          ],
          "parcoords": [
           {
            "line": {
             "colorbar": {
              "outlinewidth": 0,
              "ticks": ""
             }
            },
            "type": "parcoords"
           }
          ],
          "pie": [
           {
            "automargin": true,
            "type": "pie"
           }
          ],
          "scatter": [
           {
            "marker": {
             "line": {
              "color": "#283442"
             }
            },
            "type": "scatter"
           }
          ],
          "scatter3d": [
           {
            "line": {
             "colorbar": {
              "outlinewidth": 0,
              "ticks": ""
             }
            },
            "marker": {
             "colorbar": {
              "outlinewidth": 0,
              "ticks": ""
             }
            },
            "type": "scatter3d"
           }
          ],
          "scattercarpet": [
           {
            "marker": {
             "colorbar": {
              "outlinewidth": 0,
              "ticks": ""
             }
            },
            "type": "scattercarpet"
           }
          ],
          "scattergeo": [
           {
            "marker": {
             "colorbar": {
              "outlinewidth": 0,
              "ticks": ""
             }
            },
            "type": "scattergeo"
           }
          ],
          "scattergl": [
           {
            "marker": {
             "line": {
              "color": "#283442"
             }
            },
            "type": "scattergl"
           }
          ],
          "scattermapbox": [
           {
            "marker": {
             "colorbar": {
              "outlinewidth": 0,
              "ticks": ""
             }
            },
            "type": "scattermapbox"
           }
          ],
          "scatterpolar": [
           {
            "marker": {
             "colorbar": {
              "outlinewidth": 0,
              "ticks": ""
             }
            },
            "type": "scatterpolar"
           }
          ],
          "scatterpolargl": [
           {
            "marker": {
             "colorbar": {
              "outlinewidth": 0,
              "ticks": ""
             }
            },
            "type": "scatterpolargl"
           }
          ],
          "scatterternary": [
           {
            "marker": {
             "colorbar": {
              "outlinewidth": 0,
              "ticks": ""
             }
            },
            "type": "scatterternary"
           }
          ],
          "surface": [
           {
            "colorbar": {
             "outlinewidth": 0,
             "ticks": ""
            },
            "colorscale": [
             [
              0,
              "#0d0887"
             ],
             [
              0.1111111111111111,
              "#46039f"
             ],
             [
              0.2222222222222222,
              "#7201a8"
             ],
             [
              0.3333333333333333,
              "#9c179e"
             ],
             [
              0.4444444444444444,
              "#bd3786"
             ],
             [
              0.5555555555555556,
              "#d8576b"
             ],
             [
              0.6666666666666666,
              "#ed7953"
             ],
             [
              0.7777777777777778,
              "#fb9f3a"
             ],
             [
              0.8888888888888888,
              "#fdca26"
             ],
             [
              1,
              "#f0f921"
             ]
            ],
            "type": "surface"
           }
          ],
          "table": [
           {
            "cells": {
             "fill": {
              "color": "#506784"
             },
             "line": {
              "color": "rgb(17,17,17)"
             }
            },
            "header": {
             "fill": {
              "color": "#2a3f5f"
             },
             "line": {
              "color": "rgb(17,17,17)"
             }
            },
            "type": "table"
           }
          ]
         },
         "layout": {
          "annotationdefaults": {
           "arrowcolor": "#f2f5fa",
           "arrowhead": 0,
           "arrowwidth": 1
          },
          "autotypenumbers": "strict",
          "coloraxis": {
           "colorbar": {
            "outlinewidth": 0,
            "ticks": ""
           }
          },
          "colorscale": {
           "diverging": [
            [
             0,
             "#8e0152"
            ],
            [
             0.1,
             "#c51b7d"
            ],
            [
             0.2,
             "#de77ae"
            ],
            [
             0.3,
             "#f1b6da"
            ],
            [
             0.4,
             "#fde0ef"
            ],
            [
             0.5,
             "#f7f7f7"
            ],
            [
             0.6,
             "#e6f5d0"
            ],
            [
             0.7,
             "#b8e186"
            ],
            [
             0.8,
             "#7fbc41"
            ],
            [
             0.9,
             "#4d9221"
            ],
            [
             1,
             "#276419"
            ]
           ],
           "sequential": [
            [
             0,
             "#0d0887"
            ],
            [
             0.1111111111111111,
             "#46039f"
            ],
            [
             0.2222222222222222,
             "#7201a8"
            ],
            [
             0.3333333333333333,
             "#9c179e"
            ],
            [
             0.4444444444444444,
             "#bd3786"
            ],
            [
             0.5555555555555556,
             "#d8576b"
            ],
            [
             0.6666666666666666,
             "#ed7953"
            ],
            [
             0.7777777777777778,
             "#fb9f3a"
            ],
            [
             0.8888888888888888,
             "#fdca26"
            ],
            [
             1,
             "#f0f921"
            ]
           ],
           "sequentialminus": [
            [
             0,
             "#0d0887"
            ],
            [
             0.1111111111111111,
             "#46039f"
            ],
            [
             0.2222222222222222,
             "#7201a8"
            ],
            [
             0.3333333333333333,
             "#9c179e"
            ],
            [
             0.4444444444444444,
             "#bd3786"
            ],
            [
             0.5555555555555556,
             "#d8576b"
            ],
            [
             0.6666666666666666,
             "#ed7953"
            ],
            [
             0.7777777777777778,
             "#fb9f3a"
            ],
            [
             0.8888888888888888,
             "#fdca26"
            ],
            [
             1,
             "#f0f921"
            ]
           ]
          },
          "colorway": [
           "#636efa",
           "#EF553B",
           "#00cc96",
           "#ab63fa",
           "#FFA15A",
           "#19d3f3",
           "#FF6692",
           "#B6E880",
           "#FF97FF",
           "#FECB52"
          ],
          "font": {
           "color": "#f2f5fa"
          },
          "geo": {
           "bgcolor": "rgb(17,17,17)",
           "lakecolor": "rgb(17,17,17)",
           "landcolor": "rgb(17,17,17)",
           "showlakes": true,
           "showland": true,
           "subunitcolor": "#506784"
          },
          "hoverlabel": {
           "align": "left"
          },
          "hovermode": "closest",
          "mapbox": {
           "style": "dark"
          },
          "paper_bgcolor": "rgb(17,17,17)",
          "plot_bgcolor": "rgb(17,17,17)",
          "polar": {
           "angularaxis": {
            "gridcolor": "#506784",
            "linecolor": "#506784",
            "ticks": ""
           },
           "bgcolor": "rgb(17,17,17)",
           "radialaxis": {
            "gridcolor": "#506784",
            "linecolor": "#506784",
            "ticks": ""
           }
          },
          "scene": {
           "xaxis": {
            "backgroundcolor": "rgb(17,17,17)",
            "gridcolor": "#506784",
            "gridwidth": 2,
            "linecolor": "#506784",
            "showbackground": true,
            "ticks": "",
            "zerolinecolor": "#C8D4E3"
           },
           "yaxis": {
            "backgroundcolor": "rgb(17,17,17)",
            "gridcolor": "#506784",
            "gridwidth": 2,
            "linecolor": "#506784",
            "showbackground": true,
            "ticks": "",
            "zerolinecolor": "#C8D4E3"
           },
           "zaxis": {
            "backgroundcolor": "rgb(17,17,17)",
            "gridcolor": "#506784",
            "gridwidth": 2,
            "linecolor": "#506784",
            "showbackground": true,
            "ticks": "",
            "zerolinecolor": "#C8D4E3"
           }
          },
          "shapedefaults": {
           "line": {
            "color": "#f2f5fa"
           }
          },
          "sliderdefaults": {
           "bgcolor": "#C8D4E3",
           "bordercolor": "rgb(17,17,17)",
           "borderwidth": 1,
           "tickwidth": 0
          },
          "ternary": {
           "aaxis": {
            "gridcolor": "#506784",
            "linecolor": "#506784",
            "ticks": ""
           },
           "baxis": {
            "gridcolor": "#506784",
            "linecolor": "#506784",
            "ticks": ""
           },
           "bgcolor": "rgb(17,17,17)",
           "caxis": {
            "gridcolor": "#506784",
            "linecolor": "#506784",
            "ticks": ""
           }
          },
          "title": {
           "x": 0.05
          },
          "updatemenudefaults": {
           "bgcolor": "#506784",
           "borderwidth": 0
          },
          "xaxis": {
           "automargin": true,
           "gridcolor": "#283442",
           "linecolor": "#506784",
           "ticks": "",
           "title": {
            "standoff": 15
           },
           "zerolinecolor": "#283442",
           "zerolinewidth": 2
          },
          "yaxis": {
           "automargin": true,
           "gridcolor": "#283442",
           "linecolor": "#506784",
           "ticks": "",
           "title": {
            "standoff": 15
           },
           "zerolinecolor": "#283442",
           "zerolinewidth": 2
          }
         }
        },
        "title": {
         "text": "Distribución del Cambio Porcentual Diario de Bitcoin en 2019"
        },
        "xaxis": {
         "anchor": "y",
         "domain": [
          0,
          1
         ],
         "title": {
          "text": "Cambio Porcentual Diario (%)"
         }
        },
        "yaxis": {
         "anchor": "x",
         "domain": [
          0,
          1
         ],
         "title": {
          "text": "Frecuencia"
         }
        }
       }
      }
     },
     "metadata": {},
     "output_type": "display_data"
    }
   ],
   "source": [
    "# Graficar el histograma del cambio porcentual diario\n",
    "fig_histogram = px.histogram(\n",
    "    dataframes['Bitcoin'],  # Usamos Bitcoin como ejemplo\n",
    "    x='price_change_pct',\n",
    "    nbins=50,  # Número de bins\n",
    "    title='Distribución del Cambio Porcentual Diario de Bitcoin en 2019',\n",
    "    labels={'price_change_pct': 'Cambio Porcentual Diario (%)'},\n",
    "    template='plotly_dark'\n",
    ")\n",
    "\n",
    "fig_histogram.update_layout(\n",
    "    xaxis_title='Cambio Porcentual Diario (%)',\n",
    "    yaxis_title='Frecuencia',\n",
    "    height=500\n",
    ")\n",
    "\n",
    "fig_histogram.show()\n"
   ]
  },
  {
   "cell_type": "code",
   "execution_count": 133,
   "metadata": {},
   "outputs": [
    {
     "data": {
      "image/png": "[encoded data removed]",
      "text/plain": [
       "<Figure size 1000x700 with 2 Axes>"
      ]
     },
     "metadata": {},
     "output_type": "display_data"
    }
   ],
   "source": [
    "\n",
    "# Crear un DataFrame con los cambios porcentuales diarios de todas las criptomonedas\n",
    "change_pct_df = pd.DataFrame()\n",
    "\n",
    "for crypto, df in dataframes.items():\n",
    "    df['price_change_pct'] = df['price'].pct_change() * 100\n",
    "    change_pct_df[crypto] = df['price_change_pct']\n",
    "\n",
    "# Calcular la correlación\n",
    "correlation_matrix = change_pct_df.corr()\n",
    "\n",
    "# Graficar el heatmap\n",
    "plt.figure(figsize=(10, 7))\n",
    "sns.heatmap(correlation_matrix, annot=True, cmap='coolwarm', fmt='.2f', linewidths=0.5)\n",
    "plt.title('Correlación de los Cambios Porcentuales Diarios (2019)', fontsize=15)\n",
    "plt.show()\n"
   ]
  },
  {
   "cell_type": "code",
   "execution_count": 134,
   "metadata": {},
   "outputs": [
    {
     "name": "stdout",
     "output_type": "stream",
     "text": [
      "La criptomoneda más estable de 2019 es: Bitcoin\n"
     ]
    }
   ],
   "source": [
    "# Encontrar la criptomoneda con la menor volatilidad (variabilidad)\n",
    "most_stable_coin = variability_df.iloc[0]\n",
    "print(f\"La criptomoneda más estable de 2019 es: {most_stable_coin['Criptomoneda']}\")\n"
   ]
  },
  {
   "cell_type": "markdown",
   "metadata": {},
   "source": [
    "# **---> Inciso 9**\n",
    "---"
   ]
  },
  {
   "cell_type": "markdown",
   "metadata": {},
   "source": [
    "### Criptomoneda Más Volátil en 2019 a 2024\n",
    "\n",
    "1. **Definir Volatilidad**:  \n",
    "   - La volatilidad se refiere a las variaciones significativas en los precios de una criptomoneda durante el año **2019**.\n",
    "\n",
    "2. **Analizar las Fluctuaciones**:  \n",
    "   - Calcular las diferencias diarias en los precios de cada criptomoneda a lo largo del año.\n",
    "\n",
    "3. **Identificar la Más Volátil**:  \n",
    "   - Determinar qué criptomoneda experimentó la **mayor cantidad de fluctuaciones** en su precio durante 2019.\n"
   ]
  },
  {
   "cell_type": "code",
   "execution_count": 135,
   "metadata": {},
   "outputs": [
    {
     "data": {
      "application/vnd.plotly.v1+json": {
       "config": {
        "plotlyServerURL": "https://plot.ly"
       },
       "data": [
        {
         "alignmentgroup": "True",
         "hovertemplate": "Criptomoneda=Bitcoin<br>Año=%{x}<br>Volatilidad (%)=%{y}<extra></extra>",
         "legendgroup": "Bitcoin",
         "marker": {
          "color": "#636efa",
          "pattern": {
           "shape": ""
          }
         },
         "name": "Bitcoin",
         "offsetgroup": "Bitcoin",
         "orientation": "v",
         "showlegend": true,
         "textposition": "auto",
         "type": "bar",
         "x": [
          2019,
          2020,
          2021,
          2022,
          2023,
          2024
         ],
         "xaxis": "x",
         "y": [
          3.5835045948096904,
          3.6790484759840556,
          4.20721755826052,
          3.343429278088679,
          2.2956229561423105,
          3.19763940928183
         ],
         "yaxis": "y"
        },
        {
         "alignmentgroup": "True",
         "hovertemplate": "Criptomoneda=Ethereum<br>Año=%{x}<br>Volatilidad (%)=%{y}<extra></extra>",
         "legendgroup": "Ethereum",
         "marker": {
          "color": "#EF553B",
          "pattern": {
           "shape": ""
          }
         },
         "name": "Ethereum",
         "offsetgroup": "Ethereum",
         "orientation": "v",
         "showlegend": true,
         "textposition": "auto",
         "type": "bar",
         "x": [
          2019,
          2020,
          2021,
          2022,
          2023,
          2024
         ],
         "xaxis": "x",
         "y": [
          4.226278193096218,
          5.027367898396594,
          5.547662553891265,
          4.535283095887996,
          2.456417693159359,
          3.280647028761726
         ],
         "yaxis": "y"
        },
        {
         "alignmentgroup": "True",
         "hovertemplate": "Criptomoneda=Ripple<br>Año=%{x}<br>Volatilidad (%)=%{y}<extra></extra>",
         "legendgroup": "Ripple",
         "marker": {
          "color": "#00cc96",
          "pattern": {
           "shape": ""
          }
         },
         "name": "Ripple",
         "offsetgroup": "Ripple",
         "orientation": "v",
         "showlegend": true,
         "textposition": "auto",
         "type": "bar",
         "x": [
          2019,
          2020,
          2021,
          2022,
          2023,
          2024
         ],
         "xaxis": "x",
         "y": [
          3.7173467693082576,
          6.035973099551183,
          7.894236729185483,
          4.442910212300556,
          4.858076760104629,
          3.687242097128286
         ],
         "yaxis": "y"
        },
        {
         "alignmentgroup": "True",
         "hovertemplate": "Criptomoneda=Bitcoin Cash<br>Año=%{x}<br>Volatilidad (%)=%{y}<extra></extra>",
         "legendgroup": "Bitcoin Cash",
         "marker": {
          "color": "#ab63fa",
          "pattern": {
           "shape": ""
          }
         },
         "name": "Bitcoin Cash",
         "offsetgroup": "Bitcoin Cash",
         "orientation": "v",
         "showlegend": true,
         "textposition": "auto",
         "type": "bar",
         "x": [
          2019,
          2020,
          2021,
          2022,
          2023,
          2024
         ],
         "xaxis": "x",
         "y": [
          5.480768892186969,
          5.593851938332481,
          7.002185294136311,
          4.399660198336312,
          4.19665930056111,
          7.624875145915302
         ],
         "yaxis": "y"
        },
        {
         "alignmentgroup": "True",
         "hovertemplate": "Criptomoneda=EOS<br>Año=%{x}<br>Volatilidad (%)=%{y}<extra></extra>",
         "legendgroup": "EOS",
         "marker": {
          "color": "#FFA15A",
          "pattern": {
           "shape": ""
          }
         },
         "name": "EOS",
         "offsetgroup": "EOS",
         "orientation": "v",
         "showlegend": true,
         "textposition": "auto",
         "type": "bar",
         "x": [
          2019,
          2020,
          2021,
          2022,
          2023,
          2024
         ],
         "xaxis": "x",
         "y": [
          5.113698884941341,
          5.091564400156654,
          7.790982749982345,
          4.809341464708521,
          3.320928190557272,
          4.846391517377906
         ],
         "yaxis": "y"
        }
       ],
       "layout": {
        "barmode": "group",
        "height": 600,
        "legend": {
         "title": {
          "text": "Criptomoneda"
         },
         "tracegroupgap": 0
        },
        "template": {
         "data": {
          "bar": [
           {
            "error_x": {
             "color": "#f2f5fa"
            },
            "error_y": {
             "color": "#f2f5fa"
            },
            "marker": {
             "line": {
              "color": "rgb(17,17,17)",
              "width": 0.5
             },
             "pattern": {
              "fillmode": "overlay",
              "size": 10,
              "solidity": 0.2
             }
            },
            "type": "bar"
           }
          ],
          "barpolar": [
           {
            "marker": {
             "line": {
              "color": "rgb(17,17,17)",
              "width": 0.5
             },
             "pattern": {
              "fillmode": "overlay",
              "size": 10,
              "solidity": 0.2
             }
            },
            "type": "barpolar"
           }
          ],
          "carpet": [
           {
            "aaxis": {
             "endlinecolor": "#A2B1C6",
             "gridcolor": "#506784",
             "linecolor": "#506784",
             "minorgridcolor": "#506784",
             "startlinecolor": "#A2B1C6"
            },
            "baxis": {
             "endlinecolor": "#A2B1C6",
             "gridcolor": "#506784",
             "linecolor": "#506784",
             "minorgridcolor": "#506784",
             "startlinecolor": "#A2B1C6"
            },
            "type": "carpet"
           }
          ],
          "choropleth": [
           {
            "colorbar": {
             "outlinewidth": 0,
             "ticks": ""
            },
            "type": "choropleth"
           }
          ],
          "contour": [
           {
            "colorbar": {
             "outlinewidth": 0,
             "ticks": ""
            },
            "colorscale": [
             [
              0,
              "#0d0887"
             ],
             [
              0.1111111111111111,
              "#46039f"
             ],
             [
              0.2222222222222222,
              "#7201a8"
             ],
             [
              0.3333333333333333,
              "#9c179e"
             ],
             [
              0.4444444444444444,
              "#bd3786"
             ],
             [
              0.5555555555555556,
              "#d8576b"
             ],
             [
              0.6666666666666666,
              "#ed7953"
             ],
             [
              0.7777777777777778,
              "#fb9f3a"
             ],
             [
              0.8888888888888888,
              "#fdca26"
             ],
             [
              1,
              "#f0f921"
             ]
            ],
            "type": "contour"
           }
          ],
          "contourcarpet": [
           {
            "colorbar": {
             "outlinewidth": 0,
             "ticks": ""
            },
            "type": "contourcarpet"
           }
          ],
          "heatmap": [
           {
            "colorbar": {
             "outlinewidth": 0,
             "ticks": ""
            },
            "colorscale": [
             [
              0,
              "#0d0887"
             ],
             [
              0.1111111111111111,
              "#46039f"
             ],
             [
              0.2222222222222222,
              "#7201a8"
             ],
             [
              0.3333333333333333,
              "#9c179e"
             ],
             [
              0.4444444444444444,
              "#bd3786"
             ],
             [
              0.5555555555555556,
              "#d8576b"
             ],
             [
              0.6666666666666666,
              "#ed7953"
             ],
             [
              0.7777777777777778,
              "#fb9f3a"
             ],
             [
              0.8888888888888888,
              "#fdca26"
             ],
             [
              1,
              "#f0f921"
             ]
            ],
            "type": "heatmap"
           }
          ],
          "heatmapgl": [
           {
            "colorbar": {
             "outlinewidth": 0,
             "ticks": ""
            },
            "colorscale": [
             [
              0,
              "#0d0887"
             ],
             [
              0.1111111111111111,
              "#46039f"
             ],
             [
              0.2222222222222222,
              "#7201a8"
             ],
             [
              0.3333333333333333,
              "#9c179e"
             ],
             [
              0.4444444444444444,
              "#bd3786"
             ],
             [
              0.5555555555555556,
              "#d8576b"
             ],
             [
              0.6666666666666666,
              "#ed7953"
             ],
             [
              0.7777777777777778,
              "#fb9f3a"
             ],
             [
              0.8888888888888888,
              "#fdca26"
             ],
             [
              1,
              "#f0f921"
             ]
            ],
            "type": "heatmapgl"
           }
          ],
          "histogram": [
           {
            "marker": {
             "pattern": {
              "fillmode": "overlay",
              "size": 10,
              "solidity": 0.2
             }
            },
            "type": "histogram"
           }
          ],
          "histogram2d": [
           {
            "colorbar": {
             "outlinewidth": 0,
             "ticks": ""
            },
            "colorscale": [
             [
              0,
              "#0d0887"
             ],
             [
              0.1111111111111111,
              "#46039f"
             ],
             [
              0.2222222222222222,
              "#7201a8"
             ],
             [
              0.3333333333333333,
              "#9c179e"
             ],
             [
              0.4444444444444444,
              "#bd3786"
             ],
             [
              0.5555555555555556,
              "#d8576b"
             ],
             [
              0.6666666666666666,
              "#ed7953"
             ],
             [
              0.7777777777777778,
              "#fb9f3a"
             ],
             [
              0.8888888888888888,
              "#fdca26"
             ],
             [
              1,
              "#f0f921"
             ]
            ],
            "type": "histogram2d"
           }
          ],
          "histogram2dcontour": [
           {
            "colorbar": {
             "outlinewidth": 0,
             "ticks": ""
            },
            "colorscale": [
             [
              0,
              "#0d0887"
             ],
             [
              0.1111111111111111,
              "#46039f"
             ],
             [
              0.2222222222222222,
              "#7201a8"
             ],
             [
              0.3333333333333333,
              "#9c179e"
             ],
             [
              0.4444444444444444,
              "#bd3786"
             ],
             [
              0.5555555555555556,
              "#d8576b"
             ],
             [
              0.6666666666666666,
              "#ed7953"
             ],
             [
              0.7777777777777778,
              "#fb9f3a"
             ],
             [
              0.8888888888888888,
              "#fdca26"
             ],
             [
              1,
              "#f0f921"
             ]
            ],
            "type": "histogram2dcontour"
           }
          ],
          "mesh3d": [
           {
            "colorbar": {
             "outlinewidth": 0,
             "ticks": ""
            },
            "type": "mesh3d"
           }
          ],
          "parcoords": [
           {
            "line": {
             "colorbar": {
              "outlinewidth": 0,
              "ticks": ""
             }
            },
            "type": "parcoords"
           }
          ],
          "pie": [
           {
            "automargin": true,
            "type": "pie"
           }
          ],
          "scatter": [
           {
            "marker": {
             "line": {
              "color": "#283442"
             }
            },
            "type": "scatter"
           }
          ],
          "scatter3d": [
           {
            "line": {
             "colorbar": {
              "outlinewidth": 0,
              "ticks": ""
             }
            },
            "marker": {
             "colorbar": {
              "outlinewidth": 0,
              "ticks": ""
             }
            },
            "type": "scatter3d"
           }
          ],
          "scattercarpet": [
           {
            "marker": {
             "colorbar": {
              "outlinewidth": 0,
              "ticks": ""
             }
            },
            "type": "scattercarpet"
           }
          ],
          "scattergeo": [
           {
            "marker": {
             "colorbar": {
              "outlinewidth": 0,
              "ticks": ""
             }
            },
            "type": "scattergeo"
           }
          ],
          "scattergl": [
           {
            "marker": {
             "line": {
              "color": "#283442"
             }
            },
            "type": "scattergl"
           }
          ],
          "scattermapbox": [
           {
            "marker": {
             "colorbar": {
              "outlinewidth": 0,
              "ticks": ""
             }
            },
            "type": "scattermapbox"
           }
          ],
          "scatterpolar": [
           {
            "marker": {
             "colorbar": {
              "outlinewidth": 0,
              "ticks": ""
             }
            },
            "type": "scatterpolar"
           }
          ],
          "scatterpolargl": [
           {
            "marker": {
             "colorbar": {
              "outlinewidth": 0,
              "ticks": ""
             }
            },
            "type": "scatterpolargl"
           }
          ],
          "scatterternary": [
           {
            "marker": {
             "colorbar": {
              "outlinewidth": 0,
              "ticks": ""
             }
            },
            "type": "scatterternary"
           }
          ],
          "surface": [
           {
            "colorbar": {
             "outlinewidth": 0,
             "ticks": ""
            },
            "colorscale": [
             [
              0,
              "#0d0887"
             ],
             [
              0.1111111111111111,
              "#46039f"
             ],
             [
              0.2222222222222222,
              "#7201a8"
             ],
             [
              0.3333333333333333,
              "#9c179e"
             ],
             [
              0.4444444444444444,
              "#bd3786"
             ],
             [
              0.5555555555555556,
              "#d8576b"
             ],
             [
              0.6666666666666666,
              "#ed7953"
             ],
             [
              0.7777777777777778,
              "#fb9f3a"
             ],
             [
              0.8888888888888888,
              "#fdca26"
             ],
             [
              1,
              "#f0f921"
             ]
            ],
            "type": "surface"
           }
          ],
          "table": [
           {
            "cells": {
             "fill": {
              "color": "#506784"
             },
             "line": {
              "color": "rgb(17,17,17)"
             }
            },
            "header": {
             "fill": {
              "color": "#2a3f5f"
             },
             "line": {
              "color": "rgb(17,17,17)"
             }
            },
            "type": "table"
           }
          ]
         },
         "layout": {
          "annotationdefaults": {
           "arrowcolor": "#f2f5fa",
           "arrowhead": 0,
           "arrowwidth": 1
          },
          "autotypenumbers": "strict",
          "coloraxis": {
           "colorbar": {
            "outlinewidth": 0,
            "ticks": ""
           }
          },
          "colorscale": {
           "diverging": [
            [
             0,
             "#8e0152"
            ],
            [
             0.1,
             "#c51b7d"
            ],
            [
             0.2,
             "#de77ae"
            ],
            [
             0.3,
             "#f1b6da"
            ],
            [
             0.4,
             "#fde0ef"
            ],
            [
             0.5,
             "#f7f7f7"
            ],
            [
             0.6,
             "#e6f5d0"
            ],
            [
             0.7,
             "#b8e186"
            ],
            [
             0.8,
             "#7fbc41"
            ],
            [
             0.9,
             "#4d9221"
            ],
            [
             1,
             "#276419"
            ]
           ],
           "sequential": [
            [
             0,
             "#0d0887"
            ],
            [
             0.1111111111111111,
             "#46039f"
            ],
            [
             0.2222222222222222,
             "#7201a8"
            ],
            [
             0.3333333333333333,
             "#9c179e"
            ],
            [
             0.4444444444444444,
             "#bd3786"
            ],
            [
             0.5555555555555556,
             "#d8576b"
            ],
            [
             0.6666666666666666,
             "#ed7953"
            ],
            [
             0.7777777777777778,
             "#fb9f3a"
            ],
            [
             0.8888888888888888,
             "#fdca26"
            ],
            [
             1,
             "#f0f921"
            ]
           ],
           "sequentialminus": [
            [
             0,
             "#0d0887"
            ],
            [
             0.1111111111111111,
             "#46039f"
            ],
            [
             0.2222222222222222,
             "#7201a8"
            ],
            [
             0.3333333333333333,
             "#9c179e"
            ],
            [
             0.4444444444444444,
             "#bd3786"
            ],
            [
             0.5555555555555556,
             "#d8576b"
            ],
            [
             0.6666666666666666,
             "#ed7953"
            ],
            [
             0.7777777777777778,
             "#fb9f3a"
            ],
            [
             0.8888888888888888,
             "#fdca26"
            ],
            [
             1,
             "#f0f921"
            ]
           ]
          },
          "colorway": [
           "#636efa",
           "#EF553B",
           "#00cc96",
           "#ab63fa",
           "#FFA15A",
           "#19d3f3",
           "#FF6692",
           "#B6E880",
           "#FF97FF",
           "#FECB52"
          ],
          "font": {
           "color": "#f2f5fa"
          },
          "geo": {
           "bgcolor": "rgb(17,17,17)",
           "lakecolor": "rgb(17,17,17)",
           "landcolor": "rgb(17,17,17)",
           "showlakes": true,
           "showland": true,
           "subunitcolor": "#506784"
          },
          "hoverlabel": {
           "align": "left"
          },
          "hovermode": "closest",
          "mapbox": {
           "style": "dark"
          },
          "paper_bgcolor": "rgb(17,17,17)",
          "plot_bgcolor": "rgb(17,17,17)",
          "polar": {
           "angularaxis": {
            "gridcolor": "#506784",
            "linecolor": "#506784",
            "ticks": ""
           },
           "bgcolor": "rgb(17,17,17)",
           "radialaxis": {
            "gridcolor": "#506784",
            "linecolor": "#506784",
            "ticks": ""
           }
          },
          "scene": {
           "xaxis": {
            "backgroundcolor": "rgb(17,17,17)",
            "gridcolor": "#506784",
            "gridwidth": 2,
            "linecolor": "#506784",
            "showbackground": true,
            "ticks": "",
            "zerolinecolor": "#C8D4E3"
           },
           "yaxis": {
            "backgroundcolor": "rgb(17,17,17)",
            "gridcolor": "#506784",
            "gridwidth": 2,
            "linecolor": "#506784",
            "showbackground": true,
            "ticks": "",
            "zerolinecolor": "#C8D4E3"
           },
           "zaxis": {
            "backgroundcolor": "rgb(17,17,17)",
            "gridcolor": "#506784",
            "gridwidth": 2,
            "linecolor": "#506784",
            "showbackground": true,
            "ticks": "",
            "zerolinecolor": "#C8D4E3"
           }
          },
          "shapedefaults": {
           "line": {
            "color": "#f2f5fa"
           }
          },
          "sliderdefaults": {
           "bgcolor": "#C8D4E3",
           "bordercolor": "rgb(17,17,17)",
           "borderwidth": 1,
           "tickwidth": 0
          },
          "ternary": {
           "aaxis": {
            "gridcolor": "#506784",
            "linecolor": "#506784",
            "ticks": ""
           },
           "baxis": {
            "gridcolor": "#506784",
            "linecolor": "#506784",
            "ticks": ""
           },
           "bgcolor": "rgb(17,17,17)",
           "caxis": {
            "gridcolor": "#506784",
            "linecolor": "#506784",
            "ticks": ""
           }
          },
          "title": {
           "x": 0.05
          },
          "updatemenudefaults": {
           "bgcolor": "#506784",
           "borderwidth": 0
          },
          "xaxis": {
           "automargin": true,
           "gridcolor": "#283442",
           "linecolor": "#506784",
           "ticks": "",
           "title": {
            "standoff": 15
           },
           "zerolinecolor": "#283442",
           "zerolinewidth": 2
          },
          "yaxis": {
           "automargin": true,
           "gridcolor": "#283442",
           "linecolor": "#506784",
           "ticks": "",
           "title": {
            "standoff": 15
           },
           "zerolinecolor": "#283442",
           "zerolinewidth": 2
          }
         }
        },
        "title": {
         "text": "Criptomonedas Más Volátiles por Año (2019-2024)"
        },
        "xaxis": {
         "anchor": "y",
         "domain": [
          0,
          1
         ],
         "title": {
          "text": "Año"
         }
        },
        "yaxis": {
         "anchor": "x",
         "domain": [
          0,
          1
         ],
         "title": {
          "text": "Volatilidad (%)"
         }
        }
       }
      }
     },
     "metadata": {},
     "output_type": "display_data"
    }
   ],
   "source": [
    "# Inciso 9\n",
    "\n",
    "# CALCULAR LA MONEDA MÁS VOLATIL POR AÑO\n",
    "\n",
    "# Lista de archivos de criptomonedas\n",
    "file_paths = {\n",
    "    \"Bitcoin\": \"bitcoin.csv\",\n",
    "    \"Ethereum\": \"ethereum.csv\",\n",
    "    \"Ripple\": \"ripple.csv\",\n",
    "    \"Bitcoin Cash\": \"bitcoin-cash.csv\",\n",
    "    \"EOS\": \"eos.csv\",\n",
    "    # Agrega más criptomonedas aquí si es necesario\n",
    "}\n",
    "\n",
    "# Leer y procesar los datos\n",
    "dataframes = {}\n",
    "\n",
    "for crypto, file_path in file_paths.items():\n",
    "    df = pd.read_csv(file_path)  # Esto ahora debería funcionar\n",
    "    df['date'] = pd.to_datetime(df['date'])\n",
    "    df['coin_name'] = crypto\n",
    "    dataframes[crypto] = df\n",
    "\n",
    "# Función para calcular la volatilidad de cada año\n",
    "def get_most_volatile_coin_per_year(dataframes):\n",
    "    volatile_coins = []\n",
    "    \n",
    "    for crypto, df in dataframes.items():\n",
    "        for year in range(2019, 2025):  # 2019 a 2024\n",
    "            yearly_data = df[df['date'].dt.year == year].copy()\n",
    "            if not yearly_data.empty:\n",
    "                # Calcular el cambio porcentual diario del precio\n",
    "                yearly_data['price_change_pct'] = yearly_data['price'].pct_change() * 100\n",
    "                # Calcular la desviación estándar (volatilidad) del cambio porcentual\n",
    "                volatility = yearly_data['price_change_pct'].std()\n",
    "                volatile_coins.append({'year': year, 'coin_name': crypto, 'volatility': volatility})\n",
    "    \n",
    "    return volatile_coins\n",
    "\n",
    "# Obtener la criptomoneda más volátil de cada año\n",
    "most_volatile_per_year = get_most_volatile_coin_per_year(dataframes)\n",
    "\n",
    "# Convertir los resultados a un DataFrame\n",
    "volatile_df = pd.DataFrame(most_volatile_per_year)\n",
    "\n",
    "# Graficar los resultados\n",
    "fig = px.bar(\n",
    "    volatile_df,\n",
    "    x='year',\n",
    "    y='volatility',\n",
    "    color='coin_name',\n",
    "    title='Criptomonedas Más Volátiles por Año (2019-2024)',\n",
    "    labels={'year': 'Año', 'volatility': 'Volatilidad (%)', 'coin_name': 'Criptomoneda'},\n",
    "    barmode='group',\n",
    "    template='plotly_dark'\n",
    ")\n",
    "\n",
    "fig.update_layout(height=600)\n",
    "fig.show()\n"
   ]
  }
 ],
 "metadata": {
  "kernelspec": {
   "display_name": "entorno",
   "language": "python",
   "name": "python3"
  },
  "language_info": {
   "codemirror_mode": {
    "name": "ipython",
    "version": 3
   },
   "file_extension": ".py",
   "mimetype": "text/x-python",
   "name": "python",
   "nbconvert_exporter": "python",
   "pygments_lexer": "ipython3",
   "version": "3.12.5"
  }
 },
 "nbformat": 4,
 "nbformat_minor": 2
}
